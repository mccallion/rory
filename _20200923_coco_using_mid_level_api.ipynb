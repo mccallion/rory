{
 "cells": [
  {
   "cell_type": "markdown",
   "metadata": {},
   "source": [
    "<h1>Table of Contents<span class=\"tocSkip\"></span></h1>\n",
    "<div class=\"toc\"><ul class=\"toc-item\"></ul></div>"
   ]
  },
  {
   "cell_type": "code",
   "execution_count": null,
   "metadata": {},
   "outputs": [],
   "source": [
    "from fastai.vision.all import *"
   ]
  },
  {
   "cell_type": "code",
   "execution_count": null,
   "metadata": {},
   "outputs": [],
   "source": [
    "### Get files and annos ###\n",
    "path = Path('/home/rory/data/coco2017')\n",
    "\n",
    "def get_annos(path, anno_file, im_folder):\n",
    "    xs, ys = get_annotations(path/anno_file)\n",
    "    return L(xs).map(lambda x: path/im_folder/x), ys\n",
    "\n",
    "train_files, train_annos = get_annos(path,'annotations/instances_train2017.json', 'train2017')\n",
    "valid_files, valid_annos = get_annos(path,'annotations/instances_val2017.json',   'val2017')\n",
    "files  = train_files + valid_files\n",
    "annos  = train_annos + valid_annos\n",
    "bboxes = [a[0] for a in annos]\n",
    "lbls   = [a[1] for a in annos]"
   ]
  },
  {
   "cell_type": "code",
   "execution_count": null,
   "metadata": {},
   "outputs": [],
   "source": [
    "### Process annos ###\n",
    "def transpose(anno): return list(zip(*anno))\n",
    "def bbox_area(transposed_anno):\n",
    "    b = transposed_anno[0]\n",
    "    return((b[2]-b[0])*(b[3]-b[1])) # b-t * l-r\n",
    "def sort_annos(o): return sorted(transpose(o), key=bbox_area, reverse=True)\n",
    "\n",
    "sorted_annos = L(sort_annos(i) for i in annos)\n",
    "largest_anno = L(i[0] for i in sorted_annos)\n",
    "largest_bbox = L(i[0] for i in largest_anno)\n",
    "largest_lbl  = L(i[1] for i in largest_anno)"
   ]
  },
  {
   "cell_type": "code",
   "execution_count": null,
   "metadata": {},
   "outputs": [],
   "source": [
    "### Create dataset ###\n",
    "def x2y(x,y): return {a:b for a,b in zip(x,y)}\n",
    "files2lbls = x2y(files, largest_lbl)\n",
    "def get_lbl(x): return files2lbls[x]\n",
    "# files2bboxs = x2y(files, largest_bbox) # getting ahead of myself\n",
    "# def get_bbox(x): return files2bboxs[x]\n",
    "\n",
    "splits = (L(range(len(train_files))),\n",
    "          L(range(len(valid_files))).map(lambda x: x + len(train_files)))\n",
    "\n",
    "dss_tfms = [[PILImage.create],[get_lbl, Categorize]]\n",
    "dss = Datasets(files, tfms=dss_tfms, splits=splits)"
   ]
  },
  {
   "cell_type": "code",
   "execution_count": null,
   "metadata": {},
   "outputs": [
    {
     "data": {
      "text/plain": [
       "(PILImage mode=RGB size=640x360, TensorCategory(49))"
      ]
     },
     "execution_count": null,
     "metadata": {},
     "output_type": "execute_result"
    }
   ],
   "source": [
    "dss.train[0]"
   ]
  },
  {
   "cell_type": "code",
   "execution_count": null,
   "metadata": {},
   "outputs": [],
   "source": [
    "cpu_tfms = [Resize(224, method=ResizeMethod.Squish), ToTensor()]\n",
    "gpu_tfms = [IntToFloatTensor(), Normalize()]\n",
    "dls = dss.dataloaders(bs=64, after_item=cpu_tfms, after_batch=gpu_tfms)"
   ]
  },
  {
   "cell_type": "code",
   "execution_count": null,
   "metadata": {},
   "outputs": [
    {
     "data": {
      "text/plain": [
       "(torch.Size([64, 3, 224, 224]), torch.Size([64]))"
      ]
     },
     "execution_count": null,
     "metadata": {},
     "output_type": "execute_result"
    }
   ],
   "source": [
    "x,y = dls.one_batch(); x.shape, y.shape"
   ]
  },
  {
   "cell_type": "code",
   "execution_count": null,
   "metadata": {},
   "outputs": [],
   "source": [
    "### Model ###\n",
    "def convlayr(i, o): return ConvLayer(i, o, stride=2)\n",
    "class ResBlock(Module):\n",
    "    def __init__(self, nf):\n",
    "        self.conv1 = ConvLayer(nf, nf, stride=1)\n",
    "        self.conv2 = ConvLayer(nf, nf, stride=1)\n",
    "    def forward(self, x): return x + self.conv2(self.conv1(x))\n",
    "def conv_res(i,o): return nn.Sequential(convlayr(i,o), ResBlock(o))\n",
    "\n",
    "p = 20\n",
    "mod = nn.Sequential(\n",
    "    conv_res(3  ,p*1),\n",
    "    conv_res(p*1,p*2),\n",
    "    conv_res(p*2,p*4),\n",
    "    conv_res(p*4,p*2),\n",
    "    convlayr(p*2,dls.c),\n",
    "    Flatten())\n",
    "\n",
    "\n",
    "### Train ###\n",
    "learn = Learner(dls, mod, metrics=accuracy)"
   ]
  },
  {
   "cell_type": "code",
   "execution_count": null,
   "metadata": {},
   "outputs": [
    {
     "data": {
      "text/html": [
       "<table border=\"1\" class=\"dataframe\">\n",
       "  <thead>\n",
       "    <tr style=\"text-align: left;\">\n",
       "      <th>epoch</th>\n",
       "      <th>train_loss</th>\n",
       "      <th>valid_loss</th>\n",
       "      <th>accuracy</th>\n",
       "      <th>time</th>\n",
       "    </tr>\n",
       "  </thead>\n",
       "  <tbody>\n",
       "    <tr>\n",
       "      <td>0</td>\n",
       "      <td>None</td>\n",
       "      <td>None</td>\n",
       "      <td>00:00</td>\n",
       "    </tr>\n",
       "  </tbody>\n",
       "</table>"
      ],
      "text/plain": [
       "<IPython.core.display.HTML object>"
      ]
     },
     "metadata": {},
     "output_type": "display_data"
    },
    {
     "data": {
      "text/plain": [
       "Sequential (Input shape: ['64 x 3 x 224 x 224'])\n",
       "================================================================\n",
       "Layer (type)         Output Shape         Param #    Trainable \n",
       "================================================================\n",
       "Conv2d               64 x 20 x 112 x 112  540        True      \n",
       "________________________________________________________________\n",
       "BatchNorm2d          64 x 20 x 112 x 112  40         True      \n",
       "________________________________________________________________\n",
       "ReLU                 64 x 20 x 112 x 112  0          False     \n",
       "________________________________________________________________\n",
       "Conv2d               64 x 20 x 112 x 112  3,600      True      \n",
       "________________________________________________________________\n",
       "BatchNorm2d          64 x 20 x 112 x 112  40         True      \n",
       "________________________________________________________________\n",
       "ReLU                 64 x 20 x 112 x 112  0          False     \n",
       "________________________________________________________________\n",
       "Conv2d               64 x 20 x 112 x 112  3,600      True      \n",
       "________________________________________________________________\n",
       "BatchNorm2d          64 x 20 x 112 x 112  40         True      \n",
       "________________________________________________________________\n",
       "ReLU                 64 x 20 x 112 x 112  0          False     \n",
       "________________________________________________________________\n",
       "Conv2d               64 x 40 x 56 x 56    7,200      True      \n",
       "________________________________________________________________\n",
       "BatchNorm2d          64 x 40 x 56 x 56    80         True      \n",
       "________________________________________________________________\n",
       "ReLU                 64 x 40 x 56 x 56    0          False     \n",
       "________________________________________________________________\n",
       "Conv2d               64 x 40 x 56 x 56    14,400     True      \n",
       "________________________________________________________________\n",
       "BatchNorm2d          64 x 40 x 56 x 56    80         True      \n",
       "________________________________________________________________\n",
       "ReLU                 64 x 40 x 56 x 56    0          False     \n",
       "________________________________________________________________\n",
       "Conv2d               64 x 40 x 56 x 56    14,400     True      \n",
       "________________________________________________________________\n",
       "BatchNorm2d          64 x 40 x 56 x 56    80         True      \n",
       "________________________________________________________________\n",
       "ReLU                 64 x 40 x 56 x 56    0          False     \n",
       "________________________________________________________________\n",
       "Conv2d               64 x 80 x 28 x 28    28,800     True      \n",
       "________________________________________________________________\n",
       "BatchNorm2d          64 x 80 x 28 x 28    160        True      \n",
       "________________________________________________________________\n",
       "ReLU                 64 x 80 x 28 x 28    0          False     \n",
       "________________________________________________________________\n",
       "Conv2d               64 x 80 x 28 x 28    57,600     True      \n",
       "________________________________________________________________\n",
       "BatchNorm2d          64 x 80 x 28 x 28    160        True      \n",
       "________________________________________________________________\n",
       "ReLU                 64 x 80 x 28 x 28    0          False     \n",
       "________________________________________________________________\n",
       "Conv2d               64 x 80 x 28 x 28    57,600     True      \n",
       "________________________________________________________________\n",
       "BatchNorm2d          64 x 80 x 28 x 28    160        True      \n",
       "________________________________________________________________\n",
       "ReLU                 64 x 80 x 28 x 28    0          False     \n",
       "________________________________________________________________\n",
       "Conv2d               64 x 40 x 14 x 14    28,800     True      \n",
       "________________________________________________________________\n",
       "BatchNorm2d          64 x 40 x 14 x 14    80         True      \n",
       "________________________________________________________________\n",
       "ReLU                 64 x 40 x 14 x 14    0          False     \n",
       "________________________________________________________________\n",
       "Conv2d               64 x 40 x 14 x 14    14,400     True      \n",
       "________________________________________________________________\n",
       "BatchNorm2d          64 x 40 x 14 x 14    80         True      \n",
       "________________________________________________________________\n",
       "ReLU                 64 x 40 x 14 x 14    0          False     \n",
       "________________________________________________________________\n",
       "Conv2d               64 x 40 x 14 x 14    14,400     True      \n",
       "________________________________________________________________\n",
       "BatchNorm2d          64 x 40 x 14 x 14    80         True      \n",
       "________________________________________________________________\n",
       "ReLU                 64 x 40 x 14 x 14    0          False     \n",
       "________________________________________________________________\n",
       "Conv2d               64 x 80 x 7 x 7      28,800     True      \n",
       "________________________________________________________________\n",
       "BatchNorm2d          64 x 80 x 7 x 7      160        True      \n",
       "________________________________________________________________\n",
       "ReLU                 64 x 80 x 7 x 7      0          False     \n",
       "________________________________________________________________\n",
       "Flatten              64 x 3920            0          False     \n",
       "________________________________________________________________\n",
       "\n",
       "Total params: 275,380\n",
       "Total trainable params: 275,380\n",
       "Total non-trainable params: 0\n",
       "\n",
       "Optimizer used: <function Adam at 0x7ff330c3df80>\n",
       "Loss function: FlattenedLoss of CrossEntropyLoss()\n",
       "\n",
       "Callbacks:\n",
       "  - TrainEvalCallback\n",
       "  - Recorder\n",
       "  - ProgressCallback"
      ]
     },
     "execution_count": null,
     "metadata": {},
     "output_type": "execute_result"
    }
   ],
   "source": [
    "learn.summary()\n",
    "# 3 x 224 x 224  = 150,528\n",
    "# 20 x 112 x 112 = 250,880"
   ]
  },
  {
   "cell_type": "code",
   "execution_count": null,
   "metadata": {},
   "outputs": [
    {
     "data": {
      "text/html": [],
      "text/plain": [
       "<IPython.core.display.HTML object>"
      ]
     },
     "metadata": {},
     "output_type": "display_data"
    },
    {
     "data": {
      "text/plain": [
       "SuggestedLRs(lr_min=0.33113112449646, lr_steep=0.0020892962347716093)"
      ]
     },
     "execution_count": null,
     "metadata": {},
     "output_type": "execute_result"
    },
    {
     "data": {
      "image/png": "[encoded data removed]",
      "text/plain": [
       "<Figure size 432x288 with 1 Axes>"
      ]
     },
     "metadata": {
      "needs_background": "light"
     },
     "output_type": "display_data"
    }
   ],
   "source": [
    "learn.lr_find()"
   ]
  },
  {
   "cell_type": "code",
   "execution_count": null,
   "metadata": {},
   "outputs": [
    {
     "data": {
      "text/html": [
       "\n",
       "    <div>\n",
       "        <style>\n",
       "            /* Turns off some styling */\n",
       "            progress {\n",
       "                /* gets rid of default border in Firefox and Opera. */\n",
       "                border: none;\n",
       "                /* Needs to be in here for Safari polyfill so background images work as expected. */\n",
       "                background-size: auto;\n",
       "            }\n",
       "            .progress-bar-interrupted, .progress-bar-interrupted::-webkit-progress-bar {\n",
       "                background: #F44336;\n",
       "            }\n",
       "        </style>\n",
       "      <progress value='0' class='' max='10' style='width:300px; height:20px; vertical-align: middle;'></progress>\n",
       "      0.00% [0/10 00:00<00:00]\n",
       "    </div>\n",
       "    \n",
       "<table border=\"1\" class=\"dataframe\">\n",
       "  <thead>\n",
       "    <tr style=\"text-align: left;\">\n",
       "      <th>epoch</th>\n",
       "      <th>train_loss</th>\n",
       "      <th>valid_loss</th>\n",
       "      <th>accuracy</th>\n",
       "      <th>time</th>\n",
       "    </tr>\n",
       "  </thead>\n",
       "  <tbody>\n",
       "  </tbody>\n",
       "</table><p>\n",
       "\n",
       "    <div>\n",
       "        <style>\n",
       "            /* Turns off some styling */\n",
       "            progress {\n",
       "                /* gets rid of default border in Firefox and Opera. */\n",
       "                border: none;\n",
       "                /* Needs to be in here for Safari polyfill so background images work as expected. */\n",
       "                background-size: auto;\n",
       "            }\n",
       "            .progress-bar-interrupted, .progress-bar-interrupted::-webkit-progress-bar {\n",
       "                background: #F44336;\n",
       "            }\n",
       "        </style>\n",
       "      <progress value='1353' class='' max='1832' style='width:300px; height:20px; vertical-align: middle;'></progress>\n",
       "      73.85% [1353/1832 01:24<00:29 3.4052]\n",
       "    </div>\n",
       "    "
      ],
      "text/plain": [
       "<IPython.core.display.HTML object>"
      ]
     },
     "metadata": {},
     "output_type": "display_data"
    }
   ],
   "source": [
    "learn.fit_one_cycle(10, lr_max=3e-1)"
   ]
  }
 ],
 "metadata": {
  "kernelspec": {
   "display_name": "Python 3",
   "language": "python",
   "name": "python3"
  }
 },
 "nbformat": 4,
 "nbformat_minor": 4
}
