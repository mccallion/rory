{
 "cells": [
  {
   "cell_type": "markdown",
   "metadata": {},
   "source": [
    "# Getting back into fastai with fastbook"
   ]
  },
  {
   "cell_type": "code",
   "execution_count": null,
   "metadata": {},
   "outputs": [],
   "source": [
    "from fastai.vision.all import *"
   ]
  },
  {
   "cell_type": "markdown",
   "metadata": {},
   "source": [
    "Explore file structure and a random image from the three's dataset."
   ]
  },
  {
   "cell_type": "code",
   "execution_count": null,
   "metadata": {},
   "outputs": [],
   "source": [
    "path = untar_data(URLs.MNIST_SAMPLE)\n",
    "Path.BASE_PATH = path # set the BASE_PATH to the data path for readability"
   ]
  },
  {
   "cell_type": "code",
   "execution_count": null,
   "metadata": {},
   "outputs": [
    {
     "data": {
      "text/plain": [
       "(#3) [Path('valid'),Path('labels.csv'),Path('train')]"
      ]
     },
     "execution_count": null,
     "metadata": {},
     "output_type": "execute_result"
    }
   ],
   "source": [
    "path.ls()"
   ]
  },
  {
   "cell_type": "code",
   "execution_count": null,
   "metadata": {},
   "outputs": [
    {
     "data": {
      "text/plain": [
       "(#2) [Path('train/7'),Path('train/3')]"
      ]
     },
     "execution_count": null,
     "metadata": {},
     "output_type": "execute_result"
    }
   ],
   "source": [
    "(path/'train').ls()"
   ]
  },
  {
   "cell_type": "code",
   "execution_count": null,
   "metadata": {},
   "outputs": [],
   "source": [
    "threes = (path/'train'/'3').ls().sorted()\n",
    "sevens = (path/'train'/'7').ls().sorted()"
   ]
  },
  {
   "cell_type": "code",
   "execution_count": null,
   "metadata": {},
   "outputs": [
    {
     "data": {
      "image/png": "[encoded data removed]",
      "text/plain": [
       "<PIL.PngImagePlugin.PngImageFile image mode=L size=28x28 at 0x7FCBECE11C10>"
      ]
     },
     "execution_count": null,
     "metadata": {},
     "output_type": "execute_result"
    }
   ],
   "source": [
    "im3_path = threes[1]\n",
    "im3 = Image.open(im3_path)\n",
    "im3"
   ]
  },
  {
   "cell_type": "code",
   "execution_count": null,
   "metadata": {},
   "outputs": [
    {
     "data": {
      "text/plain": [
       "tensor([[  0,   0,   0,   0,   0,   0,   0,   0,   0,   0],\n",
       "        [  0,   0,   0,   0,   0,   0,   0,   0,   0,   0],\n",
       "        [  0,   0,   0,   0,   0,   0,   0,   0,   0,   0],\n",
       "        [  0,   0,   0,   0,   0,   0,   0,   0,   0,   0],\n",
       "        [  0,   0,   0,   0,   0,   0,   0,   0,   0,   0],\n",
       "        [  0,   0,   0,   0,   0,   0,   0,   0,   0,  29],\n",
       "        [  0,   0,   0,   0,   0,   0,   0,  48, 166, 224],\n",
       "        [  0,   0,   0,   0,   0,  93, 244, 249, 253, 187],\n",
       "        [  0,   0,   0,   0,   0, 107, 253, 253, 230,  48],\n",
       "        [  0,   0,   0,   0,   0,   3,  20,  20,  15,   0]], dtype=torch.uint8)"
      ]
     },
     "execution_count": null,
     "metadata": {},
     "output_type": "execute_result"
    }
   ],
   "source": [
    "tensor(im3)[:10,:10]"
   ]
  },
  {
   "cell_type": "code",
   "execution_count": null,
   "metadata": {},
   "outputs": [
    {
     "data": {
      "text/html": [
       "<style  type=\"text/css\" >\n",
       "#T_6a4255b2_a7c0_11eb_8868_ade5cf526beerow0_col0,#T_6a4255b2_a7c0_11eb_8868_ade5cf526beerow0_col1,#T_6a4255b2_a7c0_11eb_8868_ade5cf526beerow0_col2,#T_6a4255b2_a7c0_11eb_8868_ade5cf526beerow0_col3,#T_6a4255b2_a7c0_11eb_8868_ade5cf526beerow0_col4,#T_6a4255b2_a7c0_11eb_8868_ade5cf526beerow0_col5,#T_6a4255b2_a7c0_11eb_8868_ade5cf526beerow0_col6,#T_6a4255b2_a7c0_11eb_8868_ade5cf526beerow0_col7,#T_6a4255b2_a7c0_11eb_8868_ade5cf526beerow0_col8,#T_6a4255b2_a7c0_11eb_8868_ade5cf526beerow0_col9,#T_6a4255b2_a7c0_11eb_8868_ade5cf526beerow0_col10,#T_6a4255b2_a7c0_11eb_8868_ade5cf526beerow0_col11,#T_6a4255b2_a7c0_11eb_8868_ade5cf526beerow0_col12,#T_6a4255b2_a7c0_11eb_8868_ade5cf526beerow0_col13,#T_6a4255b2_a7c0_11eb_8868_ade5cf526beerow0_col14,#T_6a4255b2_a7c0_11eb_8868_ade5cf526beerow0_col15,#T_6a4255b2_a7c0_11eb_8868_ade5cf526beerow0_col16,#T_6a4255b2_a7c0_11eb_8868_ade5cf526beerow0_col17,#T_6a4255b2_a7c0_11eb_8868_ade5cf526beerow0_col18,#T_6a4255b2_a7c0_11eb_8868_ade5cf526beerow0_col19,#T_6a4255b2_a7c0_11eb_8868_ade5cf526beerow1_col0,#T_6a4255b2_a7c0_11eb_8868_ade5cf526beerow1_col1,#T_6a4255b2_a7c0_11eb_8868_ade5cf526beerow1_col2,#T_6a4255b2_a7c0_11eb_8868_ade5cf526beerow1_col3,#T_6a4255b2_a7c0_11eb_8868_ade5cf526beerow1_col4,#T_6a4255b2_a7c0_11eb_8868_ade5cf526beerow1_col5,#T_6a4255b2_a7c0_11eb_8868_ade5cf526beerow1_col6,#T_6a4255b2_a7c0_11eb_8868_ade5cf526beerow1_col7,#T_6a4255b2_a7c0_11eb_8868_ade5cf526beerow1_col8,#T_6a4255b2_a7c0_11eb_8868_ade5cf526beerow1_col9,#T_6a4255b2_a7c0_11eb_8868_ade5cf526beerow1_col10,#T_6a4255b2_a7c0_11eb_8868_ade5cf526beerow1_col11,#T_6a4255b2_a7c0_11eb_8868_ade5cf526beerow1_col12,#T_6a4255b2_a7c0_11eb_8868_ade5cf526beerow1_col13,#T_6a4255b2_a7c0_11eb_8868_ade5cf526beerow1_col14,#T_6a4255b2_a7c0_11eb_8868_ade5cf526beerow1_col15,#T_6a4255b2_a7c0_11eb_8868_ade5cf526beerow1_col16,#T_6a4255b2_a7c0_11eb_8868_ade5cf526beerow1_col17,#T_6a4255b2_a7c0_11eb_8868_ade5cf526beerow1_col18,#T_6a4255b2_a7c0_11eb_8868_ade5cf526beerow1_col19,#T_6a4255b2_a7c0_11eb_8868_ade5cf526beerow2_col0,#T_6a4255b2_a7c0_11eb_8868_ade5cf526beerow2_col1,#T_6a4255b2_a7c0_11eb_8868_ade5cf526beerow2_col2,#T_6a4255b2_a7c0_11eb_8868_ade5cf526beerow2_col3,#T_6a4255b2_a7c0_11eb_8868_ade5cf526beerow2_col4,#T_6a4255b2_a7c0_11eb_8868_ade5cf526beerow2_col5,#T_6a4255b2_a7c0_11eb_8868_ade5cf526beerow2_col6,#T_6a4255b2_a7c0_11eb_8868_ade5cf526beerow2_col7,#T_6a4255b2_a7c0_11eb_8868_ade5cf526beerow2_col8,#T_6a4255b2_a7c0_11eb_8868_ade5cf526beerow2_col9,#T_6a4255b2_a7c0_11eb_8868_ade5cf526beerow2_col10,#T_6a4255b2_a7c0_11eb_8868_ade5cf526beerow2_col11,#T_6a4255b2_a7c0_11eb_8868_ade5cf526beerow2_col12,#T_6a4255b2_a7c0_11eb_8868_ade5cf526beerow2_col13,#T_6a4255b2_a7c0_11eb_8868_ade5cf526beerow2_col14,#T_6a4255b2_a7c0_11eb_8868_ade5cf526beerow2_col15,#T_6a4255b2_a7c0_11eb_8868_ade5cf526beerow2_col16,#T_6a4255b2_a7c0_11eb_8868_ade5cf526beerow2_col17,#T_6a4255b2_a7c0_11eb_8868_ade5cf526beerow2_col18,#T_6a4255b2_a7c0_11eb_8868_ade5cf526beerow2_col19,#T_6a4255b2_a7c0_11eb_8868_ade5cf526beerow3_col0,#T_6a4255b2_a7c0_11eb_8868_ade5cf526beerow3_col1,#T_6a4255b2_a7c0_11eb_8868_ade5cf526beerow3_col2,#T_6a4255b2_a7c0_11eb_8868_ade5cf526beerow3_col3,#T_6a4255b2_a7c0_11eb_8868_ade5cf526beerow3_col4,#T_6a4255b2_a7c0_11eb_8868_ade5cf526beerow3_col5,#T_6a4255b2_a7c0_11eb_8868_ade5cf526beerow3_col6,#T_6a4255b2_a7c0_11eb_8868_ade5cf526beerow3_col7,#T_6a4255b2_a7c0_11eb_8868_ade5cf526beerow3_col8,#T_6a4255b2_a7c0_11eb_8868_ade5cf526beerow3_col9,#T_6a4255b2_a7c0_11eb_8868_ade5cf526beerow3_col10,#T_6a4255b2_a7c0_11eb_8868_ade5cf526beerow3_col11,#T_6a4255b2_a7c0_11eb_8868_ade5cf526beerow3_col12,#T_6a4255b2_a7c0_11eb_8868_ade5cf526beerow3_col13,#T_6a4255b2_a7c0_11eb_8868_ade5cf526beerow3_col14,#T_6a4255b2_a7c0_11eb_8868_ade5cf526beerow3_col15,#T_6a4255b2_a7c0_11eb_8868_ade5cf526beerow3_col16,#T_6a4255b2_a7c0_11eb_8868_ade5cf526beerow3_col17,#T_6a4255b2_a7c0_11eb_8868_ade5cf526beerow3_col18,#T_6a4255b2_a7c0_11eb_8868_ade5cf526beerow3_col19,#T_6a4255b2_a7c0_11eb_8868_ade5cf526beerow4_col0,#T_6a4255b2_a7c0_11eb_8868_ade5cf526beerow4_col1,#T_6a4255b2_a7c0_11eb_8868_ade5cf526beerow4_col2,#T_6a4255b2_a7c0_11eb_8868_ade5cf526beerow4_col3,#T_6a4255b2_a7c0_11eb_8868_ade5cf526beerow4_col4,#T_6a4255b2_a7c0_11eb_8868_ade5cf526beerow4_col5,#T_6a4255b2_a7c0_11eb_8868_ade5cf526beerow4_col6,#T_6a4255b2_a7c0_11eb_8868_ade5cf526beerow4_col7,#T_6a4255b2_a7c0_11eb_8868_ade5cf526beerow4_col8,#T_6a4255b2_a7c0_11eb_8868_ade5cf526beerow4_col9,#T_6a4255b2_a7c0_11eb_8868_ade5cf526beerow4_col10,#T_6a4255b2_a7c0_11eb_8868_ade5cf526beerow4_col11,#T_6a4255b2_a7c0_11eb_8868_ade5cf526beerow4_col12,#T_6a4255b2_a7c0_11eb_8868_ade5cf526beerow4_col13,#T_6a4255b2_a7c0_11eb_8868_ade5cf526beerow4_col14,#T_6a4255b2_a7c0_11eb_8868_ade5cf526beerow4_col15,#T_6a4255b2_a7c0_11eb_8868_ade5cf526beerow4_col16,#T_6a4255b2_a7c0_11eb_8868_ade5cf526beerow4_col17,#T_6a4255b2_a7c0_11eb_8868_ade5cf526beerow4_col18,#T_6a4255b2_a7c0_11eb_8868_ade5cf526beerow4_col19,#T_6a4255b2_a7c0_11eb_8868_ade5cf526beerow5_col0,#T_6a4255b2_a7c0_11eb_8868_ade5cf526beerow5_col1,#T_6a4255b2_a7c0_11eb_8868_ade5cf526beerow5_col2,#T_6a4255b2_a7c0_11eb_8868_ade5cf526beerow5_col3,#T_6a4255b2_a7c0_11eb_8868_ade5cf526beerow5_col4,#T_6a4255b2_a7c0_11eb_8868_ade5cf526beerow5_col5,#T_6a4255b2_a7c0_11eb_8868_ade5cf526beerow5_col6,#T_6a4255b2_a7c0_11eb_8868_ade5cf526beerow5_col7,#T_6a4255b2_a7c0_11eb_8868_ade5cf526beerow5_col8,#T_6a4255b2_a7c0_11eb_8868_ade5cf526beerow5_col19,#T_6a4255b2_a7c0_11eb_8868_ade5cf526beerow6_col0,#T_6a4255b2_a7c0_11eb_8868_ade5cf526beerow6_col1,#T_6a4255b2_a7c0_11eb_8868_ade5cf526beerow6_col2,#T_6a4255b2_a7c0_11eb_8868_ade5cf526beerow6_col3,#T_6a4255b2_a7c0_11eb_8868_ade5cf526beerow6_col4,#T_6a4255b2_a7c0_11eb_8868_ade5cf526beerow6_col5,#T_6a4255b2_a7c0_11eb_8868_ade5cf526beerow6_col6,#T_6a4255b2_a7c0_11eb_8868_ade5cf526beerow6_col19,#T_6a4255b2_a7c0_11eb_8868_ade5cf526beerow7_col0,#T_6a4255b2_a7c0_11eb_8868_ade5cf526beerow7_col1,#T_6a4255b2_a7c0_11eb_8868_ade5cf526beerow7_col2,#T_6a4255b2_a7c0_11eb_8868_ade5cf526beerow7_col3,#T_6a4255b2_a7c0_11eb_8868_ade5cf526beerow7_col4,#T_6a4255b2_a7c0_11eb_8868_ade5cf526beerow7_col19,#T_6a4255b2_a7c0_11eb_8868_ade5cf526beerow8_col0,#T_6a4255b2_a7c0_11eb_8868_ade5cf526beerow8_col1,#T_6a4255b2_a7c0_11eb_8868_ade5cf526beerow8_col2,#T_6a4255b2_a7c0_11eb_8868_ade5cf526beerow8_col3,#T_6a4255b2_a7c0_11eb_8868_ade5cf526beerow8_col4,#T_6a4255b2_a7c0_11eb_8868_ade5cf526beerow8_col10,#T_6a4255b2_a7c0_11eb_8868_ade5cf526beerow8_col11,#T_6a4255b2_a7c0_11eb_8868_ade5cf526beerow8_col12,#T_6a4255b2_a7c0_11eb_8868_ade5cf526beerow8_col13,#T_6a4255b2_a7c0_11eb_8868_ade5cf526beerow8_col14,#T_6a4255b2_a7c0_11eb_8868_ade5cf526beerow8_col19,#T_6a4255b2_a7c0_11eb_8868_ade5cf526beerow9_col0,#T_6a4255b2_a7c0_11eb_8868_ade5cf526beerow9_col1,#T_6a4255b2_a7c0_11eb_8868_ade5cf526beerow9_col2,#T_6a4255b2_a7c0_11eb_8868_ade5cf526beerow9_col3,#T_6a4255b2_a7c0_11eb_8868_ade5cf526beerow9_col4,#T_6a4255b2_a7c0_11eb_8868_ade5cf526beerow9_col9,#T_6a4255b2_a7c0_11eb_8868_ade5cf526beerow9_col10,#T_6a4255b2_a7c0_11eb_8868_ade5cf526beerow9_col11,#T_6a4255b2_a7c0_11eb_8868_ade5cf526beerow9_col12,#T_6a4255b2_a7c0_11eb_8868_ade5cf526beerow9_col13,#T_6a4255b2_a7c0_11eb_8868_ade5cf526beerow9_col19,#T_6a4255b2_a7c0_11eb_8868_ade5cf526beerow10_col0,#T_6a4255b2_a7c0_11eb_8868_ade5cf526beerow10_col1,#T_6a4255b2_a7c0_11eb_8868_ade5cf526beerow10_col2,#T_6a4255b2_a7c0_11eb_8868_ade5cf526beerow10_col3,#T_6a4255b2_a7c0_11eb_8868_ade5cf526beerow10_col4,#T_6a4255b2_a7c0_11eb_8868_ade5cf526beerow10_col5,#T_6a4255b2_a7c0_11eb_8868_ade5cf526beerow10_col6,#T_6a4255b2_a7c0_11eb_8868_ade5cf526beerow10_col7,#T_6a4255b2_a7c0_11eb_8868_ade5cf526beerow10_col8,#T_6a4255b2_a7c0_11eb_8868_ade5cf526beerow10_col9,#T_6a4255b2_a7c0_11eb_8868_ade5cf526beerow10_col10,#T_6a4255b2_a7c0_11eb_8868_ade5cf526beerow10_col11,#T_6a4255b2_a7c0_11eb_8868_ade5cf526beerow10_col12,#T_6a4255b2_a7c0_11eb_8868_ade5cf526beerow10_col13,#T_6a4255b2_a7c0_11eb_8868_ade5cf526beerow10_col18,#T_6a4255b2_a7c0_11eb_8868_ade5cf526beerow10_col19,#T_6a4255b2_a7c0_11eb_8868_ade5cf526beerow11_col0,#T_6a4255b2_a7c0_11eb_8868_ade5cf526beerow11_col1,#T_6a4255b2_a7c0_11eb_8868_ade5cf526beerow11_col2,#T_6a4255b2_a7c0_11eb_8868_ade5cf526beerow11_col3,#T_6a4255b2_a7c0_11eb_8868_ade5cf526beerow11_col4,#T_6a4255b2_a7c0_11eb_8868_ade5cf526beerow11_col5,#T_6a4255b2_a7c0_11eb_8868_ade5cf526beerow11_col6,#T_6a4255b2_a7c0_11eb_8868_ade5cf526beerow11_col7,#T_6a4255b2_a7c0_11eb_8868_ade5cf526beerow11_col8,#T_6a4255b2_a7c0_11eb_8868_ade5cf526beerow11_col9,#T_6a4255b2_a7c0_11eb_8868_ade5cf526beerow11_col10,#T_6a4255b2_a7c0_11eb_8868_ade5cf526beerow11_col17,#T_6a4255b2_a7c0_11eb_8868_ade5cf526beerow11_col18,#T_6a4255b2_a7c0_11eb_8868_ade5cf526beerow11_col19,#T_6a4255b2_a7c0_11eb_8868_ade5cf526beerow12_col0,#T_6a4255b2_a7c0_11eb_8868_ade5cf526beerow12_col1,#T_6a4255b2_a7c0_11eb_8868_ade5cf526beerow12_col2,#T_6a4255b2_a7c0_11eb_8868_ade5cf526beerow12_col3,#T_6a4255b2_a7c0_11eb_8868_ade5cf526beerow12_col4,#T_6a4255b2_a7c0_11eb_8868_ade5cf526beerow12_col5,#T_6a4255b2_a7c0_11eb_8868_ade5cf526beerow12_col6,#T_6a4255b2_a7c0_11eb_8868_ade5cf526beerow12_col7,#T_6a4255b2_a7c0_11eb_8868_ade5cf526beerow12_col8,#T_6a4255b2_a7c0_11eb_8868_ade5cf526beerow12_col17,#T_6a4255b2_a7c0_11eb_8868_ade5cf526beerow12_col18,#T_6a4255b2_a7c0_11eb_8868_ade5cf526beerow12_col19,#T_6a4255b2_a7c0_11eb_8868_ade5cf526beerow13_col0,#T_6a4255b2_a7c0_11eb_8868_ade5cf526beerow13_col1,#T_6a4255b2_a7c0_11eb_8868_ade5cf526beerow13_col2,#T_6a4255b2_a7c0_11eb_8868_ade5cf526beerow13_col3,#T_6a4255b2_a7c0_11eb_8868_ade5cf526beerow13_col4,#T_6a4255b2_a7c0_11eb_8868_ade5cf526beerow13_col5,#T_6a4255b2_a7c0_11eb_8868_ade5cf526beerow13_col6,#T_6a4255b2_a7c0_11eb_8868_ade5cf526beerow13_col7,#T_6a4255b2_a7c0_11eb_8868_ade5cf526beerow13_col8,#T_6a4255b2_a7c0_11eb_8868_ade5cf526beerow14_col0,#T_6a4255b2_a7c0_11eb_8868_ade5cf526beerow14_col1,#T_6a4255b2_a7c0_11eb_8868_ade5cf526beerow14_col2,#T_6a4255b2_a7c0_11eb_8868_ade5cf526beerow14_col3,#T_6a4255b2_a7c0_11eb_8868_ade5cf526beerow14_col4,#T_6a4255b2_a7c0_11eb_8868_ade5cf526beerow14_col5,#T_6a4255b2_a7c0_11eb_8868_ade5cf526beerow14_col6,#T_6a4255b2_a7c0_11eb_8868_ade5cf526beerow14_col7,#T_6a4255b2_a7c0_11eb_8868_ade5cf526beerow14_col8,#T_6a4255b2_a7c0_11eb_8868_ade5cf526beerow14_col9,#T_6a4255b2_a7c0_11eb_8868_ade5cf526beerow14_col10,#T_6a4255b2_a7c0_11eb_8868_ade5cf526beerow15_col0,#T_6a4255b2_a7c0_11eb_8868_ade5cf526beerow15_col1,#T_6a4255b2_a7c0_11eb_8868_ade5cf526beerow15_col2,#T_6a4255b2_a7c0_11eb_8868_ade5cf526beerow15_col3,#T_6a4255b2_a7c0_11eb_8868_ade5cf526beerow15_col4,#T_6a4255b2_a7c0_11eb_8868_ade5cf526beerow15_col5,#T_6a4255b2_a7c0_11eb_8868_ade5cf526beerow15_col6,#T_6a4255b2_a7c0_11eb_8868_ade5cf526beerow15_col7,#T_6a4255b2_a7c0_11eb_8868_ade5cf526beerow15_col8,#T_6a4255b2_a7c0_11eb_8868_ade5cf526beerow15_col9,#T_6a4255b2_a7c0_11eb_8868_ade5cf526beerow15_col10,#T_6a4255b2_a7c0_11eb_8868_ade5cf526beerow15_col11,#T_6a4255b2_a7c0_11eb_8868_ade5cf526beerow15_col12,#T_6a4255b2_a7c0_11eb_8868_ade5cf526beerow15_col13,#T_6a4255b2_a7c0_11eb_8868_ade5cf526beerow16_col0,#T_6a4255b2_a7c0_11eb_8868_ade5cf526beerow16_col1,#T_6a4255b2_a7c0_11eb_8868_ade5cf526beerow16_col2,#T_6a4255b2_a7c0_11eb_8868_ade5cf526beerow16_col3,#T_6a4255b2_a7c0_11eb_8868_ade5cf526beerow16_col4,#T_6a4255b2_a7c0_11eb_8868_ade5cf526beerow16_col5,#T_6a4255b2_a7c0_11eb_8868_ade5cf526beerow16_col6,#T_6a4255b2_a7c0_11eb_8868_ade5cf526beerow16_col7,#T_6a4255b2_a7c0_11eb_8868_ade5cf526beerow16_col8,#T_6a4255b2_a7c0_11eb_8868_ade5cf526beerow16_col9,#T_6a4255b2_a7c0_11eb_8868_ade5cf526beerow16_col10,#T_6a4255b2_a7c0_11eb_8868_ade5cf526beerow16_col11,#T_6a4255b2_a7c0_11eb_8868_ade5cf526beerow16_col12,#T_6a4255b2_a7c0_11eb_8868_ade5cf526beerow16_col13,#T_6a4255b2_a7c0_11eb_8868_ade5cf526beerow16_col14,#T_6a4255b2_a7c0_11eb_8868_ade5cf526beerow16_col15,#T_6a4255b2_a7c0_11eb_8868_ade5cf526beerow16_col16,#T_6a4255b2_a7c0_11eb_8868_ade5cf526beerow17_col0,#T_6a4255b2_a7c0_11eb_8868_ade5cf526beerow17_col1,#T_6a4255b2_a7c0_11eb_8868_ade5cf526beerow17_col2,#T_6a4255b2_a7c0_11eb_8868_ade5cf526beerow17_col3,#T_6a4255b2_a7c0_11eb_8868_ade5cf526beerow17_col4,#T_6a4255b2_a7c0_11eb_8868_ade5cf526beerow17_col5,#T_6a4255b2_a7c0_11eb_8868_ade5cf526beerow17_col6,#T_6a4255b2_a7c0_11eb_8868_ade5cf526beerow17_col7,#T_6a4255b2_a7c0_11eb_8868_ade5cf526beerow17_col8,#T_6a4255b2_a7c0_11eb_8868_ade5cf526beerow17_col9,#T_6a4255b2_a7c0_11eb_8868_ade5cf526beerow17_col10,#T_6a4255b2_a7c0_11eb_8868_ade5cf526beerow17_col11,#T_6a4255b2_a7c0_11eb_8868_ade5cf526beerow17_col12,#T_6a4255b2_a7c0_11eb_8868_ade5cf526beerow17_col13,#T_6a4255b2_a7c0_11eb_8868_ade5cf526beerow17_col14,#T_6a4255b2_a7c0_11eb_8868_ade5cf526beerow17_col15,#T_6a4255b2_a7c0_11eb_8868_ade5cf526beerow17_col16,#T_6a4255b2_a7c0_11eb_8868_ade5cf526beerow18_col0,#T_6a4255b2_a7c0_11eb_8868_ade5cf526beerow18_col1,#T_6a4255b2_a7c0_11eb_8868_ade5cf526beerow18_col2,#T_6a4255b2_a7c0_11eb_8868_ade5cf526beerow18_col3,#T_6a4255b2_a7c0_11eb_8868_ade5cf526beerow18_col4,#T_6a4255b2_a7c0_11eb_8868_ade5cf526beerow18_col5,#T_6a4255b2_a7c0_11eb_8868_ade5cf526beerow18_col6,#T_6a4255b2_a7c0_11eb_8868_ade5cf526beerow18_col7,#T_6a4255b2_a7c0_11eb_8868_ade5cf526beerow18_col8,#T_6a4255b2_a7c0_11eb_8868_ade5cf526beerow18_col9,#T_6a4255b2_a7c0_11eb_8868_ade5cf526beerow18_col10,#T_6a4255b2_a7c0_11eb_8868_ade5cf526beerow18_col11,#T_6a4255b2_a7c0_11eb_8868_ade5cf526beerow18_col12,#T_6a4255b2_a7c0_11eb_8868_ade5cf526beerow18_col13,#T_6a4255b2_a7c0_11eb_8868_ade5cf526beerow18_col14,#T_6a4255b2_a7c0_11eb_8868_ade5cf526beerow18_col15,#T_6a4255b2_a7c0_11eb_8868_ade5cf526beerow19_col0,#T_6a4255b2_a7c0_11eb_8868_ade5cf526beerow19_col1,#T_6a4255b2_a7c0_11eb_8868_ade5cf526beerow19_col2,#T_6a4255b2_a7c0_11eb_8868_ade5cf526beerow19_col3,#T_6a4255b2_a7c0_11eb_8868_ade5cf526beerow19_col4,#T_6a4255b2_a7c0_11eb_8868_ade5cf526beerow19_col5,#T_6a4255b2_a7c0_11eb_8868_ade5cf526beerow19_col6,#T_6a4255b2_a7c0_11eb_8868_ade5cf526beerow19_col7,#T_6a4255b2_a7c0_11eb_8868_ade5cf526beerow19_col8,#T_6a4255b2_a7c0_11eb_8868_ade5cf526beerow19_col9,#T_6a4255b2_a7c0_11eb_8868_ade5cf526beerow19_col10,#T_6a4255b2_a7c0_11eb_8868_ade5cf526beerow19_col11,#T_6a4255b2_a7c0_11eb_8868_ade5cf526beerow19_col12,#T_6a4255b2_a7c0_11eb_8868_ade5cf526beerow19_col13,#T_6a4255b2_a7c0_11eb_8868_ade5cf526beerow19_col14{\n",
       "            font-size:  6pt;\n",
       "            background-color:  #ffffff;\n",
       "            color:  #000000;\n",
       "        }#T_6a4255b2_a7c0_11eb_8868_ade5cf526beerow5_col9{\n",
       "            font-size:  6pt;\n",
       "            background-color:  #efefef;\n",
       "            color:  #000000;\n",
       "        }#T_6a4255b2_a7c0_11eb_8868_ade5cf526beerow5_col10,#T_6a4255b2_a7c0_11eb_8868_ade5cf526beerow5_col17{\n",
       "            font-size:  6pt;\n",
       "            background-color:  #7c7c7c;\n",
       "            color:  #000000;\n",
       "        }#T_6a4255b2_a7c0_11eb_8868_ade5cf526beerow5_col11{\n",
       "            font-size:  6pt;\n",
       "            background-color:  #4a4a4a;\n",
       "            color:  #f1f1f1;\n",
       "        }#T_6a4255b2_a7c0_11eb_8868_ade5cf526beerow5_col12,#T_6a4255b2_a7c0_11eb_8868_ade5cf526beerow5_col13,#T_6a4255b2_a7c0_11eb_8868_ade5cf526beerow5_col14,#T_6a4255b2_a7c0_11eb_8868_ade5cf526beerow6_col9,#T_6a4255b2_a7c0_11eb_8868_ade5cf526beerow6_col10,#T_6a4255b2_a7c0_11eb_8868_ade5cf526beerow6_col11,#T_6a4255b2_a7c0_11eb_8868_ade5cf526beerow6_col15,#T_6a4255b2_a7c0_11eb_8868_ade5cf526beerow6_col16,#T_6a4255b2_a7c0_11eb_8868_ade5cf526beerow6_col17,#T_6a4255b2_a7c0_11eb_8868_ade5cf526beerow7_col8,#T_6a4255b2_a7c0_11eb_8868_ade5cf526beerow7_col16,#T_6a4255b2_a7c0_11eb_8868_ade5cf526beerow7_col17,#T_6a4255b2_a7c0_11eb_8868_ade5cf526beerow8_col5,#T_6a4255b2_a7c0_11eb_8868_ade5cf526beerow8_col6,#T_6a4255b2_a7c0_11eb_8868_ade5cf526beerow8_col7,#T_6a4255b2_a7c0_11eb_8868_ade5cf526beerow8_col16,#T_6a4255b2_a7c0_11eb_8868_ade5cf526beerow8_col17,#T_6a4255b2_a7c0_11eb_8868_ade5cf526beerow9_col16,#T_6a4255b2_a7c0_11eb_8868_ade5cf526beerow10_col15,#T_6a4255b2_a7c0_11eb_8868_ade5cf526beerow13_col15,#T_6a4255b2_a7c0_11eb_8868_ade5cf526beerow14_col15,#T_6a4255b2_a7c0_11eb_8868_ade5cf526beerow14_col16,#T_6a4255b2_a7c0_11eb_8868_ade5cf526beerow14_col17,#T_6a4255b2_a7c0_11eb_8868_ade5cf526beerow14_col18,#T_6a4255b2_a7c0_11eb_8868_ade5cf526beerow15_col17,#T_6a4255b2_a7c0_11eb_8868_ade5cf526beerow15_col18,#T_6a4255b2_a7c0_11eb_8868_ade5cf526beerow15_col19,#T_6a4255b2_a7c0_11eb_8868_ade5cf526beerow16_col18,#T_6a4255b2_a7c0_11eb_8868_ade5cf526beerow16_col19,#T_6a4255b2_a7c0_11eb_8868_ade5cf526beerow17_col18,#T_6a4255b2_a7c0_11eb_8868_ade5cf526beerow17_col19,#T_6a4255b2_a7c0_11eb_8868_ade5cf526beerow18_col18,#T_6a4255b2_a7c0_11eb_8868_ade5cf526beerow18_col19,#T_6a4255b2_a7c0_11eb_8868_ade5cf526beerow19_col17,#T_6a4255b2_a7c0_11eb_8868_ade5cf526beerow19_col18{\n",
       "            font-size:  6pt;\n",
       "            background-color:  #000000;\n",
       "            color:  #f1f1f1;\n",
       "        }#T_6a4255b2_a7c0_11eb_8868_ade5cf526beerow5_col15{\n",
       "            font-size:  6pt;\n",
       "            background-color:  #606060;\n",
       "            color:  #f1f1f1;\n",
       "        }#T_6a4255b2_a7c0_11eb_8868_ade5cf526beerow5_col16{\n",
       "            font-size:  6pt;\n",
       "            background-color:  #4d4d4d;\n",
       "            color:  #f1f1f1;\n",
       "        }#T_6a4255b2_a7c0_11eb_8868_ade5cf526beerow5_col18{\n",
       "            font-size:  6pt;\n",
       "            background-color:  #bbbbbb;\n",
       "            color:  #000000;\n",
       "        }#T_6a4255b2_a7c0_11eb_8868_ade5cf526beerow6_col7{\n",
       "            font-size:  6pt;\n",
       "            background-color:  #e4e4e4;\n",
       "            color:  #000000;\n",
       "        }#T_6a4255b2_a7c0_11eb_8868_ade5cf526beerow6_col8,#T_6a4255b2_a7c0_11eb_8868_ade5cf526beerow12_col10{\n",
       "            font-size:  6pt;\n",
       "            background-color:  #6b6b6b;\n",
       "            color:  #000000;\n",
       "        }#T_6a4255b2_a7c0_11eb_8868_ade5cf526beerow6_col12,#T_6a4255b2_a7c0_11eb_8868_ade5cf526beerow6_col18,#T_6a4255b2_a7c0_11eb_8868_ade5cf526beerow7_col18{\n",
       "            font-size:  6pt;\n",
       "            background-color:  #171717;\n",
       "            color:  #f1f1f1;\n",
       "        }#T_6a4255b2_a7c0_11eb_8868_ade5cf526beerow6_col13,#T_6a4255b2_a7c0_11eb_8868_ade5cf526beerow7_col15{\n",
       "            font-size:  6pt;\n",
       "            background-color:  #4b4b4b;\n",
       "            color:  #f1f1f1;\n",
       "        }#T_6a4255b2_a7c0_11eb_8868_ade5cf526beerow6_col14,#T_6a4255b2_a7c0_11eb_8868_ade5cf526beerow11_col14,#T_6a4255b2_a7c0_11eb_8868_ade5cf526beerow12_col12,#T_6a4255b2_a7c0_11eb_8868_ade5cf526beerow12_col14,#T_6a4255b2_a7c0_11eb_8868_ade5cf526beerow13_col12,#T_6a4255b2_a7c0_11eb_8868_ade5cf526beerow13_col14{\n",
       "            font-size:  6pt;\n",
       "            background-color:  #010101;\n",
       "            color:  #f1f1f1;\n",
       "        }#T_6a4255b2_a7c0_11eb_8868_ade5cf526beerow7_col5{\n",
       "            font-size:  6pt;\n",
       "            background-color:  #272727;\n",
       "            color:  #f1f1f1;\n",
       "        }#T_6a4255b2_a7c0_11eb_8868_ade5cf526beerow7_col6{\n",
       "            font-size:  6pt;\n",
       "            background-color:  #0a0a0a;\n",
       "            color:  #f1f1f1;\n",
       "        }#T_6a4255b2_a7c0_11eb_8868_ade5cf526beerow7_col7,#T_6a4255b2_a7c0_11eb_8868_ade5cf526beerow18_col17{\n",
       "            font-size:  6pt;\n",
       "            background-color:  #050505;\n",
       "            color:  #f1f1f1;\n",
       "        }#T_6a4255b2_a7c0_11eb_8868_ade5cf526beerow7_col9{\n",
       "            font-size:  6pt;\n",
       "            background-color:  #333333;\n",
       "            color:  #f1f1f1;\n",
       "        }#T_6a4255b2_a7c0_11eb_8868_ade5cf526beerow7_col10{\n",
       "            font-size:  6pt;\n",
       "            background-color:  #e6e6e6;\n",
       "            color:  #000000;\n",
       "        }#T_6a4255b2_a7c0_11eb_8868_ade5cf526beerow7_col11,#T_6a4255b2_a7c0_11eb_8868_ade5cf526beerow7_col14{\n",
       "            font-size:  6pt;\n",
       "            background-color:  #fafafa;\n",
       "            color:  #000000;\n",
       "        }#T_6a4255b2_a7c0_11eb_8868_ade5cf526beerow7_col12,#T_6a4255b2_a7c0_11eb_8868_ade5cf526beerow15_col14{\n",
       "            font-size:  6pt;\n",
       "            background-color:  #fbfbfb;\n",
       "            color:  #000000;\n",
       "        }#T_6a4255b2_a7c0_11eb_8868_ade5cf526beerow7_col13{\n",
       "            font-size:  6pt;\n",
       "            background-color:  #fdfdfd;\n",
       "            color:  #000000;\n",
       "        }#T_6a4255b2_a7c0_11eb_8868_ade5cf526beerow8_col8{\n",
       "            font-size:  6pt;\n",
       "            background-color:  #1b1b1b;\n",
       "            color:  #f1f1f1;\n",
       "        }#T_6a4255b2_a7c0_11eb_8868_ade5cf526beerow8_col9{\n",
       "            font-size:  6pt;\n",
       "            background-color:  #e0e0e0;\n",
       "            color:  #000000;\n",
       "        }#T_6a4255b2_a7c0_11eb_8868_ade5cf526beerow8_col15{\n",
       "            font-size:  6pt;\n",
       "            background-color:  #4e4e4e;\n",
       "            color:  #f1f1f1;\n",
       "        }#T_6a4255b2_a7c0_11eb_8868_ade5cf526beerow8_col18{\n",
       "            font-size:  6pt;\n",
       "            background-color:  #767676;\n",
       "            color:  #000000;\n",
       "        }#T_6a4255b2_a7c0_11eb_8868_ade5cf526beerow9_col5{\n",
       "            font-size:  6pt;\n",
       "            background-color:  #fcfcfc;\n",
       "            color:  #000000;\n",
       "        }#T_6a4255b2_a7c0_11eb_8868_ade5cf526beerow9_col6,#T_6a4255b2_a7c0_11eb_8868_ade5cf526beerow9_col7{\n",
       "            font-size:  6pt;\n",
       "            background-color:  #f6f6f6;\n",
       "            color:  #000000;\n",
       "        }#T_6a4255b2_a7c0_11eb_8868_ade5cf526beerow9_col8,#T_6a4255b2_a7c0_11eb_8868_ade5cf526beerow11_col11{\n",
       "            font-size:  6pt;\n",
       "            background-color:  #f8f8f8;\n",
       "            color:  #000000;\n",
       "        }#T_6a4255b2_a7c0_11eb_8868_ade5cf526beerow9_col14,#T_6a4255b2_a7c0_11eb_8868_ade5cf526beerow14_col11{\n",
       "            font-size:  6pt;\n",
       "            background-color:  #e8e8e8;\n",
       "            color:  #000000;\n",
       "        }#T_6a4255b2_a7c0_11eb_8868_ade5cf526beerow9_col15{\n",
       "            font-size:  6pt;\n",
       "            background-color:  #222222;\n",
       "            color:  #f1f1f1;\n",
       "        }#T_6a4255b2_a7c0_11eb_8868_ade5cf526beerow9_col17,#T_6a4255b2_a7c0_11eb_8868_ade5cf526beerow10_col16{\n",
       "            font-size:  6pt;\n",
       "            background-color:  #090909;\n",
       "            color:  #f1f1f1;\n",
       "        }#T_6a4255b2_a7c0_11eb_8868_ade5cf526beerow9_col18{\n",
       "            font-size:  6pt;\n",
       "            background-color:  #d0d0d0;\n",
       "            color:  #000000;\n",
       "        }#T_6a4255b2_a7c0_11eb_8868_ade5cf526beerow10_col14,#T_6a4255b2_a7c0_11eb_8868_ade5cf526beerow11_col15,#T_6a4255b2_a7c0_11eb_8868_ade5cf526beerow13_col10{\n",
       "            font-size:  6pt;\n",
       "            background-color:  #060606;\n",
       "            color:  #f1f1f1;\n",
       "        }#T_6a4255b2_a7c0_11eb_8868_ade5cf526beerow10_col17{\n",
       "            font-size:  6pt;\n",
       "            background-color:  #979797;\n",
       "            color:  #000000;\n",
       "        }#T_6a4255b2_a7c0_11eb_8868_ade5cf526beerow11_col12{\n",
       "            font-size:  6pt;\n",
       "            background-color:  #b6b6b6;\n",
       "            color:  #000000;\n",
       "        }#T_6a4255b2_a7c0_11eb_8868_ade5cf526beerow11_col13{\n",
       "            font-size:  6pt;\n",
       "            background-color:  #252525;\n",
       "            color:  #f1f1f1;\n",
       "        }#T_6a4255b2_a7c0_11eb_8868_ade5cf526beerow11_col16{\n",
       "            font-size:  6pt;\n",
       "            background-color:  #999999;\n",
       "            color:  #000000;\n",
       "        }#T_6a4255b2_a7c0_11eb_8868_ade5cf526beerow12_col9{\n",
       "            font-size:  6pt;\n",
       "            background-color:  #f9f9f9;\n",
       "            color:  #000000;\n",
       "        }#T_6a4255b2_a7c0_11eb_8868_ade5cf526beerow12_col11{\n",
       "            font-size:  6pt;\n",
       "            background-color:  #101010;\n",
       "            color:  #f1f1f1;\n",
       "        }#T_6a4255b2_a7c0_11eb_8868_ade5cf526beerow12_col13,#T_6a4255b2_a7c0_11eb_8868_ade5cf526beerow13_col13{\n",
       "            font-size:  6pt;\n",
       "            background-color:  #020202;\n",
       "            color:  #f1f1f1;\n",
       "        }#T_6a4255b2_a7c0_11eb_8868_ade5cf526beerow12_col15,#T_6a4255b2_a7c0_11eb_8868_ade5cf526beerow14_col19{\n",
       "            font-size:  6pt;\n",
       "            background-color:  #545454;\n",
       "            color:  #f1f1f1;\n",
       "        }#T_6a4255b2_a7c0_11eb_8868_ade5cf526beerow12_col16{\n",
       "            font-size:  6pt;\n",
       "            background-color:  #f1f1f1;\n",
       "            color:  #000000;\n",
       "        }#T_6a4255b2_a7c0_11eb_8868_ade5cf526beerow13_col9{\n",
       "            font-size:  6pt;\n",
       "            background-color:  #f7f7f7;\n",
       "            color:  #000000;\n",
       "        }#T_6a4255b2_a7c0_11eb_8868_ade5cf526beerow13_col11{\n",
       "            font-size:  6pt;\n",
       "            background-color:  #030303;\n",
       "            color:  #f1f1f1;\n",
       "        }#T_6a4255b2_a7c0_11eb_8868_ade5cf526beerow13_col16{\n",
       "            font-size:  6pt;\n",
       "            background-color:  #181818;\n",
       "            color:  #f1f1f1;\n",
       "        }#T_6a4255b2_a7c0_11eb_8868_ade5cf526beerow13_col17{\n",
       "            font-size:  6pt;\n",
       "            background-color:  #303030;\n",
       "            color:  #f1f1f1;\n",
       "        }#T_6a4255b2_a7c0_11eb_8868_ade5cf526beerow13_col18{\n",
       "            font-size:  6pt;\n",
       "            background-color:  #a9a9a9;\n",
       "            color:  #000000;\n",
       "        }#T_6a4255b2_a7c0_11eb_8868_ade5cf526beerow13_col19{\n",
       "            font-size:  6pt;\n",
       "            background-color:  #fefefe;\n",
       "            color:  #000000;\n",
       "        }#T_6a4255b2_a7c0_11eb_8868_ade5cf526beerow14_col12,#T_6a4255b2_a7c0_11eb_8868_ade5cf526beerow14_col13{\n",
       "            font-size:  6pt;\n",
       "            background-color:  #bababa;\n",
       "            color:  #000000;\n",
       "        }#T_6a4255b2_a7c0_11eb_8868_ade5cf526beerow14_col14{\n",
       "            font-size:  6pt;\n",
       "            background-color:  #393939;\n",
       "            color:  #f1f1f1;\n",
       "        }#T_6a4255b2_a7c0_11eb_8868_ade5cf526beerow15_col15{\n",
       "            font-size:  6pt;\n",
       "            background-color:  #e2e2e2;\n",
       "            color:  #000000;\n",
       "        }#T_6a4255b2_a7c0_11eb_8868_ade5cf526beerow15_col16{\n",
       "            font-size:  6pt;\n",
       "            background-color:  #9f9f9f;\n",
       "            color:  #000000;\n",
       "        }#T_6a4255b2_a7c0_11eb_8868_ade5cf526beerow16_col17{\n",
       "            font-size:  6pt;\n",
       "            background-color:  #585858;\n",
       "            color:  #f1f1f1;\n",
       "        }#T_6a4255b2_a7c0_11eb_8868_ade5cf526beerow17_col17{\n",
       "            font-size:  6pt;\n",
       "            background-color:  #5a5a5a;\n",
       "            color:  #f1f1f1;\n",
       "        }#T_6a4255b2_a7c0_11eb_8868_ade5cf526beerow18_col16{\n",
       "            font-size:  6pt;\n",
       "            background-color:  #c5c5c5;\n",
       "            color:  #000000;\n",
       "        }#T_6a4255b2_a7c0_11eb_8868_ade5cf526beerow19_col15{\n",
       "            font-size:  6pt;\n",
       "            background-color:  #dcdcdc;\n",
       "            color:  #000000;\n",
       "        }#T_6a4255b2_a7c0_11eb_8868_ade5cf526beerow19_col16{\n",
       "            font-size:  6pt;\n",
       "            background-color:  #2f2f2f;\n",
       "            color:  #f1f1f1;\n",
       "        }#T_6a4255b2_a7c0_11eb_8868_ade5cf526beerow19_col19{\n",
       "            font-size:  6pt;\n",
       "            background-color:  #636363;\n",
       "            color:  #f1f1f1;\n",
       "        }</style><table id=\"T_6a4255b2_a7c0_11eb_8868_ade5cf526bee\" ><thead>    <tr>        <th class=\"blank level0\" ></th>        <th class=\"col_heading level0 col0\" >0</th>        <th class=\"col_heading level0 col1\" >1</th>        <th class=\"col_heading level0 col2\" >2</th>        <th class=\"col_heading level0 col3\" >3</th>        <th class=\"col_heading level0 col4\" >4</th>        <th class=\"col_heading level0 col5\" >5</th>        <th class=\"col_heading level0 col6\" >6</th>        <th class=\"col_heading level0 col7\" >7</th>        <th class=\"col_heading level0 col8\" >8</th>        <th class=\"col_heading level0 col9\" >9</th>        <th class=\"col_heading level0 col10\" >10</th>        <th class=\"col_heading level0 col11\" >11</th>        <th class=\"col_heading level0 col12\" >12</th>        <th class=\"col_heading level0 col13\" >13</th>        <th class=\"col_heading level0 col14\" >14</th>        <th class=\"col_heading level0 col15\" >15</th>        <th class=\"col_heading level0 col16\" >16</th>        <th class=\"col_heading level0 col17\" >17</th>        <th class=\"col_heading level0 col18\" >18</th>        <th class=\"col_heading level0 col19\" >19</th>    </tr></thead><tbody>\n",
       "                <tr>\n",
       "                        <th id=\"T_6a4255b2_a7c0_11eb_8868_ade5cf526beelevel0_row0\" class=\"row_heading level0 row0\" >0</th>\n",
       "                        <td id=\"T_6a4255b2_a7c0_11eb_8868_ade5cf526beerow0_col0\" class=\"data row0 col0\" >0</td>\n",
       "                        <td id=\"T_6a4255b2_a7c0_11eb_8868_ade5cf526beerow0_col1\" class=\"data row0 col1\" >0</td>\n",
       "                        <td id=\"T_6a4255b2_a7c0_11eb_8868_ade5cf526beerow0_col2\" class=\"data row0 col2\" >0</td>\n",
       "                        <td id=\"T_6a4255b2_a7c0_11eb_8868_ade5cf526beerow0_col3\" class=\"data row0 col3\" >0</td>\n",
       "                        <td id=\"T_6a4255b2_a7c0_11eb_8868_ade5cf526beerow0_col4\" class=\"data row0 col4\" >0</td>\n",
       "                        <td id=\"T_6a4255b2_a7c0_11eb_8868_ade5cf526beerow0_col5\" class=\"data row0 col5\" >0</td>\n",
       "                        <td id=\"T_6a4255b2_a7c0_11eb_8868_ade5cf526beerow0_col6\" class=\"data row0 col6\" >0</td>\n",
       "                        <td id=\"T_6a4255b2_a7c0_11eb_8868_ade5cf526beerow0_col7\" class=\"data row0 col7\" >0</td>\n",
       "                        <td id=\"T_6a4255b2_a7c0_11eb_8868_ade5cf526beerow0_col8\" class=\"data row0 col8\" >0</td>\n",
       "                        <td id=\"T_6a4255b2_a7c0_11eb_8868_ade5cf526beerow0_col9\" class=\"data row0 col9\" >0</td>\n",
       "                        <td id=\"T_6a4255b2_a7c0_11eb_8868_ade5cf526beerow0_col10\" class=\"data row0 col10\" >0</td>\n",
       "                        <td id=\"T_6a4255b2_a7c0_11eb_8868_ade5cf526beerow0_col11\" class=\"data row0 col11\" >0</td>\n",
       "                        <td id=\"T_6a4255b2_a7c0_11eb_8868_ade5cf526beerow0_col12\" class=\"data row0 col12\" >0</td>\n",
       "                        <td id=\"T_6a4255b2_a7c0_11eb_8868_ade5cf526beerow0_col13\" class=\"data row0 col13\" >0</td>\n",
       "                        <td id=\"T_6a4255b2_a7c0_11eb_8868_ade5cf526beerow0_col14\" class=\"data row0 col14\" >0</td>\n",
       "                        <td id=\"T_6a4255b2_a7c0_11eb_8868_ade5cf526beerow0_col15\" class=\"data row0 col15\" >0</td>\n",
       "                        <td id=\"T_6a4255b2_a7c0_11eb_8868_ade5cf526beerow0_col16\" class=\"data row0 col16\" >0</td>\n",
       "                        <td id=\"T_6a4255b2_a7c0_11eb_8868_ade5cf526beerow0_col17\" class=\"data row0 col17\" >0</td>\n",
       "                        <td id=\"T_6a4255b2_a7c0_11eb_8868_ade5cf526beerow0_col18\" class=\"data row0 col18\" >0</td>\n",
       "                        <td id=\"T_6a4255b2_a7c0_11eb_8868_ade5cf526beerow0_col19\" class=\"data row0 col19\" >0</td>\n",
       "            </tr>\n",
       "            <tr>\n",
       "                        <th id=\"T_6a4255b2_a7c0_11eb_8868_ade5cf526beelevel0_row1\" class=\"row_heading level0 row1\" >1</th>\n",
       "                        <td id=\"T_6a4255b2_a7c0_11eb_8868_ade5cf526beerow1_col0\" class=\"data row1 col0\" >0</td>\n",
       "                        <td id=\"T_6a4255b2_a7c0_11eb_8868_ade5cf526beerow1_col1\" class=\"data row1 col1\" >0</td>\n",
       "                        <td id=\"T_6a4255b2_a7c0_11eb_8868_ade5cf526beerow1_col2\" class=\"data row1 col2\" >0</td>\n",
       "                        <td id=\"T_6a4255b2_a7c0_11eb_8868_ade5cf526beerow1_col3\" class=\"data row1 col3\" >0</td>\n",
       "                        <td id=\"T_6a4255b2_a7c0_11eb_8868_ade5cf526beerow1_col4\" class=\"data row1 col4\" >0</td>\n",
       "                        <td id=\"T_6a4255b2_a7c0_11eb_8868_ade5cf526beerow1_col5\" class=\"data row1 col5\" >0</td>\n",
       "                        <td id=\"T_6a4255b2_a7c0_11eb_8868_ade5cf526beerow1_col6\" class=\"data row1 col6\" >0</td>\n",
       "                        <td id=\"T_6a4255b2_a7c0_11eb_8868_ade5cf526beerow1_col7\" class=\"data row1 col7\" >0</td>\n",
       "                        <td id=\"T_6a4255b2_a7c0_11eb_8868_ade5cf526beerow1_col8\" class=\"data row1 col8\" >0</td>\n",
       "                        <td id=\"T_6a4255b2_a7c0_11eb_8868_ade5cf526beerow1_col9\" class=\"data row1 col9\" >0</td>\n",
       "                        <td id=\"T_6a4255b2_a7c0_11eb_8868_ade5cf526beerow1_col10\" class=\"data row1 col10\" >0</td>\n",
       "                        <td id=\"T_6a4255b2_a7c0_11eb_8868_ade5cf526beerow1_col11\" class=\"data row1 col11\" >0</td>\n",
       "                        <td id=\"T_6a4255b2_a7c0_11eb_8868_ade5cf526beerow1_col12\" class=\"data row1 col12\" >0</td>\n",
       "                        <td id=\"T_6a4255b2_a7c0_11eb_8868_ade5cf526beerow1_col13\" class=\"data row1 col13\" >0</td>\n",
       "                        <td id=\"T_6a4255b2_a7c0_11eb_8868_ade5cf526beerow1_col14\" class=\"data row1 col14\" >0</td>\n",
       "                        <td id=\"T_6a4255b2_a7c0_11eb_8868_ade5cf526beerow1_col15\" class=\"data row1 col15\" >0</td>\n",
       "                        <td id=\"T_6a4255b2_a7c0_11eb_8868_ade5cf526beerow1_col16\" class=\"data row1 col16\" >0</td>\n",
       "                        <td id=\"T_6a4255b2_a7c0_11eb_8868_ade5cf526beerow1_col17\" class=\"data row1 col17\" >0</td>\n",
       "                        <td id=\"T_6a4255b2_a7c0_11eb_8868_ade5cf526beerow1_col18\" class=\"data row1 col18\" >0</td>\n",
       "                        <td id=\"T_6a4255b2_a7c0_11eb_8868_ade5cf526beerow1_col19\" class=\"data row1 col19\" >0</td>\n",
       "            </tr>\n",
       "            <tr>\n",
       "                        <th id=\"T_6a4255b2_a7c0_11eb_8868_ade5cf526beelevel0_row2\" class=\"row_heading level0 row2\" >2</th>\n",
       "                        <td id=\"T_6a4255b2_a7c0_11eb_8868_ade5cf526beerow2_col0\" class=\"data row2 col0\" >0</td>\n",
       "                        <td id=\"T_6a4255b2_a7c0_11eb_8868_ade5cf526beerow2_col1\" class=\"data row2 col1\" >0</td>\n",
       "                        <td id=\"T_6a4255b2_a7c0_11eb_8868_ade5cf526beerow2_col2\" class=\"data row2 col2\" >0</td>\n",
       "                        <td id=\"T_6a4255b2_a7c0_11eb_8868_ade5cf526beerow2_col3\" class=\"data row2 col3\" >0</td>\n",
       "                        <td id=\"T_6a4255b2_a7c0_11eb_8868_ade5cf526beerow2_col4\" class=\"data row2 col4\" >0</td>\n",
       "                        <td id=\"T_6a4255b2_a7c0_11eb_8868_ade5cf526beerow2_col5\" class=\"data row2 col5\" >0</td>\n",
       "                        <td id=\"T_6a4255b2_a7c0_11eb_8868_ade5cf526beerow2_col6\" class=\"data row2 col6\" >0</td>\n",
       "                        <td id=\"T_6a4255b2_a7c0_11eb_8868_ade5cf526beerow2_col7\" class=\"data row2 col7\" >0</td>\n",
       "                        <td id=\"T_6a4255b2_a7c0_11eb_8868_ade5cf526beerow2_col8\" class=\"data row2 col8\" >0</td>\n",
       "                        <td id=\"T_6a4255b2_a7c0_11eb_8868_ade5cf526beerow2_col9\" class=\"data row2 col9\" >0</td>\n",
       "                        <td id=\"T_6a4255b2_a7c0_11eb_8868_ade5cf526beerow2_col10\" class=\"data row2 col10\" >0</td>\n",
       "                        <td id=\"T_6a4255b2_a7c0_11eb_8868_ade5cf526beerow2_col11\" class=\"data row2 col11\" >0</td>\n",
       "                        <td id=\"T_6a4255b2_a7c0_11eb_8868_ade5cf526beerow2_col12\" class=\"data row2 col12\" >0</td>\n",
       "                        <td id=\"T_6a4255b2_a7c0_11eb_8868_ade5cf526beerow2_col13\" class=\"data row2 col13\" >0</td>\n",
       "                        <td id=\"T_6a4255b2_a7c0_11eb_8868_ade5cf526beerow2_col14\" class=\"data row2 col14\" >0</td>\n",
       "                        <td id=\"T_6a4255b2_a7c0_11eb_8868_ade5cf526beerow2_col15\" class=\"data row2 col15\" >0</td>\n",
       "                        <td id=\"T_6a4255b2_a7c0_11eb_8868_ade5cf526beerow2_col16\" class=\"data row2 col16\" >0</td>\n",
       "                        <td id=\"T_6a4255b2_a7c0_11eb_8868_ade5cf526beerow2_col17\" class=\"data row2 col17\" >0</td>\n",
       "                        <td id=\"T_6a4255b2_a7c0_11eb_8868_ade5cf526beerow2_col18\" class=\"data row2 col18\" >0</td>\n",
       "                        <td id=\"T_6a4255b2_a7c0_11eb_8868_ade5cf526beerow2_col19\" class=\"data row2 col19\" >0</td>\n",
       "            </tr>\n",
       "            <tr>\n",
       "                        <th id=\"T_6a4255b2_a7c0_11eb_8868_ade5cf526beelevel0_row3\" class=\"row_heading level0 row3\" >3</th>\n",
       "                        <td id=\"T_6a4255b2_a7c0_11eb_8868_ade5cf526beerow3_col0\" class=\"data row3 col0\" >0</td>\n",
       "                        <td id=\"T_6a4255b2_a7c0_11eb_8868_ade5cf526beerow3_col1\" class=\"data row3 col1\" >0</td>\n",
       "                        <td id=\"T_6a4255b2_a7c0_11eb_8868_ade5cf526beerow3_col2\" class=\"data row3 col2\" >0</td>\n",
       "                        <td id=\"T_6a4255b2_a7c0_11eb_8868_ade5cf526beerow3_col3\" class=\"data row3 col3\" >0</td>\n",
       "                        <td id=\"T_6a4255b2_a7c0_11eb_8868_ade5cf526beerow3_col4\" class=\"data row3 col4\" >0</td>\n",
       "                        <td id=\"T_6a4255b2_a7c0_11eb_8868_ade5cf526beerow3_col5\" class=\"data row3 col5\" >0</td>\n",
       "                        <td id=\"T_6a4255b2_a7c0_11eb_8868_ade5cf526beerow3_col6\" class=\"data row3 col6\" >0</td>\n",
       "                        <td id=\"T_6a4255b2_a7c0_11eb_8868_ade5cf526beerow3_col7\" class=\"data row3 col7\" >0</td>\n",
       "                        <td id=\"T_6a4255b2_a7c0_11eb_8868_ade5cf526beerow3_col8\" class=\"data row3 col8\" >0</td>\n",
       "                        <td id=\"T_6a4255b2_a7c0_11eb_8868_ade5cf526beerow3_col9\" class=\"data row3 col9\" >0</td>\n",
       "                        <td id=\"T_6a4255b2_a7c0_11eb_8868_ade5cf526beerow3_col10\" class=\"data row3 col10\" >0</td>\n",
       "                        <td id=\"T_6a4255b2_a7c0_11eb_8868_ade5cf526beerow3_col11\" class=\"data row3 col11\" >0</td>\n",
       "                        <td id=\"T_6a4255b2_a7c0_11eb_8868_ade5cf526beerow3_col12\" class=\"data row3 col12\" >0</td>\n",
       "                        <td id=\"T_6a4255b2_a7c0_11eb_8868_ade5cf526beerow3_col13\" class=\"data row3 col13\" >0</td>\n",
       "                        <td id=\"T_6a4255b2_a7c0_11eb_8868_ade5cf526beerow3_col14\" class=\"data row3 col14\" >0</td>\n",
       "                        <td id=\"T_6a4255b2_a7c0_11eb_8868_ade5cf526beerow3_col15\" class=\"data row3 col15\" >0</td>\n",
       "                        <td id=\"T_6a4255b2_a7c0_11eb_8868_ade5cf526beerow3_col16\" class=\"data row3 col16\" >0</td>\n",
       "                        <td id=\"T_6a4255b2_a7c0_11eb_8868_ade5cf526beerow3_col17\" class=\"data row3 col17\" >0</td>\n",
       "                        <td id=\"T_6a4255b2_a7c0_11eb_8868_ade5cf526beerow3_col18\" class=\"data row3 col18\" >0</td>\n",
       "                        <td id=\"T_6a4255b2_a7c0_11eb_8868_ade5cf526beerow3_col19\" class=\"data row3 col19\" >0</td>\n",
       "            </tr>\n",
       "            <tr>\n",
       "                        <th id=\"T_6a4255b2_a7c0_11eb_8868_ade5cf526beelevel0_row4\" class=\"row_heading level0 row4\" >4</th>\n",
       "                        <td id=\"T_6a4255b2_a7c0_11eb_8868_ade5cf526beerow4_col0\" class=\"data row4 col0\" >0</td>\n",
       "                        <td id=\"T_6a4255b2_a7c0_11eb_8868_ade5cf526beerow4_col1\" class=\"data row4 col1\" >0</td>\n",
       "                        <td id=\"T_6a4255b2_a7c0_11eb_8868_ade5cf526beerow4_col2\" class=\"data row4 col2\" >0</td>\n",
       "                        <td id=\"T_6a4255b2_a7c0_11eb_8868_ade5cf526beerow4_col3\" class=\"data row4 col3\" >0</td>\n",
       "                        <td id=\"T_6a4255b2_a7c0_11eb_8868_ade5cf526beerow4_col4\" class=\"data row4 col4\" >0</td>\n",
       "                        <td id=\"T_6a4255b2_a7c0_11eb_8868_ade5cf526beerow4_col5\" class=\"data row4 col5\" >0</td>\n",
       "                        <td id=\"T_6a4255b2_a7c0_11eb_8868_ade5cf526beerow4_col6\" class=\"data row4 col6\" >0</td>\n",
       "                        <td id=\"T_6a4255b2_a7c0_11eb_8868_ade5cf526beerow4_col7\" class=\"data row4 col7\" >0</td>\n",
       "                        <td id=\"T_6a4255b2_a7c0_11eb_8868_ade5cf526beerow4_col8\" class=\"data row4 col8\" >0</td>\n",
       "                        <td id=\"T_6a4255b2_a7c0_11eb_8868_ade5cf526beerow4_col9\" class=\"data row4 col9\" >0</td>\n",
       "                        <td id=\"T_6a4255b2_a7c0_11eb_8868_ade5cf526beerow4_col10\" class=\"data row4 col10\" >0</td>\n",
       "                        <td id=\"T_6a4255b2_a7c0_11eb_8868_ade5cf526beerow4_col11\" class=\"data row4 col11\" >0</td>\n",
       "                        <td id=\"T_6a4255b2_a7c0_11eb_8868_ade5cf526beerow4_col12\" class=\"data row4 col12\" >0</td>\n",
       "                        <td id=\"T_6a4255b2_a7c0_11eb_8868_ade5cf526beerow4_col13\" class=\"data row4 col13\" >0</td>\n",
       "                        <td id=\"T_6a4255b2_a7c0_11eb_8868_ade5cf526beerow4_col14\" class=\"data row4 col14\" >0</td>\n",
       "                        <td id=\"T_6a4255b2_a7c0_11eb_8868_ade5cf526beerow4_col15\" class=\"data row4 col15\" >0</td>\n",
       "                        <td id=\"T_6a4255b2_a7c0_11eb_8868_ade5cf526beerow4_col16\" class=\"data row4 col16\" >0</td>\n",
       "                        <td id=\"T_6a4255b2_a7c0_11eb_8868_ade5cf526beerow4_col17\" class=\"data row4 col17\" >0</td>\n",
       "                        <td id=\"T_6a4255b2_a7c0_11eb_8868_ade5cf526beerow4_col18\" class=\"data row4 col18\" >0</td>\n",
       "                        <td id=\"T_6a4255b2_a7c0_11eb_8868_ade5cf526beerow4_col19\" class=\"data row4 col19\" >0</td>\n",
       "            </tr>\n",
       "            <tr>\n",
       "                        <th id=\"T_6a4255b2_a7c0_11eb_8868_ade5cf526beelevel0_row5\" class=\"row_heading level0 row5\" >5</th>\n",
       "                        <td id=\"T_6a4255b2_a7c0_11eb_8868_ade5cf526beerow5_col0\" class=\"data row5 col0\" >0</td>\n",
       "                        <td id=\"T_6a4255b2_a7c0_11eb_8868_ade5cf526beerow5_col1\" class=\"data row5 col1\" >0</td>\n",
       "                        <td id=\"T_6a4255b2_a7c0_11eb_8868_ade5cf526beerow5_col2\" class=\"data row5 col2\" >0</td>\n",
       "                        <td id=\"T_6a4255b2_a7c0_11eb_8868_ade5cf526beerow5_col3\" class=\"data row5 col3\" >0</td>\n",
       "                        <td id=\"T_6a4255b2_a7c0_11eb_8868_ade5cf526beerow5_col4\" class=\"data row5 col4\" >0</td>\n",
       "                        <td id=\"T_6a4255b2_a7c0_11eb_8868_ade5cf526beerow5_col5\" class=\"data row5 col5\" >0</td>\n",
       "                        <td id=\"T_6a4255b2_a7c0_11eb_8868_ade5cf526beerow5_col6\" class=\"data row5 col6\" >0</td>\n",
       "                        <td id=\"T_6a4255b2_a7c0_11eb_8868_ade5cf526beerow5_col7\" class=\"data row5 col7\" >0</td>\n",
       "                        <td id=\"T_6a4255b2_a7c0_11eb_8868_ade5cf526beerow5_col8\" class=\"data row5 col8\" >0</td>\n",
       "                        <td id=\"T_6a4255b2_a7c0_11eb_8868_ade5cf526beerow5_col9\" class=\"data row5 col9\" >29</td>\n",
       "                        <td id=\"T_6a4255b2_a7c0_11eb_8868_ade5cf526beerow5_col10\" class=\"data row5 col10\" >150</td>\n",
       "                        <td id=\"T_6a4255b2_a7c0_11eb_8868_ade5cf526beerow5_col11\" class=\"data row5 col11\" >195</td>\n",
       "                        <td id=\"T_6a4255b2_a7c0_11eb_8868_ade5cf526beerow5_col12\" class=\"data row5 col12\" >254</td>\n",
       "                        <td id=\"T_6a4255b2_a7c0_11eb_8868_ade5cf526beerow5_col13\" class=\"data row5 col13\" >255</td>\n",
       "                        <td id=\"T_6a4255b2_a7c0_11eb_8868_ade5cf526beerow5_col14\" class=\"data row5 col14\" >254</td>\n",
       "                        <td id=\"T_6a4255b2_a7c0_11eb_8868_ade5cf526beerow5_col15\" class=\"data row5 col15\" >176</td>\n",
       "                        <td id=\"T_6a4255b2_a7c0_11eb_8868_ade5cf526beerow5_col16\" class=\"data row5 col16\" >193</td>\n",
       "                        <td id=\"T_6a4255b2_a7c0_11eb_8868_ade5cf526beerow5_col17\" class=\"data row5 col17\" >150</td>\n",
       "                        <td id=\"T_6a4255b2_a7c0_11eb_8868_ade5cf526beerow5_col18\" class=\"data row5 col18\" >96</td>\n",
       "                        <td id=\"T_6a4255b2_a7c0_11eb_8868_ade5cf526beerow5_col19\" class=\"data row5 col19\" >0</td>\n",
       "            </tr>\n",
       "            <tr>\n",
       "                        <th id=\"T_6a4255b2_a7c0_11eb_8868_ade5cf526beelevel0_row6\" class=\"row_heading level0 row6\" >6</th>\n",
       "                        <td id=\"T_6a4255b2_a7c0_11eb_8868_ade5cf526beerow6_col0\" class=\"data row6 col0\" >0</td>\n",
       "                        <td id=\"T_6a4255b2_a7c0_11eb_8868_ade5cf526beerow6_col1\" class=\"data row6 col1\" >0</td>\n",
       "                        <td id=\"T_6a4255b2_a7c0_11eb_8868_ade5cf526beerow6_col2\" class=\"data row6 col2\" >0</td>\n",
       "                        <td id=\"T_6a4255b2_a7c0_11eb_8868_ade5cf526beerow6_col3\" class=\"data row6 col3\" >0</td>\n",
       "                        <td id=\"T_6a4255b2_a7c0_11eb_8868_ade5cf526beerow6_col4\" class=\"data row6 col4\" >0</td>\n",
       "                        <td id=\"T_6a4255b2_a7c0_11eb_8868_ade5cf526beerow6_col5\" class=\"data row6 col5\" >0</td>\n",
       "                        <td id=\"T_6a4255b2_a7c0_11eb_8868_ade5cf526beerow6_col6\" class=\"data row6 col6\" >0</td>\n",
       "                        <td id=\"T_6a4255b2_a7c0_11eb_8868_ade5cf526beerow6_col7\" class=\"data row6 col7\" >48</td>\n",
       "                        <td id=\"T_6a4255b2_a7c0_11eb_8868_ade5cf526beerow6_col8\" class=\"data row6 col8\" >166</td>\n",
       "                        <td id=\"T_6a4255b2_a7c0_11eb_8868_ade5cf526beerow6_col9\" class=\"data row6 col9\" >224</td>\n",
       "                        <td id=\"T_6a4255b2_a7c0_11eb_8868_ade5cf526beerow6_col10\" class=\"data row6 col10\" >253</td>\n",
       "                        <td id=\"T_6a4255b2_a7c0_11eb_8868_ade5cf526beerow6_col11\" class=\"data row6 col11\" >253</td>\n",
       "                        <td id=\"T_6a4255b2_a7c0_11eb_8868_ade5cf526beerow6_col12\" class=\"data row6 col12\" >234</td>\n",
       "                        <td id=\"T_6a4255b2_a7c0_11eb_8868_ade5cf526beerow6_col13\" class=\"data row6 col13\" >196</td>\n",
       "                        <td id=\"T_6a4255b2_a7c0_11eb_8868_ade5cf526beerow6_col14\" class=\"data row6 col14\" >253</td>\n",
       "                        <td id=\"T_6a4255b2_a7c0_11eb_8868_ade5cf526beerow6_col15\" class=\"data row6 col15\" >253</td>\n",
       "                        <td id=\"T_6a4255b2_a7c0_11eb_8868_ade5cf526beerow6_col16\" class=\"data row6 col16\" >253</td>\n",
       "                        <td id=\"T_6a4255b2_a7c0_11eb_8868_ade5cf526beerow6_col17\" class=\"data row6 col17\" >253</td>\n",
       "                        <td id=\"T_6a4255b2_a7c0_11eb_8868_ade5cf526beerow6_col18\" class=\"data row6 col18\" >233</td>\n",
       "                        <td id=\"T_6a4255b2_a7c0_11eb_8868_ade5cf526beerow6_col19\" class=\"data row6 col19\" >0</td>\n",
       "            </tr>\n",
       "            <tr>\n",
       "                        <th id=\"T_6a4255b2_a7c0_11eb_8868_ade5cf526beelevel0_row7\" class=\"row_heading level0 row7\" >7</th>\n",
       "                        <td id=\"T_6a4255b2_a7c0_11eb_8868_ade5cf526beerow7_col0\" class=\"data row7 col0\" >0</td>\n",
       "                        <td id=\"T_6a4255b2_a7c0_11eb_8868_ade5cf526beerow7_col1\" class=\"data row7 col1\" >0</td>\n",
       "                        <td id=\"T_6a4255b2_a7c0_11eb_8868_ade5cf526beerow7_col2\" class=\"data row7 col2\" >0</td>\n",
       "                        <td id=\"T_6a4255b2_a7c0_11eb_8868_ade5cf526beerow7_col3\" class=\"data row7 col3\" >0</td>\n",
       "                        <td id=\"T_6a4255b2_a7c0_11eb_8868_ade5cf526beerow7_col4\" class=\"data row7 col4\" >0</td>\n",
       "                        <td id=\"T_6a4255b2_a7c0_11eb_8868_ade5cf526beerow7_col5\" class=\"data row7 col5\" >93</td>\n",
       "                        <td id=\"T_6a4255b2_a7c0_11eb_8868_ade5cf526beerow7_col6\" class=\"data row7 col6\" >244</td>\n",
       "                        <td id=\"T_6a4255b2_a7c0_11eb_8868_ade5cf526beerow7_col7\" class=\"data row7 col7\" >249</td>\n",
       "                        <td id=\"T_6a4255b2_a7c0_11eb_8868_ade5cf526beerow7_col8\" class=\"data row7 col8\" >253</td>\n",
       "                        <td id=\"T_6a4255b2_a7c0_11eb_8868_ade5cf526beerow7_col9\" class=\"data row7 col9\" >187</td>\n",
       "                        <td id=\"T_6a4255b2_a7c0_11eb_8868_ade5cf526beerow7_col10\" class=\"data row7 col10\" >46</td>\n",
       "                        <td id=\"T_6a4255b2_a7c0_11eb_8868_ade5cf526beerow7_col11\" class=\"data row7 col11\" >10</td>\n",
       "                        <td id=\"T_6a4255b2_a7c0_11eb_8868_ade5cf526beerow7_col12\" class=\"data row7 col12\" >8</td>\n",
       "                        <td id=\"T_6a4255b2_a7c0_11eb_8868_ade5cf526beerow7_col13\" class=\"data row7 col13\" >4</td>\n",
       "                        <td id=\"T_6a4255b2_a7c0_11eb_8868_ade5cf526beerow7_col14\" class=\"data row7 col14\" >10</td>\n",
       "                        <td id=\"T_6a4255b2_a7c0_11eb_8868_ade5cf526beerow7_col15\" class=\"data row7 col15\" >194</td>\n",
       "                        <td id=\"T_6a4255b2_a7c0_11eb_8868_ade5cf526beerow7_col16\" class=\"data row7 col16\" >253</td>\n",
       "                        <td id=\"T_6a4255b2_a7c0_11eb_8868_ade5cf526beerow7_col17\" class=\"data row7 col17\" >253</td>\n",
       "                        <td id=\"T_6a4255b2_a7c0_11eb_8868_ade5cf526beerow7_col18\" class=\"data row7 col18\" >233</td>\n",
       "                        <td id=\"T_6a4255b2_a7c0_11eb_8868_ade5cf526beerow7_col19\" class=\"data row7 col19\" >0</td>\n",
       "            </tr>\n",
       "            <tr>\n",
       "                        <th id=\"T_6a4255b2_a7c0_11eb_8868_ade5cf526beelevel0_row8\" class=\"row_heading level0 row8\" >8</th>\n",
       "                        <td id=\"T_6a4255b2_a7c0_11eb_8868_ade5cf526beerow8_col0\" class=\"data row8 col0\" >0</td>\n",
       "                        <td id=\"T_6a4255b2_a7c0_11eb_8868_ade5cf526beerow8_col1\" class=\"data row8 col1\" >0</td>\n",
       "                        <td id=\"T_6a4255b2_a7c0_11eb_8868_ade5cf526beerow8_col2\" class=\"data row8 col2\" >0</td>\n",
       "                        <td id=\"T_6a4255b2_a7c0_11eb_8868_ade5cf526beerow8_col3\" class=\"data row8 col3\" >0</td>\n",
       "                        <td id=\"T_6a4255b2_a7c0_11eb_8868_ade5cf526beerow8_col4\" class=\"data row8 col4\" >0</td>\n",
       "                        <td id=\"T_6a4255b2_a7c0_11eb_8868_ade5cf526beerow8_col5\" class=\"data row8 col5\" >107</td>\n",
       "                        <td id=\"T_6a4255b2_a7c0_11eb_8868_ade5cf526beerow8_col6\" class=\"data row8 col6\" >253</td>\n",
       "                        <td id=\"T_6a4255b2_a7c0_11eb_8868_ade5cf526beerow8_col7\" class=\"data row8 col7\" >253</td>\n",
       "                        <td id=\"T_6a4255b2_a7c0_11eb_8868_ade5cf526beerow8_col8\" class=\"data row8 col8\" >230</td>\n",
       "                        <td id=\"T_6a4255b2_a7c0_11eb_8868_ade5cf526beerow8_col9\" class=\"data row8 col9\" >48</td>\n",
       "                        <td id=\"T_6a4255b2_a7c0_11eb_8868_ade5cf526beerow8_col10\" class=\"data row8 col10\" >0</td>\n",
       "                        <td id=\"T_6a4255b2_a7c0_11eb_8868_ade5cf526beerow8_col11\" class=\"data row8 col11\" >0</td>\n",
       "                        <td id=\"T_6a4255b2_a7c0_11eb_8868_ade5cf526beerow8_col12\" class=\"data row8 col12\" >0</td>\n",
       "                        <td id=\"T_6a4255b2_a7c0_11eb_8868_ade5cf526beerow8_col13\" class=\"data row8 col13\" >0</td>\n",
       "                        <td id=\"T_6a4255b2_a7c0_11eb_8868_ade5cf526beerow8_col14\" class=\"data row8 col14\" >0</td>\n",
       "                        <td id=\"T_6a4255b2_a7c0_11eb_8868_ade5cf526beerow8_col15\" class=\"data row8 col15\" >192</td>\n",
       "                        <td id=\"T_6a4255b2_a7c0_11eb_8868_ade5cf526beerow8_col16\" class=\"data row8 col16\" >253</td>\n",
       "                        <td id=\"T_6a4255b2_a7c0_11eb_8868_ade5cf526beerow8_col17\" class=\"data row8 col17\" >253</td>\n",
       "                        <td id=\"T_6a4255b2_a7c0_11eb_8868_ade5cf526beerow8_col18\" class=\"data row8 col18\" >156</td>\n",
       "                        <td id=\"T_6a4255b2_a7c0_11eb_8868_ade5cf526beerow8_col19\" class=\"data row8 col19\" >0</td>\n",
       "            </tr>\n",
       "            <tr>\n",
       "                        <th id=\"T_6a4255b2_a7c0_11eb_8868_ade5cf526beelevel0_row9\" class=\"row_heading level0 row9\" >9</th>\n",
       "                        <td id=\"T_6a4255b2_a7c0_11eb_8868_ade5cf526beerow9_col0\" class=\"data row9 col0\" >0</td>\n",
       "                        <td id=\"T_6a4255b2_a7c0_11eb_8868_ade5cf526beerow9_col1\" class=\"data row9 col1\" >0</td>\n",
       "                        <td id=\"T_6a4255b2_a7c0_11eb_8868_ade5cf526beerow9_col2\" class=\"data row9 col2\" >0</td>\n",
       "                        <td id=\"T_6a4255b2_a7c0_11eb_8868_ade5cf526beerow9_col3\" class=\"data row9 col3\" >0</td>\n",
       "                        <td id=\"T_6a4255b2_a7c0_11eb_8868_ade5cf526beerow9_col4\" class=\"data row9 col4\" >0</td>\n",
       "                        <td id=\"T_6a4255b2_a7c0_11eb_8868_ade5cf526beerow9_col5\" class=\"data row9 col5\" >3</td>\n",
       "                        <td id=\"T_6a4255b2_a7c0_11eb_8868_ade5cf526beerow9_col6\" class=\"data row9 col6\" >20</td>\n",
       "                        <td id=\"T_6a4255b2_a7c0_11eb_8868_ade5cf526beerow9_col7\" class=\"data row9 col7\" >20</td>\n",
       "                        <td id=\"T_6a4255b2_a7c0_11eb_8868_ade5cf526beerow9_col8\" class=\"data row9 col8\" >15</td>\n",
       "                        <td id=\"T_6a4255b2_a7c0_11eb_8868_ade5cf526beerow9_col9\" class=\"data row9 col9\" >0</td>\n",
       "                        <td id=\"T_6a4255b2_a7c0_11eb_8868_ade5cf526beerow9_col10\" class=\"data row9 col10\" >0</td>\n",
       "                        <td id=\"T_6a4255b2_a7c0_11eb_8868_ade5cf526beerow9_col11\" class=\"data row9 col11\" >0</td>\n",
       "                        <td id=\"T_6a4255b2_a7c0_11eb_8868_ade5cf526beerow9_col12\" class=\"data row9 col12\" >0</td>\n",
       "                        <td id=\"T_6a4255b2_a7c0_11eb_8868_ade5cf526beerow9_col13\" class=\"data row9 col13\" >0</td>\n",
       "                        <td id=\"T_6a4255b2_a7c0_11eb_8868_ade5cf526beerow9_col14\" class=\"data row9 col14\" >43</td>\n",
       "                        <td id=\"T_6a4255b2_a7c0_11eb_8868_ade5cf526beerow9_col15\" class=\"data row9 col15\" >224</td>\n",
       "                        <td id=\"T_6a4255b2_a7c0_11eb_8868_ade5cf526beerow9_col16\" class=\"data row9 col16\" >253</td>\n",
       "                        <td id=\"T_6a4255b2_a7c0_11eb_8868_ade5cf526beerow9_col17\" class=\"data row9 col17\" >245</td>\n",
       "                        <td id=\"T_6a4255b2_a7c0_11eb_8868_ade5cf526beerow9_col18\" class=\"data row9 col18\" >74</td>\n",
       "                        <td id=\"T_6a4255b2_a7c0_11eb_8868_ade5cf526beerow9_col19\" class=\"data row9 col19\" >0</td>\n",
       "            </tr>\n",
       "            <tr>\n",
       "                        <th id=\"T_6a4255b2_a7c0_11eb_8868_ade5cf526beelevel0_row10\" class=\"row_heading level0 row10\" >10</th>\n",
       "                        <td id=\"T_6a4255b2_a7c0_11eb_8868_ade5cf526beerow10_col0\" class=\"data row10 col0\" >0</td>\n",
       "                        <td id=\"T_6a4255b2_a7c0_11eb_8868_ade5cf526beerow10_col1\" class=\"data row10 col1\" >0</td>\n",
       "                        <td id=\"T_6a4255b2_a7c0_11eb_8868_ade5cf526beerow10_col2\" class=\"data row10 col2\" >0</td>\n",
       "                        <td id=\"T_6a4255b2_a7c0_11eb_8868_ade5cf526beerow10_col3\" class=\"data row10 col3\" >0</td>\n",
       "                        <td id=\"T_6a4255b2_a7c0_11eb_8868_ade5cf526beerow10_col4\" class=\"data row10 col4\" >0</td>\n",
       "                        <td id=\"T_6a4255b2_a7c0_11eb_8868_ade5cf526beerow10_col5\" class=\"data row10 col5\" >0</td>\n",
       "                        <td id=\"T_6a4255b2_a7c0_11eb_8868_ade5cf526beerow10_col6\" class=\"data row10 col6\" >0</td>\n",
       "                        <td id=\"T_6a4255b2_a7c0_11eb_8868_ade5cf526beerow10_col7\" class=\"data row10 col7\" >0</td>\n",
       "                        <td id=\"T_6a4255b2_a7c0_11eb_8868_ade5cf526beerow10_col8\" class=\"data row10 col8\" >0</td>\n",
       "                        <td id=\"T_6a4255b2_a7c0_11eb_8868_ade5cf526beerow10_col9\" class=\"data row10 col9\" >0</td>\n",
       "                        <td id=\"T_6a4255b2_a7c0_11eb_8868_ade5cf526beerow10_col10\" class=\"data row10 col10\" >0</td>\n",
       "                        <td id=\"T_6a4255b2_a7c0_11eb_8868_ade5cf526beerow10_col11\" class=\"data row10 col11\" >0</td>\n",
       "                        <td id=\"T_6a4255b2_a7c0_11eb_8868_ade5cf526beerow10_col12\" class=\"data row10 col12\" >0</td>\n",
       "                        <td id=\"T_6a4255b2_a7c0_11eb_8868_ade5cf526beerow10_col13\" class=\"data row10 col13\" >0</td>\n",
       "                        <td id=\"T_6a4255b2_a7c0_11eb_8868_ade5cf526beerow10_col14\" class=\"data row10 col14\" >249</td>\n",
       "                        <td id=\"T_6a4255b2_a7c0_11eb_8868_ade5cf526beerow10_col15\" class=\"data row10 col15\" >253</td>\n",
       "                        <td id=\"T_6a4255b2_a7c0_11eb_8868_ade5cf526beerow10_col16\" class=\"data row10 col16\" >245</td>\n",
       "                        <td id=\"T_6a4255b2_a7c0_11eb_8868_ade5cf526beerow10_col17\" class=\"data row10 col17\" >126</td>\n",
       "                        <td id=\"T_6a4255b2_a7c0_11eb_8868_ade5cf526beerow10_col18\" class=\"data row10 col18\" >0</td>\n",
       "                        <td id=\"T_6a4255b2_a7c0_11eb_8868_ade5cf526beerow10_col19\" class=\"data row10 col19\" >0</td>\n",
       "            </tr>\n",
       "            <tr>\n",
       "                        <th id=\"T_6a4255b2_a7c0_11eb_8868_ade5cf526beelevel0_row11\" class=\"row_heading level0 row11\" >11</th>\n",
       "                        <td id=\"T_6a4255b2_a7c0_11eb_8868_ade5cf526beerow11_col0\" class=\"data row11 col0\" >0</td>\n",
       "                        <td id=\"T_6a4255b2_a7c0_11eb_8868_ade5cf526beerow11_col1\" class=\"data row11 col1\" >0</td>\n",
       "                        <td id=\"T_6a4255b2_a7c0_11eb_8868_ade5cf526beerow11_col2\" class=\"data row11 col2\" >0</td>\n",
       "                        <td id=\"T_6a4255b2_a7c0_11eb_8868_ade5cf526beerow11_col3\" class=\"data row11 col3\" >0</td>\n",
       "                        <td id=\"T_6a4255b2_a7c0_11eb_8868_ade5cf526beerow11_col4\" class=\"data row11 col4\" >0</td>\n",
       "                        <td id=\"T_6a4255b2_a7c0_11eb_8868_ade5cf526beerow11_col5\" class=\"data row11 col5\" >0</td>\n",
       "                        <td id=\"T_6a4255b2_a7c0_11eb_8868_ade5cf526beerow11_col6\" class=\"data row11 col6\" >0</td>\n",
       "                        <td id=\"T_6a4255b2_a7c0_11eb_8868_ade5cf526beerow11_col7\" class=\"data row11 col7\" >0</td>\n",
       "                        <td id=\"T_6a4255b2_a7c0_11eb_8868_ade5cf526beerow11_col8\" class=\"data row11 col8\" >0</td>\n",
       "                        <td id=\"T_6a4255b2_a7c0_11eb_8868_ade5cf526beerow11_col9\" class=\"data row11 col9\" >0</td>\n",
       "                        <td id=\"T_6a4255b2_a7c0_11eb_8868_ade5cf526beerow11_col10\" class=\"data row11 col10\" >0</td>\n",
       "                        <td id=\"T_6a4255b2_a7c0_11eb_8868_ade5cf526beerow11_col11\" class=\"data row11 col11\" >14</td>\n",
       "                        <td id=\"T_6a4255b2_a7c0_11eb_8868_ade5cf526beerow11_col12\" class=\"data row11 col12\" >101</td>\n",
       "                        <td id=\"T_6a4255b2_a7c0_11eb_8868_ade5cf526beerow11_col13\" class=\"data row11 col13\" >223</td>\n",
       "                        <td id=\"T_6a4255b2_a7c0_11eb_8868_ade5cf526beerow11_col14\" class=\"data row11 col14\" >253</td>\n",
       "                        <td id=\"T_6a4255b2_a7c0_11eb_8868_ade5cf526beerow11_col15\" class=\"data row11 col15\" >248</td>\n",
       "                        <td id=\"T_6a4255b2_a7c0_11eb_8868_ade5cf526beerow11_col16\" class=\"data row11 col16\" >124</td>\n",
       "                        <td id=\"T_6a4255b2_a7c0_11eb_8868_ade5cf526beerow11_col17\" class=\"data row11 col17\" >0</td>\n",
       "                        <td id=\"T_6a4255b2_a7c0_11eb_8868_ade5cf526beerow11_col18\" class=\"data row11 col18\" >0</td>\n",
       "                        <td id=\"T_6a4255b2_a7c0_11eb_8868_ade5cf526beerow11_col19\" class=\"data row11 col19\" >0</td>\n",
       "            </tr>\n",
       "            <tr>\n",
       "                        <th id=\"T_6a4255b2_a7c0_11eb_8868_ade5cf526beelevel0_row12\" class=\"row_heading level0 row12\" >12</th>\n",
       "                        <td id=\"T_6a4255b2_a7c0_11eb_8868_ade5cf526beerow12_col0\" class=\"data row12 col0\" >0</td>\n",
       "                        <td id=\"T_6a4255b2_a7c0_11eb_8868_ade5cf526beerow12_col1\" class=\"data row12 col1\" >0</td>\n",
       "                        <td id=\"T_6a4255b2_a7c0_11eb_8868_ade5cf526beerow12_col2\" class=\"data row12 col2\" >0</td>\n",
       "                        <td id=\"T_6a4255b2_a7c0_11eb_8868_ade5cf526beerow12_col3\" class=\"data row12 col3\" >0</td>\n",
       "                        <td id=\"T_6a4255b2_a7c0_11eb_8868_ade5cf526beerow12_col4\" class=\"data row12 col4\" >0</td>\n",
       "                        <td id=\"T_6a4255b2_a7c0_11eb_8868_ade5cf526beerow12_col5\" class=\"data row12 col5\" >0</td>\n",
       "                        <td id=\"T_6a4255b2_a7c0_11eb_8868_ade5cf526beerow12_col6\" class=\"data row12 col6\" >0</td>\n",
       "                        <td id=\"T_6a4255b2_a7c0_11eb_8868_ade5cf526beerow12_col7\" class=\"data row12 col7\" >0</td>\n",
       "                        <td id=\"T_6a4255b2_a7c0_11eb_8868_ade5cf526beerow12_col8\" class=\"data row12 col8\" >0</td>\n",
       "                        <td id=\"T_6a4255b2_a7c0_11eb_8868_ade5cf526beerow12_col9\" class=\"data row12 col9\" >11</td>\n",
       "                        <td id=\"T_6a4255b2_a7c0_11eb_8868_ade5cf526beerow12_col10\" class=\"data row12 col10\" >166</td>\n",
       "                        <td id=\"T_6a4255b2_a7c0_11eb_8868_ade5cf526beerow12_col11\" class=\"data row12 col11\" >239</td>\n",
       "                        <td id=\"T_6a4255b2_a7c0_11eb_8868_ade5cf526beerow12_col12\" class=\"data row12 col12\" >253</td>\n",
       "                        <td id=\"T_6a4255b2_a7c0_11eb_8868_ade5cf526beerow12_col13\" class=\"data row12 col13\" >253</td>\n",
       "                        <td id=\"T_6a4255b2_a7c0_11eb_8868_ade5cf526beerow12_col14\" class=\"data row12 col14\" >253</td>\n",
       "                        <td id=\"T_6a4255b2_a7c0_11eb_8868_ade5cf526beerow12_col15\" class=\"data row12 col15\" >187</td>\n",
       "                        <td id=\"T_6a4255b2_a7c0_11eb_8868_ade5cf526beerow12_col16\" class=\"data row12 col16\" >30</td>\n",
       "                        <td id=\"T_6a4255b2_a7c0_11eb_8868_ade5cf526beerow12_col17\" class=\"data row12 col17\" >0</td>\n",
       "                        <td id=\"T_6a4255b2_a7c0_11eb_8868_ade5cf526beerow12_col18\" class=\"data row12 col18\" >0</td>\n",
       "                        <td id=\"T_6a4255b2_a7c0_11eb_8868_ade5cf526beerow12_col19\" class=\"data row12 col19\" >0</td>\n",
       "            </tr>\n",
       "            <tr>\n",
       "                        <th id=\"T_6a4255b2_a7c0_11eb_8868_ade5cf526beelevel0_row13\" class=\"row_heading level0 row13\" >13</th>\n",
       "                        <td id=\"T_6a4255b2_a7c0_11eb_8868_ade5cf526beerow13_col0\" class=\"data row13 col0\" >0</td>\n",
       "                        <td id=\"T_6a4255b2_a7c0_11eb_8868_ade5cf526beerow13_col1\" class=\"data row13 col1\" >0</td>\n",
       "                        <td id=\"T_6a4255b2_a7c0_11eb_8868_ade5cf526beerow13_col2\" class=\"data row13 col2\" >0</td>\n",
       "                        <td id=\"T_6a4255b2_a7c0_11eb_8868_ade5cf526beerow13_col3\" class=\"data row13 col3\" >0</td>\n",
       "                        <td id=\"T_6a4255b2_a7c0_11eb_8868_ade5cf526beerow13_col4\" class=\"data row13 col4\" >0</td>\n",
       "                        <td id=\"T_6a4255b2_a7c0_11eb_8868_ade5cf526beerow13_col5\" class=\"data row13 col5\" >0</td>\n",
       "                        <td id=\"T_6a4255b2_a7c0_11eb_8868_ade5cf526beerow13_col6\" class=\"data row13 col6\" >0</td>\n",
       "                        <td id=\"T_6a4255b2_a7c0_11eb_8868_ade5cf526beerow13_col7\" class=\"data row13 col7\" >0</td>\n",
       "                        <td id=\"T_6a4255b2_a7c0_11eb_8868_ade5cf526beerow13_col8\" class=\"data row13 col8\" >0</td>\n",
       "                        <td id=\"T_6a4255b2_a7c0_11eb_8868_ade5cf526beerow13_col9\" class=\"data row13 col9\" >16</td>\n",
       "                        <td id=\"T_6a4255b2_a7c0_11eb_8868_ade5cf526beerow13_col10\" class=\"data row13 col10\" >248</td>\n",
       "                        <td id=\"T_6a4255b2_a7c0_11eb_8868_ade5cf526beerow13_col11\" class=\"data row13 col11\" >250</td>\n",
       "                        <td id=\"T_6a4255b2_a7c0_11eb_8868_ade5cf526beerow13_col12\" class=\"data row13 col12\" >253</td>\n",
       "                        <td id=\"T_6a4255b2_a7c0_11eb_8868_ade5cf526beerow13_col13\" class=\"data row13 col13\" >253</td>\n",
       "                        <td id=\"T_6a4255b2_a7c0_11eb_8868_ade5cf526beerow13_col14\" class=\"data row13 col14\" >253</td>\n",
       "                        <td id=\"T_6a4255b2_a7c0_11eb_8868_ade5cf526beerow13_col15\" class=\"data row13 col15\" >253</td>\n",
       "                        <td id=\"T_6a4255b2_a7c0_11eb_8868_ade5cf526beerow13_col16\" class=\"data row13 col16\" >232</td>\n",
       "                        <td id=\"T_6a4255b2_a7c0_11eb_8868_ade5cf526beerow13_col17\" class=\"data row13 col17\" >213</td>\n",
       "                        <td id=\"T_6a4255b2_a7c0_11eb_8868_ade5cf526beerow13_col18\" class=\"data row13 col18\" >111</td>\n",
       "                        <td id=\"T_6a4255b2_a7c0_11eb_8868_ade5cf526beerow13_col19\" class=\"data row13 col19\" >2</td>\n",
       "            </tr>\n",
       "            <tr>\n",
       "                        <th id=\"T_6a4255b2_a7c0_11eb_8868_ade5cf526beelevel0_row14\" class=\"row_heading level0 row14\" >14</th>\n",
       "                        <td id=\"T_6a4255b2_a7c0_11eb_8868_ade5cf526beerow14_col0\" class=\"data row14 col0\" >0</td>\n",
       "                        <td id=\"T_6a4255b2_a7c0_11eb_8868_ade5cf526beerow14_col1\" class=\"data row14 col1\" >0</td>\n",
       "                        <td id=\"T_6a4255b2_a7c0_11eb_8868_ade5cf526beerow14_col2\" class=\"data row14 col2\" >0</td>\n",
       "                        <td id=\"T_6a4255b2_a7c0_11eb_8868_ade5cf526beerow14_col3\" class=\"data row14 col3\" >0</td>\n",
       "                        <td id=\"T_6a4255b2_a7c0_11eb_8868_ade5cf526beerow14_col4\" class=\"data row14 col4\" >0</td>\n",
       "                        <td id=\"T_6a4255b2_a7c0_11eb_8868_ade5cf526beerow14_col5\" class=\"data row14 col5\" >0</td>\n",
       "                        <td id=\"T_6a4255b2_a7c0_11eb_8868_ade5cf526beerow14_col6\" class=\"data row14 col6\" >0</td>\n",
       "                        <td id=\"T_6a4255b2_a7c0_11eb_8868_ade5cf526beerow14_col7\" class=\"data row14 col7\" >0</td>\n",
       "                        <td id=\"T_6a4255b2_a7c0_11eb_8868_ade5cf526beerow14_col8\" class=\"data row14 col8\" >0</td>\n",
       "                        <td id=\"T_6a4255b2_a7c0_11eb_8868_ade5cf526beerow14_col9\" class=\"data row14 col9\" >0</td>\n",
       "                        <td id=\"T_6a4255b2_a7c0_11eb_8868_ade5cf526beerow14_col10\" class=\"data row14 col10\" >0</td>\n",
       "                        <td id=\"T_6a4255b2_a7c0_11eb_8868_ade5cf526beerow14_col11\" class=\"data row14 col11\" >43</td>\n",
       "                        <td id=\"T_6a4255b2_a7c0_11eb_8868_ade5cf526beerow14_col12\" class=\"data row14 col12\" >98</td>\n",
       "                        <td id=\"T_6a4255b2_a7c0_11eb_8868_ade5cf526beerow14_col13\" class=\"data row14 col13\" >98</td>\n",
       "                        <td id=\"T_6a4255b2_a7c0_11eb_8868_ade5cf526beerow14_col14\" class=\"data row14 col14\" >208</td>\n",
       "                        <td id=\"T_6a4255b2_a7c0_11eb_8868_ade5cf526beerow14_col15\" class=\"data row14 col15\" >253</td>\n",
       "                        <td id=\"T_6a4255b2_a7c0_11eb_8868_ade5cf526beerow14_col16\" class=\"data row14 col16\" >253</td>\n",
       "                        <td id=\"T_6a4255b2_a7c0_11eb_8868_ade5cf526beerow14_col17\" class=\"data row14 col17\" >253</td>\n",
       "                        <td id=\"T_6a4255b2_a7c0_11eb_8868_ade5cf526beerow14_col18\" class=\"data row14 col18\" >253</td>\n",
       "                        <td id=\"T_6a4255b2_a7c0_11eb_8868_ade5cf526beerow14_col19\" class=\"data row14 col19\" >187</td>\n",
       "            </tr>\n",
       "            <tr>\n",
       "                        <th id=\"T_6a4255b2_a7c0_11eb_8868_ade5cf526beelevel0_row15\" class=\"row_heading level0 row15\" >15</th>\n",
       "                        <td id=\"T_6a4255b2_a7c0_11eb_8868_ade5cf526beerow15_col0\" class=\"data row15 col0\" >0</td>\n",
       "                        <td id=\"T_6a4255b2_a7c0_11eb_8868_ade5cf526beerow15_col1\" class=\"data row15 col1\" >0</td>\n",
       "                        <td id=\"T_6a4255b2_a7c0_11eb_8868_ade5cf526beerow15_col2\" class=\"data row15 col2\" >0</td>\n",
       "                        <td id=\"T_6a4255b2_a7c0_11eb_8868_ade5cf526beerow15_col3\" class=\"data row15 col3\" >0</td>\n",
       "                        <td id=\"T_6a4255b2_a7c0_11eb_8868_ade5cf526beerow15_col4\" class=\"data row15 col4\" >0</td>\n",
       "                        <td id=\"T_6a4255b2_a7c0_11eb_8868_ade5cf526beerow15_col5\" class=\"data row15 col5\" >0</td>\n",
       "                        <td id=\"T_6a4255b2_a7c0_11eb_8868_ade5cf526beerow15_col6\" class=\"data row15 col6\" >0</td>\n",
       "                        <td id=\"T_6a4255b2_a7c0_11eb_8868_ade5cf526beerow15_col7\" class=\"data row15 col7\" >0</td>\n",
       "                        <td id=\"T_6a4255b2_a7c0_11eb_8868_ade5cf526beerow15_col8\" class=\"data row15 col8\" >0</td>\n",
       "                        <td id=\"T_6a4255b2_a7c0_11eb_8868_ade5cf526beerow15_col9\" class=\"data row15 col9\" >0</td>\n",
       "                        <td id=\"T_6a4255b2_a7c0_11eb_8868_ade5cf526beerow15_col10\" class=\"data row15 col10\" >0</td>\n",
       "                        <td id=\"T_6a4255b2_a7c0_11eb_8868_ade5cf526beerow15_col11\" class=\"data row15 col11\" >0</td>\n",
       "                        <td id=\"T_6a4255b2_a7c0_11eb_8868_ade5cf526beerow15_col12\" class=\"data row15 col12\" >0</td>\n",
       "                        <td id=\"T_6a4255b2_a7c0_11eb_8868_ade5cf526beerow15_col13\" class=\"data row15 col13\" >0</td>\n",
       "                        <td id=\"T_6a4255b2_a7c0_11eb_8868_ade5cf526beerow15_col14\" class=\"data row15 col14\" >9</td>\n",
       "                        <td id=\"T_6a4255b2_a7c0_11eb_8868_ade5cf526beerow15_col15\" class=\"data row15 col15\" >51</td>\n",
       "                        <td id=\"T_6a4255b2_a7c0_11eb_8868_ade5cf526beerow15_col16\" class=\"data row15 col16\" >119</td>\n",
       "                        <td id=\"T_6a4255b2_a7c0_11eb_8868_ade5cf526beerow15_col17\" class=\"data row15 col17\" >253</td>\n",
       "                        <td id=\"T_6a4255b2_a7c0_11eb_8868_ade5cf526beerow15_col18\" class=\"data row15 col18\" >253</td>\n",
       "                        <td id=\"T_6a4255b2_a7c0_11eb_8868_ade5cf526beerow15_col19\" class=\"data row15 col19\" >253</td>\n",
       "            </tr>\n",
       "            <tr>\n",
       "                        <th id=\"T_6a4255b2_a7c0_11eb_8868_ade5cf526beelevel0_row16\" class=\"row_heading level0 row16\" >16</th>\n",
       "                        <td id=\"T_6a4255b2_a7c0_11eb_8868_ade5cf526beerow16_col0\" class=\"data row16 col0\" >0</td>\n",
       "                        <td id=\"T_6a4255b2_a7c0_11eb_8868_ade5cf526beerow16_col1\" class=\"data row16 col1\" >0</td>\n",
       "                        <td id=\"T_6a4255b2_a7c0_11eb_8868_ade5cf526beerow16_col2\" class=\"data row16 col2\" >0</td>\n",
       "                        <td id=\"T_6a4255b2_a7c0_11eb_8868_ade5cf526beerow16_col3\" class=\"data row16 col3\" >0</td>\n",
       "                        <td id=\"T_6a4255b2_a7c0_11eb_8868_ade5cf526beerow16_col4\" class=\"data row16 col4\" >0</td>\n",
       "                        <td id=\"T_6a4255b2_a7c0_11eb_8868_ade5cf526beerow16_col5\" class=\"data row16 col5\" >0</td>\n",
       "                        <td id=\"T_6a4255b2_a7c0_11eb_8868_ade5cf526beerow16_col6\" class=\"data row16 col6\" >0</td>\n",
       "                        <td id=\"T_6a4255b2_a7c0_11eb_8868_ade5cf526beerow16_col7\" class=\"data row16 col7\" >0</td>\n",
       "                        <td id=\"T_6a4255b2_a7c0_11eb_8868_ade5cf526beerow16_col8\" class=\"data row16 col8\" >0</td>\n",
       "                        <td id=\"T_6a4255b2_a7c0_11eb_8868_ade5cf526beerow16_col9\" class=\"data row16 col9\" >0</td>\n",
       "                        <td id=\"T_6a4255b2_a7c0_11eb_8868_ade5cf526beerow16_col10\" class=\"data row16 col10\" >0</td>\n",
       "                        <td id=\"T_6a4255b2_a7c0_11eb_8868_ade5cf526beerow16_col11\" class=\"data row16 col11\" >0</td>\n",
       "                        <td id=\"T_6a4255b2_a7c0_11eb_8868_ade5cf526beerow16_col12\" class=\"data row16 col12\" >0</td>\n",
       "                        <td id=\"T_6a4255b2_a7c0_11eb_8868_ade5cf526beerow16_col13\" class=\"data row16 col13\" >0</td>\n",
       "                        <td id=\"T_6a4255b2_a7c0_11eb_8868_ade5cf526beerow16_col14\" class=\"data row16 col14\" >0</td>\n",
       "                        <td id=\"T_6a4255b2_a7c0_11eb_8868_ade5cf526beerow16_col15\" class=\"data row16 col15\" >0</td>\n",
       "                        <td id=\"T_6a4255b2_a7c0_11eb_8868_ade5cf526beerow16_col16\" class=\"data row16 col16\" >1</td>\n",
       "                        <td id=\"T_6a4255b2_a7c0_11eb_8868_ade5cf526beerow16_col17\" class=\"data row16 col17\" >183</td>\n",
       "                        <td id=\"T_6a4255b2_a7c0_11eb_8868_ade5cf526beerow16_col18\" class=\"data row16 col18\" >253</td>\n",
       "                        <td id=\"T_6a4255b2_a7c0_11eb_8868_ade5cf526beerow16_col19\" class=\"data row16 col19\" >253</td>\n",
       "            </tr>\n",
       "            <tr>\n",
       "                        <th id=\"T_6a4255b2_a7c0_11eb_8868_ade5cf526beelevel0_row17\" class=\"row_heading level0 row17\" >17</th>\n",
       "                        <td id=\"T_6a4255b2_a7c0_11eb_8868_ade5cf526beerow17_col0\" class=\"data row17 col0\" >0</td>\n",
       "                        <td id=\"T_6a4255b2_a7c0_11eb_8868_ade5cf526beerow17_col1\" class=\"data row17 col1\" >0</td>\n",
       "                        <td id=\"T_6a4255b2_a7c0_11eb_8868_ade5cf526beerow17_col2\" class=\"data row17 col2\" >0</td>\n",
       "                        <td id=\"T_6a4255b2_a7c0_11eb_8868_ade5cf526beerow17_col3\" class=\"data row17 col3\" >0</td>\n",
       "                        <td id=\"T_6a4255b2_a7c0_11eb_8868_ade5cf526beerow17_col4\" class=\"data row17 col4\" >0</td>\n",
       "                        <td id=\"T_6a4255b2_a7c0_11eb_8868_ade5cf526beerow17_col5\" class=\"data row17 col5\" >0</td>\n",
       "                        <td id=\"T_6a4255b2_a7c0_11eb_8868_ade5cf526beerow17_col6\" class=\"data row17 col6\" >0</td>\n",
       "                        <td id=\"T_6a4255b2_a7c0_11eb_8868_ade5cf526beerow17_col7\" class=\"data row17 col7\" >0</td>\n",
       "                        <td id=\"T_6a4255b2_a7c0_11eb_8868_ade5cf526beerow17_col8\" class=\"data row17 col8\" >0</td>\n",
       "                        <td id=\"T_6a4255b2_a7c0_11eb_8868_ade5cf526beerow17_col9\" class=\"data row17 col9\" >0</td>\n",
       "                        <td id=\"T_6a4255b2_a7c0_11eb_8868_ade5cf526beerow17_col10\" class=\"data row17 col10\" >0</td>\n",
       "                        <td id=\"T_6a4255b2_a7c0_11eb_8868_ade5cf526beerow17_col11\" class=\"data row17 col11\" >0</td>\n",
       "                        <td id=\"T_6a4255b2_a7c0_11eb_8868_ade5cf526beerow17_col12\" class=\"data row17 col12\" >0</td>\n",
       "                        <td id=\"T_6a4255b2_a7c0_11eb_8868_ade5cf526beerow17_col13\" class=\"data row17 col13\" >0</td>\n",
       "                        <td id=\"T_6a4255b2_a7c0_11eb_8868_ade5cf526beerow17_col14\" class=\"data row17 col14\" >0</td>\n",
       "                        <td id=\"T_6a4255b2_a7c0_11eb_8868_ade5cf526beerow17_col15\" class=\"data row17 col15\" >0</td>\n",
       "                        <td id=\"T_6a4255b2_a7c0_11eb_8868_ade5cf526beerow17_col16\" class=\"data row17 col16\" >0</td>\n",
       "                        <td id=\"T_6a4255b2_a7c0_11eb_8868_ade5cf526beerow17_col17\" class=\"data row17 col17\" >182</td>\n",
       "                        <td id=\"T_6a4255b2_a7c0_11eb_8868_ade5cf526beerow17_col18\" class=\"data row17 col18\" >253</td>\n",
       "                        <td id=\"T_6a4255b2_a7c0_11eb_8868_ade5cf526beerow17_col19\" class=\"data row17 col19\" >253</td>\n",
       "            </tr>\n",
       "            <tr>\n",
       "                        <th id=\"T_6a4255b2_a7c0_11eb_8868_ade5cf526beelevel0_row18\" class=\"row_heading level0 row18\" >18</th>\n",
       "                        <td id=\"T_6a4255b2_a7c0_11eb_8868_ade5cf526beerow18_col0\" class=\"data row18 col0\" >0</td>\n",
       "                        <td id=\"T_6a4255b2_a7c0_11eb_8868_ade5cf526beerow18_col1\" class=\"data row18 col1\" >0</td>\n",
       "                        <td id=\"T_6a4255b2_a7c0_11eb_8868_ade5cf526beerow18_col2\" class=\"data row18 col2\" >0</td>\n",
       "                        <td id=\"T_6a4255b2_a7c0_11eb_8868_ade5cf526beerow18_col3\" class=\"data row18 col3\" >0</td>\n",
       "                        <td id=\"T_6a4255b2_a7c0_11eb_8868_ade5cf526beerow18_col4\" class=\"data row18 col4\" >0</td>\n",
       "                        <td id=\"T_6a4255b2_a7c0_11eb_8868_ade5cf526beerow18_col5\" class=\"data row18 col5\" >0</td>\n",
       "                        <td id=\"T_6a4255b2_a7c0_11eb_8868_ade5cf526beerow18_col6\" class=\"data row18 col6\" >0</td>\n",
       "                        <td id=\"T_6a4255b2_a7c0_11eb_8868_ade5cf526beerow18_col7\" class=\"data row18 col7\" >0</td>\n",
       "                        <td id=\"T_6a4255b2_a7c0_11eb_8868_ade5cf526beerow18_col8\" class=\"data row18 col8\" >0</td>\n",
       "                        <td id=\"T_6a4255b2_a7c0_11eb_8868_ade5cf526beerow18_col9\" class=\"data row18 col9\" >0</td>\n",
       "                        <td id=\"T_6a4255b2_a7c0_11eb_8868_ade5cf526beerow18_col10\" class=\"data row18 col10\" >0</td>\n",
       "                        <td id=\"T_6a4255b2_a7c0_11eb_8868_ade5cf526beerow18_col11\" class=\"data row18 col11\" >0</td>\n",
       "                        <td id=\"T_6a4255b2_a7c0_11eb_8868_ade5cf526beerow18_col12\" class=\"data row18 col12\" >0</td>\n",
       "                        <td id=\"T_6a4255b2_a7c0_11eb_8868_ade5cf526beerow18_col13\" class=\"data row18 col13\" >0</td>\n",
       "                        <td id=\"T_6a4255b2_a7c0_11eb_8868_ade5cf526beerow18_col14\" class=\"data row18 col14\" >0</td>\n",
       "                        <td id=\"T_6a4255b2_a7c0_11eb_8868_ade5cf526beerow18_col15\" class=\"data row18 col15\" >0</td>\n",
       "                        <td id=\"T_6a4255b2_a7c0_11eb_8868_ade5cf526beerow18_col16\" class=\"data row18 col16\" >85</td>\n",
       "                        <td id=\"T_6a4255b2_a7c0_11eb_8868_ade5cf526beerow18_col17\" class=\"data row18 col17\" >249</td>\n",
       "                        <td id=\"T_6a4255b2_a7c0_11eb_8868_ade5cf526beerow18_col18\" class=\"data row18 col18\" >253</td>\n",
       "                        <td id=\"T_6a4255b2_a7c0_11eb_8868_ade5cf526beerow18_col19\" class=\"data row18 col19\" >253</td>\n",
       "            </tr>\n",
       "            <tr>\n",
       "                        <th id=\"T_6a4255b2_a7c0_11eb_8868_ade5cf526beelevel0_row19\" class=\"row_heading level0 row19\" >19</th>\n",
       "                        <td id=\"T_6a4255b2_a7c0_11eb_8868_ade5cf526beerow19_col0\" class=\"data row19 col0\" >0</td>\n",
       "                        <td id=\"T_6a4255b2_a7c0_11eb_8868_ade5cf526beerow19_col1\" class=\"data row19 col1\" >0</td>\n",
       "                        <td id=\"T_6a4255b2_a7c0_11eb_8868_ade5cf526beerow19_col2\" class=\"data row19 col2\" >0</td>\n",
       "                        <td id=\"T_6a4255b2_a7c0_11eb_8868_ade5cf526beerow19_col3\" class=\"data row19 col3\" >0</td>\n",
       "                        <td id=\"T_6a4255b2_a7c0_11eb_8868_ade5cf526beerow19_col4\" class=\"data row19 col4\" >0</td>\n",
       "                        <td id=\"T_6a4255b2_a7c0_11eb_8868_ade5cf526beerow19_col5\" class=\"data row19 col5\" >0</td>\n",
       "                        <td id=\"T_6a4255b2_a7c0_11eb_8868_ade5cf526beerow19_col6\" class=\"data row19 col6\" >0</td>\n",
       "                        <td id=\"T_6a4255b2_a7c0_11eb_8868_ade5cf526beerow19_col7\" class=\"data row19 col7\" >0</td>\n",
       "                        <td id=\"T_6a4255b2_a7c0_11eb_8868_ade5cf526beerow19_col8\" class=\"data row19 col8\" >0</td>\n",
       "                        <td id=\"T_6a4255b2_a7c0_11eb_8868_ade5cf526beerow19_col9\" class=\"data row19 col9\" >0</td>\n",
       "                        <td id=\"T_6a4255b2_a7c0_11eb_8868_ade5cf526beerow19_col10\" class=\"data row19 col10\" >0</td>\n",
       "                        <td id=\"T_6a4255b2_a7c0_11eb_8868_ade5cf526beerow19_col11\" class=\"data row19 col11\" >0</td>\n",
       "                        <td id=\"T_6a4255b2_a7c0_11eb_8868_ade5cf526beerow19_col12\" class=\"data row19 col12\" >0</td>\n",
       "                        <td id=\"T_6a4255b2_a7c0_11eb_8868_ade5cf526beerow19_col13\" class=\"data row19 col13\" >0</td>\n",
       "                        <td id=\"T_6a4255b2_a7c0_11eb_8868_ade5cf526beerow19_col14\" class=\"data row19 col14\" >0</td>\n",
       "                        <td id=\"T_6a4255b2_a7c0_11eb_8868_ade5cf526beerow19_col15\" class=\"data row19 col15\" >60</td>\n",
       "                        <td id=\"T_6a4255b2_a7c0_11eb_8868_ade5cf526beerow19_col16\" class=\"data row19 col16\" >214</td>\n",
       "                        <td id=\"T_6a4255b2_a7c0_11eb_8868_ade5cf526beerow19_col17\" class=\"data row19 col17\" >253</td>\n",
       "                        <td id=\"T_6a4255b2_a7c0_11eb_8868_ade5cf526beerow19_col18\" class=\"data row19 col18\" >253</td>\n",
       "                        <td id=\"T_6a4255b2_a7c0_11eb_8868_ade5cf526beerow19_col19\" class=\"data row19 col19\" >173</td>\n",
       "            </tr>\n",
       "    </tbody></table>"
      ],
      "text/plain": [
       "<pandas.io.formats.style.Styler at 0x7fcbed083810>"
      ]
     },
     "execution_count": null,
     "metadata": {},
     "output_type": "execute_result"
    }
   ],
   "source": [
    "im3t = tensor(im3)\n",
    "df = pd.DataFrame(im3t[:20,:20])\n",
    "df.style.set_properties(**{'font-size':'6pt'}).background_gradient('Greys')"
   ]
  },
  {
   "cell_type": "markdown",
   "metadata": {},
   "source": [
    "Stack all of the images for each category into a tensor of (#ims, img_w, img_h)"
   ]
  },
  {
   "cell_type": "code",
   "execution_count": null,
   "metadata": {},
   "outputs": [
    {
     "data": {
      "text/plain": [
       "(6131, 6265)"
      ]
     },
     "execution_count": null,
     "metadata": {},
     "output_type": "execute_result"
    }
   ],
   "source": [
    "seven_tensors = [tensor(Image.open(o)) for o in sevens]\n",
    "three_tensors = [tensor(Image.open(o)) for o in threes]\n",
    "len(three_tensors), len(seven_tensors)"
   ]
  },
  {
   "cell_type": "code",
   "execution_count": null,
   "metadata": {},
   "outputs": [
    {
     "data": {
      "text/plain": [
       "torch.Size([6131, 28, 28])"
      ]
     },
     "execution_count": null,
     "metadata": {},
     "output_type": "execute_result"
    }
   ],
   "source": [
    "three_train = torch.stack(three_tensors).float()/255\n",
    "seven_train = torch.stack(seven_tensors).float()/255\n",
    "three_train.shape"
   ]
  },
  {
   "cell_type": "markdown",
   "metadata": {},
   "source": [
    "Find the \"ideal 3\" and \"ideal 7\": the avg pixel value for the three imgs and seven imgs."
   ]
  },
  {
   "cell_type": "code",
   "execution_count": null,
   "metadata": {},
   "outputs": [
    {
     "data": {
      "image/png": "[encoded data removed]",
      "text/plain": [
       "<Figure size 72x72 with 1 Axes>"
      ]
     },
     "metadata": {
      "needs_background": "light"
     },
     "output_type": "display_data"
    },
    {
     "data": {
      "image/png": "[encoded data removed]",
      "text/plain": [
       "<Figure size 72x72 with 1 Axes>"
      ]
     },
     "metadata": {
      "needs_background": "light"
     },
     "output_type": "display_data"
    }
   ],
   "source": [
    "mean3 = three_train.mean(0)\n",
    "mean7 = seven_train.mean(0)\n",
    "show_image(mean3); show_image(mean7);"
   ]
  },
  {
   "cell_type": "markdown",
   "metadata": {},
   "source": [
    "Create validation sets."
   ]
  },
  {
   "cell_type": "code",
   "execution_count": null,
   "metadata": {},
   "outputs": [],
   "source": [
    "three_valid = torch.stack([tensor(Image.open(o)) for o in threes]).float()/255\n",
    "seven_valid = torch.stack([tensor(Image.open(o)) for o in sevens]).float()/255"
   ]
  },
  {
   "cell_type": "markdown",
   "metadata": {},
   "source": [
    "Broadcasting review!"
   ]
  },
  {
   "cell_type": "markdown",
   "metadata": {},
   "source": [
    "Element-wise operations: elements in memory are matched up."
   ]
  },
  {
   "cell_type": "code",
   "execution_count": null,
   "metadata": {},
   "outputs": [
    {
     "data": {
      "text/plain": [
       "tensor([2, 3, 4])"
      ]
     },
     "execution_count": null,
     "metadata": {},
     "output_type": "execute_result"
    }
   ],
   "source": [
    "tensor([1,2,3]) + tensor([1,1,1])"
   ]
  },
  {
   "cell_type": "markdown",
   "metadata": {},
   "source": [
    "Broadcasting: since there aren't enough elements on the left to match up with the tensor on the right, the tensor is copied as many times as necessary, then they're matched up and computed. When broadcasting, the copies are NOT stored in memory, so the computation is lightning-fast."
   ]
  },
  {
   "cell_type": "code",
   "execution_count": null,
   "metadata": {},
   "outputs": [
    {
     "data": {
      "text/plain": [
       "tensor([[0, 1],\n",
       "        [2, 3],\n",
       "        [4, 5]])"
      ]
     },
     "execution_count": null,
     "metadata": {},
     "output_type": "execute_result"
    }
   ],
   "source": [
    "tensor([[1,2],[3,4],[5,6]]) - tensor([1,1])"
   ]
  },
  {
   "cell_type": "markdown",
   "metadata": {},
   "source": [
    "Training set x's is just the three tensors and seven tensors together. We've also transformed their shapes so that each img is a row of pixels instead of a grid of pixels."
   ]
  },
  {
   "cell_type": "code",
   "execution_count": null,
   "metadata": {},
   "outputs": [
    {
     "data": {
      "text/plain": [
       "torch.Size([12396, 784])"
      ]
     },
     "execution_count": null,
     "metadata": {},
     "output_type": "execute_result"
    }
   ],
   "source": [
    "train_x = torch.cat([three_train, seven_train]).view(-1, 28*28)\n",
    "train_x.shape"
   ]
  },
  {
   "cell_type": "markdown",
   "metadata": {},
   "source": [
    "Training set y's: basically a spreadsheet with one column and len(train_x) rows. The val for each row is either 1 (a three) or 0 (a seven).\n",
    "\n",
    "\".unsqueeze(1)\" turns a vector into a matrix."
   ]
  },
  {
   "cell_type": "code",
   "execution_count": null,
   "metadata": {},
   "outputs": [
    {
     "data": {
      "text/plain": [
       "tensor([[1],\n",
       "        [1],\n",
       "        [1],\n",
       "        [1],\n",
       "        [1],\n",
       "        [1],\n",
       "        [1],\n",
       "        [1],\n",
       "        [1],\n",
       "        [1]])"
      ]
     },
     "execution_count": null,
     "metadata": {},
     "output_type": "execute_result"
    }
   ],
   "source": [
    "train_y = tensor([1]*len(three_train) + [0]*len(seven_train)).unsqueeze(1)\n",
    "train_y.shape\n",
    "train_y[0:10]"
   ]
  },
  {
   "cell_type": "markdown",
   "metadata": {},
   "source": [
    "Create pytorch dataset for training data."
   ]
  },
  {
   "cell_type": "code",
   "execution_count": null,
   "metadata": {},
   "outputs": [
    {
     "data": {
      "text/plain": [
       "(torch.Size([784]), tensor([1]))"
      ]
     },
     "execution_count": null,
     "metadata": {},
     "output_type": "execute_result"
    }
   ],
   "source": [
    "ds = list(zip(train_x, train_y))\n",
    "x,y = ds[0]\n",
    "x.shape, y"
   ]
  },
  {
   "cell_type": "markdown",
   "metadata": {},
   "source": [
    "Create valid dataset."
   ]
  },
  {
   "cell_type": "code",
   "execution_count": null,
   "metadata": {},
   "outputs": [],
   "source": [
    "valid_x = torch.cat([three_valid, seven_valid]).view(-1, 28*28)\n",
    "valid_y = tensor([1]*len(three_valid) + [0]*len(seven_valid)).unsqueeze(1)\n",
    "ds_valid = list(zip(valid_x, valid_y))"
   ]
  },
  {
   "cell_type": "markdown",
   "metadata": {},
   "source": [
    "The model is weights*pixels + bias, with pixels being the image tensors. We'll create a function to initialize the \"weights\" and \"bias\" params."
   ]
  },
  {
   "cell_type": "code",
   "execution_count": null,
   "metadata": {},
   "outputs": [],
   "source": [
    "def init_params(size, var=1.0): return (torch.randn(size)*var).requires_grad_()"
   ]
  },
  {
   "cell_type": "code",
   "execution_count": null,
   "metadata": {},
   "outputs": [],
   "source": [
    "weights = init_params((28*28, 1))\n",
    "bias = init_params(1)"
   ]
  },
  {
   "cell_type": "markdown",
   "metadata": {},
   "source": [
    "Let's get a prediction from the untrained model."
   ]
  },
  {
   "cell_type": "code",
   "execution_count": null,
   "metadata": {},
   "outputs": [
    {
     "data": {
      "text/plain": [
       "tensor([-5.9167], grad_fn=<AddBackward0>)"
      ]
     },
     "execution_count": null,
     "metadata": {},
     "output_type": "execute_result"
    }
   ],
   "source": [
    "(train_x[0]*weights.T).sum() + bias"
   ]
  },
  {
   "cell_type": "markdown",
   "metadata": {},
   "source": [
    "Calc all the preds."
   ]
  },
  {
   "cell_type": "code",
   "execution_count": null,
   "metadata": {},
   "outputs": [
    {
     "data": {
      "text/plain": [
       "tensor([[-5.9167],\n",
       "        [-0.5423],\n",
       "        [-3.4363],\n",
       "        ...,\n",
       "        [-7.6793],\n",
       "        [ 2.6860],\n",
       "        [ 5.1304]], grad_fn=<AddBackward0>)"
      ]
     },
     "execution_count": null,
     "metadata": {},
     "output_type": "execute_result"
    }
   ],
   "source": [
    "def linear1(xb): return xb@weights + bias\n",
    "preds = linear1(train_x)\n",
    "preds"
   ]
  },
  {
   "cell_type": "markdown",
   "metadata": {},
   "source": [
    "How did we do?"
   ]
  },
  {
   "cell_type": "code",
   "execution_count": null,
   "metadata": {},
   "outputs": [
    {
     "data": {
      "text/plain": [
       "tensor([[False],\n",
       "        [False],\n",
       "        [False],\n",
       "        ...,\n",
       "        [ True],\n",
       "        [False],\n",
       "        [False]])"
      ]
     },
     "execution_count": null,
     "metadata": {},
     "output_type": "execute_result"
    }
   ],
   "source": [
    "corrects = (preds>0.0).float() == train_y\n",
    "corrects"
   ]
  },
  {
   "cell_type": "code",
   "execution_count": null,
   "metadata": {},
   "outputs": [
    {
     "data": {
      "text/plain": [
       "0.28864148259162903"
      ]
     },
     "execution_count": null,
     "metadata": {},
     "output_type": "execute_result"
    }
   ],
   "source": [
    "corrects.float().mean().item()"
   ]
  },
  {
   "cell_type": "markdown",
   "metadata": {},
   "source": [
    "As expected – random weights = random guess... coin toss! Perfect."
   ]
  },
  {
   "cell_type": "markdown",
   "metadata": {},
   "source": [
    "Now, to make a loss function. This candidate function will return the correctness-adjusted confidence:"
   ]
  },
  {
   "cell_type": "code",
   "execution_count": null,
   "metadata": {},
   "outputs": [],
   "source": [
    "def conf_adj_corr(preds, targs):\n",
    "    return torch.where(targs==1, 1-preds, preds).mean()"
   ]
  },
  {
   "cell_type": "markdown",
   "metadata": {},
   "source": [
    "It will only work on numbers between 0 and 1. We'll transform the model outputs with sigmoid."
   ]
  },
  {
   "cell_type": "code",
   "execution_count": null,
   "metadata": {},
   "outputs": [],
   "source": [
    "def sigmoid(x):\n",
    "    return 1/(1+torch.exp(-x))"
   ]
  },
  {
   "cell_type": "markdown",
   "metadata": {},
   "source": [
    "Together:"
   ]
  },
  {
   "cell_type": "code",
   "execution_count": null,
   "metadata": {},
   "outputs": [],
   "source": [
    "def loss(preds, targs):\n",
    "    return conf_adj_corr(preds.sigmoid(), targs)"
   ]
  },
  {
   "cell_type": "markdown",
   "metadata": {},
   "source": [
    "LEFT OFF HERE\n",
    "\n",
    "https://192.168.0.109:9999/notebooks/repos/fastbook/04_mnist_basics.ipynb\n",
    "\n",
    "Section \"SGD and Mini-Batches\" (4/5ths down the nb)"
   ]
  },
  {
   "cell_type": "code",
   "execution_count": null,
   "metadata": {},
   "outputs": [],
   "source": []
  },
  {
   "cell_type": "code",
   "execution_count": null,
   "metadata": {},
   "outputs": [],
   "source": []
  },
  {
   "cell_type": "code",
   "execution_count": null,
   "metadata": {},
   "outputs": [],
   "source": []
  },
  {
   "cell_type": "code",
   "execution_count": null,
   "metadata": {},
   "outputs": [],
   "source": []
  },
  {
   "cell_type": "code",
   "execution_count": null,
   "metadata": {},
   "outputs": [],
   "source": []
  },
  {
   "cell_type": "code",
   "execution_count": null,
   "metadata": {},
   "outputs": [],
   "source": []
  },
  {
   "cell_type": "code",
   "execution_count": null,
   "metadata": {},
   "outputs": [],
   "source": []
  },
  {
   "cell_type": "code",
   "execution_count": null,
   "metadata": {},
   "outputs": [],
   "source": []
  },
  {
   "cell_type": "code",
   "execution_count": null,
   "metadata": {},
   "outputs": [],
   "source": []
  },
  {
   "cell_type": "code",
   "execution_count": null,
   "metadata": {},
   "outputs": [],
   "source": []
  },
  {
   "cell_type": "code",
   "execution_count": null,
   "metadata": {},
   "outputs": [],
   "source": []
  },
  {
   "cell_type": "code",
   "execution_count": null,
   "metadata": {},
   "outputs": [],
   "source": []
  },
  {
   "cell_type": "code",
   "execution_count": null,
   "metadata": {},
   "outputs": [],
   "source": []
  },
  {
   "cell_type": "code",
   "execution_count": null,
   "metadata": {},
   "outputs": [],
   "source": []
  },
  {
   "cell_type": "code",
   "execution_count": null,
   "metadata": {},
   "outputs": [],
   "source": []
  },
  {
   "cell_type": "code",
   "execution_count": null,
   "metadata": {},
   "outputs": [],
   "source": []
  },
  {
   "cell_type": "code",
   "execution_count": null,
   "metadata": {},
   "outputs": [],
   "source": []
  },
  {
   "cell_type": "code",
   "execution_count": null,
   "metadata": {},
   "outputs": [],
   "source": []
  },
  {
   "cell_type": "code",
   "execution_count": null,
   "metadata": {},
   "outputs": [],
   "source": []
  },
  {
   "cell_type": "code",
   "execution_count": null,
   "metadata": {},
   "outputs": [],
   "source": []
  },
  {
   "cell_type": "code",
   "execution_count": null,
   "metadata": {},
   "outputs": [],
   "source": []
  },
  {
   "cell_type": "code",
   "execution_count": null,
   "metadata": {},
   "outputs": [],
   "source": []
  },
  {
   "cell_type": "code",
   "execution_count": null,
   "metadata": {},
   "outputs": [],
   "source": []
  },
  {
   "cell_type": "code",
   "execution_count": null,
   "metadata": {},
   "outputs": [],
   "source": []
  },
  {
   "cell_type": "code",
   "execution_count": null,
   "metadata": {},
   "outputs": [],
   "source": []
  },
  {
   "cell_type": "code",
   "execution_count": null,
   "metadata": {},
   "outputs": [],
   "source": []
  },
  {
   "cell_type": "code",
   "execution_count": null,
   "metadata": {},
   "outputs": [],
   "source": []
  },
  {
   "cell_type": "code",
   "execution_count": null,
   "metadata": {},
   "outputs": [],
   "source": []
  }
 ],
 "metadata": {
  "kernelspec": {
   "display_name": "Python 3",
   "language": "python",
   "name": "python3"
  }
 },
 "nbformat": 4,
 "nbformat_minor": 4
}
