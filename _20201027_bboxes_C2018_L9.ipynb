{
 "cells": [
  {
   "cell_type": "markdown",
   "metadata": {},
   "source": [
    "<h1>Table of Contents<span class=\"tocSkip\"></span></h1>\n",
    "<div class=\"toc\"><ul class=\"toc-item\"><li><ul class=\"toc-item\"><li><span><a href=\"#Log\" data-toc-modified-id=\"Log-0.1\"><span class=\"toc-item-num\">0.1&nbsp;&nbsp;</span>Log</a></span></li></ul></li><li><span><a href=\"#Pickles\" data-toc-modified-id=\"Pickles-1\"><span class=\"toc-item-num\">1&nbsp;&nbsp;</span>Pickles</a></span><ul class=\"toc-item\"><li><span><a href=\"#Everything\" data-toc-modified-id=\"Everything-1.1\"><span class=\"toc-item-num\">1.1&nbsp;&nbsp;</span>Everything</a></span></li><li><span><a href=\"#Subset\" data-toc-modified-id=\"Subset-1.2\"><span class=\"toc-item-num\">1.2&nbsp;&nbsp;</span>Subset</a></span></li></ul></li><li><span><a href=\"#DataLoaders\" data-toc-modified-id=\"DataLoaders-2\"><span class=\"toc-item-num\">2&nbsp;&nbsp;</span>DataLoaders</a></span></li><li><span><a href=\"#Model\" data-toc-modified-id=\"Model-3\"><span class=\"toc-item-num\">3&nbsp;&nbsp;</span>Model</a></span><ul class=\"toc-item\"><li><span><a href=\"#Architecture\" data-toc-modified-id=\"Architecture-3.1\"><span class=\"toc-item-num\">3.1&nbsp;&nbsp;</span>Architecture</a></span></li><li><span><a href=\"#Loss\" data-toc-modified-id=\"Loss-3.2\"><span class=\"toc-item-num\">3.2&nbsp;&nbsp;</span>Loss</a></span></li></ul></li><li><span><a href=\"#Training\" data-toc-modified-id=\"Training-4\"><span class=\"toc-item-num\">4&nbsp;&nbsp;</span>Training</a></span></li><li><span><a href=\"#Working-With-a-Batch\" data-toc-modified-id=\"Working-With-a-Batch-5\"><span class=\"toc-item-num\">5&nbsp;&nbsp;</span>Working With a Batch</a></span></li></ul></div>"
   ]
  },
  {
   "cell_type": "markdown",
   "metadata": {},
   "source": [
    "## Log"
   ]
  },
  {
   "cell_type": "markdown",
   "metadata": {},
   "source": [
    "Video: https://www.youtube.com/watch?v=0frKXR-2PBY"
   ]
  },
  {
   "cell_type": "markdown",
   "metadata": {},
   "source": [
    "- 2020-10-27 (Tues): Started implementing Jeremy's solution w/ anchor boxes in 2018.9. Made progress. Left off video at 57:49."
   ]
  },
  {
   "cell_type": "markdown",
   "metadata": {},
   "source": [
    "# Pickles"
   ]
  },
  {
   "cell_type": "markdown",
   "metadata": {},
   "source": [
    "## Everything"
   ]
  },
  {
   "cell_type": "code",
   "execution_count": null,
   "metadata": {},
   "outputs": [],
   "source": [
    "# from fastai.vision.all import *\n",
    "\n",
    "# # paths\n",
    "# path = Path('/home/rory/data/coco2017')\n",
    "# train_im_dir, valid_im_dir = 'train2017', 'val2017'\n",
    "# train_json = 'annotations/instances_train2017.json'\n",
    "# valid_json = 'annotations/instances_val2017.json'\n",
    "# animals = ['giraffe','cat','zebra','dog','bird','elephant','horse','cow']\n",
    "\n",
    "# # get items & annos\n",
    "# def get_annos(path, anno_file, im_folder):\n",
    "#     xs, ys = get_annotations(path/anno_file)\n",
    "#     return L(xs).map(lambda x: path/im_folder/x), ys\n",
    "# train_paths, train_annos = get_annos(path, train_json, train_im_dir)\n",
    "# valid_paths, valid_annos = get_annos(path, valid_json, valid_im_dir)\n",
    "# paths  = train_paths + valid_paths\n",
    "# annos  = train_annos + valid_annos\n",
    "# bboxes = [a[0] for a in annos]\n",
    "# lbls   = [a[1] for a in annos]\n",
    "\n",
    "# # create df and pkl\n",
    "# df = pd.DataFrame({\n",
    "#     \"path\": paths,\n",
    "#     \"lbl\":  lbls,\n",
    "#     \"bbox\": bboxes,\n",
    "#     \"is_valid\": [0]*len(train_files) + [1]*len(valid_files),\n",
    "#     \"n_items\": L(len(l) for l in lbls)\n",
    "#     })\n",
    "# df.to_pickle(path/'20201027_coco_df.pkl')\n",
    "\n",
    "# df.head(1)"
   ]
  },
  {
   "cell_type": "markdown",
   "metadata": {},
   "source": [
    "## Subset"
   ]
  },
  {
   "cell_type": "code",
   "execution_count": null,
   "metadata": {},
   "outputs": [],
   "source": [
    "# from fastai.vision.all import *\n",
    "    \n",
    "    \n",
    "# # paths\n",
    "# path = Path('/home/rory/data/coco2017')\n",
    "# train_im_dir, valid_im_dir = 'train2017', 'val2017'\n",
    "# train_json = 'annotations/instances_train2017.json'\n",
    "# valid_json = 'annotations/instances_val2017.json'\n",
    "# animals = ['giraffe','cat','zebra','dog','bird','elephant','horse','cow']\n",
    "\n",
    "# # get items & annos\n",
    "# def get_annos(path, anno_file, im_folder):\n",
    "#     xs, ys = get_annotations(path/anno_file)\n",
    "#     return L(xs).map(lambda x: path/im_folder/x), ys\n",
    "# train_files, train_annos = get_annos(path, train_json, train_im_dir)\n",
    "# valid_files, valid_annos = get_annos(path, valid_json, valid_im_dir)\n",
    "# annos = train_annos + valid_annos\n",
    "# bboxes = L(L(b) for b,l in annos)\n",
    "# lbls   = L(L(l) for b,l in annos)\n",
    "\n",
    "# # get label subset\n",
    "# def flatten(l):\n",
    "#     def _recur(l,res):\n",
    "#         for o in l:\n",
    "#             if   isinstance(o,list): _recur(o,res)\n",
    "#             elif isinstance(o,L)   : _recur(o,res)\n",
    "#             else: res.append(o)\n",
    "#         return res\n",
    "#     return _recur(l, L())\n",
    "# lbls_flat = flatten(lbls)\n",
    "# def get_count(lbl): return len(lbls_flat.filter(lambda x: x==lbl))\n",
    "# lbls_sorted = sorted(lbls_flat.unique(), key=get_count, reverse=True)\n",
    "# lbl_cts = [(l, get_count(l)) for l in lbls_sorted]\n",
    "# lbl_ss = [l for l,c in lbl_cts if 5000<c<30000]\n",
    "# lbl_ss.remove('traffic light')\n",
    "# lbl_ss.remove('motorcycle')\n",
    "# lbl_ss.remove('bus')\n",
    "\n",
    "# # get subset items & annos\n",
    "# ss_idxs   = L(L(o in lbl_ss for o in l) for l in lbls)\n",
    "# ss_lbls   = L(o[i] for o,i in zip(lbls,ss_idxs))\n",
    "# ss_bboxes = L(o[i] for o,i in zip(bboxes,ss_idxs))\n",
    "# ss_obj    = L(len(l) for l in ss_lbls)\n",
    "\n",
    "# # create df\n",
    "# df = pd.DataFrame({\n",
    "#     \"path\"  : train_files + valid_files,\n",
    "#     \"lbl\"   : ss_lbls,\n",
    "#     \"bbox\"  : ss_bboxes,\n",
    "#     \"n_obj\" : ss_obj\n",
    "#     })\n",
    "\n",
    "# # remove rows w/ 4+ objects per im\n",
    "# # reduce value counts to a max of 2*min_vc\n",
    "# too_many = 8\n",
    "# rng = list(range(too_many))\n",
    "# cts = list(df['n_obj'].value_counts())[:too_many]\n",
    "# minv = min(cts)\n",
    "# zipd = list(zip(*[rng,cts]))\n",
    "# zipd[0] = (0, minv) # limit ims w/zero objs\n",
    "# df = pd.concat([df[df['n_obj']==i].sample(n=min(s,minv*2)) for i,s in zipd])\n",
    "\n",
    "# # create pkl\n",
    "# df.to_pickle(path/'20201029_coco_ss_df.pkl')"
   ]
  },
  {
   "cell_type": "markdown",
   "metadata": {},
   "source": [
    "# DataLoaders"
   ]
  },
  {
   "cell_type": "code",
   "execution_count": null,
   "metadata": {},
   "outputs": [
    {
     "name": "stdout",
     "output_type": "stream",
     "text": [
      "Size of training dataset: 56857\n"
     ]
    }
   ],
   "source": [
    "from fastai.vision.all import *\n",
    "\n",
    "\n",
    "### Params ###\n",
    "im_size    = 224\n",
    "batch_size = 64\n",
    "path       = Path('/home/rory/data/coco2017')\n",
    "valid_pct  = .10\n",
    "\n",
    "\n",
    "### Items ###\n",
    "df = pd.read_pickle(path/'20201029_coco_ss_df.pkl')\n",
    "# get items\n",
    "def get_cols(df,cols): return L(L(df[c].to_list()) for c in cols)\n",
    "paths, bboxes, lbls  = get_cols(df, ['path', 'bbox', 'lbl'])\n",
    "p2b = {p:b for p,b in zip(paths,bboxes)}\n",
    "p2l = {p:l for p,l in zip(paths,lbls)}\n",
    "def get_bbox(p): return p2b[p]\n",
    "def get_lbl(p):  return p2l[p]\n",
    "\n",
    "\n",
    "### DataBlock & DataLoaders ###\n",
    "db = DataBlock(\n",
    "    blocks=[ImageBlock, BBoxBlock, BBoxLblBlock],\n",
    "    get_y=[get_bbox, get_lbl],\n",
    "    splitter=RandomSplitter(valid_pct),\n",
    "    item_tfms=Resize(im_size, method='squish'),\n",
    "    batch_tfms=Normalize.from_stats(*imagenet_stats),\n",
    "    n_inp=1)\n",
    "dls = db.dataloaders(paths)\n",
    "print(\"Size of training dataset:\",int(len(df)*(1-valid_pct)))"
   ]
  },
  {
   "cell_type": "markdown",
   "metadata": {},
   "source": [
    "# Model"
   ]
  },
  {
   "cell_type": "markdown",
   "metadata": {},
   "source": [
    "## Architecture"
   ]
  },
  {
   "cell_type": "code",
   "execution_count": null,
   "metadata": {},
   "outputs": [],
   "source": [
    "# 42:00\n",
    "class StdConv(Module):\n",
    "    def __init__(self, nin, nout, stride=2, drop=0.1):\n",
    "        super().__init__()\n",
    "        self.conv = nn.Conv2d(nin, nout, 3, stride=stride, padding=1)\n",
    "        self.bn = nn.BatchNorm2d(nout)\n",
    "        self.drop = nn.Dropout(drop)\n",
    "        \n",
    "    def forward(self, x): return self.drop(self.bn(F.relu(self.conv(x))))\n",
    "\n",
    "def flatten_conv(x,k):\n",
    "    return x.view(x.size(0), x.size(1)//k, -1).transpose(1,2) # loss expects flat tensor\n",
    "\n",
    "class OutConv(Module):\n",
    "    # output is two conv layers (instead of one linear layer)\n",
    "    def __init__(self, k, nin, bias):\n",
    "        super().__init__()\n",
    "        self.k = k\n",
    "        self.oconv1 = nn.Conv2d(nin, 4*k, 3, padding=1)              # bbs\n",
    "        self.oconv2 = nn.Conv2d(nin, len(dls.vocab)*k, 3, padding=1) # lbls\n",
    "        self.oconv2.bias.data.zero_().add_(bias)\n",
    "        \n",
    "    def forward(self, x):\n",
    "        return [flatten_conv(self.oconv1(x), self.k),\n",
    "                flatten_conv(self.oconv2(x), self.k)]\n",
    "\n",
    "class SSD_Head(Module):\n",
    "    def __init__(self, k, bias):\n",
    "        super().__init__()\n",
    "        self.drop = nn.Dropout(0.25)\n",
    "        self.sconv0 = StdConv(512,256, stride=1)\n",
    "#         self.sconv1 = StdConv(256,256)\n",
    "        self.sconv1 = StdConv(256,256)\n",
    "        self.out = OutConv(k, 256, bias)\n",
    "        \n",
    "    def forward(self, x):\n",
    "        x = self.drop(F.relu(x))\n",
    "        x = self.sconv0(x)\n",
    "#         x = self.sconv1(x)\n",
    "        x = self.sconv1(x)\n",
    "        return self.out(x)\n",
    "\n",
    "class Custom_Module(Module):\n",
    "    def __init__(self, body, head):\n",
    "        self.body, self.head = body, head\n",
    "        \n",
    "    def forward(self, x):\n",
    "        return self.head(self.body(x))"
   ]
  },
  {
   "cell_type": "code",
   "execution_count": null,
   "metadata": {},
   "outputs": [],
   "source": [
    "class PP():\n",
    "    def __init__(self): self.n = 0\n",
    "    def __call__(self, string):\n",
    "        print('N:', self.n, string)\n",
    "        self.n+=1"
   ]
  },
  {
   "cell_type": "markdown",
   "metadata": {},
   "source": [
    "## Loss"
   ]
  },
  {
   "cell_type": "code",
   "execution_count": null,
   "metadata": {},
   "outputs": [],
   "source": [
    "### Anchors ###\n",
    "def create_anchors(k=1, subdivs=4, device='cuda'):\n",
    "    box_size = 1/subdivs\n",
    "    anc_offset = box_size*.5\n",
    "    anc_x = np.repeat(np.linspace(anc_offset, 1-anc_offset, subdivs), subdivs)\n",
    "    anc_y = np.tile(  np.linspace(anc_offset, 1-anc_offset, subdivs), subdivs)\n",
    "    anc_ctrs = np.tile(np.stack([anc_x,anc_y], axis=1), (k,1))\n",
    "    anc_hws = np.array([[box_size,box_size] for i in range(subdivs**2)])\n",
    "    anchors = torch.cat((tensor(anc_ctrs), tensor(anc_hws)), axis=1)\n",
    "    box_size = tensor(np.array([box_size]), requires_grad=False).unsqueeze(1)\n",
    "    return anchors.to(device), box_size.to(device)\n",
    "anchors, box_size = create_anchors()\n",
    "\n",
    "def create_anchor_boxes(ctr, hw):\n",
    "    return 2*torch.cat((tensor(ctr-hw/2), tensor(ctr+hw/2)), axis=1)-1\n",
    "anchor_boxes = create_anchor_boxes(anchors[:,:2], anchors[:,2:])\n",
    "\n",
    "\n",
    "\n",
    "### BCE Loss ###\n",
    "def one_hot_embedding(lbls, n_cls):\n",
    "    return torch.eye(n_cls)[lbls.data.long()]\n",
    "\n",
    "class BCE_Loss(nn.Module): # 1:05:35\n",
    "    def __init__(self, n_cls):\n",
    "#         pp('bce loss')\n",
    "        super().__init__()\n",
    "        self.n_cls = n_cls\n",
    "        \n",
    "    def forward(self, act_lbl, targ_lbl):\n",
    "#         pp('forward top')\n",
    "        a = act_lbl[:,1:]\n",
    "        t = one_hot_embedding(targ_lbl, self.n_cls)\n",
    "        t = tensor(t[:,1:].contiguous()).type_as(a)\n",
    "#         pp('forward bottom')\n",
    "        return F.binary_cross_entropy_with_logits(a,t,None,reduction='sum')/self.n_cls\n",
    "\n",
    "\n",
    "    \n",
    "### IOU ###\n",
    "def intersxn(b1,b2):\n",
    "    x1 = torch.max((b1)[:,None,0], (b2)[None,:,0])\n",
    "    y1 = torch.max((b1)[:,None,1], (b2)[None,:,1])\n",
    "    x2 = torch.min((b1)[:,None,2], (b2)[None,:,2])\n",
    "    y2 = torch.min((b1)[:,None,3], (b2)[None,:,3])\n",
    "    return torch.clamp((x2-x1), min=0) * torch.clamp((y2-y1), min=0)\n",
    "\n",
    "def area(b):\n",
    "    return (b[:,2]-b[:,0]) * (b[:,3]-b[:,1])\n",
    "\n",
    "def get_iou(b1, b2):\n",
    "#     pp('iou')\n",
    "    inter = intersxn(b1,b2)\n",
    "    union = area(b1).unsqueeze(1) + area(b2).unsqueeze(0) - inter\n",
    "    return inter / union\n",
    "\n",
    "\n",
    "\n",
    "### SSD Loss ##\n",
    "def remove_padding(bb, lbl): # 1:11:10\n",
    "#     pp('remove padding top')\n",
    "    bb = bb.view(-1,4)\n",
    "    padding = (bb[:,2]-bb[:,0])==0\n",
    "    return bb[~padding],lbl[~padding]\n",
    "\n",
    "def adjust_anchor_boxes(act_bb, anchors, box_size):\n",
    "    acts = torch.tanh(act_bb) # scale acts \n",
    "    ctrs = anchors[:,:2] + (acts[:,:2]/2 * box_size) # move ctrs by up to box_size/2\n",
    "    hws  = anchors[:,2:] * (acts[:,2:]/2+1)\n",
    "    return create_anchor_boxes(ctrs, hws)\n",
    "\n",
    "def get_targ_idx(ious):\n",
    "    max_iou_per_bb, anc_idxs = ious.max(1)\n",
    "    max_iou_per_anc, bb_idxs = ious.max(0)\n",
    "    max_iou_per_anc[anc_idxs] = 1.99\n",
    "    for i,iou in enumerate(anc_idxs): bb_idxs[iou] = i\n",
    "    return max_iou_per_anc, bb_idxs\n",
    "\n",
    "def ssd_item_loss(act_bb, act_lbl, bb, lbl): # 1:11:30\n",
    "#     pp('ssd item loss top')\n",
    "    bb, lbl = remove_padding(bb, lbl)\n",
    "    pred_bb = adjust_anchor_boxes(act_bb, anchors, box_size)\n",
    "    ious = get_iou(bb.data, anchor_boxes.data)\n",
    "    anc_ious, targ_idx = get_targ_idx(ious)\n",
    "    targ_lbl = lbl[targ_idx]\n",
    "    above_thresh = anc_ious > 0.4\n",
    "    assigned_idx = torch.nonzero(above_thresh)[:,0]\n",
    "    targ_lbl[~above_thresh] = 0\n",
    "    targ_bb = bb[targ_idx]\n",
    "    # loss functions\n",
    "    bb_loss = ((pred_bb[assigned_idx] - targ_bb[assigned_idx]).abs()).mean()\n",
    "    lbl_loss = loss_f(act_lbl, targ_lbl)\n",
    "    return bb_loss, lbl_loss\n",
    "\n",
    "def ssd_loss(acts, bbs, lbls):\n",
    "#     pp('ssd loss top')\n",
    "    sum_bb_loss, sum_lbl_loss = 0., 0.\n",
    "    for act_bb,act_lbl,bb,lbl in zip(*acts, bbs, lbls):\n",
    "#         pp('ssd loss loop')\n",
    "        if bb[0].sum()!=0:\n",
    "            bb_loss,lbl_loss = ssd_item_loss(act_bb,act_lbl,bb,lbl)\n",
    "            sum_bb_loss += bb_loss\n",
    "            sum_lbl_loss += lbl_loss\n",
    "    return sum_bb_loss + sum_lbl_loss"
   ]
  },
  {
   "cell_type": "markdown",
   "metadata": {},
   "source": [
    "# Training"
   ]
  },
  {
   "cell_type": "code",
   "execution_count": null,
   "metadata": {},
   "outputs": [],
   "source": [
    "pp = PP()\n",
    "\n",
    "k=1\n",
    "head_reg4 = SSD_Head(k, -3.)\n",
    "body = create_body(resnet34, pretrained=True)\n",
    "mod = Custom_Module(body, head_reg4)\n",
    "\n",
    "loss_f = F.cross_entropy # BCE_Loss(len(dls.vocab))\n",
    "\n",
    "learner = Learner(dls, mod, loss_func = ssd_loss)\n",
    "learner.freeze()"
   ]
  },
  {
   "cell_type": "code",
   "execution_count": null,
   "metadata": {},
   "outputs": [],
   "source": [
    "# learner.lr_find()"
   ]
  },
  {
   "cell_type": "markdown",
   "metadata": {},
   "source": [
    "# Working With a Batch"
   ]
  },
  {
   "cell_type": "code",
   "execution_count": null,
   "metadata": {},
   "outputs": [],
   "source": [
    "def show_bb(im,bb,lbl=None,sz=224,figsize=[5,5],color='white',ctx=None,use_vocab=True,title=None):\n",
    "    bboxes = TensorBBox((bb+1)*sz//2)\n",
    "    if lbl!=None:\n",
    "        if use_vocab==True:\n",
    "            try: label = dls.vocab[lbl]\n",
    "            except: label = lbl\n",
    "        else: label = lbl\n",
    "        lbboxes = LabeledBBox(bboxes, label)\n",
    "    if ctx==None: ctx=show_image(im, figsize=figsize, title=title)\n",
    "    else: show_image(im, figsize=figsize, title=title, ctx=ctx)\n",
    "    if lbl!=None: lbboxes.show(ctx=ctx) # draw white bboxes and lbls\n",
    "    bboxes.show(ctx=ctx, color=color) # draw colored bboxes over white bboxes\n",
    "    return ctx"
   ]
  },
  {
   "cell_type": "markdown",
   "metadata": {},
   "source": [
    "JH uses b_clasi and b_bboxi for his model outputs (acts), and bbox and clas for his batch outputs."
   ]
  },
  {
   "cell_type": "code",
   "execution_count": null,
   "metadata": {},
   "outputs": [],
   "source": [
    "# grab batch and acts (52m)\n",
    "batch = dls.one_batch()\n",
    "b_ims, b_bbs, b_lbls = batch"
   ]
  },
  {
   "cell_type": "code",
   "execution_count": null,
   "metadata": {},
   "outputs": [],
   "source": [
    "# grab acts\n",
    "learner.model.eval()\n",
    "learner.model.cuda()\n",
    "acts = learner.model(b_ims)\n",
    "act_bbs, act_lbls = acts"
   ]
  },
  {
   "cell_type": "code",
   "execution_count": null,
   "metadata": {},
   "outputs": [
    {
     "data": {
      "image/png": "[encoded data removed]",
      "text/plain": [
       "<Figure size 360x360 with 1 Axes>"
      ]
     },
     "metadata": {
      "needs_background": "light"
     },
     "output_type": "display_data"
    }
   ],
   "source": [
    "# grab single im and its b_ & a_ bbox,lbl\n",
    "idx=3\n",
    "\n",
    "bb  = b_bbs[idx]\n",
    "lbl = b_lbls[idx]\n",
    "\n",
    "act_bb  = act_bbs[idx]\n",
    "act_lbl = act_lbls[idx]\n",
    "\n",
    "decoded_batch = dls.decode(batch)\n",
    "im = decoded_batch[0][idx]\n",
    "\n",
    "# show im w/ targ, ancs\n",
    "ctx = show_bb(im, anchor_boxes, color='black')\n",
    "show_bb(im, bb, lbl, ctx=ctx);"
   ]
  },
  {
   "cell_type": "markdown",
   "metadata": {},
   "source": [
    "Interpreting the activations:\n",
    "- `a_bbox` has 16 sets of 4 → 16 bboxes\n",
    "- `a_lbl` has 16 sets of 51 → 16 sets 51 probs (1 prob per item in dls.vocab)"
   ]
  },
  {
   "cell_type": "code",
   "execution_count": null,
   "metadata": {},
   "outputs": [
    {
     "data": {
      "text/plain": [
       "(tensor([[ 0.6503, -0.0721,  0.7656,  0.0102],\n",
       "         [-0.9865,  0.2276, -0.6221,  0.8344],\n",
       "         [ 0.0000,  0.0000,  0.0000,  0.0000]], device='cuda:0'),\n",
       " tensor([40., 43.,  0.], device='cuda:0'))"
      ]
     },
     "execution_count": null,
     "metadata": {},
     "output_type": "execute_result"
    }
   ],
   "source": [
    "bb, lbl"
   ]
  },
  {
   "cell_type": "code",
   "execution_count": null,
   "metadata": {},
   "outputs": [
    {
     "data": {
      "text/plain": [
       "(tensor([[ 0.6503, -0.0721,  0.7656,  0.0102],\n",
       "         [-0.9865,  0.2276, -0.6221,  0.8344]], device='cuda:0'),\n",
       " tensor([40., 43.], device='cuda:0'))"
      ]
     },
     "execution_count": null,
     "metadata": {},
     "output_type": "execute_result"
    }
   ],
   "source": [
    "bb, lbl = remove_padding(bb, lbl)\n",
    "bb, lbl"
   ]
  },
  {
   "cell_type": "code",
   "execution_count": null,
   "metadata": {},
   "outputs": [
    {
     "data": {
      "text/plain": [
       "tensor([[-1.0104, -1.0198, -0.4918, -0.4974],\n",
       "        [-1.0337, -0.5142, -0.5188, -0.0163],\n",
       "        [-1.0428,  0.0065, -0.5442,  0.4942],\n",
       "        [-1.0077,  0.5265, -0.5439,  0.9891],\n",
       "        [-0.4949, -1.0402,  0.0484, -0.4993],\n",
       "        [-0.5197, -0.5813, -0.0080, -0.0998],\n",
       "        [-0.5318, -0.0220, -0.0160,  0.4461],\n",
       "        [-0.4960,  0.5051, -0.0209,  0.9820],\n",
       "        [-0.0204, -1.0372,  0.5089, -0.5415],\n",
       "        [ 0.0036, -0.5330,  0.5142, -0.0424],\n",
       "        [ 0.0399,  0.0028,  0.5573,  0.5236],\n",
       "        [-0.0292,  0.5349,  0.5271,  1.0258],\n",
       "        [ 0.5018, -1.0152,  1.0334, -0.5812],\n",
       "        [ 0.4917, -0.5133,  1.0325, -0.0736],\n",
       "        [ 0.5027, -0.0105,  1.0358,  0.4787],\n",
       "        [ 0.4898,  0.5005,  1.0323,  1.0049]], device='cuda:0',\n",
       "       grad_fn=<SubBackward0>)"
      ]
     },
     "execution_count": null,
     "metadata": {},
     "output_type": "execute_result"
    }
   ],
   "source": [
    "pred_bb = adjust_anchor_boxes(act_bb, anchors, box_size)\n",
    "pred_bb"
   ]
  },
  {
   "cell_type": "code",
   "execution_count": null,
   "metadata": {},
   "outputs": [
    {
     "data": {
      "text/plain": [
       "tensor([[0.0000, 0.0000, 0.0000, 0.0000, 0.0000, 0.0000, 0.0000, 0.0000, 0.0000,\n",
       "         0.0000, 0.0000, 0.0000, 0.0000, 0.0331, 0.0046, 0.0000],\n",
       "        [0.0000, 0.0000, 0.2669, 0.3489, 0.0000, 0.0000, 0.0000, 0.0000, 0.0000,\n",
       "         0.0000, 0.0000, 0.0000, 0.0000, 0.0000, 0.0000, 0.0000]],\n",
       "       device='cuda:0')"
      ]
     },
     "execution_count": null,
     "metadata": {},
     "output_type": "execute_result"
    }
   ],
   "source": [
    "ious = get_iou(bb.data, anchor_boxes.data)\n",
    "ious"
   ]
  },
  {
   "cell_type": "code",
   "execution_count": null,
   "metadata": {},
   "outputs": [
    {
     "data": {
      "text/plain": [
       "(tensor([0.0000, 0.0000, 0.2669, 1.9900, 0.0000, 0.0000, 0.0000, 0.0000, 0.0000,\n",
       "         0.0000, 0.0000, 0.0000, 0.0000, 1.9900, 0.0046, 0.0000],\n",
       "        device='cuda:0'),\n",
       " tensor([1, 1, 1, 1, 1, 1, 1, 1, 1, 1, 1, 1, 1, 0, 0, 1], device='cuda:0'))"
      ]
     },
     "execution_count": null,
     "metadata": {},
     "output_type": "execute_result"
    }
   ],
   "source": [
    "anc_ious, targ_idx = get_targ_idx(ious)\n",
    "anc_ious, targ_idx"
   ]
  },
  {
   "cell_type": "code",
   "execution_count": null,
   "metadata": {},
   "outputs": [
    {
     "data": {
      "text/plain": [
       "tensor([43., 43., 43., 43., 43., 43., 43., 43., 43., 43., 43., 43., 43., 40.,\n",
       "        40., 43.], device='cuda:0')"
      ]
     },
     "execution_count": null,
     "metadata": {},
     "output_type": "execute_result"
    }
   ],
   "source": [
    "targ_lbl = lbl[targ_idx]\n",
    "targ_lbl"
   ]
  },
  {
   "cell_type": "code",
   "execution_count": null,
   "metadata": {},
   "outputs": [
    {
     "data": {
      "text/plain": [
       "tensor([False, False, False,  True, False, False, False, False, False, False,\n",
       "        False, False, False,  True, False, False], device='cuda:0')"
      ]
     },
     "execution_count": null,
     "metadata": {},
     "output_type": "execute_result"
    }
   ],
   "source": [
    "above_thresh = anc_ious > 0.4\n",
    "above_thresh"
   ]
  },
  {
   "cell_type": "code",
   "execution_count": null,
   "metadata": {},
   "outputs": [
    {
     "data": {
      "text/plain": [
       "tensor([ 3, 13], device='cuda:0')"
      ]
     },
     "execution_count": null,
     "metadata": {},
     "output_type": "execute_result"
    }
   ],
   "source": [
    "assigned_idx = torch.nonzero(above_thresh)[:,0]\n",
    "assigned_idx"
   ]
  },
  {
   "cell_type": "code",
   "execution_count": null,
   "metadata": {},
   "outputs": [
    {
     "data": {
      "text/plain": [
       "tensor([ 0.,  0.,  0., 43.,  0.,  0.,  0.,  0.,  0.,  0.,  0.,  0.,  0., 40.,\n",
       "         0.,  0.], device='cuda:0')"
      ]
     },
     "execution_count": null,
     "metadata": {},
     "output_type": "execute_result"
    }
   ],
   "source": [
    "targ_lbl[~above_thresh] = 0\n",
    "targ_lbl"
   ]
  },
  {
   "cell_type": "code",
   "execution_count": null,
   "metadata": {},
   "outputs": [
    {
     "data": {
      "text/plain": [
       "tensor([[-0.9865,  0.2276, -0.6221,  0.8344],\n",
       "        [-0.9865,  0.2276, -0.6221,  0.8344],\n",
       "        [-0.9865,  0.2276, -0.6221,  0.8344],\n",
       "        [-0.9865,  0.2276, -0.6221,  0.8344],\n",
       "        [-0.9865,  0.2276, -0.6221,  0.8344],\n",
       "        [-0.9865,  0.2276, -0.6221,  0.8344],\n",
       "        [-0.9865,  0.2276, -0.6221,  0.8344],\n",
       "        [-0.9865,  0.2276, -0.6221,  0.8344],\n",
       "        [-0.9865,  0.2276, -0.6221,  0.8344],\n",
       "        [-0.9865,  0.2276, -0.6221,  0.8344],\n",
       "        [-0.9865,  0.2276, -0.6221,  0.8344],\n",
       "        [-0.9865,  0.2276, -0.6221,  0.8344],\n",
       "        [-0.9865,  0.2276, -0.6221,  0.8344],\n",
       "        [ 0.6503, -0.0721,  0.7656,  0.0102],\n",
       "        [ 0.6503, -0.0721,  0.7656,  0.0102],\n",
       "        [-0.9865,  0.2276, -0.6221,  0.8344]], device='cuda:0')"
      ]
     },
     "execution_count": null,
     "metadata": {},
     "output_type": "execute_result"
    }
   ],
   "source": [
    "targ_bb = bb[targ_idx]\n",
    "targ_bb"
   ]
  },
  {
   "cell_type": "code",
   "execution_count": null,
   "metadata": {},
   "outputs": [
    {
     "data": {
      "text/plain": [
       "tensor(0.1879, device='cuda:0', grad_fn=<MeanBackward0>)"
      ]
     },
     "execution_count": null,
     "metadata": {},
     "output_type": "execute_result"
    }
   ],
   "source": [
    "bb_loss = ((pred_bb[assigned_idx] - targ_bb[assigned_idx]).abs()).mean()\n",
    "bb_loss"
   ]
  },
  {
   "cell_type": "code",
   "execution_count": null,
   "metadata": {},
   "outputs": [
    {
     "ename": "RuntimeError",
     "evalue": "Expected object of scalar type Long but got scalar type Float for argument #2 'target' in call to _thnn_nll_loss_forward",
     "output_type": "error",
     "traceback": [
      "\u001b[0;31m---------------------------------------------------------------------------\u001b[0m",
      "\u001b[0;31mRuntimeError\u001b[0m                              Traceback (most recent call last)",
      "\u001b[0;32m<ipython-input-36-dff586195ef7>\u001b[0m in \u001b[0;36m<module>\u001b[0;34m\u001b[0m\n\u001b[0;32m----> 1\u001b[0;31m \u001b[0mlbl_loss\u001b[0m \u001b[0;34m=\u001b[0m \u001b[0mF\u001b[0m\u001b[0;34m.\u001b[0m\u001b[0mcross_entropy\u001b[0m\u001b[0;34m(\u001b[0m\u001b[0mact_lbl\u001b[0m\u001b[0;34m,\u001b[0m \u001b[0mtarg_lbl\u001b[0m\u001b[0;34m)\u001b[0m\u001b[0;34m\u001b[0m\u001b[0;34m\u001b[0m\u001b[0m\n\u001b[0m\u001b[1;32m      2\u001b[0m \u001b[0mlbl_loss\u001b[0m\u001b[0;34m\u001b[0m\u001b[0;34m\u001b[0m\u001b[0m\n",
      "\u001b[0;32m~/.pyenv/versions/anaconda3-2020.02/lib/python3.7/site-packages/torch/nn/functional.py\u001b[0m in \u001b[0;36mcross_entropy\u001b[0;34m(input, target, weight, size_average, ignore_index, reduce, reduction)\u001b[0m\n\u001b[1;32m   2420\u001b[0m     \u001b[0;32mif\u001b[0m \u001b[0msize_average\u001b[0m \u001b[0;32mis\u001b[0m \u001b[0;32mnot\u001b[0m \u001b[0;32mNone\u001b[0m \u001b[0;32mor\u001b[0m \u001b[0mreduce\u001b[0m \u001b[0;32mis\u001b[0m \u001b[0;32mnot\u001b[0m \u001b[0;32mNone\u001b[0m\u001b[0;34m:\u001b[0m\u001b[0;34m\u001b[0m\u001b[0;34m\u001b[0m\u001b[0m\n\u001b[1;32m   2421\u001b[0m         \u001b[0mreduction\u001b[0m \u001b[0;34m=\u001b[0m \u001b[0m_Reduction\u001b[0m\u001b[0;34m.\u001b[0m\u001b[0mlegacy_get_string\u001b[0m\u001b[0;34m(\u001b[0m\u001b[0msize_average\u001b[0m\u001b[0;34m,\u001b[0m \u001b[0mreduce\u001b[0m\u001b[0;34m)\u001b[0m\u001b[0;34m\u001b[0m\u001b[0;34m\u001b[0m\u001b[0m\n\u001b[0;32m-> 2422\u001b[0;31m     \u001b[0;32mreturn\u001b[0m \u001b[0mnll_loss\u001b[0m\u001b[0;34m(\u001b[0m\u001b[0mlog_softmax\u001b[0m\u001b[0;34m(\u001b[0m\u001b[0minput\u001b[0m\u001b[0;34m,\u001b[0m \u001b[0;36m1\u001b[0m\u001b[0;34m)\u001b[0m\u001b[0;34m,\u001b[0m \u001b[0mtarget\u001b[0m\u001b[0;34m,\u001b[0m \u001b[0mweight\u001b[0m\u001b[0;34m,\u001b[0m \u001b[0;32mNone\u001b[0m\u001b[0;34m,\u001b[0m \u001b[0mignore_index\u001b[0m\u001b[0;34m,\u001b[0m \u001b[0;32mNone\u001b[0m\u001b[0;34m,\u001b[0m \u001b[0mreduction\u001b[0m\u001b[0;34m)\u001b[0m\u001b[0;34m\u001b[0m\u001b[0;34m\u001b[0m\u001b[0m\n\u001b[0m\u001b[1;32m   2423\u001b[0m \u001b[0;34m\u001b[0m\u001b[0m\n\u001b[1;32m   2424\u001b[0m \u001b[0;34m\u001b[0m\u001b[0m\n",
      "\u001b[0;32m~/.pyenv/versions/anaconda3-2020.02/lib/python3.7/site-packages/torch/nn/functional.py\u001b[0m in \u001b[0;36mnll_loss\u001b[0;34m(input, target, weight, size_average, ignore_index, reduce, reduction)\u001b[0m\n\u001b[1;32m   2216\u001b[0m                          .format(input.size(0), target.size(0)))\n\u001b[1;32m   2217\u001b[0m     \u001b[0;32mif\u001b[0m \u001b[0mdim\u001b[0m \u001b[0;34m==\u001b[0m \u001b[0;36m2\u001b[0m\u001b[0;34m:\u001b[0m\u001b[0;34m\u001b[0m\u001b[0;34m\u001b[0m\u001b[0m\n\u001b[0;32m-> 2218\u001b[0;31m         \u001b[0mret\u001b[0m \u001b[0;34m=\u001b[0m \u001b[0mtorch\u001b[0m\u001b[0;34m.\u001b[0m\u001b[0m_C\u001b[0m\u001b[0;34m.\u001b[0m\u001b[0m_nn\u001b[0m\u001b[0;34m.\u001b[0m\u001b[0mnll_loss\u001b[0m\u001b[0;34m(\u001b[0m\u001b[0minput\u001b[0m\u001b[0;34m,\u001b[0m \u001b[0mtarget\u001b[0m\u001b[0;34m,\u001b[0m \u001b[0mweight\u001b[0m\u001b[0;34m,\u001b[0m \u001b[0m_Reduction\u001b[0m\u001b[0;34m.\u001b[0m\u001b[0mget_enum\u001b[0m\u001b[0;34m(\u001b[0m\u001b[0mreduction\u001b[0m\u001b[0;34m)\u001b[0m\u001b[0;34m,\u001b[0m \u001b[0mignore_index\u001b[0m\u001b[0;34m)\u001b[0m\u001b[0;34m\u001b[0m\u001b[0;34m\u001b[0m\u001b[0m\n\u001b[0m\u001b[1;32m   2219\u001b[0m     \u001b[0;32melif\u001b[0m \u001b[0mdim\u001b[0m \u001b[0;34m==\u001b[0m \u001b[0;36m4\u001b[0m\u001b[0;34m:\u001b[0m\u001b[0;34m\u001b[0m\u001b[0;34m\u001b[0m\u001b[0m\n\u001b[1;32m   2220\u001b[0m         \u001b[0mret\u001b[0m \u001b[0;34m=\u001b[0m \u001b[0mtorch\u001b[0m\u001b[0;34m.\u001b[0m\u001b[0m_C\u001b[0m\u001b[0;34m.\u001b[0m\u001b[0m_nn\u001b[0m\u001b[0;34m.\u001b[0m\u001b[0mnll_loss2d\u001b[0m\u001b[0;34m(\u001b[0m\u001b[0minput\u001b[0m\u001b[0;34m,\u001b[0m \u001b[0mtarget\u001b[0m\u001b[0;34m,\u001b[0m \u001b[0mweight\u001b[0m\u001b[0;34m,\u001b[0m \u001b[0m_Reduction\u001b[0m\u001b[0;34m.\u001b[0m\u001b[0mget_enum\u001b[0m\u001b[0;34m(\u001b[0m\u001b[0mreduction\u001b[0m\u001b[0;34m)\u001b[0m\u001b[0;34m,\u001b[0m \u001b[0mignore_index\u001b[0m\u001b[0;34m)\u001b[0m\u001b[0;34m\u001b[0m\u001b[0;34m\u001b[0m\u001b[0m\n",
      "\u001b[0;31mRuntimeError\u001b[0m: Expected object of scalar type Long but got scalar type Float for argument #2 'target' in call to _thnn_nll_loss_forward"
     ]
    }
   ],
   "source": [
    "lbl_loss = F.cross_entropy(act_lbl, targ_lbl)\n",
    "lbl_loss"
   ]
  },
  {
   "cell_type": "code",
   "execution_count": null,
   "metadata": {},
   "outputs": [],
   "source": []
  },
  {
   "cell_type": "code",
   "execution_count": null,
   "metadata": {},
   "outputs": [],
   "source": []
  },
  {
   "cell_type": "code",
   "execution_count": null,
   "metadata": {},
   "outputs": [],
   "source": []
  },
  {
   "cell_type": "code",
   "execution_count": null,
   "metadata": {},
   "outputs": [],
   "source": []
  },
  {
   "cell_type": "code",
   "execution_count": null,
   "metadata": {},
   "outputs": [],
   "source": []
  },
  {
   "cell_type": "code",
   "execution_count": null,
   "metadata": {},
   "outputs": [],
   "source": []
  },
  {
   "cell_type": "code",
   "execution_count": null,
   "metadata": {},
   "outputs": [],
   "source": []
  },
  {
   "cell_type": "code",
   "execution_count": null,
   "metadata": {},
   "outputs": [],
   "source": []
  },
  {
   "cell_type": "code",
   "execution_count": null,
   "metadata": {},
   "outputs": [],
   "source": []
  },
  {
   "cell_type": "code",
   "execution_count": null,
   "metadata": {},
   "outputs": [],
   "source": []
  },
  {
   "cell_type": "code",
   "execution_count": null,
   "metadata": {},
   "outputs": [],
   "source": []
  },
  {
   "cell_type": "code",
   "execution_count": null,
   "metadata": {},
   "outputs": [],
   "source": []
  },
  {
   "cell_type": "code",
   "execution_count": null,
   "metadata": {},
   "outputs": [],
   "source": []
  },
  {
   "cell_type": "code",
   "execution_count": null,
   "metadata": {},
   "outputs": [],
   "source": []
  },
  {
   "cell_type": "code",
   "execution_count": null,
   "metadata": {},
   "outputs": [],
   "source": []
  },
  {
   "cell_type": "code",
   "execution_count": null,
   "metadata": {},
   "outputs": [],
   "source": []
  },
  {
   "cell_type": "code",
   "execution_count": null,
   "metadata": {},
   "outputs": [],
   "source": []
  },
  {
   "cell_type": "code",
   "execution_count": null,
   "metadata": {},
   "outputs": [],
   "source": []
  },
  {
   "cell_type": "code",
   "execution_count": null,
   "metadata": {},
   "outputs": [],
   "source": []
  },
  {
   "cell_type": "code",
   "execution_count": null,
   "metadata": {},
   "outputs": [],
   "source": []
  },
  {
   "cell_type": "code",
   "execution_count": null,
   "metadata": {},
   "outputs": [],
   "source": []
  },
  {
   "cell_type": "code",
   "execution_count": null,
   "metadata": {},
   "outputs": [],
   "source": []
  },
  {
   "cell_type": "code",
   "execution_count": null,
   "metadata": {},
   "outputs": [],
   "source": []
  }
 ],
 "metadata": {
  "kernelspec": {
   "display_name": "Python 3",
   "language": "python",
   "name": "python3"
  }
 },
 "nbformat": 4,
 "nbformat_minor": 4
}
