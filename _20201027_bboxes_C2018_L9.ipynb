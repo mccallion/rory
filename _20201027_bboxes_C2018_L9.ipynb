{
 "cells": [
  {
   "cell_type": "markdown",
   "metadata": {},
   "source": [
    "<h1>Table of Contents<span class=\"tocSkip\"></span></h1>\n",
    "<div class=\"toc\"><ul class=\"toc-item\"><li><ul class=\"toc-item\"><li><span><a href=\"#Log\" data-toc-modified-id=\"Log-0.1\"><span class=\"toc-item-num\">0.1&nbsp;&nbsp;</span>Log</a></span></li></ul></li><li><span><a href=\"#Pickles\" data-toc-modified-id=\"Pickles-1\"><span class=\"toc-item-num\">1&nbsp;&nbsp;</span>Pickles</a></span><ul class=\"toc-item\"><li><span><a href=\"#Everything\" data-toc-modified-id=\"Everything-1.1\"><span class=\"toc-item-num\">1.1&nbsp;&nbsp;</span>Everything</a></span></li><li><span><a href=\"#Subset\" data-toc-modified-id=\"Subset-1.2\"><span class=\"toc-item-num\">1.2&nbsp;&nbsp;</span>Subset</a></span></li><li><span><a href=\"#Read-data-from-pickled-df-(not-in-use-due-to-tensor-dtype-bug)\" data-toc-modified-id=\"Read-data-from-pickled-df-(not-in-use-due-to-tensor-dtype-bug)-1.3\"><span class=\"toc-item-num\">1.3&nbsp;&nbsp;</span>Read data from pickled df (not in use due to tensor dtype bug)</a></span></li></ul></li><li><span><a href=\"#DataLoaders\" data-toc-modified-id=\"DataLoaders-2\"><span class=\"toc-item-num\">2&nbsp;&nbsp;</span>DataLoaders</a></span><ul class=\"toc-item\"><li><span><a href=\"#New-method\" data-toc-modified-id=\"New-method-2.1\"><span class=\"toc-item-num\">2.1&nbsp;&nbsp;</span>New method</a></span></li></ul></li><li><span><a href=\"#Model\" data-toc-modified-id=\"Model-3\"><span class=\"toc-item-num\">3&nbsp;&nbsp;</span>Model</a></span><ul class=\"toc-item\"><li><span><a href=\"#Architecture\" data-toc-modified-id=\"Architecture-3.1\"><span class=\"toc-item-num\">3.1&nbsp;&nbsp;</span>Architecture</a></span></li><li><span><a href=\"#Loss\" data-toc-modified-id=\"Loss-3.2\"><span class=\"toc-item-num\">3.2&nbsp;&nbsp;</span>Loss</a></span></li></ul></li><li><span><a href=\"#Training\" data-toc-modified-id=\"Training-4\"><span class=\"toc-item-num\">4&nbsp;&nbsp;</span>Training</a></span></li><li><span><a href=\"#Working-With-a-Batch\" data-toc-modified-id=\"Working-With-a-Batch-5\"><span class=\"toc-item-num\">5&nbsp;&nbsp;</span>Working With a Batch</a></span></li></ul></div>"
   ]
  },
  {
   "cell_type": "markdown",
   "metadata": {},
   "source": [
    "## Log"
   ]
  },
  {
   "cell_type": "markdown",
   "metadata": {},
   "source": [
    "Video: https://www.youtube.com/watch?v=0frKXR-2PBY"
   ]
  },
  {
   "cell_type": "markdown",
   "metadata": {},
   "source": [
    "- 2020-10-27 (Tues): Started implementing Jeremy's solution w/ anchor boxes in 2018.9. Made progress. Left off video at 57:49.\n",
    "- 2020-11-05 (Thurs): Discovered bug in reading from pickled dataframe that was causing multilabel tensors to be created as float dtype instead of int dtype."
   ]
  },
  {
   "cell_type": "markdown",
   "metadata": {},
   "source": [
    "# Pickles"
   ]
  },
  {
   "cell_type": "markdown",
   "metadata": {},
   "source": [
    "## Everything"
   ]
  },
  {
   "cell_type": "code",
   "execution_count": null,
   "metadata": {},
   "outputs": [
    {
     "ename": "NameError",
     "evalue": "name 'train_files' is not defined",
     "output_type": "error",
     "traceback": [
      "\u001b[0;31m---------------------------------------------------------------------------\u001b[0m",
      "\u001b[0;31mNameError\u001b[0m                                 Traceback (most recent call last)",
      "\u001b[0;32m<ipython-input-1-737fe8c65b1c>\u001b[0m in \u001b[0;36m<module>\u001b[0;34m\u001b[0m\n\u001b[1;32m     23\u001b[0m     \u001b[0;34m\"lbl\"\u001b[0m\u001b[0;34m:\u001b[0m  \u001b[0mlbls\u001b[0m\u001b[0;34m,\u001b[0m\u001b[0;34m\u001b[0m\u001b[0;34m\u001b[0m\u001b[0m\n\u001b[1;32m     24\u001b[0m     \u001b[0;34m\"bbox\"\u001b[0m\u001b[0;34m:\u001b[0m \u001b[0mbboxes\u001b[0m\u001b[0;34m,\u001b[0m\u001b[0;34m\u001b[0m\u001b[0;34m\u001b[0m\u001b[0m\n\u001b[0;32m---> 25\u001b[0;31m     \u001b[0;34m\"is_valid\"\u001b[0m\u001b[0;34m:\u001b[0m \u001b[0;34m[\u001b[0m\u001b[0;36m0\u001b[0m\u001b[0;34m]\u001b[0m\u001b[0;34m*\u001b[0m\u001b[0mlen\u001b[0m\u001b[0;34m(\u001b[0m\u001b[0mtrain_files\u001b[0m\u001b[0;34m)\u001b[0m \u001b[0;34m+\u001b[0m \u001b[0;34m[\u001b[0m\u001b[0;36m1\u001b[0m\u001b[0;34m]\u001b[0m\u001b[0;34m*\u001b[0m\u001b[0mlen\u001b[0m\u001b[0;34m(\u001b[0m\u001b[0mvalid_files\u001b[0m\u001b[0;34m)\u001b[0m\u001b[0;34m,\u001b[0m\u001b[0;34m\u001b[0m\u001b[0;34m\u001b[0m\u001b[0m\n\u001b[0m\u001b[1;32m     26\u001b[0m     \u001b[0;34m\"n_items\"\u001b[0m\u001b[0;34m:\u001b[0m \u001b[0mL\u001b[0m\u001b[0;34m(\u001b[0m\u001b[0mlen\u001b[0m\u001b[0;34m(\u001b[0m\u001b[0ml\u001b[0m\u001b[0;34m)\u001b[0m \u001b[0;32mfor\u001b[0m \u001b[0ml\u001b[0m \u001b[0;32min\u001b[0m \u001b[0mlbls\u001b[0m\u001b[0;34m)\u001b[0m\u001b[0;34m\u001b[0m\u001b[0;34m\u001b[0m\u001b[0m\n\u001b[1;32m     27\u001b[0m     })\n",
      "\u001b[0;31mNameError\u001b[0m: name 'train_files' is not defined"
     ]
    }
   ],
   "source": [
    "# from fastai.vision.all import *\n",
    "\n",
    "# # paths\n",
    "# path = Path('/home/rory/data/coco2017')\n",
    "# train_im_dir, valid_im_dir = 'train2017', 'val2017'\n",
    "# train_json = 'annotations/instances_train2017.json'\n",
    "# valid_json = 'annotations/instances_val2017.json'\n",
    "\n",
    "# # get items & annos\n",
    "# def get_annos(path, anno_file, im_folder):\n",
    "#     xs, ys = get_annotations(path/anno_file)\n",
    "#     return L(xs).map(lambda x: path/im_folder/x), ys\n",
    "# train_paths, train_annos = get_annos(path, train_json, train_im_dir)\n",
    "# valid_paths, valid_annos = get_annos(path, valid_json, valid_im_dir)\n",
    "# paths  = train_paths + valid_paths\n",
    "# annos  = train_annos + valid_annos\n",
    "# bboxes = [a[0] for a in annos]\n",
    "# lbls   = [a[1] for a in annos]\n",
    "\n",
    "# # create df and pkl\n",
    "# df = pd.DataFrame({\n",
    "#     \"path\": paths,\n",
    "#     \"lbl\":  lbls,\n",
    "#     \"bbox\": bboxes,\n",
    "#     \"is_valid\": [0]*len(train_files) + [1]*len(valid_files),\n",
    "#     \"n_items\": L(len(l) for l in lbls)\n",
    "#     })\n",
    "# df.to_pickle(path/'20201027_coco_df.pkl')\n",
    "\n",
    "# df.head(1)"
   ]
  },
  {
   "cell_type": "markdown",
   "metadata": {},
   "source": [
    "## Subset"
   ]
  },
  {
   "cell_type": "code",
   "execution_count": null,
   "metadata": {},
   "outputs": [],
   "source": [
    "# from fastai.vision.all import *\n",
    "    \n",
    "    \n",
    "# # paths\n",
    "# path = Path('/home/rory/data/coco2017')\n",
    "# train_im_dir, valid_im_dir = 'train2017', 'val2017'\n",
    "# train_json = 'annotations/instances_train2017.json'\n",
    "# valid_json = 'annotations/instances_val2017.json'\n",
    "\n",
    "# # get items & annos\n",
    "# def get_annos(path, anno_file, im_folder):\n",
    "#     xs, ys = get_annotations(path/anno_file)\n",
    "#     return L(xs).map(lambda x: path/im_folder/x), ys\n",
    "# train_files, train_annos = get_annos(path, train_json, train_im_dir)\n",
    "# valid_files, valid_annos = get_annos(path, valid_json, valid_im_dir)\n",
    "# annos = train_annos + valid_annos\n",
    "# bboxes = L(L(b) for b,l in annos)\n",
    "# lbls   = L(L(l) for b,l in annos)\n",
    "\n",
    "# # get label subset\n",
    "# def flatten(l):\n",
    "#     def _recur(l,res):\n",
    "#         for o in l:\n",
    "#             if   isinstance(o,list): _recur(o,res)\n",
    "#             elif isinstance(o,L)   : _recur(o,res)\n",
    "#             else: res.append(o)\n",
    "#         return res\n",
    "#     return _recur(l, L())\n",
    "# lbls_flat = flatten(lbls)\n",
    "# def get_count(lbl): return len(lbls_flat.filter(lambda x: x==lbl))\n",
    "# lbls_sorted = sorted(lbls_flat.unique(), key=get_count, reverse=True)\n",
    "# lbl_cts = [(l, get_count(l)) for l in lbls_sorted]\n",
    "# lbl_ss = [l for l,c in lbl_cts if 5000<c<30000]\n",
    "# lbl_ss.remove('traffic light')\n",
    "# lbl_ss.remove('motorcycle')\n",
    "# lbl_ss.remove('bus')\n",
    "\n",
    "# # get subset items & annos\n",
    "# ss_idxs   = [[o in lbl_ss for o in l] for l in lbls]\n",
    "# ss_lbls   = [list(o[i]) for o,i in zip(lbls,ss_idxs)]\n",
    "# ss_bboxes = [list(o[i]) for o,i in zip(bboxes,ss_idxs)]\n",
    "# ss_obj    = [len(l) for l in ss_lbls]\n",
    "\n",
    "# # create df\n",
    "# df = pd.DataFrame({\n",
    "#     \"path\"  : train_files + valid_files,\n",
    "#     \"lbl\"   : ss_lbls,\n",
    "#     \"bbox\"  : ss_bboxes,\n",
    "#     \"n_obj\" : ss_obj\n",
    "#     })\n",
    "\n",
    "# # remove rows w/ 4+ objects per im\n",
    "# # reduce value counts to a max of 2*min_vc\n",
    "# too_many = 8\n",
    "# rng = list(range(too_many))\n",
    "# cts = list(df['n_obj'].value_counts())[:too_many]\n",
    "# minv = min(cts)\n",
    "# zipd = list(zip(*[rng,cts]))\n",
    "# zipd[0] = (0, minv) # limit ims w/zero objs\n",
    "# df = pd.concat([df[df['n_obj']==i].sample(n=min(s,minv*2)) for i,s in zipd])\n",
    "\n",
    "# # create pkl\n",
    "# df.to_pickle(path/'20201029_coco_ss_df.pkl')"
   ]
  },
  {
   "cell_type": "markdown",
   "metadata": {},
   "source": [
    "## Read data from pickled df (not in use due to tensor dtype bug)"
   ]
  },
  {
   "cell_type": "code",
   "execution_count": null,
   "metadata": {},
   "outputs": [],
   "source": [
    "# from fastai.vision.all import *\n",
    "\n",
    "\n",
    "# ### Params ###\n",
    "# im_size    = 224\n",
    "# batch_size = 64\n",
    "# path       = Path('/home/rory/data/coco2017')\n",
    "# valid_pct  = .10\n",
    "\n",
    "\n",
    "# ### Items ###\n",
    "# df = pd.read_pickle(path/'20201029_coco_ss_df.pkl')\n",
    "# # get items\n",
    "# def get_cols(df,cols): return [df[c].to_list() for c in cols]\n",
    "# paths, bboxes, lbls  = get_cols(df, ['path', 'bbox', 'lbl'])\n",
    "# p2b = {p:b for p,b in zip(paths,bboxes)}\n",
    "# p2l = {p:l for p,l in zip(paths,lbls)}\n",
    "# def get_bbox(p): return p2b[p]\n",
    "# def get_lbl(p):  return p2l[p]\n",
    "\n",
    "\n",
    "# ### DataBlock & DataLoaders ###\n",
    "# db = DataBlock(\n",
    "#     blocks=[ImageBlock, BBoxBlock, BBoxLblBlock],\n",
    "#     get_y=[get_bbox, get_lbl],\n",
    "#     splitter=RandomSplitter(valid_pct),\n",
    "#     item_tfms=Resize(im_size, method='squish'),\n",
    "#     batch_tfms=Normalize.from_stats(*imagenet_stats),\n",
    "#     n_inp=1)\n",
    "# dls = db.dataloaders(paths)"
   ]
  },
  {
   "cell_type": "markdown",
   "metadata": {},
   "source": [
    "# DataLoaders"
   ]
  },
  {
   "cell_type": "code",
   "execution_count": null,
   "metadata": {},
   "outputs": [
    {
     "name": "stdout",
     "output_type": "stream",
     "text": [
      "Size of train data: 32999\n",
      "Size of valid data: 3666\n",
      "batch[0]: \t torch.float32 \t torch.Size([64, 3, 224, 224])\n",
      "batch[1]: \t torch.float32 \t torch.Size([64, 21, 4])\n",
      "batch[2]: \t torch.int64 \t torch.Size([64, 21])\n"
     ]
    }
   ],
   "source": [
    "from fastai.vision.all import *\n",
    "\n",
    "\n",
    "### Params ###\n",
    "im_size    = 224\n",
    "batch_size = 64\n",
    "valid_pct  = .10\n",
    "subset_pct = .3\n",
    "\n",
    "# paths\n",
    "path = Path('/home/rory/data/coco2017')\n",
    "train_im_dir, valid_im_dir = 'train2017', 'val2017'\n",
    "train_json = 'annotations/instances_train2017.json'\n",
    "valid_json = 'annotations/instances_val2017.json'\n",
    "\n",
    "\n",
    "### Get Items ###\n",
    "def get_annos(path, anno_file, im_folder):\n",
    "    xs, ys = get_annotations(path/anno_file)\n",
    "    return L(xs).map(lambda x: path/im_folder/x), ys\n",
    "train_paths, train_annos = get_annos(path, train_json, train_im_dir)\n",
    "valid_paths, valid_annos = get_annos(path, valid_json, valid_im_dir)\n",
    "paths = train_paths + valid_paths\n",
    "annos = train_annos + valid_annos\n",
    "p2a = {p:b for p,b in zip(paths,annos)}\n",
    "def get_bbox(p): return p2a[p][0]\n",
    "def get_lbl(p):  return p2a[p][1]\n",
    "\n",
    "\n",
    "### DataBlock & DataLoaders ###\n",
    "db = DataBlock(\n",
    "    blocks=[ImageBlock, BBoxBlock, BBoxLblBlock],\n",
    "    get_y=[get_bbox, get_lbl],\n",
    "    splitter=RandomSplitter(valid_pct),\n",
    "    item_tfms=Resize(im_size, method='squish'),\n",
    "    batch_tfms=Normalize.from_stats(*imagenet_stats),\n",
    "    n_inp=1)\n",
    "subset = paths.shuffle()[0:int(len(paths)*subset_pct)]\n",
    "dls = db.dataloaders(subset)\n",
    "\n",
    "\n",
    "### Inspection (IMPORTANT) ###\n",
    "print(\"Size of train data:\",len(dls.train.items))\n",
    "print(\"Size of valid data:\",len(dls.valid.items))\n",
    "for i,t in enumerate(dls.one_batch()):\n",
    "    print(f\"batch[{i}]:\",'\\t',t.dtype,'\\t',t.shape)"
   ]
  },
  {
   "cell_type": "markdown",
   "metadata": {},
   "source": [
    "# Model"
   ]
  },
  {
   "cell_type": "markdown",
   "metadata": {},
   "source": [
    "## Architecture"
   ]
  },
  {
   "cell_type": "code",
   "execution_count": null,
   "metadata": {},
   "outputs": [],
   "source": [
    "# 42:00\n",
    "class StdConv(Module):\n",
    "    def __init__(self, nin, nout, stride=2, drop=0.1):\n",
    "        super().__init__()\n",
    "        self.conv = nn.Conv2d(nin, nout, 3, stride=stride, padding=1)\n",
    "        self.bn = nn.BatchNorm2d(nout)\n",
    "        self.drop = nn.Dropout(drop)\n",
    "        \n",
    "    def forward(self, x): return self.drop(self.bn(F.relu(self.conv(x))))\n",
    "\n",
    "def flatten_conv(x,k):\n",
    "    return x.view(x.size(0), x.size(1)//k, -1).transpose(1,2) # loss expects flat tensor\n",
    "\n",
    "class OutConv(Module):\n",
    "    # output is two conv layers (instead of one linear layer)\n",
    "    def __init__(self, k, nin, bias):\n",
    "        super().__init__()\n",
    "        self.k = k\n",
    "        self.oconv1 = nn.Conv2d(nin, 4*k, 3, padding=1)              # bbs\n",
    "        self.oconv2 = nn.Conv2d(nin, len(dls.vocab)*k, 3, padding=1) # lbls\n",
    "        self.oconv2.bias.data.zero_().add_(bias)\n",
    "        \n",
    "    def forward(self, x):\n",
    "        return [flatten_conv(self.oconv1(x), self.k),\n",
    "                flatten_conv(self.oconv2(x), self.k)]\n",
    "\n",
    "class SSD_Head(Module):\n",
    "    def __init__(self, k, bias):\n",
    "        super().__init__()\n",
    "        self.drop = nn.Dropout(0.25)\n",
    "        self.sconv0 = StdConv(512,256, stride=1)\n",
    "#         self.sconv1 = StdConv(256,256)\n",
    "        self.sconv1 = StdConv(256,256)\n",
    "        self.out = OutConv(k, 256, bias)\n",
    "        \n",
    "    def forward(self, x):\n",
    "        x = self.drop(F.relu(x))\n",
    "        x = self.sconv0(x)\n",
    "#         x = self.sconv1(x)\n",
    "        x = self.sconv1(x)\n",
    "        return self.out(x)\n",
    "\n",
    "class Custom_Module(Module):\n",
    "    def __init__(self, body, head):\n",
    "        self.body, self.head = body, head\n",
    "        \n",
    "    def forward(self, x):\n",
    "        return self.head(self.body(x))"
   ]
  },
  {
   "cell_type": "markdown",
   "metadata": {},
   "source": [
    "## Loss"
   ]
  },
  {
   "cell_type": "code",
   "execution_count": null,
   "metadata": {},
   "outputs": [],
   "source": [
    "### Anchors ###\n",
    "def create_anchors(k=1, subdivs=4, device='cuda'):\n",
    "    box_size = 1/subdivs\n",
    "    anc_offset = box_size*.5\n",
    "    anc_x = np.repeat(np.linspace(anc_offset, 1-anc_offset, subdivs), subdivs)\n",
    "    anc_y = np.tile(  np.linspace(anc_offset, 1-anc_offset, subdivs), subdivs)\n",
    "    anc_ctrs = np.tile(np.stack([anc_x,anc_y], axis=1), (k,1))\n",
    "    anc_hws = np.array([[box_size,box_size] for i in range(subdivs**2)])\n",
    "    anchors = torch.cat((tensor(anc_ctrs), tensor(anc_hws)), axis=1)\n",
    "    box_size = tensor(np.array([box_size]), requires_grad=False).unsqueeze(1)\n",
    "    return anchors.to(device), box_size.to(device)\n",
    "anchors, box_size = create_anchors()\n",
    "\n",
    "def create_anchor_boxes(ctr, hw):\n",
    "    return 2*torch.cat((tensor(ctr-hw/2), tensor(ctr+hw/2)), axis=1)-1\n",
    "anchor_boxes = create_anchor_boxes(anchors[:,:2], anchors[:,2:])\n",
    "\n",
    "\n",
    "\n",
    "### BCE Loss ###\n",
    "def one_hot_embedding(lbls, n_cls):\n",
    "    return torch.eye(n_cls)[lbls.data.long()]\n",
    "\n",
    "class BCE_Loss(nn.Module): # 1:05:35\n",
    "    def __init__(self, n_cls):\n",
    "        super().__init__()\n",
    "        self.n_cls = n_cls\n",
    "        \n",
    "    def forward(self, act_lbl, targ_lbl):\n",
    "        a = act_lbl[:,1:]\n",
    "        t = one_hot_embedding(targ_lbl, self.n_cls)\n",
    "        t = tensor(t[:,1:].contiguous()).type_as(a)\n",
    "        return F.binary_cross_entropy_with_logits(a,t,None,reduction='sum')/self.n_cls\n",
    "\n",
    "    \n",
    "    \n",
    "### IOU ###\n",
    "def intersxn(b1,b2):\n",
    "    x1 = torch.max((b1)[:,None,0], (b2)[None,:,0])\n",
    "    y1 = torch.max((b1)[:,None,1], (b2)[None,:,1])\n",
    "    x2 = torch.min((b1)[:,None,2], (b2)[None,:,2])\n",
    "    y2 = torch.min((b1)[:,None,3], (b2)[None,:,3])\n",
    "    return torch.clamp((x2-x1), min=0) * torch.clamp((y2-y1), min=0)\n",
    "\n",
    "def area(b):\n",
    "    return (b[:,2]-b[:,0]) * (b[:,3]-b[:,1])\n",
    "\n",
    "def get_iou(b1, b2):\n",
    "    inter = intersxn(b1,b2)\n",
    "    union = area(b1).unsqueeze(1) + area(b2).unsqueeze(0) - inter\n",
    "    return inter / union\n",
    "\n",
    "\n",
    "\n",
    "### SSD Loss ##\n",
    "def remove_padding(bb, lbl): # 1:11:10\n",
    "    bb = bb.view(-1,4)\n",
    "    padding = (bb[:,2]-bb[:,0])==0\n",
    "    return bb[~padding],lbl[~padding]\n",
    "\n",
    "def adjust_anchor_boxes(act_bb, anchors, box_size):\n",
    "    acts = torch.tanh(act_bb) # scale acts \n",
    "    ctrs = anchors[:,:2] + (acts[:,:2]/2 * box_size) # move ctrs by up to box_size/2\n",
    "    hws  = anchors[:,2:] * (acts[:,2:]/2+1)\n",
    "    return create_anchor_boxes(ctrs, hws)\n",
    "\n",
    "def get_targ_idx(ious):\n",
    "    max_iou_per_bb, anc_idxs = ious.max(1)\n",
    "    max_iou_per_anc, bb_idxs = ious.max(0)\n",
    "    max_iou_per_anc[anc_idxs] = 1.99\n",
    "    for i,iou in enumerate(anc_idxs): bb_idxs[iou] = i\n",
    "    return max_iou_per_anc, bb_idxs\n",
    "\n",
    "def ssd_item_loss(act_bb, act_lbl, bb, lbl): # 1:11:30\n",
    "    bb, lbl = remove_padding(bb, lbl)\n",
    "    pred_bb = adjust_anchor_boxes(act_bb, anchors, box_size)\n",
    "    ious = get_iou(bb.data, anchor_boxes.data)\n",
    "    anc_ious, targ_idx = get_targ_idx(ious)\n",
    "    targ_lbl = lbl[targ_idx]\n",
    "    above_thresh = anc_ious > 0.4\n",
    "    assigned_idx = torch.nonzero(above_thresh)[:,0]\n",
    "    targ_lbl[~above_thresh] = 0\n",
    "    targ_bb = bb[targ_idx]\n",
    "    # loss functions\n",
    "    bb_loss = ((pred_bb[assigned_idx] - targ_bb[assigned_idx]).abs()).mean()\n",
    "    lbl_loss = loss_f(act_lbl, targ_lbl)\n",
    "    return bb_loss, lbl_loss\n",
    "\n",
    "def ssd_loss(acts, bbs, lbls):\n",
    "    sum_bb_loss, sum_lbl_loss = 0., 0.\n",
    "    for act_bb,act_lbl,bb,lbl in zip(*acts, bbs, lbls):\n",
    "        bb_loss,lbl_loss = ssd_item_loss(act_bb,act_lbl,bb,lbl)\n",
    "        sum_bb_loss += bb_loss\n",
    "        sum_lbl_loss += lbl_loss\n",
    "    return sum_bb_loss + sum_lbl_loss"
   ]
  },
  {
   "cell_type": "markdown",
   "metadata": {},
   "source": [
    "# Training"
   ]
  },
  {
   "cell_type": "code",
   "execution_count": null,
   "metadata": {},
   "outputs": [],
   "source": [
    "k=1\n",
    "head_reg4 = SSD_Head(k, -3.)\n",
    "body = create_body(resnet34, pretrained=True)\n",
    "mod = Custom_Module(body, head_reg4)\n",
    "\n",
    "loss_f = BCE_Loss(len(dls.vocab))\n",
    "\n",
    "learner = Learner(dls, mod, loss_func = ssd_loss)\n",
    "learner.freeze()"
   ]
  },
  {
   "cell_type": "code",
   "execution_count": null,
   "metadata": {},
   "outputs": [
    {
     "data": {
      "text/html": [],
      "text/plain": [
       "<IPython.core.display.HTML object>"
      ]
     },
     "metadata": {},
     "output_type": "display_data"
    },
    {
     "data": {
      "text/plain": [
       "SuggestedLRs(lr_min=0.00831763744354248, lr_steep=0.001737800776027143)"
      ]
     },
     "execution_count": null,
     "metadata": {},
     "output_type": "execute_result"
    },
    {
     "data": {
      "image/png": "[encoded data removed]",
      "text/plain": [
       "<Figure size 432x288 with 1 Axes>"
      ]
     },
     "metadata": {
      "needs_background": "light"
     },
     "output_type": "display_data"
    }
   ],
   "source": [
    "learner.lr_find()"
   ]
  },
  {
   "cell_type": "markdown",
   "metadata": {},
   "source": [
    "# Working With a Batch"
   ]
  },
  {
   "cell_type": "code",
   "execution_count": null,
   "metadata": {},
   "outputs": [],
   "source": [
    "def show_bb(im,bb,lbl=None,sz=224,figsize=[5,5],color='white',ctx=None,use_vocab=True,title=None):\n",
    "    bboxes = TensorBBox((bb+1)*sz//2)\n",
    "    if lbl!=None:\n",
    "        if use_vocab==True:\n",
    "            try: label = dls.vocab[lbl]\n",
    "            except: label = lbl\n",
    "        else: label = lbl\n",
    "        lbboxes = LabeledBBox(bboxes, label)\n",
    "    if ctx==None: ctx=show_image(im, figsize=figsize, title=title)\n",
    "    else: show_image(im, figsize=figsize, title=title, ctx=ctx)\n",
    "    if lbl!=None: lbboxes.show(ctx=ctx) # draw white bboxes and lbls\n",
    "    bboxes.show(ctx=ctx, color=color) # draw colored bboxes over white bboxes\n",
    "    return ctx"
   ]
  },
  {
   "cell_type": "markdown",
   "metadata": {},
   "source": [
    "JH uses b_clasi and b_bboxi for his model outputs (acts), and bbox and clas for his batch outputs."
   ]
  },
  {
   "cell_type": "code",
   "execution_count": null,
   "metadata": {},
   "outputs": [],
   "source": [
    "# grab batch and acts (52m)\n",
    "batch = dls.one_batch()\n",
    "b_ims, b_bbs, b_lbls = batch"
   ]
  },
  {
   "cell_type": "code",
   "execution_count": null,
   "metadata": {},
   "outputs": [],
   "source": [
    "# grab acts\n",
    "learner.model.eval()\n",
    "learner.model.cuda()\n",
    "acts = learner.model(b_ims)\n",
    "act_bbs, act_lbls = acts"
   ]
  },
  {
   "cell_type": "code",
   "execution_count": null,
   "metadata": {},
   "outputs": [
    {
     "data": {
      "image/png": "[encoded data removed]",
      "text/plain": [
       "<Figure size 360x360 with 1 Axes>"
      ]
     },
     "metadata": {
      "needs_background": "light"
     },
     "output_type": "display_data"
    }
   ],
   "source": [
    "# grab single im and its b_ & a_ bbox,lbl\n",
    "idx=3\n",
    "\n",
    "bb  = b_bbs[idx]\n",
    "lbl = b_lbls[idx]\n",
    "\n",
    "act_bb  = act_bbs[idx]\n",
    "act_lbl = act_lbls[idx]\n",
    "\n",
    "decoded_batch = dls.decode(batch)\n",
    "im = decoded_batch[0][idx]\n",
    "\n",
    "# show im w/ targ, ancs\n",
    "ctx = show_bb(im, anchor_boxes, sz=im_size, color='black')\n",
    "show_bb(im, bb, lbl, sz=im_size, ctx=ctx);"
   ]
  },
  {
   "cell_type": "markdown",
   "metadata": {},
   "source": [
    "Interpreting the activations:\n",
    "- `a_bbox` has 16 sets of 4 → 16 bboxes\n",
    "- `a_lbl` has 16 sets of 51 → 16 sets 51 probs (1 prob per item in dls.vocab)"
   ]
  },
  {
   "cell_type": "code",
   "execution_count": null,
   "metadata": {},
   "outputs": [
    {
     "data": {
      "text/plain": [
       "(tensor([[-0.2207, -0.3678,  0.1035, -0.2843],\n",
       "         [ 0.6874,  0.1528,  0.7743,  0.1855],\n",
       "         [ 0.7756,  0.1506,  0.8800,  0.1891],\n",
       "         [ 0.0000,  0.0000,  0.0000,  0.0000],\n",
       "         [ 0.0000,  0.0000,  0.0000,  0.0000],\n",
       "         [ 0.0000,  0.0000,  0.0000,  0.0000],\n",
       "         [ 0.0000,  0.0000,  0.0000,  0.0000],\n",
       "         [ 0.0000,  0.0000,  0.0000,  0.0000],\n",
       "         [ 0.0000,  0.0000,  0.0000,  0.0000],\n",
       "         [ 0.0000,  0.0000,  0.0000,  0.0000],\n",
       "         [ 0.0000,  0.0000,  0.0000,  0.0000],\n",
       "         [ 0.0000,  0.0000,  0.0000,  0.0000],\n",
       "         [ 0.0000,  0.0000,  0.0000,  0.0000],\n",
       "         [ 0.0000,  0.0000,  0.0000,  0.0000],\n",
       "         [ 0.0000,  0.0000,  0.0000,  0.0000],\n",
       "         [ 0.0000,  0.0000,  0.0000,  0.0000],\n",
       "         [ 0.0000,  0.0000,  0.0000,  0.0000],\n",
       "         [ 0.0000,  0.0000,  0.0000,  0.0000],\n",
       "         [ 0.0000,  0.0000,  0.0000,  0.0000],\n",
       "         [ 0.0000,  0.0000,  0.0000,  0.0000],\n",
       "         [ 0.0000,  0.0000,  0.0000,  0.0000],\n",
       "         [ 0.0000,  0.0000,  0.0000,  0.0000],\n",
       "         [ 0.0000,  0.0000,  0.0000,  0.0000],\n",
       "         [ 0.0000,  0.0000,  0.0000,  0.0000],\n",
       "         [ 0.0000,  0.0000,  0.0000,  0.0000],\n",
       "         [ 0.0000,  0.0000,  0.0000,  0.0000],\n",
       "         [ 0.0000,  0.0000,  0.0000,  0.0000],\n",
       "         [ 0.0000,  0.0000,  0.0000,  0.0000],\n",
       "         [ 0.0000,  0.0000,  0.0000,  0.0000],\n",
       "         [ 0.0000,  0.0000,  0.0000,  0.0000],\n",
       "         [ 0.0000,  0.0000,  0.0000,  0.0000],\n",
       "         [ 0.0000,  0.0000,  0.0000,  0.0000],\n",
       "         [ 0.0000,  0.0000,  0.0000,  0.0000],\n",
       "         [ 0.0000,  0.0000,  0.0000,  0.0000],\n",
       "         [ 0.0000,  0.0000,  0.0000,  0.0000],\n",
       "         [ 0.0000,  0.0000,  0.0000,  0.0000],\n",
       "         [ 0.0000,  0.0000,  0.0000,  0.0000],\n",
       "         [ 0.0000,  0.0000,  0.0000,  0.0000]], device='cuda:0'),\n",
       " tensor([ 1, 75, 75,  0,  0,  0,  0,  0,  0,  0,  0,  0,  0,  0,  0,  0,  0,  0,\n",
       "          0,  0,  0,  0,  0,  0,  0,  0,  0,  0,  0,  0,  0,  0,  0,  0,  0,  0,\n",
       "          0,  0], device='cuda:0'))"
      ]
     },
     "execution_count": null,
     "metadata": {},
     "output_type": "execute_result"
    }
   ],
   "source": [
    "bb, lbl"
   ]
  },
  {
   "cell_type": "code",
   "execution_count": null,
   "metadata": {},
   "outputs": [
    {
     "data": {
      "text/plain": [
       "(tensor([[-0.2207, -0.3678,  0.1035, -0.2843],\n",
       "         [ 0.6874,  0.1528,  0.7743,  0.1855],\n",
       "         [ 0.7756,  0.1506,  0.8800,  0.1891]], device='cuda:0'),\n",
       " tensor([ 1, 75, 75], device='cuda:0'))"
      ]
     },
     "execution_count": null,
     "metadata": {},
     "output_type": "execute_result"
    }
   ],
   "source": [
    "bb, lbl = remove_padding(bb, lbl)\n",
    "bb, lbl"
   ]
  },
  {
   "cell_type": "code",
   "execution_count": null,
   "metadata": {},
   "outputs": [
    {
     "data": {
      "text/plain": [
       "tensor([[-0.0556, -0.0846, -0.0076,  0.0416],\n",
       "        [-0.2327,  0.0260, -0.1926,  0.2061],\n",
       "        [-0.2514, -0.0407, -0.3315,  0.2111],\n",
       "        [-0.0667, -0.1395, -0.2915,  0.1028],\n",
       "        [-0.1700, -0.2928,  0.0278,  0.2126],\n",
       "        [-0.3300, -0.2728,  0.0331,  0.4671],\n",
       "        [-0.1598, -0.2055, -0.2945,  0.3873],\n",
       "        [-0.0854, -0.1304, -0.3179,  0.2054],\n",
       "        [-0.3465, -0.0973, -0.1581,  0.2130],\n",
       "        [-0.2106,  0.0406, -0.1469,  0.3431],\n",
       "        [ 0.0272, -0.1153, -0.2860,  0.2246],\n",
       "        [ 0.0735, -0.0262, -0.1617,  0.0949],\n",
       "        [-0.2020, -0.0075, -0.2236, -0.0331],\n",
       "        [-0.2462, -0.0205, -0.0272, -0.0149],\n",
       "        [-0.1325, -0.0083, -0.1141,  0.0998],\n",
       "        [ 0.0170,  0.0610, -0.1479,  0.1125]], device='cuda:0',\n",
       "       grad_fn=<TanhBackward>)"
      ]
     },
     "execution_count": null,
     "metadata": {},
     "output_type": "execute_result"
    }
   ],
   "source": [
    "acts = torch.tanh(act_bb) # scale acts \n",
    "acts"
   ]
  },
  {
   "cell_type": "code",
   "execution_count": null,
   "metadata": {},
   "outputs": [
    {
     "data": {
      "text/plain": [
       "tensor([[-0.0556, -0.0846, -0.0076,  0.0416],\n",
       "        [-0.2327,  0.0260, -0.1926,  0.2061],\n",
       "        [-0.2514, -0.0407, -0.3315,  0.2111],\n",
       "        [-0.0667, -0.1395, -0.2915,  0.1028],\n",
       "        [-0.1700, -0.2928,  0.0278,  0.2126],\n",
       "        [-0.3300, -0.2728,  0.0331,  0.4671],\n",
       "        [-0.1598, -0.2055, -0.2945,  0.3873],\n",
       "        [-0.0854, -0.1304, -0.3179,  0.2054],\n",
       "        [-0.3465, -0.0973, -0.1581,  0.2130],\n",
       "        [-0.2106,  0.0406, -0.1469,  0.3431],\n",
       "        [ 0.0272, -0.1153, -0.2860,  0.2246],\n",
       "        [ 0.0735, -0.0262, -0.1617,  0.0949],\n",
       "        [-0.2020, -0.0075, -0.2236, -0.0331],\n",
       "        [-0.2462, -0.0205, -0.0272, -0.0149],\n",
       "        [-0.1325, -0.0083, -0.1141,  0.0998],\n",
       "        [ 0.0170,  0.0610, -0.1479,  0.1125]], device='cuda:0',\n",
       "       grad_fn=<TanhBackward>)"
      ]
     },
     "execution_count": null,
     "metadata": {},
     "output_type": "execute_result"
    }
   ],
   "source": [
    "acts"
   ]
  },
  {
   "cell_type": "code",
   "execution_count": null,
   "metadata": {},
   "outputs": [
    {
     "data": {
      "text/plain": [
       "tensor([[0.1181, 0.1144],\n",
       "        [0.0959, 0.3783],\n",
       "        [0.0936, 0.6199],\n",
       "        [0.1167, 0.8576],\n",
       "        [0.3538, 0.0884],\n",
       "        [0.3337, 0.3409],\n",
       "        [0.3550, 0.5993],\n",
       "        [0.3643, 0.8587],\n",
       "        [0.5817, 0.1128],\n",
       "        [0.5987, 0.3801],\n",
       "        [0.6284, 0.6106],\n",
       "        [0.6342, 0.8717],\n",
       "        [0.8497, 0.1241],\n",
       "        [0.8442, 0.3724],\n",
       "        [0.8584, 0.6240],\n",
       "        [0.8771, 0.8826]], device='cuda:0', grad_fn=<AddBackward0>)"
      ]
     },
     "execution_count": null,
     "metadata": {},
     "output_type": "execute_result"
    }
   ],
   "source": [
    "ctrs = anchors[:,:2] + (acts[:,:2]/2 * box_size) # move ctrs by up to box_size/2\n",
    "ctrs"
   ]
  },
  {
   "cell_type": "code",
   "execution_count": null,
   "metadata": {},
   "outputs": [],
   "source": [
    "hws  = anchors[:,2:] * (acts[:,2:]/2+1)"
   ]
  },
  {
   "cell_type": "code",
   "execution_count": null,
   "metadata": {},
   "outputs": [
    {
     "data": {
      "text/plain": [
       "tensor([[-1.0129, -1.0264, -0.5148, -0.5160],\n",
       "        [-1.0341, -0.5193, -0.5822,  0.0323],\n",
       "        [-1.0214, -0.0366, -0.6043,  0.5162],\n",
       "        [-0.9803,  0.4523, -0.5531,  0.9780],\n",
       "        [-0.5460, -1.0998, -0.0390, -0.5466],\n",
       "        [-0.5866, -0.6266, -0.0784, -0.0098],\n",
       "        [-0.5031, -0.0998, -0.0768,  0.4970],\n",
       "        [-0.4816,  0.4417, -0.0611,  0.9931],\n",
       "        [-0.0669, -1.0509,  0.3936, -0.4977],\n",
       "        [-0.0343, -0.5327,  0.4290,  0.0530],\n",
       "        [ 0.0426, -0.0569,  0.4711,  0.4993],\n",
       "        [ 0.0386,  0.4816,  0.4982,  1.0053],\n",
       "        [ 0.4774, -0.9977,  0.9215, -0.5060],\n",
       "        [ 0.4419, -0.5033,  0.9351, -0.0070],\n",
       "        [ 0.4811, -0.0145,  0.9526,  0.5104],\n",
       "        [ 0.5227,  0.5012,  0.9858,  1.0293]], device='cuda:0',\n",
       "       grad_fn=<SubBackward0>)"
      ]
     },
     "execution_count": null,
     "metadata": {},
     "output_type": "execute_result"
    }
   ],
   "source": [
    "pred_bb = create_anchor_boxes(ctrs, hws)\n",
    "pred_bb"
   ]
  },
  {
   "cell_type": "code",
   "execution_count": null,
   "metadata": {},
   "outputs": [
    {
     "data": {
      "text/plain": [
       "tensor([[0.0000, 0.0000, 0.0000, 0.0000, 0.0000, 0.0712, 0.0000, 0.0000, 0.0000,\n",
       "         0.0322, 0.0000, 0.0000, 0.0000, 0.0000, 0.0000, 0.0000],\n",
       "        [0.0000, 0.0000, 0.0000, 0.0000, 0.0000, 0.0000, 0.0000, 0.0000, 0.0000,\n",
       "         0.0000, 0.0000, 0.0000, 0.0000, 0.0000, 0.0114, 0.0000],\n",
       "        [0.0000, 0.0000, 0.0000, 0.0000, 0.0000, 0.0000, 0.0000, 0.0000, 0.0000,\n",
       "         0.0000, 0.0000, 0.0000, 0.0000, 0.0000, 0.0161, 0.0000]],\n",
       "       device='cuda:0')"
      ]
     },
     "execution_count": null,
     "metadata": {},
     "output_type": "execute_result"
    }
   ],
   "source": [
    "ious = get_iou(bb.data, anchor_boxes.data)\n",
    "ious"
   ]
  },
  {
   "cell_type": "code",
   "execution_count": null,
   "metadata": {},
   "outputs": [
    {
     "data": {
      "text/plain": [
       "(tensor([0.0000, 0.0000, 0.0000, 0.0000, 0.0000, 1.9900, 0.0000, 0.0000, 0.0000,\n",
       "         0.0322, 0.0000, 0.0000, 0.0000, 0.0000, 1.9900, 0.0000],\n",
       "        device='cuda:0'),\n",
       " tensor([2, 2, 2, 2, 2, 0, 2, 2, 2, 0, 2, 2, 2, 2, 2, 2], device='cuda:0'))"
      ]
     },
     "execution_count": null,
     "metadata": {},
     "output_type": "execute_result"
    }
   ],
   "source": [
    "anc_ious, targ_idx = get_targ_idx(ious)\n",
    "anc_ious, targ_idx"
   ]
  },
  {
   "cell_type": "code",
   "execution_count": null,
   "metadata": {},
   "outputs": [
    {
     "data": {
      "text/plain": [
       "tensor([75, 75, 75, 75, 75,  1, 75, 75, 75,  1, 75, 75, 75, 75, 75, 75],\n",
       "       device='cuda:0')"
      ]
     },
     "execution_count": null,
     "metadata": {},
     "output_type": "execute_result"
    }
   ],
   "source": [
    "targ_lbl = lbl[targ_idx]\n",
    "targ_lbl"
   ]
  },
  {
   "cell_type": "code",
   "execution_count": null,
   "metadata": {},
   "outputs": [
    {
     "data": {
      "text/plain": [
       "tensor([False, False, False, False, False,  True, False, False, False, False,\n",
       "        False, False, False, False,  True, False], device='cuda:0')"
      ]
     },
     "execution_count": null,
     "metadata": {},
     "output_type": "execute_result"
    }
   ],
   "source": [
    "above_thresh = anc_ious > 0.4\n",
    "above_thresh"
   ]
  },
  {
   "cell_type": "code",
   "execution_count": null,
   "metadata": {},
   "outputs": [
    {
     "data": {
      "text/plain": [
       "tensor([ 5, 14], device='cuda:0')"
      ]
     },
     "execution_count": null,
     "metadata": {},
     "output_type": "execute_result"
    }
   ],
   "source": [
    "assigned_idx = torch.nonzero(above_thresh)[:,0]\n",
    "assigned_idx"
   ]
  },
  {
   "cell_type": "code",
   "execution_count": null,
   "metadata": {},
   "outputs": [
    {
     "data": {
      "text/plain": [
       "tensor([ 0,  0,  0,  0,  0,  1,  0,  0,  0,  0,  0,  0,  0,  0, 75,  0],\n",
       "       device='cuda:0')"
      ]
     },
     "execution_count": null,
     "metadata": {},
     "output_type": "execute_result"
    }
   ],
   "source": [
    "targ_lbl[~above_thresh] = 0\n",
    "targ_lbl"
   ]
  },
  {
   "cell_type": "code",
   "execution_count": null,
   "metadata": {},
   "outputs": [
    {
     "data": {
      "text/plain": [
       "tensor([[ 0.7756,  0.1506,  0.8800,  0.1891],\n",
       "        [ 0.7756,  0.1506,  0.8800,  0.1891],\n",
       "        [ 0.7756,  0.1506,  0.8800,  0.1891],\n",
       "        [ 0.7756,  0.1506,  0.8800,  0.1891],\n",
       "        [ 0.7756,  0.1506,  0.8800,  0.1891],\n",
       "        [-0.2207, -0.3678,  0.1035, -0.2843],\n",
       "        [ 0.7756,  0.1506,  0.8800,  0.1891],\n",
       "        [ 0.7756,  0.1506,  0.8800,  0.1891],\n",
       "        [ 0.7756,  0.1506,  0.8800,  0.1891],\n",
       "        [-0.2207, -0.3678,  0.1035, -0.2843],\n",
       "        [ 0.7756,  0.1506,  0.8800,  0.1891],\n",
       "        [ 0.7756,  0.1506,  0.8800,  0.1891],\n",
       "        [ 0.7756,  0.1506,  0.8800,  0.1891],\n",
       "        [ 0.7756,  0.1506,  0.8800,  0.1891],\n",
       "        [ 0.7756,  0.1506,  0.8800,  0.1891],\n",
       "        [ 0.7756,  0.1506,  0.8800,  0.1891]], device='cuda:0')"
      ]
     },
     "execution_count": null,
     "metadata": {},
     "output_type": "execute_result"
    }
   ],
   "source": [
    "targ_bb = bb[targ_idx]\n",
    "targ_bb"
   ]
  },
  {
   "cell_type": "code",
   "execution_count": null,
   "metadata": {},
   "outputs": [
    {
     "data": {
      "text/plain": [
       "tensor(0.2418, device='cuda:0', grad_fn=<MeanBackward0>)"
      ]
     },
     "execution_count": null,
     "metadata": {},
     "output_type": "execute_result"
    }
   ],
   "source": [
    "bb_loss = ((pred_bb[assigned_idx] - targ_bb[assigned_idx]).abs()).mean()\n",
    "bb_loss"
   ]
  },
  {
   "cell_type": "code",
   "execution_count": null,
   "metadata": {},
   "outputs": [
    {
     "data": {
      "text/plain": [
       "tensor(0.8473, device='cuda:0', grad_fn=<DivBackward0>)"
      ]
     },
     "execution_count": null,
     "metadata": {},
     "output_type": "execute_result"
    }
   ],
   "source": [
    "lbl_loss = loss_f(act_lbl, targ_lbl)\n",
    "lbl_loss"
   ]
  },
  {
   "cell_type": "code",
   "execution_count": null,
   "metadata": {},
   "outputs": [],
   "source": []
  },
  {
   "cell_type": "code",
   "execution_count": null,
   "metadata": {},
   "outputs": [],
   "source": []
  },
  {
   "cell_type": "code",
   "execution_count": null,
   "metadata": {},
   "outputs": [],
   "source": []
  },
  {
   "cell_type": "code",
   "execution_count": null,
   "metadata": {},
   "outputs": [],
   "source": []
  },
  {
   "cell_type": "code",
   "execution_count": null,
   "metadata": {},
   "outputs": [],
   "source": []
  },
  {
   "cell_type": "code",
   "execution_count": null,
   "metadata": {},
   "outputs": [],
   "source": []
  },
  {
   "cell_type": "code",
   "execution_count": null,
   "metadata": {},
   "outputs": [],
   "source": []
  },
  {
   "cell_type": "code",
   "execution_count": null,
   "metadata": {},
   "outputs": [],
   "source": []
  },
  {
   "cell_type": "code",
   "execution_count": null,
   "metadata": {},
   "outputs": [],
   "source": []
  },
  {
   "cell_type": "code",
   "execution_count": null,
   "metadata": {},
   "outputs": [],
   "source": []
  },
  {
   "cell_type": "code",
   "execution_count": null,
   "metadata": {},
   "outputs": [],
   "source": []
  },
  {
   "cell_type": "code",
   "execution_count": null,
   "metadata": {},
   "outputs": [],
   "source": []
  },
  {
   "cell_type": "code",
   "execution_count": null,
   "metadata": {},
   "outputs": [],
   "source": []
  }
 ],
 "metadata": {
  "kernelspec": {
   "display_name": "Python 3",
   "language": "python",
   "name": "python3"
  }
 },
 "nbformat": 4,
 "nbformat_minor": 4
}
