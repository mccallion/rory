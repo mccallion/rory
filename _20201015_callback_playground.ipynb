{
 "cells": [
  {
   "cell_type": "markdown",
   "metadata": {},
   "source": [
    "<h1>Table of Contents<span class=\"tocSkip\"></span></h1>\n",
    "<div class=\"toc\"><ul class=\"toc-item\"><li><span><a href=\"#Callbacks-as-GUI-events\" data-toc-modified-id=\"Callbacks-as-GUI-events-1\"><span class=\"toc-item-num\">1&nbsp;&nbsp;</span>Callbacks as GUI events</a></span><ul class=\"toc-item\"><li><span><a href=\"#Creating-our-own-callback\" data-toc-modified-id=\"Creating-our-own-callback-1.1\"><span class=\"toc-item-num\">1.1&nbsp;&nbsp;</span>Creating our own callback</a></span></li><li><span><a href=\"#Classes-(not-functions)-as-callbacks\" data-toc-modified-id=\"Classes-(not-functions)-as-callbacks-1.2\"><span class=\"toc-item-num\">1.2&nbsp;&nbsp;</span>Classes (not functions) as callbacks</a></span></li><li><span><a href=\"#Multiple-callbacks;-*args-and-**kwargs\" data-toc-modified-id=\"Multiple-callbacks;-*args-and-**kwargs-1.3\"><span class=\"toc-item-num\">1.3&nbsp;&nbsp;</span>Multiple callbacks; <code>*args</code> and <code>**kwargs</code></a></span></li><li><span><a href=\"#Using-callbacks-to-modify-behavior\" data-toc-modified-id=\"Using-callbacks-to-modify-behavior-1.4\"><span class=\"toc-item-num\">1.4&nbsp;&nbsp;</span>Using callbacks to modify behavior</a></span></li></ul></li></ul></div>"
   ]
  },
  {
   "cell_type": "markdown",
   "metadata": {},
   "source": [
    "From https://www.youtube.com/watch?v=HR0lt1hlR6U&feature=youtu.be&list=PLfYUBJiXbdtTIdtE1U8qgyxo4Jy2Y91uj&t=445"
   ]
  },
  {
   "cell_type": "code",
   "execution_count": null,
   "metadata": {},
   "outputs": [],
   "source": [
    "import torch\n",
    "import matplotlib.pyplot as plt"
   ]
  },
  {
   "cell_type": "markdown",
   "metadata": {},
   "source": [
    "# Callbacks as GUI events"
   ]
  },
  {
   "cell_type": "code",
   "execution_count": null,
   "metadata": {},
   "outputs": [],
   "source": [
    "import ipywidgets as widgets"
   ]
  },
  {
   "cell_type": "code",
   "execution_count": null,
   "metadata": {},
   "outputs": [],
   "source": [
    "def f(o): print('hi')"
   ]
  },
  {
   "cell_type": "markdown",
   "metadata": {},
   "source": [
    "\"The button widget is used tohandle mouse clicks. The on_click method of the Button can be used to register a function to be called when the button is clicked.\""
   ]
  },
  {
   "cell_type": "code",
   "execution_count": null,
   "metadata": {},
   "outputs": [],
   "source": [
    "w = widgets.Button(description='Click me')"
   ]
  },
  {
   "cell_type": "code",
   "execution_count": null,
   "metadata": {},
   "outputs": [
    {
     "data": {
      "application/vnd.jupyter.widget-view+json": {
       "model_id": "befbfdc813cb41c5bbc61ec73c0eb3de",
       "version_major": 2,
       "version_minor": 0
      },
      "text/plain": [
       "Button(description='Click me', style=ButtonStyle())"
      ]
     },
     "metadata": {},
     "output_type": "display_data"
    },
    {
     "name": "stdout",
     "output_type": "stream",
     "text": [
      "hi\n",
      "hi\n",
      "hi\n"
     ]
    }
   ],
   "source": [
    "w"
   ]
  },
  {
   "cell_type": "code",
   "execution_count": null,
   "metadata": {},
   "outputs": [],
   "source": [
    "w.on_click(f)"
   ]
  },
  {
   "cell_type": "markdown",
   "metadata": {},
   "source": [
    "When callbacks are used this way, they are often called \"events\". What we did is we told w that when a click occurs, we should \"call back\" to the f function and run it. `f` here is a callback (a callback is a concept). It's a function. Callbacks are functions. (Callbacks are a kind of \"function pointer\")."
   ]
  },
  {
   "cell_type": "markdown",
   "metadata": {},
   "source": [
    "## Creating our own callback"
   ]
  },
  {
   "cell_type": "markdown",
   "metadata": {},
   "source": [
    "The event this function will call back on is \"after a calculation is complete.\""
   ]
  },
  {
   "cell_type": "code",
   "execution_count": null,
   "metadata": {},
   "outputs": [],
   "source": [
    "from time import sleep"
   ]
  },
  {
   "cell_type": "code",
   "execution_count": null,
   "metadata": {},
   "outputs": [],
   "source": [
    "# this is a toy example that does 5 calculations.\n",
    "# each calculation can be thought of as an epoch.\n",
    "def train_n_sessions(n=5):\n",
    "    res = 0\n",
    "    for i in range(n):\n",
    "        res += i*i\n",
    "        sleep(1)\n",
    "    return res"
   ]
  },
  {
   "cell_type": "code",
   "execution_count": null,
   "metadata": {},
   "outputs": [
    {
     "data": {
      "text/plain": [
       "30"
      ]
     },
     "execution_count": null,
     "metadata": {},
     "output_type": "execute_result"
    }
   ],
   "source": [
    "train_n_sessions()"
   ]
  },
  {
   "cell_type": "markdown",
   "metadata": {},
   "source": [
    "What I, Rory, really want to know is: how is this thing going? So, let's modify this example to take a callback!"
   ]
  },
  {
   "cell_type": "code",
   "execution_count": null,
   "metadata": {},
   "outputs": [],
   "source": [
    "# this is a toy example that does 5 calculations.\n",
    "# each calculation can be thought of as an epoch.\n",
    "def train_n_sessions(n=5, cb=None):\n",
    "    res = 0\n",
    "    for i in range(n):\n",
    "        res += i*i\n",
    "        sleep(1)\n",
    "        if cb: cb(i) # if there's a callback, call it and pass in epoch number.\n",
    "    return res"
   ]
  },
  {
   "cell_type": "code",
   "execution_count": null,
   "metadata": {},
   "outputs": [],
   "source": [
    "def show_progress(epoch): print(f\"Finished epoch {epoch}.\")"
   ]
  },
  {
   "cell_type": "code",
   "execution_count": null,
   "metadata": {},
   "outputs": [
    {
     "data": {
      "text/plain": [
       "30"
      ]
     },
     "execution_count": null,
     "metadata": {},
     "output_type": "execute_result"
    }
   ],
   "source": [
    "train_n_sessions()"
   ]
  },
  {
   "cell_type": "code",
   "execution_count": null,
   "metadata": {},
   "outputs": [
    {
     "name": "stdout",
     "output_type": "stream",
     "text": [
      "Finished epoch 0.\n",
      "Finished epoch 1.\n",
      "Finished epoch 2.\n",
      "Finished epoch 3.\n",
      "Finished epoch 4.\n"
     ]
    },
    {
     "data": {
      "text/plain": [
       "30"
      ]
     },
     "execution_count": null,
     "metadata": {},
     "output_type": "execute_result"
    }
   ],
   "source": [
    "train_n_sessions(cb=show_progress)"
   ]
  },
  {
   "cell_type": "markdown",
   "metadata": {},
   "source": [
    "Awesome! My first callback :) . Tip: a call-back is also known as a \"call-after\" function, and is defined as any function that is passed as an argument to other code. That other code is expected to \"call back\" to that function at a specified time. (Callable classes can also be used as callbacks)."
   ]
  },
  {
   "cell_type": "markdown",
   "metadata": {},
   "source": [
    "Lambdas work."
   ]
  },
  {
   "cell_type": "code",
   "execution_count": null,
   "metadata": {},
   "outputs": [
    {
     "name": "stdout",
     "output_type": "stream",
     "text": [
      "finished epoch 0\n",
      "finished epoch 1\n",
      "finished epoch 2\n",
      "finished epoch 3\n",
      "finished epoch 4\n"
     ]
    },
    {
     "data": {
      "text/plain": [
       "30"
      ]
     },
     "execution_count": null,
     "metadata": {},
     "output_type": "execute_result"
    }
   ],
   "source": [
    "train_n_sessions(cb=lambda x: print(f\"finished epoch {x}\"))"
   ]
  },
  {
   "cell_type": "markdown",
   "metadata": {},
   "source": [
    "What if we wanted to pass an argument to the callback, such as a phrase to state before the epoch? Let's try."
   ]
  },
  {
   "cell_type": "code",
   "execution_count": null,
   "metadata": {},
   "outputs": [],
   "source": [
    "def show_progress(phrase,epoch): print(f\"{phrase} {epoch}.\")"
   ]
  },
  {
   "cell_type": "code",
   "execution_count": null,
   "metadata": {},
   "outputs": [
    {
     "name": "stdout",
     "output_type": "stream",
     "text": [
      "Yip-yip! 0.\n",
      "Yip-yip! 1.\n",
      "Yip-yip! 2.\n",
      "Yip-yip! 3.\n",
      "Yip-yip! 4.\n"
     ]
    },
    {
     "data": {
      "text/plain": [
       "30"
      ]
     },
     "execution_count": null,
     "metadata": {},
     "output_type": "execute_result"
    }
   ],
   "source": [
    "train_n_sessions(cb=lambda x: show_progress(\"Yip-yip!\",x))"
   ]
  },
  {
   "cell_type": "markdown",
   "metadata": {},
   "source": [
    "This is a function that returns a function."
   ]
  },
  {
   "cell_type": "code",
   "execution_count": null,
   "metadata": {},
   "outputs": [],
   "source": [
    "def make_show_progress(phrase):\n",
    "    def _inner(epoch): print(f\"{phrase} {epoch}\")\n",
    "    return _inner"
   ]
  },
  {
   "cell_type": "code",
   "execution_count": null,
   "metadata": {},
   "outputs": [],
   "source": [
    "show_prog = make_show_progress(\"Epoch completed:\")"
   ]
  },
  {
   "cell_type": "code",
   "execution_count": null,
   "metadata": {},
   "outputs": [
    {
     "name": "stdout",
     "output_type": "stream",
     "text": [
      "Epoch completed: 0\n",
      "Epoch completed: 1\n",
      "Epoch completed: 2\n",
      "Epoch completed: 3\n",
      "Epoch completed: 4\n"
     ]
    },
    {
     "data": {
      "text/plain": [
       "30"
      ]
     },
     "execution_count": null,
     "metadata": {},
     "output_type": "execute_result"
    }
   ],
   "source": [
    "train_n_sessions(cb=show_prog)"
   ]
  },
  {
   "cell_type": "markdown",
   "metadata": {},
   "source": [
    "*Side note:* Congrats, Rory, on making your first **closure**!! A function that stores information from the external context and the information can be different every time is called a closure. Google: \"A closure is a record storing a function together with an environment.\" From stack overflow: \"A closure is a persistent scope which holds on to local variables even after the code execution has moved out of that block. Langs that support closures allow you to keep a reference to a scope. The scope object and all of its local variables are tied to the function and will persist as long as that function persists. This gives function portability.\"\n",
    "\n",
    "The implementation of a closure often looks like a function `f` that returns a function `g`, s.t. the function g is defined with variables that are local to f. Here's what that looks like:\n",
    "\n",
    "`def f():\n",
    "    local_var = 1\n",
    "    def g(x): return x + local_var\n",
    "    return g`\n",
    "    \n",
    "Here's a silly example:\n",
    "\n",
    "`def make_greeting():\n",
    "    joke_of_the_day = get_joke()\n",
    "    def greeting(name):\n",
    "        print(f\"Hi {name}! {joke_of_the_day}.\")\n",
    "    return greeting`\n",
    "    \n",
    "In a lang that doesn't support closures, joke_of_the_day would be garbage collected and tossed out when make_greeting is exited. But since python supports closures, it persists because the variable scope is created when the function is first declared and persists as long as the function does."
   ]
  },
  {
   "cell_type": "code",
   "execution_count": null,
   "metadata": {},
   "outputs": [],
   "source": [
    "from functools import partial"
   ]
  },
  {
   "cell_type": "markdown",
   "metadata": {},
   "source": [
    "Because it's so common to want to turn a function of many params into a function of one param, python has a builtin for it called partial. This is great for fixing multiple args in a function."
   ]
  },
  {
   "cell_type": "code",
   "execution_count": null,
   "metadata": {},
   "outputs": [],
   "source": [
    "train_two_sessions = partial(train_n_sessions,n=2)"
   ]
  },
  {
   "cell_type": "code",
   "execution_count": null,
   "metadata": {},
   "outputs": [
    {
     "name": "stdout",
     "output_type": "stream",
     "text": [
      "Epoch completed: 0\n",
      "Epoch completed: 1\n"
     ]
    },
    {
     "data": {
      "text/plain": [
       "1"
      ]
     },
     "execution_count": null,
     "metadata": {},
     "output_type": "execute_result"
    }
   ],
   "source": [
    "train_two_sessions(cb=show_prog)"
   ]
  },
  {
   "cell_type": "markdown",
   "metadata": {},
   "source": [
    "It apparantly works by setting defaults for the function's args; you can still pass in a value for n in train_two_sessions."
   ]
  },
  {
   "cell_type": "code",
   "execution_count": null,
   "metadata": {},
   "outputs": [
    {
     "name": "stdout",
     "output_type": "stream",
     "text": [
      "Epoch completed: 0\n"
     ]
    },
    {
     "data": {
      "text/plain": [
       "0"
      ]
     },
     "execution_count": null,
     "metadata": {},
     "output_type": "execute_result"
    }
   ],
   "source": [
    "train_two_sessions(n=1,cb=show_prog)"
   ]
  },
  {
   "cell_type": "markdown",
   "metadata": {},
   "source": [
    "## Classes (not functions) as callbacks"
   ]
  },
  {
   "cell_type": "markdown",
   "metadata": {},
   "source": [
    "Pretty much any place you can use a closure, you can use a class. The state can be stored in `__init__`, and `__call__` will hold the callable. (This is called a \"functor\" in other langs, or a \"callable\" in python)."
   ]
  },
  {
   "cell_type": "code",
   "execution_count": null,
   "metadata": {},
   "outputs": [],
   "source": [
    "class ProgressShowingCallback():\n",
    "    def __init__(self, phrase='Finished epoch'): self.phrase = phrase\n",
    "    def __call__(self, epoch): print(f\"{self.phrase} {epoch}\")"
   ]
  },
  {
   "cell_type": "code",
   "execution_count": null,
   "metadata": {},
   "outputs": [],
   "source": [
    "cb_cls = ProgressShowingCallback()"
   ]
  },
  {
   "cell_type": "code",
   "execution_count": null,
   "metadata": {},
   "outputs": [
    {
     "name": "stdout",
     "output_type": "stream",
     "text": [
      "Finished epoch 1\n"
     ]
    }
   ],
   "source": [
    "cb_cls(1)"
   ]
  },
  {
   "cell_type": "code",
   "execution_count": null,
   "metadata": {},
   "outputs": [
    {
     "name": "stdout",
     "output_type": "stream",
     "text": [
      "Finished epoch 0\n",
      "Finished epoch 1\n",
      "Finished epoch 2\n",
      "Finished epoch 3\n",
      "Finished epoch 4\n"
     ]
    },
    {
     "data": {
      "text/plain": [
       "30"
      ]
     },
     "execution_count": null,
     "metadata": {},
     "output_type": "execute_result"
    }
   ],
   "source": [
    "train_n_sessions(cb=cb_cls)"
   ]
  },
  {
   "cell_type": "markdown",
   "metadata": {},
   "source": [
    "## Multiple callbacks; `*args` and `**kwargs`"
   ]
  },
  {
   "cell_type": "code",
   "execution_count": null,
   "metadata": {},
   "outputs": [],
   "source": [
    "def f(*args, **kwargs): print(f\"args: {args} | kwargs: {kwargs}\")"
   ]
  },
  {
   "cell_type": "code",
   "execution_count": null,
   "metadata": {},
   "outputs": [
    {
     "name": "stdout",
     "output_type": "stream",
     "text": [
      "args: (1, 2, 3, 'rice is nice') | kwargs: {'x': 42, 'y': 69, 'z': 'blink182'}\n"
     ]
    }
   ],
   "source": [
    "f(1,2,3,'rice is nice',x=42,y=69,z='blink182')"
   ]
  },
  {
   "cell_type": "markdown",
   "metadata": {},
   "source": [
    "PyTorch's `nn.Sequential` takes in argumetns as `*args`."
   ]
  },
  {
   "cell_type": "markdown",
   "metadata": {},
   "source": [
    "A common way to use this is if you want to wrap an object to create a new object, you can define the new obj's args, and then use kwargs to pass off all the stuff you'd normally pass on to the wrapped object. Note that the new object will NOT show the old object's args when you tab-search or tab-complete, so the full arg list will be hidden from end users. Basically, the end user will have to already know what the wrapped object's args are to use the new object."
   ]
  },
  {
   "cell_type": "markdown",
   "metadata": {},
   "source": [
    "Callbacks are a place where you really want to use kwargs. Here I have two callbacks: cb.before_epoch and cb.after_epoch. I can't use cb(i) anymore; I have to use these methods."
   ]
  },
  {
   "cell_type": "code",
   "execution_count": null,
   "metadata": {},
   "outputs": [],
   "source": [
    "def do_calc(x): sleep(1); return x*x"
   ]
  },
  {
   "cell_type": "code",
   "execution_count": null,
   "metadata": {},
   "outputs": [],
   "source": [
    "def train_n_sessions(n=5, cb=None):\n",
    "    res = 0\n",
    "    for i in range(n):\n",
    "        # Before epoch\n",
    "        if cb: cb.before_epoch(i)\n",
    "        calc = do_calc(i)\n",
    "        res += calc\n",
    "        # After epoch\n",
    "        if cb: cb.after_epoch(i, val=res)\n",
    "    return res"
   ]
  },
  {
   "cell_type": "code",
   "execution_count": null,
   "metadata": {},
   "outputs": [],
   "source": [
    "class PrintStepCallback():\n",
    "    def __init__(self): pass\n",
    "    def before_epoch(self, *args, **kwargs): print(f\"Epoch starting\")\n",
    "    def after_epoch (self, *args, **kwargs): print(f\"Epoch finished\")"
   ]
  },
  {
   "cell_type": "code",
   "execution_count": null,
   "metadata": {},
   "outputs": [],
   "source": [
    "cb_cls = PrintStepCallback()"
   ]
  },
  {
   "cell_type": "code",
   "execution_count": null,
   "metadata": {},
   "outputs": [
    {
     "name": "stdout",
     "output_type": "stream",
     "text": [
      "Epoch starting\n",
      "Epoch finished\n",
      "Epoch starting\n",
      "Epoch finished\n",
      "Epoch starting\n",
      "Epoch finished\n",
      "Epoch starting\n",
      "Epoch finished\n",
      "Epoch starting\n",
      "Epoch finished\n"
     ]
    },
    {
     "data": {
      "text/plain": [
       "30"
      ]
     },
     "execution_count": null,
     "metadata": {},
     "output_type": "execute_result"
    }
   ],
   "source": [
    "train_n_sessions(cb=cb_cls)"
   ]
  },
  {
   "cell_type": "markdown",
   "metadata": {},
   "source": [
    "In the above, we used args and kwargs to create functions (methods) that don't care about one or more parameters; they're more flexible. \"If you put in both positional and keyword arguments, it will always work everywhere.\"\n",
    "\n",
    "Let's actually use the values passed now."
   ]
  },
  {
   "cell_type": "code",
   "execution_count": null,
   "metadata": {},
   "outputs": [],
   "source": [
    "class PrintStepCallback():\n",
    "    def __init__(self): pass\n",
    "    def before_epoch(self, epoch, **kwargs): print(f\"Starting epoch {epoch}\")\n",
    "    def after_epoch (self, epoch, val, **kwargs): print(f\"Finished epoch {epoch} at {val}\")"
   ]
  },
  {
   "cell_type": "code",
   "execution_count": null,
   "metadata": {},
   "outputs": [
    {
     "name": "stdout",
     "output_type": "stream",
     "text": [
      "Starting epoch 0\n",
      "Finished epoch 0 at 0\n",
      "Starting epoch 1\n",
      "Finished epoch 1 at 1\n",
      "Starting epoch 2\n",
      "Finished epoch 2 at 5\n",
      "Starting epoch 3\n",
      "Finished epoch 3 at 14\n",
      "Starting epoch 4\n",
      "Finished epoch 4 at 30\n"
     ]
    },
    {
     "data": {
      "text/plain": [
       "30"
      ]
     },
     "execution_count": null,
     "metadata": {},
     "output_type": "execute_result"
    }
   ],
   "source": [
    "cb_cls = PrintStepCallback()\n",
    "train_n_sessions(cb=cb_cls)"
   ]
  },
  {
   "cell_type": "markdown",
   "metadata": {},
   "source": [
    "In the above, kwargs was kept to make the code more future proof. We may later want to pass in more vars."
   ]
  },
  {
   "cell_type": "markdown",
   "metadata": {},
   "source": [
    "## Using callbacks to modify behavior"
   ]
  },
  {
   "cell_type": "markdown",
   "metadata": {},
   "source": [
    "We can check if a callback class has certain callbacks and only do those callbacks if it does."
   ]
  },
  {
   "cell_type": "code",
   "execution_count": null,
   "metadata": {},
   "outputs": [],
   "source": [
    "def train_n_sessions(n=5, cb=None):\n",
    "    res = 0\n",
    "    for i in range(n):\n",
    "        # Before epoch\n",
    "        if cb and hasattr(cb,'before_epoch'): cb.before_epoch(i)\n",
    "        calc = do_calc(i)\n",
    "        res += calc\n",
    "        # After epoch\n",
    "        if cb and hasattr(cb,'after_epoch'):\n",
    "            if cb.after_epoch(i, val=res):\n",
    "                print('Stopping early')\n",
    "                break\n",
    "    return res"
   ]
  },
  {
   "cell_type": "code",
   "execution_count": null,
   "metadata": {},
   "outputs": [],
   "source": [
    "class PrintAfterCallback():\n",
    "    def after_epoch(self, epoch, val):\n",
    "        print(f\"After epoch: {epoch} | val: {val}\")\n",
    "        if val>10: return True"
   ]
  },
  {
   "cell_type": "code",
   "execution_count": null,
   "metadata": {},
   "outputs": [
    {
     "name": "stdout",
     "output_type": "stream",
     "text": [
      "After epoch: 0 | val: 0\n",
      "After epoch: 1 | val: 1\n",
      "After epoch: 2 | val: 5\n",
      "After epoch: 3 | val: 14\n",
      "Stopping early\n"
     ]
    },
    {
     "data": {
      "text/plain": [
       "14"
      ]
     },
     "execution_count": null,
     "metadata": {},
     "output_type": "execute_result"
    }
   ],
   "source": [
    "cb_cls = PrintAfterCallback()\n",
    "train_n_sessions(cb=cb_cls)"
   ]
  },
  {
   "cell_type": "markdown",
   "metadata": {},
   "source": [
    "Let's change the way the calculation is being done! We'll do this by making train_n_sessions into a class and the value it calculates an attr of it."
   ]
  },
  {
   "cell_type": "code",
   "execution_count": null,
   "metadata": {},
   "outputs": [],
   "source": [
    "class TrainSessions():\n",
    "    def __init__(self, cb=None, epochs=5):\n",
    "        self.cb, self.res, self.epochs = cb, 0, epochs\n",
    "        \n",
    "    def callback(self, cb_name, *args):\n",
    "        if not self.cb: return               # no callbacks → done.\n",
    "        cb = getattr(self.cb, cb_name, None) # look in cb list for cb_name (a callable).\n",
    "        if cb: return cb(self, *args)        # if not None: do callable w/ *args.\n",
    "        \n",
    "    def do_calc(self, x):\n",
    "        sleep(1)\n",
    "        return x*x\n",
    "    \n",
    "    def do_epochs(self):\n",
    "        for i in range(self.epochs):\n",
    "            self.callback('before_epoch', i)\n",
    "            self.res += self.do_calc(i)\n",
    "            if self.callback('after_epoch', i):\n",
    "                print('Stopping early')\n",
    "                break"
   ]
  },
  {
   "cell_type": "code",
   "execution_count": null,
   "metadata": {},
   "outputs": [],
   "source": [
    "class ModifyingCallback():\n",
    "    def after_epoch(self, trainer, epoch):\n",
    "        print(f\"After {epoch}: {trainer.res}\")\n",
    "        if trainer.res>10: return True\n",
    "        if trainer.res<3: trainer.res = trainer.res*2"
   ]
  },
  {
   "cell_type": "code",
   "execution_count": null,
   "metadata": {},
   "outputs": [],
   "source": [
    "trainer = TrainSessions(ModifyingCallback())"
   ]
  },
  {
   "cell_type": "code",
   "execution_count": null,
   "metadata": {},
   "outputs": [
    {
     "name": "stdout",
     "output_type": "stream",
     "text": [
      "After 0: 0\n",
      "After 1: 1\n",
      "After 2: 6\n",
      "After 3: 15\n",
      "Stopping early\n"
     ]
    }
   ],
   "source": [
    "trainer.do_epochs()"
   ]
  },
  {
   "cell_type": "code",
   "execution_count": null,
   "metadata": {},
   "outputs": [
    {
     "data": {
      "text/plain": [
       "15"
      ]
     },
     "execution_count": null,
     "metadata": {},
     "output_type": "execute_result"
    }
   ],
   "source": [
    "trainer.res"
   ]
  },
  {
   "cell_type": "code",
   "execution_count": null,
   "metadata": {},
   "outputs": [],
   "source": []
  },
  {
   "cell_type": "code",
   "execution_count": null,
   "metadata": {},
   "outputs": [],
   "source": []
  },
  {
   "cell_type": "code",
   "execution_count": null,
   "metadata": {},
   "outputs": [],
   "source": []
  },
  {
   "cell_type": "code",
   "execution_count": null,
   "metadata": {},
   "outputs": [],
   "source": []
  },
  {
   "cell_type": "code",
   "execution_count": null,
   "metadata": {},
   "outputs": [],
   "source": []
  },
  {
   "cell_type": "code",
   "execution_count": null,
   "metadata": {},
   "outputs": [],
   "source": []
  },
  {
   "cell_type": "code",
   "execution_count": null,
   "metadata": {},
   "outputs": [],
   "source": []
  },
  {
   "cell_type": "code",
   "execution_count": null,
   "metadata": {},
   "outputs": [],
   "source": []
  },
  {
   "cell_type": "code",
   "execution_count": null,
   "metadata": {},
   "outputs": [],
   "source": []
  },
  {
   "cell_type": "code",
   "execution_count": null,
   "metadata": {},
   "outputs": [],
   "source": []
  },
  {
   "cell_type": "code",
   "execution_count": null,
   "metadata": {},
   "outputs": [],
   "source": []
  },
  {
   "cell_type": "code",
   "execution_count": null,
   "metadata": {},
   "outputs": [],
   "source": []
  },
  {
   "cell_type": "code",
   "execution_count": null,
   "metadata": {},
   "outputs": [],
   "source": []
  },
  {
   "cell_type": "code",
   "execution_count": null,
   "metadata": {},
   "outputs": [],
   "source": []
  },
  {
   "cell_type": "code",
   "execution_count": null,
   "metadata": {},
   "outputs": [],
   "source": []
  },
  {
   "cell_type": "code",
   "execution_count": null,
   "metadata": {},
   "outputs": [],
   "source": []
  },
  {
   "cell_type": "code",
   "execution_count": null,
   "metadata": {},
   "outputs": [],
   "source": []
  },
  {
   "cell_type": "code",
   "execution_count": null,
   "metadata": {},
   "outputs": [],
   "source": []
  },
  {
   "cell_type": "code",
   "execution_count": null,
   "metadata": {},
   "outputs": [],
   "source": []
  },
  {
   "cell_type": "code",
   "execution_count": null,
   "metadata": {},
   "outputs": [],
   "source": []
  },
  {
   "cell_type": "code",
   "execution_count": null,
   "metadata": {},
   "outputs": [],
   "source": []
  }
 ],
 "metadata": {
  "kernelspec": {
   "display_name": "Python 3",
   "language": "python",
   "name": "python3"
  }
 },
 "nbformat": 4,
 "nbformat_minor": 4
}
