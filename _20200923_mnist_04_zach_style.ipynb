{
 "cells": [
  {
   "cell_type": "markdown",
   "metadata": {},
   "source": [
    "<h1>Table of Contents<span class=\"tocSkip\"></span></h1>\n",
    "<div class=\"toc\"><ul class=\"toc-item\"><li><span><a href=\"#Cleaned-and-merged\" data-toc-modified-id=\"Cleaned-and-merged-1\"><span class=\"toc-item-num\">1&nbsp;&nbsp;</span>Cleaned and merged</a></span></li><li><span><a href=\"#Train-MNIST-using-mid-level-API\" data-toc-modified-id=\"Train-MNIST-using-mid-level-API-2\"><span class=\"toc-item-num\">2&nbsp;&nbsp;</span>Train MNIST using mid-level API</a></span><ul class=\"toc-item\"><li><span><a href=\"#data\" data-toc-modified-id=\"data-2.1\"><span class=\"toc-item-num\">2.1&nbsp;&nbsp;</span>data</a></span></li><li><span><a href=\"#model\" data-toc-modified-id=\"model-2.2\"><span class=\"toc-item-num\">2.2&nbsp;&nbsp;</span>model</a></span></li></ul></li></ul></div>"
   ]
  },
  {
   "cell_type": "markdown",
   "metadata": {},
   "source": [
    "# Cleaned and merged"
   ]
  },
  {
   "cell_type": "code",
   "execution_count": null,
   "metadata": {},
   "outputs": [
    {
     "data": {
      "text/html": [],
      "text/plain": [
       "<IPython.core.display.HTML object>"
      ]
     },
     "metadata": {},
     "output_type": "display_data"
    },
    {
     "data": {
      "text/html": [
       "<table border=\"1\" class=\"dataframe\">\n",
       "  <thead>\n",
       "    <tr style=\"text-align: left;\">\n",
       "      <th>epoch</th>\n",
       "      <th>train_loss</th>\n",
       "      <th>valid_loss</th>\n",
       "      <th>accuracy</th>\n",
       "      <th>time</th>\n",
       "    </tr>\n",
       "  </thead>\n",
       "  <tbody>\n",
       "    <tr>\n",
       "      <td>0</td>\n",
       "      <td>0.314681</td>\n",
       "      <td>0.345862</td>\n",
       "      <td>0.899200</td>\n",
       "      <td>00:08</td>\n",
       "    </tr>\n",
       "    <tr>\n",
       "      <td>1</td>\n",
       "      <td>0.114151</td>\n",
       "      <td>0.121641</td>\n",
       "      <td>0.960600</td>\n",
       "      <td>00:08</td>\n",
       "    </tr>\n",
       "    <tr>\n",
       "      <td>2</td>\n",
       "      <td>0.071411</td>\n",
       "      <td>0.099334</td>\n",
       "      <td>0.967800</td>\n",
       "      <td>00:08</td>\n",
       "    </tr>\n",
       "    <tr>\n",
       "      <td>3</td>\n",
       "      <td>0.048572</td>\n",
       "      <td>0.034647</td>\n",
       "      <td>0.989300</td>\n",
       "      <td>00:08</td>\n",
       "    </tr>\n",
       "    <tr>\n",
       "      <td>4</td>\n",
       "      <td>0.029792</td>\n",
       "      <td>0.020459</td>\n",
       "      <td>0.994000</td>\n",
       "      <td>00:08</td>\n",
       "    </tr>\n",
       "  </tbody>\n",
       "</table>"
      ],
      "text/plain": [
       "<IPython.core.display.HTML object>"
      ]
     },
     "metadata": {},
     "output_type": "display_data"
    },
    {
     "data": {
      "image/png": "[encoded data removed]",
      "text/plain": [
       "<Figure size 432x288 with 1 Axes>"
      ]
     },
     "metadata": {
      "needs_background": "light"
     },
     "output_type": "display_data"
    }
   ],
   "source": [
    "from fastai.vision.all import *\n",
    "\n",
    "\n",
    "### Data ###\n",
    "path = untar_data(URLs.MNIST)\n",
    "batch_size = 64*2*2*2\n",
    "p = 8\n",
    "\n",
    "items = get_image_files(path)\n",
    "splits = GrandparentSplitter(train_name='training', valid_name='testing')(items)\n",
    "dss = Datasets(items, tfms=[[PILImageBW.create],[parent_label, Categorize]], splits=splits)\n",
    "\n",
    "cpu_tfms = [ToTensor(), CropPad(size=34, pad_mode=PadMode.Zeros), RandomCrop(size=28)]\n",
    "gpu_tfms = [IntToFloatTensor(), Normalize()]\n",
    "dls = dss.dataloaders(bs=batch_size, after_item=cpu_tfms, after_batch=gpu_tfms)\n",
    "\n",
    "\n",
    "### Model ###\n",
    "def convlayr(i, o): return ConvLayer(i, o, stride=2)\n",
    "class ResBlock(Module):\n",
    "    def __init__(self, nf):\n",
    "        self.conv1 = ConvLayer(nf, nf, stride=1)\n",
    "        self.conv2 = ConvLayer(nf, nf, stride=1)\n",
    "    def forward(self, x): return x + self.conv2(self.conv1(x))\n",
    "def conv_res(i,o): return nn.Sequential(convlayr(i,o), ResBlock(o))\n",
    "mod = nn.Sequential(\n",
    "    conv_res(1  ,p*1),\n",
    "    conv_res(p*1,p*2),\n",
    "    conv_res(p*2,p*4),\n",
    "    conv_res(p*4,p*2),\n",
    "    convlayr(p*2,dls.c),\n",
    "    Flatten())\n",
    "\n",
    "\n",
    "### Train ###\n",
    "learn = Learner(dls, mod, metrics=accuracy)\n",
    "learn.lr_find()\n",
    "learn.fit_one_cycle(5, lr_max=1e-1)"
   ]
  },
  {
   "cell_type": "markdown",
   "metadata": {},
   "source": [
    "# Train MNIST using mid-level API"
   ]
  },
  {
   "cell_type": "markdown",
   "metadata": {},
   "source": [
    "## data"
   ]
  },
  {
   "cell_type": "code",
   "execution_count": null,
   "metadata": {},
   "outputs": [],
   "source": [
    "from fastai.vision.all import *"
   ]
  },
  {
   "cell_type": "code",
   "execution_count": null,
   "metadata": {},
   "outputs": [],
   "source": [
    "path          = untar_data(URLs.MNIST)\n",
    "n_cls         = 10\n",
    "im_size       = 28*28\n",
    "batch_size    = 64*2*2*2"
   ]
  },
  {
   "cell_type": "code",
   "execution_count": null,
   "metadata": {},
   "outputs": [],
   "source": [
    "items = get_image_files(path)\n",
    "splits = GrandparentSplitter(train_name='training', valid_name='testing')(items)\n",
    "dss = Datasets(items, tfms=[[PILImageBW.create],[parent_label, Categorize]], splits=splits)"
   ]
  },
  {
   "cell_type": "code",
   "execution_count": null,
   "metadata": {},
   "outputs": [],
   "source": [
    "cpu_tfms = [ToTensor(), CropPad(size=34, pad_mode=PadMode.Zeros), RandomCrop(size=28)]\n",
    "gpu_tfms = [IntToFloatTensor(), Normalize()]\n",
    "dls = dss.dataloaders(bs=batch_size, after_item=cpu_tfms, after_batch=gpu_tfms)"
   ]
  },
  {
   "cell_type": "code",
   "execution_count": null,
   "metadata": {},
   "outputs": [
    {
     "name": "stdout",
     "output_type": "stream",
     "text": [
      "torch.Size([512, 1, 28, 28])\n",
      "torch.Size([512])\n",
      "10\n"
     ]
    },
    {
     "data": {
      "image/png": "[encoded data removed]",
      "text/plain": [
       "<Figure size 648x648 with 9 Axes>"
      ]
     },
     "metadata": {
      "needs_background": "light"
     },
     "output_type": "display_data"
    }
   ],
   "source": [
    "xb, yb = dls.one_batch()\n",
    "print(xb.shape, yb.shape, dls.c, sep='\\n')\n",
    "dls.show_batch()"
   ]
  },
  {
   "cell_type": "markdown",
   "metadata": {},
   "source": [
    "## model"
   ]
  },
  {
   "cell_type": "code",
   "execution_count": null,
   "metadata": {},
   "outputs": [],
   "source": [
    "def convlayr(i, o): return ConvLayer(i, o, stride=2)\n",
    "\n",
    "class ResBlock(Module):\n",
    "    def __init__(self, nf):\n",
    "        self.conv1 = ConvLayer(nf, nf, stride=1)\n",
    "        self.conv2 = ConvLayer(nf, nf, stride=1)\n",
    "    def forward(self, x): return x + self.conv2(self.conv1(x))\n",
    "\n",
    "def conv_res(i,o): return nn.Sequential(convlayr(i,o), ResBlock(o))"
   ]
  },
  {
   "cell_type": "code",
   "execution_count": null,
   "metadata": {},
   "outputs": [],
   "source": [
    "f = 8\n",
    "mod = nn.Sequential(\n",
    "    conv_res(1  ,f*1),\n",
    "    conv_res(f*1,f*2),\n",
    "    conv_res(f*2,f*4),\n",
    "    conv_res(f*4,f*2),\n",
    "    convlayr(f*2,dls.c),\n",
    "    Flatten()\n",
    ")"
   ]
  },
  {
   "cell_type": "code",
   "execution_count": null,
   "metadata": {},
   "outputs": [
    {
     "data": {
      "text/html": [],
      "text/plain": [
       "<IPython.core.display.HTML object>"
      ]
     },
     "metadata": {},
     "output_type": "display_data"
    },
    {
     "data": {
      "text/plain": [
       "SuggestedLRs(lr_min=0.33113112449646, lr_steep=0.10000000149011612)"
      ]
     },
     "execution_count": null,
     "metadata": {},
     "output_type": "execute_result"
    },
    {
     "data": {
      "image/png": "[encoded data removed]",
      "text/plain": [
       "<Figure size 432x288 with 1 Axes>"
      ]
     },
     "metadata": {
      "needs_background": "light"
     },
     "output_type": "display_data"
    }
   ],
   "source": [
    "learn = Learner(dls, mod, metrics=accuracy)\n",
    "learn.lr_find()"
   ]
  },
  {
   "cell_type": "code",
   "execution_count": null,
   "metadata": {},
   "outputs": [
    {
     "data": {
      "text/html": [
       "<table border=\"1\" class=\"dataframe\">\n",
       "  <thead>\n",
       "    <tr style=\"text-align: left;\">\n",
       "      <th>epoch</th>\n",
       "      <th>train_loss</th>\n",
       "      <th>valid_loss</th>\n",
       "      <th>accuracy</th>\n",
       "      <th>time</th>\n",
       "    </tr>\n",
       "  </thead>\n",
       "  <tbody>\n",
       "    <tr>\n",
       "      <td>0</td>\n",
       "      <td>0.324727</td>\n",
       "      <td>0.438061</td>\n",
       "      <td>0.881200</td>\n",
       "      <td>00:08</td>\n",
       "    </tr>\n",
       "    <tr>\n",
       "      <td>1</td>\n",
       "      <td>0.120661</td>\n",
       "      <td>0.660701</td>\n",
       "      <td>0.792200</td>\n",
       "      <td>00:08</td>\n",
       "    </tr>\n",
       "    <tr>\n",
       "      <td>2</td>\n",
       "      <td>0.073142</td>\n",
       "      <td>0.077126</td>\n",
       "      <td>0.976000</td>\n",
       "      <td>00:08</td>\n",
       "    </tr>\n",
       "    <tr>\n",
       "      <td>3</td>\n",
       "      <td>0.046158</td>\n",
       "      <td>0.027200</td>\n",
       "      <td>0.990100</td>\n",
       "      <td>00:08</td>\n",
       "    </tr>\n",
       "    <tr>\n",
       "      <td>4</td>\n",
       "      <td>0.028802</td>\n",
       "      <td>0.019618</td>\n",
       "      <td>0.993700</td>\n",
       "      <td>00:08</td>\n",
       "    </tr>\n",
       "  </tbody>\n",
       "</table>"
      ],
      "text/plain": [
       "<IPython.core.display.HTML object>"
      ]
     },
     "metadata": {},
     "output_type": "display_data"
    }
   ],
   "source": [
    "learn.fit_one_cycle(5, lr_max=1e-1)"
   ]
  },
  {
   "cell_type": "code",
   "execution_count": null,
   "metadata": {},
   "outputs": [
    {
     "data": {
      "text/html": [],
      "text/plain": [
       "<IPython.core.display.HTML object>"
      ]
     },
     "metadata": {},
     "output_type": "display_data"
    },
    {
     "data": {
      "image/png": "[encoded data removed]",
      "text/plain": [
       "<Figure size 648x648 with 9 Axes>"
      ]
     },
     "metadata": {
      "needs_background": "light"
     },
     "output_type": "display_data"
    }
   ],
   "source": [
    "learn.show_results()"
   ]
  }
 ],
 "metadata": {
  "kernelspec": {
   "display_name": "Python 3",
   "language": "python",
   "name": "python3"
  }
 },
 "nbformat": 4,
 "nbformat_minor": 4
}
