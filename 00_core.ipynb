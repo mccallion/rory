{
 "cells": [
  {
   "cell_type": "markdown",
   "metadata": {},
   "source": [
    "<h1>Table of Contents<span class=\"tocSkip\"></span></h1>\n",
    "<div class=\"toc\"><ul class=\"toc-item\"><li><span><a href=\"#Core\" data-toc-modified-id=\"Core-1\"><span class=\"toc-item-num\">1&nbsp;&nbsp;</span>Core</a></span></li></ul></div>"
   ]
  },
  {
   "cell_type": "code",
   "execution_count": null,
   "metadata": {},
   "outputs": [],
   "source": [
    "%load_ext autoreload\n",
    "%autoreload 2"
   ]
  },
  {
   "cell_type": "code",
   "execution_count": null,
   "metadata": {},
   "outputs": [
    {
     "name": "stdout",
     "output_type": "stream",
     "text": [
      "Cells will be exported to rory.core,\n",
      "unless a different module is specified after an export flag: `%nbdev_export special.module`\n"
     ]
    }
   ],
   "source": [
    "from nbdev import *\n",
    "from fastcore.test import *\n",
    "%nbdev_default_export core"
   ]
  },
  {
   "cell_type": "markdown",
   "metadata": {},
   "source": [
    "# Core\n",
    "\n",
    "> Human-readable print variations & helpers."
   ]
  },
  {
   "cell_type": "code",
   "execution_count": null,
   "metadata": {},
   "outputs": [],
   "source": [
    "#export\n",
    "def printnl(*x,nl=2):\n",
    "    \"\"\"Print x separated by nl=2 newlines.\"\"\"\n",
    "    print(*x,sep='\\n'*nl)"
   ]
  },
  {
   "cell_type": "code",
   "execution_count": null,
   "metadata": {},
   "outputs": [],
   "source": [
    "#export\n",
    "def printdict(d,n=2):\n",
    "    \"\"\"Print n=2 pairs from a dict.\"\"\"\n",
    "    l = list(d.items())[:n]\n",
    "    for k,v in l:\n",
    "        print(f'Key ({type(k).__name__}): \"{k}\"\\nValue ({type(v).__name__}): {v}\\n')"
   ]
  },
  {
   "cell_type": "code",
   "execution_count": null,
   "metadata": {},
   "outputs": [],
   "source": [
    "def unzip(*posixpaths,dest):\n",
    "    \"\"\"Unzips files located at posixpaths to dest. Deps: zipfile, pathlib.\"\"\"\n",
    "    for path in posixpaths:\n",
    "        if path.suffix == '.zip':\n",
    "            print(f\"Unzipping: {path} ---> {dest}.\")\n",
    "            with ZipFile(path, 'r') as archive:\n",
    "                archive.extractall(dest)\n",
    "    print(\"unzip finished. Files in dest:\")\n",
    "    print(*dest.ls(), sep='\\n')"
   ]
  },
  {
   "cell_type": "code",
   "execution_count": null,
   "metadata": {},
   "outputs": [
    {
     "data": {
      "text/plain": [
       "[2, 3]"
      ]
     },
     "execution_count": null,
     "metadata": {},
     "output_type": "execute_result"
    }
   ],
   "source": [
    "lx = [1,2,3]\n",
    "lx[1:]"
   ]
  },
  {
   "cell_type": "code",
   "execution_count": null,
   "metadata": {},
   "outputs": [],
   "source": [
    "#export\n",
    "def test_eqs(*o):\n",
    "    \"\"\"recursive test_eq\"\"\"\n",
    "    l=[*o]\n",
    "    if len(l) == 2:\n",
    "        return test_eq(l[0], l[1])\n",
    "    else:\n",
    "        return test_eqs(*l[1:])"
   ]
  },
  {
   "cell_type": "code",
   "execution_count": null,
   "metadata": {},
   "outputs": [],
   "source": [
    "test_eqs(1,1,1,1,1,1)"
   ]
  },
  {
   "cell_type": "code",
   "execution_count": null,
   "metadata": {},
   "outputs": [
    {
     "name": "stdout",
     "output_type": "stream",
     "text": [
      "Key (int): \"1\"\n",
      "Value (str): a\n",
      "\n",
      "Key (int): \"2\"\n",
      "Value (str): b\n",
      "\n",
      "Key (int): \"1\"\n",
      "Value (str): a\n",
      "\n",
      "Key (str): \"frogs\"\n",
      "Value (int): 100\n",
      "\n"
     ]
    }
   ],
   "source": [
    "#hide\n",
    "testdict1 = {1:'a', 2:'b', 3:'c', 4:'d'}\n",
    "testdict2 = {1:'a', 'frogs':100, 2:'b', 3:'c', 4:'d'}\n",
    "\n",
    "printdict(testdict1)\n",
    "printdict(testdict2)"
   ]
  },
  {
   "cell_type": "code",
   "execution_count": null,
   "metadata": {},
   "outputs": [],
   "source": [
    "#hide\n",
    "# nbdev_build_lib\n",
    "# git add -A\n",
    "# git commit -m \"hello world\"\n",
    "# git push\n",
    "# pip install -e ."
   ]
  }
 ],
 "metadata": {
  "kernelspec": {
   "display_name": "Python 3",
   "language": "python",
   "name": "python3"
  }
 },
 "nbformat": 4,
 "nbformat_minor": 2
}
