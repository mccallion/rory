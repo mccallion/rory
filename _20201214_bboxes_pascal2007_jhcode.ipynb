{
 "cells": [
  {
   "cell_type": "markdown",
   "metadata": {},
   "source": [
    "<h1>Table of Contents<span class=\"tocSkip\"></span></h1>\n",
    "<div class=\"toc\"><ul class=\"toc-item\"><li><span><a href=\"#Data\" data-toc-modified-id=\"Data-1\"><span class=\"toc-item-num\">1&nbsp;&nbsp;</span>Data</a></span></li><li><span><a href=\"#Arch\" data-toc-modified-id=\"Arch-2\"><span class=\"toc-item-num\">2&nbsp;&nbsp;</span>Arch</a></span></li><li><span><a href=\"#Loss\" data-toc-modified-id=\"Loss-3\"><span class=\"toc-item-num\">3&nbsp;&nbsp;</span>Loss</a></span></li><li><span><a href=\"#Train\" data-toc-modified-id=\"Train-4\"><span class=\"toc-item-num\">4&nbsp;&nbsp;</span>Train</a></span></li><li><span><a href=\"#Stepping-Through-a-Batch\" data-toc-modified-id=\"Stepping-Through-a-Batch-5\"><span class=\"toc-item-num\">5&nbsp;&nbsp;</span>Stepping Through a Batch</a></span></li><li><span><a href=\"#Loss\" data-toc-modified-id=\"Loss-6\"><span class=\"toc-item-num\">6&nbsp;&nbsp;</span>Loss</a></span></li></ul></div>"
   ]
  },
  {
   "cell_type": "markdown",
   "metadata": {},
   "source": [
    "**~ JH's Code ~**"
   ]
  },
  {
   "cell_type": "markdown",
   "metadata": {},
   "source": [
    "# Data"
   ]
  },
  {
   "cell_type": "code",
   "execution_count": null,
   "metadata": {},
   "outputs": [],
   "source": [
    "### Imports & Paths ###\n",
    "from fastai.vision.all import *\n",
    "import pandas as pd\n",
    "\n",
    "\n",
    "### Params ###\n",
    "im_sz   = 224\n",
    "bs      = 64\n",
    "val_pct = .2\n",
    "sub_pct = 1\n",
    "path = untar_data(URLs.PASCAL_2007)\n",
    "annos_path = path/'train.json'\n",
    "ims_path = path/'train'\n",
    "\n",
    "\n",
    "### Items ###\n",
    "fns, annos = get_annotations(annos_path)\n",
    "fn2anno = {f:a for f,a in zip(fns,annos)}\n",
    "def get_im(f):   return ims_path/f\n",
    "def get_bbox(f): return fn2anno[f][0]\n",
    "def get_lbl(f):  return fn2anno[f][1]\n",
    "\n",
    "\n",
    "### DataLoaders ###\n",
    "tfmz = setup_aug_tfms([Rotate(), Brightness(), Contrast(), Flip(),\n",
    "                       Normalize.from_stats(*imagenet_stats)])\n",
    "db = DataBlock(\n",
    "    blocks=[ImageBlock, BBoxBlock, BBoxLblBlock(add_na=False)],\n",
    "    get_x=get_im, get_y=[get_bbox, get_lbl],\n",
    "    splitter=RandomSplitter(val_pct),\n",
    "    item_tfms=Resize(im_sz, method='squish'),\n",
    "    batch_tfms=tfmz, n_inp=1)\n",
    "subset = L(fns).shuffle()[0:int(len(fns)*sub_pct)]\n",
    "dls = db.dataloaders(subset, bs=bs)\n",
    "dls.v = dls.vocab\n",
    "dls.ncls = len(dls.vocab)"
   ]
  },
  {
   "cell_type": "code",
   "execution_count": null,
   "metadata": {},
   "outputs": [
    {
     "name": "stdout",
     "output_type": "stream",
     "text": [
      "Vocab: (#20) ['aeroplane','bicycle','bird','boat','bottle','bus','car','cat','chair','cow'...]\n",
      "Size of train data: 2001\n",
      "Size of valid data: 500\n",
      "batch[0]: \t torch.float32 \t torch.Size([64, 3, 224, 224])\n",
      "batch[1]: \t torch.float32 \t torch.Size([64, 10, 4])\n",
      "batch[2]: \t torch.int64 \t torch.Size([64, 10])\n"
     ]
    }
   ],
   "source": [
    "### Inspection ###\n",
    "print(\"Vocab:\", dls.v)\n",
    "print(\"Size of train data:\",len(dls.train.items))\n",
    "print(\"Size of valid data:\",len(dls.valid.items))\n",
    "for i,t in enumerate(dls.one_batch()):\n",
    "    print(f\"batch[{i}]:\",'\\t',t.dtype,'\\t',t.shape)"
   ]
  },
  {
   "cell_type": "markdown",
   "metadata": {},
   "source": [
    "Interpretation of tensor shapes:\n",
    "- torch.Size([128, 3, 224, 224]): bs, channels (rgb), im_sz, im_sz\n",
    "- torch.Size([128, 20, 4]): bs, max objs for a single im in batch, bb coords\n",
    "- torch.Size([128, 20]): bs, max objs for a single im in batch"
   ]
  },
  {
   "cell_type": "markdown",
   "metadata": {},
   "source": [
    "# Arch"
   ]
  },
  {
   "cell_type": "code",
   "execution_count": null,
   "metadata": {},
   "outputs": [],
   "source": [
    "### Anchors ###\n",
    "anc_grids = [4,2,1]\n",
    "# anc_grids = [4]\n",
    "anc_zooms = [0.75, 1., 1.3]\n",
    "# anc_zooms = [1.]\n",
    "anc_ratios = [(1.,1.), (1.,0.5), (0.5,1.)]\n",
    "# anc_ratios = [(1.,1.)]\n",
    "anchor_scales = [(anz*i,anz*j) for anz in anc_zooms for (i,j) in anc_ratios]\n",
    "k = len(anchor_scales)\n",
    "anc_offsets = [1/(o*2) for o in anc_grids]\n",
    "anc_x = np.concatenate([np.tile(np.linspace(ao, 1-ao, ag), ag)\n",
    "                        for ao,ag in zip(anc_offsets,anc_grids)])\n",
    "anc_y = np.concatenate([np.repeat(np.linspace(ao, 1-ao, ag), ag)\n",
    "                        for ao,ag in zip(anc_offsets,anc_grids)])\n",
    "anc_ctrs = np.repeat(np.stack([anc_x,anc_y], axis=1), k, axis=0)\n",
    "anc_sizes  =   np.concatenate([np.array([[o/ag,p/ag] for i in range(ag*ag) for o,p in anchor_scales])\n",
    "               for ag in anc_grids])\n",
    "grid_sizes = tensor(np.concatenate([np.array([ 1/ag       for i in range(ag*ag) for o,p in anchor_scales])\n",
    "               for ag in anc_grids]), requires_grad=False).unsqueeze(1)\n",
    "anchors = tensor(np.concatenate([anc_ctrs, anc_sizes], axis=1), requires_grad=False).float()\n",
    "\n",
    "def hw2corners(ctr, hw): return torch.cat([ctr-hw/2,ctr+hw/2], dim=1)\n",
    "anchor_cnr = hw2corners(anchors[:,:2], anchors[:,2:])"
   ]
  },
  {
   "cell_type": "code",
   "execution_count": null,
   "metadata": {},
   "outputs": [
    {
     "data": {
      "text/plain": [
       "(torch.Size([189, 4]), tensor([0.8750, 0.6250, 0.1875, 0.0938]))"
      ]
     },
     "execution_count": null,
     "metadata": {},
     "output_type": "execute_result"
    }
   ],
   "source": [
    "anchors.shape, anchors[100]"
   ]
  },
  {
   "cell_type": "code",
   "execution_count": null,
   "metadata": {},
   "outputs": [],
   "source": [
    "### Architecture ###\n",
    "class StdConv(nn.Module):\n",
    "    def __init__(self, n_in,n_out,stride=2,dp = 0.1):\n",
    "        super().__init__()\n",
    "        self.conv = nn.Conv2d(n_in,n_out,3,stride=stride,padding=1)\n",
    "        self.bn = nn.BatchNorm2d(n_out)\n",
    "        self.dropout = nn.Dropout(dp)\n",
    "        \n",
    "    def forward(self,x):\n",
    "        return self.dropout(self.bn(F.relu(self.conv(x))))\n",
    "    \n",
    "def flatten_conv(x,k):\n",
    "    bs,nf,gx,gy = x.size()\n",
    "    x = x.permute(0,2,3,1).contiguous()\n",
    "    return x.view(bs,-1,nf//k)\n",
    "\n",
    "class OutConv(nn.Module):\n",
    "    def __init__(self, k, n_in, bias):\n",
    "        super().__init__()\n",
    "        self.k = k\n",
    "        self.bbs  = nn.Conv2d(n_in,            4*k, 3, padding=1)\n",
    "        self.lbls = nn.Conv2d(n_in, (dls.ncls+1)*k, 3, padding=1)\n",
    "        self.lbls.bias.data.zero_().add_(bias)\n",
    "        \n",
    "    def forward(self,x):\n",
    "        return [flatten_conv(self.bbs(x),  self.k),\n",
    "                flatten_conv(self.lbls(x), self.k)]\n",
    "    \n",
    "drop=0.4\n",
    "class SSD_MultiHead(nn.Module):\n",
    "    def __init__(self, k, bias):\n",
    "        super().__init__()\n",
    "        self.drop = nn.Dropout(drop)\n",
    "        self.sconv1 = StdConv(512,256, dp=drop)\n",
    "        self.sconv2 = StdConv(256,256, dp=drop)\n",
    "        self.sconv3 = StdConv(256,256, dp=drop)\n",
    "        self.out1 = OutConv(k, 256, bias)\n",
    "        self.out2 = OutConv(k, 256, bias)\n",
    "        self.out3 = OutConv(k, 256, bias)\n",
    "\n",
    "    def forward(self, x):\n",
    "        x = self.drop(F.relu(x))\n",
    "        x = self.sconv1(x)\n",
    "        bbs1,lbls1 = self.out1(x)\n",
    "        x = self.sconv2(x)\n",
    "        bbs2,lbls2 = self.out2(x)\n",
    "        x = self.sconv3(x)\n",
    "        bbs3,lbls3 = self.out3(x)\n",
    "        return [torch.cat([ bbs1, bbs2, bbs3], dim=1),\n",
    "                torch.cat([lbls1,lbls2,lbls3], dim=1)]\n",
    "    \n",
    "class CustMod(Module):\n",
    "    \"\"\"A module made from a pretrained body and an untrained head.\"\"\"\n",
    "    def __init__(self, body, head):\n",
    "        self.body, self.head = body, head\n",
    "        \n",
    "    def forward(self, x):\n",
    "        return self.head(self.body(x))"
   ]
  },
  {
   "cell_type": "markdown",
   "metadata": {},
   "source": [
    "# Loss"
   ]
  },
  {
   "cell_type": "code",
   "execution_count": null,
   "metadata": {},
   "outputs": [],
   "source": [
    "### FocalLoss ###\n",
    "def one_hot_embedding(labels, num_classes):\n",
    "    return torch.eye(num_classes)[labels.data].to('cuda')\n",
    "\n",
    "class BCE_Loss(nn.Module):\n",
    "    def __init__(self, num_classes):\n",
    "        super().__init__()\n",
    "        self.num_classes = num_classes\n",
    "    \n",
    "    def forward(self, preds, targets):\n",
    "        t = one_hot_embedding(targets, self.num_classes+1)\n",
    "        t = tensor(t[:,:-1].contiguous())\n",
    "        x = preds[:,:-1]\n",
    "        w = self.get_weight(x,t).detach()\n",
    "        return F.binary_cross_entropy_with_logits(x, t, w, reduction='sum') / self.num_classes\n",
    "    \n",
    "    def get_weight(self,x,t):\n",
    "        return None\n",
    "\n",
    "class FocalLoss(BCE_Loss):\n",
    "    def get_weight(self,x,t):\n",
    "        alpha,gamma = 0.25,2.\n",
    "        p = x.sigmoid()\n",
    "        pt = p*t + (1-p)*(1-t)\n",
    "        w = alpha*t + (1-alpha)*(1-t)\n",
    "        return w * (1-pt).pow(gamma)\n",
    "\n",
    "loss_f = FocalLoss(dls.ncls)"
   ]
  },
  {
   "cell_type": "code",
   "execution_count": null,
   "metadata": {},
   "outputs": [],
   "source": [
    "### IoU ###\n",
    "def intersection(box_a,box_b):\n",
    "    min_xy = torch.max(box_a[:,None,:2],box_b[None,:,:2])\n",
    "    max_xy = torch.min(box_a[:,None,2:],box_b[None,:,2:])\n",
    "    inter = torch.clamp(max_xy-min_xy,min=0)\n",
    "    return inter[:,:,0] * inter[:,:,1]\n",
    "\n",
    "def get_size(box):\n",
    "    return (box[:,2]-box[:,0]) * (box[:,3] - box[:,1])\n",
    "\n",
    "def jaccard(box_a,box_b):\n",
    "    inter = intersection(box_a,box_b)\n",
    "    union = get_size(box_a).unsqueeze(1) + get_size(box_b).unsqueeze(0) - inter\n",
    "    return inter/union"
   ]
  },
  {
   "cell_type": "code",
   "execution_count": null,
   "metadata": {},
   "outputs": [],
   "source": [
    "### ssd_loss ###\n",
    "def get_y(bbox,clas):\n",
    "    bbox = bbox.view(-1,4)/size\n",
    "    bb_keep = ((bbox[:,2] - bbox[:,0])>0.).nonzero()[:,0]\n",
    "    return bbox[bb_keep], clas[bb_keep]\n",
    "    \n",
    "def actn_to_bb(actn, anchors):\n",
    "    actn_bbs = torch.tanh(actn)\n",
    "    actn_ctrs = (actn_bbs.cuda()[:,:2] * grid_sizes.cuda()/2) + anchors.cuda()[:,:2]\n",
    "    actn_hw = (1 + actn_bbs.cuda()[:,2:]/2) * anchors.cuda()[:,2:]\n",
    "    return hw2corners(actn_ctrs,actn_hw)\n",
    "\n",
    "def map_to_ground_truth(overlaps, print_it=False):\n",
    "    prior_overlap, prior_idx = overlaps.max(1)\n",
    "    if print_it: print(prior_overlap)\n",
    "    gt_overlap, gt_idx = overlaps.max(0)\n",
    "    gt_overlap[prior_idx] = 1.99\n",
    "    for i,o in enumerate(prior_idx): gt_idx[o] = i\n",
    "    return gt_overlap,gt_idx\n",
    "\n",
    "def ssd_1_loss(b_bb, b_c, bbox, clas, print_it=False, use_ab=True):\n",
    "    bbox,clas = get_y(bbox,clas)\n",
    "    a_ic = actn_to_bb(b_bb, anchors)\n",
    "    overlaps = jaccard(bbox.data, (anchor_cnr.cuda() if use_ab else a_ic).data)\n",
    "    gt_overlap,gt_idx = map_to_ground_truth(overlaps)\n",
    "    gt_clas = clas[gt_idx]\n",
    "    pos = gt_overlap > 0.4\n",
    "    pos_idx = torch.nonzero(pos)[:,0]\n",
    "    gt_clas[~pos] = dls.ncls\n",
    "    gt_bbox = bbox[gt_idx]\n",
    "    loc_loss = ((a_ic[pos_idx] - gt_bbox[pos_idx]).abs()).mean()\n",
    "    clas_loss  = loss_f(b_c, gt_clas)\n",
    "    return loc_loss, clas_loss\n",
    "\n",
    "def ssd_loss(pred, targ_bb, targ_lbl, print_it=True):\n",
    "    bb_sum,lbl_sum = 0.,0.\n",
    "    for pred_bb,pred_lbl,bbox,clas in zip(*pred,targ_bb,targ_lbl):\n",
    "        bb_loss,lbl_loss = ssd_1_loss(pred_bb,pred_lbl,bbox,clas,print_it)\n",
    "        bb_sum += bb_loss\n",
    "        lbl_sum += lbl_loss\n",
    "    if print_it: print(f\"bb:{bb_sum:.02f} | lbl: {lbl_sum:.02f}\")\n",
    "    return bb_sum + lbl_sum"
   ]
  },
  {
   "cell_type": "markdown",
   "metadata": {},
   "source": [
    "# Train"
   ]
  },
  {
   "cell_type": "code",
   "execution_count": null,
   "metadata": {},
   "outputs": [],
   "source": [
    "size = im_sz\n",
    "batch_size = bs\n",
    "head_reg4 = SSD_MultiHead(k, -4.)\n",
    "model = CustMod(create_body(resnet34, pretrained=True), head_reg4)"
   ]
  },
  {
   "cell_type": "code",
   "execution_count": null,
   "metadata": {},
   "outputs": [
    {
     "data": {
      "text/html": [],
      "text/plain": [
       "<IPython.core.display.HTML object>"
      ]
     },
     "metadata": {},
     "output_type": "display_data"
    },
    {
     "name": "stdout",
     "output_type": "stream",
     "text": [
      "bb:10.85 | lbl: 4.43\n",
      "bb:10.77 | lbl: 4.50\n",
      "bb:11.00 | lbl: 4.56\n",
      "bb:11.22 | lbl: 4.14\n",
      "bb:11.11 | lbl: 4.46\n",
      "bb:11.15 | lbl: 4.20\n",
      "bb:10.91 | lbl: 4.51\n",
      "bb:10.92 | lbl: 4.39\n",
      "bb:10.94 | lbl: 4.25\n",
      "bb:10.94 | lbl: 4.50\n",
      "bb:10.70 | lbl: 4.48\n",
      "bb:11.12 | lbl: 4.38\n",
      "bb:10.61 | lbl: 4.61\n",
      "bb:11.17 | lbl: 3.98\n",
      "bb:10.87 | lbl: 4.70\n",
      "bb:10.88 | lbl: 4.51\n",
      "bb:10.75 | lbl: 4.17\n",
      "bb:10.72 | lbl: 4.65\n",
      "bb:10.76 | lbl: 4.36\n",
      "bb:10.70 | lbl: 4.25\n",
      "bb:10.56 | lbl: 4.34\n",
      "bb:10.58 | lbl: 4.42\n",
      "bb:10.72 | lbl: 4.47\n",
      "bb:10.21 | lbl: 4.31\n",
      "bb:10.38 | lbl: 4.48\n",
      "bb:10.28 | lbl: 4.33\n",
      "bb:10.33 | lbl: 4.49\n",
      "bb:9.92 | lbl: 4.66\n",
      "bb:9.71 | lbl: 4.37\n",
      "bb:9.48 | lbl: 3.86\n",
      "bb:9.28 | lbl: 4.30\n",
      "bb:8.86 | lbl: 4.39\n",
      "bb:8.32 | lbl: 4.47\n",
      "bb:8.17 | lbl: 4.10\n",
      "bb:7.53 | lbl: 4.13\n",
      "bb:7.02 | lbl: 4.30\n",
      "bb:6.70 | lbl: 4.21\n",
      "bb:6.02 | lbl: 3.94\n",
      "bb:5.93 | lbl: 4.00\n",
      "bb:5.69 | lbl: 4.27\n",
      "bb:5.39 | lbl: 3.77\n",
      "bb:5.39 | lbl: 4.18\n",
      "bb:5.12 | lbl: 3.64\n",
      "bb:5.10 | lbl: 3.52\n",
      "bb:4.99 | lbl: 3.09\n",
      "bb:4.93 | lbl: 3.36\n",
      "bb:4.86 | lbl: 3.07\n",
      "bb:4.87 | lbl: 2.59\n",
      "bb:4.89 | lbl: 2.09\n",
      "bb:4.88 | lbl: 1.95\n",
      "bb:4.84 | lbl: 2.14\n",
      "bb:4.80 | lbl: 2.63\n",
      "bb:4.85 | lbl: 3.44\n",
      "bb:4.83 | lbl: 2.51\n",
      "bb:4.80 | lbl: 1.96\n",
      "bb:4.86 | lbl: 2.08\n",
      "bb:4.81 | lbl: 2.38\n",
      "bb:4.80 | lbl: 2.27\n",
      "bb:4.86 | lbl: 1.94\n",
      "bb:4.81 | lbl: 1.95\n",
      "bb:4.84 | lbl: 2.50\n",
      "bb:4.87 | lbl: 1.74\n",
      "bb:4.91 | lbl: 1.85\n",
      "bb:4.88 | lbl: 1.99\n",
      "bb:4.85 | lbl: 2.41\n",
      "bb:4.87 | lbl: 2.11\n",
      "bb:4.88 | lbl: 2.08\n",
      "bb:4.88 | lbl: 2.32\n",
      "bb:4.86 | lbl: 2.58\n",
      "bb:4.86 | lbl: 8.38\n",
      "bb:4.89 | lbl: 6.90\n",
      "bb:4.85 | lbl: 133.69\n",
      "bb:4.81 | lbl: 106.23\n",
      "bb:4.85 | lbl: 100.48\n",
      "bb:4.85 | lbl: 73.87\n",
      "bb:4.85 | lbl: 147.46\n",
      "bb:4.85 | lbl: 42.90\n",
      "bb:4.93 | lbl: 864.93\n"
     ]
    },
    {
     "data": {
      "image/png": "[encoded data removed]",
      "text/plain": [
       "<Figure size 432x288 with 1 Axes>"
      ]
     },
     "metadata": {
      "needs_background": "light"
     },
     "output_type": "display_data"
    }
   ],
   "source": [
    "learner = Learner(dls, model, loss_func=ssd_loss).to_fp16()\n",
    "learner.freeze()\n",
    "lr_min, lr_steep = learner.lr_find()"
   ]
  },
  {
   "cell_type": "code",
   "execution_count": null,
   "metadata": {},
   "outputs": [
    {
     "name": "stdout",
     "output_type": "stream",
     "text": [
      "lr: 0.0017\n"
     ]
    }
   ],
   "source": [
    "lr = (lr_min+lr_steep)/2; print(\"lr:\",round(lr,4))"
   ]
  },
  {
   "cell_type": "code",
   "execution_count": null,
   "metadata": {},
   "outputs": [
    {
     "data": {
      "text/html": [
       "<table border=\"1\" class=\"dataframe\">\n",
       "  <thead>\n",
       "    <tr style=\"text-align: left;\">\n",
       "      <th>epoch</th>\n",
       "      <th>train_loss</th>\n",
       "      <th>valid_loss</th>\n",
       "      <th>time</th>\n",
       "    </tr>\n",
       "  </thead>\n",
       "  <tbody>\n",
       "    <tr>\n",
       "      <td>0</td>\n",
       "      <td>8.574489</td>\n",
       "      <td>6.161962</td>\n",
       "      <td>00:09</td>\n",
       "    </tr>\n",
       "    <tr>\n",
       "      <td>1</td>\n",
       "      <td>7.015879</td>\n",
       "      <td>5.887607</td>\n",
       "      <td>00:09</td>\n",
       "    </tr>\n",
       "    <tr>\n",
       "      <td>2</td>\n",
       "      <td>6.400682</td>\n",
       "      <td>5.772642</td>\n",
       "      <td>00:09</td>\n",
       "    </tr>\n",
       "    <tr>\n",
       "      <td>3</td>\n",
       "      <td>6.044405</td>\n",
       "      <td>5.686826</td>\n",
       "      <td>00:09</td>\n",
       "    </tr>\n",
       "    <tr>\n",
       "      <td>4</td>\n",
       "      <td>5.821069</td>\n",
       "      <td>5.673601</td>\n",
       "      <td>00:09</td>\n",
       "    </tr>\n",
       "  </tbody>\n",
       "</table>"
      ],
      "text/plain": [
       "<IPython.core.display.HTML object>"
      ]
     },
     "metadata": {},
     "output_type": "display_data"
    },
    {
     "name": "stdout",
     "output_type": "stream",
     "text": [
      "bb:11.00 | lbl: 4.37\n",
      "bb:10.50 | lbl: 4.40\n",
      "bb:9.53 | lbl: 4.34\n",
      "bb:8.55 | lbl: 4.60\n",
      "bb:8.33 | lbl: 4.23\n",
      "bb:7.62 | lbl: 4.38\n",
      "bb:7.09 | lbl: 4.28\n",
      "bb:6.47 | lbl: 4.02\n",
      "bb:5.93 | lbl: 3.89\n",
      "bb:5.58 | lbl: 3.99\n",
      "bb:5.33 | lbl: 4.02\n",
      "bb:5.28 | lbl: 3.56\n",
      "bb:5.14 | lbl: 3.51\n",
      "bb:5.03 | lbl: 3.52\n",
      "bb:4.94 | lbl: 3.38\n",
      "bb:4.92 | lbl: 3.06\n",
      "bb:4.95 | lbl: 2.72\n",
      "bb:4.88 | lbl: 2.65\n",
      "bb:4.87 | lbl: 2.13\n",
      "bb:4.89 | lbl: 2.03\n",
      "bb:4.76 | lbl: 1.98\n",
      "bb:4.83 | lbl: 2.01\n",
      "bb:4.86 | lbl: 2.07\n",
      "bb:4.90 | lbl: 2.02\n",
      "bb:4.88 | lbl: 2.09\n",
      "bb:4.90 | lbl: 2.06\n",
      "bb:4.86 | lbl: 1.93\n",
      "bb:4.83 | lbl: 1.80\n",
      "bb:4.81 | lbl: 1.81\n",
      "bb:4.85 | lbl: 1.89\n",
      "bb:4.83 | lbl: 1.80\n",
      "bb:4.90 | lbl: 1.28\n",
      "bb:4.86 | lbl: 1.46\n",
      "bb:4.82 | lbl: 1.36\n",
      "bb:4.81 | lbl: 1.42\n",
      "bb:4.81 | lbl: 1.62\n",
      "bb:4.86 | lbl: 1.44\n",
      "bb:4.87 | lbl: 1.35\n",
      "bb:3.96 | lbl: 1.32\n",
      "bb:4.90 | lbl: 1.56\n",
      "bb:4.85 | lbl: 1.69\n",
      "bb:4.87 | lbl: 1.42\n",
      "bb:4.81 | lbl: 1.49\n",
      "bb:4.82 | lbl: 1.58\n",
      "bb:4.87 | lbl: 1.46\n",
      "bb:4.88 | lbl: 1.63\n",
      "bb:4.90 | lbl: 1.39\n",
      "bb:4.84 | lbl: 1.40\n",
      "bb:4.86 | lbl: 1.47\n",
      "bb:4.84 | lbl: 1.17\n",
      "bb:4.83 | lbl: 1.28\n",
      "bb:4.85 | lbl: 1.47\n",
      "bb:4.84 | lbl: 1.52\n",
      "bb:4.93 | lbl: 1.08\n",
      "bb:4.90 | lbl: 1.35\n",
      "bb:4.85 | lbl: 1.29\n",
      "bb:4.86 | lbl: 1.21\n",
      "bb:4.90 | lbl: 1.25\n",
      "bb:4.82 | lbl: 1.36\n",
      "bb:4.92 | lbl: 1.27\n",
      "bb:4.80 | lbl: 1.52\n",
      "bb:4.90 | lbl: 1.33\n",
      "bb:4.84 | lbl: 1.07\n",
      "bb:4.82 | lbl: 1.32\n",
      "bb:4.77 | lbl: 1.35\n",
      "bb:4.88 | lbl: 1.22\n",
      "bb:4.88 | lbl: 1.17\n",
      "bb:4.88 | lbl: 1.18\n",
      "bb:4.89 | lbl: 1.13\n",
      "bb:4.88 | lbl: 1.04\n",
      "bb:4.90 | lbl: 1.12\n",
      "bb:4.86 | lbl: 1.28\n",
      "bb:4.82 | lbl: 1.03\n",
      "bb:4.81 | lbl: 1.14\n",
      "bb:4.81 | lbl: 1.22\n",
      "bb:4.86 | lbl: 1.17\n",
      "bb:4.87 | lbl: 1.06\n",
      "bb:3.96 | lbl: 1.01\n",
      "bb:4.91 | lbl: 1.03\n",
      "bb:4.87 | lbl: 0.95\n",
      "bb:4.86 | lbl: 1.27\n",
      "bb:4.86 | lbl: 1.30\n",
      "bb:4.85 | lbl: 1.17\n",
      "bb:4.89 | lbl: 0.97\n",
      "bb:4.78 | lbl: 1.01\n",
      "bb:4.86 | lbl: 1.00\n",
      "bb:4.85 | lbl: 1.00\n",
      "bb:4.91 | lbl: 1.08\n",
      "bb:4.92 | lbl: 0.91\n",
      "bb:4.83 | lbl: 1.09\n",
      "bb:4.92 | lbl: 1.02\n",
      "bb:4.90 | lbl: 0.95\n",
      "bb:4.85 | lbl: 0.93\n",
      "bb:4.87 | lbl: 1.19\n",
      "bb:4.85 | lbl: 1.05\n",
      "bb:4.83 | lbl: 1.00\n",
      "bb:4.80 | lbl: 1.20\n",
      "bb:4.87 | lbl: 1.27\n",
      "bb:4.83 | lbl: 0.94\n",
      "bb:4.89 | lbl: 0.86\n",
      "bb:4.85 | lbl: 1.06\n",
      "bb:4.85 | lbl: 1.07\n",
      "bb:4.79 | lbl: 1.18\n",
      "bb:4.87 | lbl: 1.08\n",
      "bb:4.92 | lbl: 0.87\n",
      "bb:4.80 | lbl: 1.00\n",
      "bb:4.83 | lbl: 0.95\n",
      "bb:4.81 | lbl: 1.08\n",
      "bb:4.86 | lbl: 0.93\n",
      "bb:4.90 | lbl: 0.96\n",
      "bb:4.86 | lbl: 1.14\n",
      "bb:4.82 | lbl: 0.87\n",
      "bb:4.81 | lbl: 0.97\n",
      "bb:4.81 | lbl: 1.15\n",
      "bb:4.86 | lbl: 1.09\n",
      "bb:4.87 | lbl: 0.91\n",
      "bb:3.96 | lbl: 1.06\n",
      "bb:4.79 | lbl: 1.02\n",
      "bb:4.88 | lbl: 0.97\n",
      "bb:4.88 | lbl: 0.87\n",
      "bb:4.89 | lbl: 0.85\n",
      "bb:4.93 | lbl: 0.83\n",
      "bb:4.84 | lbl: 0.79\n",
      "bb:4.84 | lbl: 0.86\n",
      "bb:4.92 | lbl: 0.75\n",
      "bb:4.78 | lbl: 0.86\n",
      "bb:4.83 | lbl: 0.86\n",
      "bb:4.85 | lbl: 0.91\n",
      "bb:4.90 | lbl: 0.77\n",
      "bb:4.86 | lbl: 0.85\n",
      "bb:4.92 | lbl: 0.72\n",
      "bb:4.92 | lbl: 0.92\n",
      "bb:4.89 | lbl: 0.88\n",
      "bb:4.81 | lbl: 0.97\n",
      "bb:4.87 | lbl: 0.84\n",
      "bb:4.83 | lbl: 0.70\n",
      "bb:4.86 | lbl: 0.82\n",
      "bb:4.88 | lbl: 0.81\n",
      "bb:4.83 | lbl: 0.89\n",
      "bb:4.84 | lbl: 0.77\n",
      "bb:4.89 | lbl: 0.80\n",
      "bb:4.86 | lbl: 0.74\n",
      "bb:4.85 | lbl: 0.72\n",
      "bb:4.87 | lbl: 0.86\n",
      "bb:4.86 | lbl: 0.84\n",
      "bb:4.87 | lbl: 0.90\n",
      "bb:4.82 | lbl: 0.78\n",
      "bb:4.88 | lbl: 0.84\n",
      "bb:4.90 | lbl: 0.85\n",
      "bb:4.86 | lbl: 1.01\n",
      "bb:4.82 | lbl: 0.77\n",
      "bb:4.81 | lbl: 0.87\n",
      "bb:4.81 | lbl: 1.14\n",
      "bb:4.86 | lbl: 0.93\n",
      "bb:4.87 | lbl: 0.85\n",
      "bb:3.96 | lbl: 1.05\n",
      "bb:4.80 | lbl: 0.92\n",
      "bb:4.84 | lbl: 0.70\n",
      "bb:4.84 | lbl: 0.82\n",
      "bb:4.81 | lbl: 0.85\n",
      "bb:4.88 | lbl: 0.71\n",
      "bb:4.87 | lbl: 0.72\n",
      "bb:4.87 | lbl: 0.80\n",
      "bb:4.83 | lbl: 0.77\n",
      "bb:4.85 | lbl: 0.74\n",
      "bb:4.90 | lbl: 0.63\n",
      "bb:4.88 | lbl: 0.69\n",
      "bb:4.84 | lbl: 0.77\n",
      "bb:4.83 | lbl: 0.80\n",
      "bb:4.85 | lbl: 0.67\n",
      "bb:4.90 | lbl: 0.66\n",
      "bb:4.83 | lbl: 0.78\n",
      "bb:4.82 | lbl: 0.82\n",
      "bb:4.89 | lbl: 0.74\n",
      "bb:4.87 | lbl: 0.73\n",
      "bb:4.84 | lbl: 0.78\n",
      "bb:4.83 | lbl: 0.72\n",
      "bb:4.87 | lbl: 0.70\n",
      "bb:4.85 | lbl: 0.72\n",
      "bb:4.85 | lbl: 0.60\n",
      "bb:4.87 | lbl: 0.69\n",
      "bb:4.87 | lbl: 0.63\n",
      "bb:4.94 | lbl: 0.69\n",
      "bb:4.90 | lbl: 0.69\n",
      "bb:4.83 | lbl: 0.69\n",
      "bb:4.86 | lbl: 0.80\n",
      "bb:4.90 | lbl: 0.61\n",
      "bb:4.90 | lbl: 0.85\n",
      "bb:4.86 | lbl: 1.00\n",
      "bb:4.82 | lbl: 0.74\n",
      "bb:4.81 | lbl: 0.85\n",
      "bb:4.81 | lbl: 1.11\n",
      "bb:4.86 | lbl: 0.93\n",
      "bb:4.87 | lbl: 0.84\n",
      "bb:3.96 | lbl: 1.05\n"
     ]
    }
   ],
   "source": [
    "learner.fit_one_cycle(5, lr=lr)"
   ]
  },
  {
   "cell_type": "code",
   "execution_count": null,
   "metadata": {},
   "outputs": [
    {
     "data": {
      "text/plain": [
       "Path('models/s1.pth')"
      ]
     },
     "execution_count": null,
     "metadata": {},
     "output_type": "execute_result"
    }
   ],
   "source": [
    "learner.save('s1')"
   ]
  },
  {
   "cell_type": "code",
   "execution_count": null,
   "metadata": {},
   "outputs": [],
   "source": [
    "learner.export('models/20201214_pascal2007_jh.pkl')"
   ]
  },
  {
   "cell_type": "markdown",
   "metadata": {},
   "source": [
    "# Stepping Through a Batch"
   ]
  },
  {
   "cell_type": "code",
   "execution_count": null,
   "metadata": {},
   "outputs": [],
   "source": [
    "# Get batch, acts\n",
    "head_reg4 = SSD_MultiHead(k, -4.)\n",
    "mod = CustMod(create_body(resnet34, pretrained=True), head_reg4)\n",
    "mod.cpu().eval()\n",
    "\n",
    "batch = next(iter(dls.cpu().valid))\n",
    "acts = mod(batch[0])\n",
    "batch_bbs, batch_lbls = batch[1], batch[2]"
   ]
  },
  {
   "cell_type": "code",
   "execution_count": null,
   "metadata": {},
   "outputs": [],
   "source": [
    "# Get acts and targs for a single im\n",
    "bidx = 0\n",
    "act_bbs,act_lbls,bbs,lbls = list(zip(*acts,batch_bbs,batch_lbls))[bidx]"
   ]
  },
  {
   "cell_type": "code",
   "execution_count": null,
   "metadata": {},
   "outputs": [],
   "source": []
  },
  {
   "cell_type": "code",
   "execution_count": null,
   "metadata": {},
   "outputs": [],
   "source": []
  },
  {
   "cell_type": "code",
   "execution_count": null,
   "metadata": {},
   "outputs": [],
   "source": []
  },
  {
   "cell_type": "code",
   "execution_count": null,
   "metadata": {},
   "outputs": [],
   "source": []
  },
  {
   "cell_type": "code",
   "execution_count": null,
   "metadata": {},
   "outputs": [],
   "source": []
  },
  {
   "cell_type": "code",
   "execution_count": null,
   "metadata": {},
   "outputs": [],
   "source": []
  },
  {
   "cell_type": "code",
   "execution_count": null,
   "metadata": {},
   "outputs": [],
   "source": []
  },
  {
   "cell_type": "code",
   "execution_count": null,
   "metadata": {},
   "outputs": [],
   "source": []
  },
  {
   "cell_type": "code",
   "execution_count": null,
   "metadata": {},
   "outputs": [],
   "source": []
  },
  {
   "cell_type": "code",
   "execution_count": null,
   "metadata": {},
   "outputs": [],
   "source": []
  }
 ],
 "metadata": {
  "kernelspec": {
   "display_name": "Python 3",
   "language": "python",
   "name": "python3"
  }
 },
 "nbformat": 4,
 "nbformat_minor": 4
}
