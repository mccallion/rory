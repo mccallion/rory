{
 "cells": [
  {
   "cell_type": "markdown",
   "metadata": {},
   "source": [
    "<h1>Table of Contents<span class=\"tocSkip\"></span></h1>\n",
    "<div class=\"toc\"><ul class=\"toc-item\"><li><span><a href=\"#Get-annos-json-for-coco_sample-and-coco_all\" data-toc-modified-id=\"Get-annos-json-for-coco_sample-and-coco_all-1\"><span class=\"toc-item-num\">1&nbsp;&nbsp;</span>Get annos json for coco_sample and coco_all</a></span></li><li><span><a href=\"#images_ss\" data-toc-modified-id=\"images_ss-2\"><span class=\"toc-item-num\">2&nbsp;&nbsp;</span>images_ss</a></span></li><li><span><a href=\"#annos_fixed\" data-toc-modified-id=\"annos_fixed-3\"><span class=\"toc-item-num\">3&nbsp;&nbsp;</span>annos_fixed</a></span></li><li><span><a href=\"#cats_fixed\" data-toc-modified-id=\"cats_fixed-4\"><span class=\"toc-item-num\">4&nbsp;&nbsp;</span>cats_fixed</a></span></li><li><span><a href=\"#putting-it-all-together-and-exporting\" data-toc-modified-id=\"putting-it-all-together-and-exporting-5\"><span class=\"toc-item-num\">5&nbsp;&nbsp;</span>putting it all together and exporting</a></span></li></ul></div>"
   ]
  },
  {
   "cell_type": "markdown",
   "metadata": {},
   "source": [
    "### Get annos json for coco_sample and coco_all"
   ]
  },
  {
   "cell_type": "markdown",
   "metadata": {},
   "source": [
    "**Goal of this nb: Create \"annos_fixed\", a subset of annos_all that contains only the ims and bbs from the subset**"
   ]
  },
  {
   "cell_type": "code",
   "execution_count": null,
   "metadata": {},
   "outputs": [],
   "source": [
    "from fastai.vision.all import *\n",
    "import json"
   ]
  },
  {
   "cell_type": "code",
   "execution_count": null,
   "metadata": {},
   "outputs": [],
   "source": [
    "# Load coco_sample\n",
    "data_dir   = untar_data(URLs.COCO_SAMPLE)\n",
    "img_dir    = data_dir/\"train_sample/subset\"\n",
    "annos_file = data_dir/'annotations/train_sample_allannos.json'"
   ]
  },
  {
   "cell_type": "code",
   "execution_count": null,
   "metadata": {},
   "outputs": [
    {
     "data": {
      "text/plain": [
       "2080"
      ]
     },
     "execution_count": null,
     "metadata": {},
     "output_type": "execute_result"
    }
   ],
   "source": [
    "# calculate n\n",
    "import os\n",
    "_, _, fns = next(os.walk(img_dir))\n",
    "n = len(fns); n"
   ]
  },
  {
   "cell_type": "code",
   "execution_count": null,
   "metadata": {},
   "outputs": [
    {
     "data": {
      "text/plain": [
       "['000000417832.jpg', '000000321097.jpg', '000000466448.jpg']"
      ]
     },
     "execution_count": null,
     "metadata": {},
     "output_type": "execute_result"
    }
   ],
   "source": [
    "fns[0:3]"
   ]
  },
  {
   "cell_type": "code",
   "execution_count": null,
   "metadata": {},
   "outputs": [
    {
     "data": {
      "text/plain": [
       "dict_keys(['info', 'licenses', 'images', 'annotations', 'categories'])"
      ]
     },
     "execution_count": null,
     "metadata": {},
     "output_type": "execute_result"
    }
   ],
   "source": [
    "with open(annos_file) as fn: annos_json = json.load(fn)\n",
    "annos_json.keys()"
   ]
  },
  {
   "cell_type": "code",
   "execution_count": null,
   "metadata": {},
   "outputs": [],
   "source": [
    "# this is my goal:\n",
    "images_fixed, annos_fixed, cats_fixed = [],[],[]\n",
    "annos_json_ss = {\n",
    "    'info':        annos_json['info'],\n",
    "    'licenses':    annos_json['licenses'],\n",
    "    'images':      images_ss,\n",
    "    'annotations': annos_ss,\n",
    "    'categories':  annos_json['categories']\n",
    "}"
   ]
  },
  {
   "cell_type": "code",
   "execution_count": null,
   "metadata": {},
   "outputs": [],
   "source": [
    "# ims\n",
    "fn2ims = {a['file_name']:a for a in annos_json['images']}\n",
    "images_ss = [fn2ims[fn] for fn in fns]"
   ]
  },
  {
   "cell_type": "code",
   "execution_count": null,
   "metadata": {},
   "outputs": [],
   "source": [
    "# fn2id\n",
    "fn2id = {a['file_name']:a['id'] for a in annos_json['images']}"
   ]
  },
  {
   "cell_type": "code",
   "execution_count": null,
   "metadata": {},
   "outputs": [
    {
     "data": {
      "text/plain": [
       "[{'segmentation': [[452.29,\n",
       "    12.77,\n",
       "    442.51,\n",
       "    83.05,\n",
       "    451.68,\n",
       "    119.87,\n",
       "    474.29,\n",
       "    119.26,\n",
       "    485.9,\n",
       "    0.0,\n",
       "    447.4,\n",
       "    0.0]],\n",
       "  'area': 3888.72,\n",
       "  'iscrowd': 0,\n",
       "  'image_id': 318219,\n",
       "  'bbox': [442.51, 0.0, 43.39, 119.87],\n",
       "  'category_id': 72,\n",
       "  'id': 1969994},\n",
       " {'segmentation': [[452.29,\n",
       "    12.77,\n",
       "    442.51,\n",
       "    83.05,\n",
       "    451.68,\n",
       "    119.87,\n",
       "    474.29,\n",
       "    119.26,\n",
       "    485.9,\n",
       "    0.0,\n",
       "    447.4,\n",
       "    0.0]],\n",
       "  'area': 3888.72,\n",
       "  'iscrowd': 0,\n",
       "  'image_id': 318219,\n",
       "  'bbox': [442.51, 0.0, 43.39, 119.87],\n",
       "  'category_id': 72,\n",
       "  'id': 1969994}]"
      ]
     },
     "execution_count": null,
     "metadata": {},
     "output_type": "execute_result"
    }
   ],
   "source": [
    "# annos\n",
    "annos_json['annotations'][0:2]"
   ]
  },
  {
   "cell_type": "code",
   "execution_count": null,
   "metadata": {},
   "outputs": [],
   "source": [
    "idanno = [(a['image_id'],a) for a in annos_json['annotations']]"
   ]
  },
  {
   "cell_type": "code",
   "execution_count": null,
   "metadata": {},
   "outputs": [
    {
     "data": {
      "text/plain": [
       "(318219,\n",
       " {'segmentation': [[452.29,\n",
       "    12.77,\n",
       "    442.51,\n",
       "    83.05,\n",
       "    451.68,\n",
       "    119.87,\n",
       "    474.29,\n",
       "    119.26,\n",
       "    485.9,\n",
       "    0.0,\n",
       "    447.4,\n",
       "    0.0]],\n",
       "  'area': 3888.72,\n",
       "  'iscrowd': 0,\n",
       "  'image_id': 318219,\n",
       "  'bbox': [442.51, 0.0, 43.39, 119.87],\n",
       "  'category_id': 72,\n",
       "  'id': 1969994})"
      ]
     },
     "execution_count": null,
     "metadata": {},
     "output_type": "execute_result"
    }
   ],
   "source": [
    "idanno[0]"
   ]
  },
  {
   "cell_type": "code",
   "execution_count": null,
   "metadata": {},
   "outputs": [
    {
     "data": {
      "text/plain": [
       "417832"
      ]
     },
     "execution_count": null,
     "metadata": {},
     "output_type": "execute_result"
    }
   ],
   "source": [
    "fn2id[fns[0]]"
   ]
  },
  {
   "cell_type": "code",
   "execution_count": null,
   "metadata": {},
   "outputs": [
    {
     "data": {
      "text/plain": [
       "[417832, 321097, 466448]"
      ]
     },
     "execution_count": null,
     "metadata": {},
     "output_type": "execute_result"
    }
   ],
   "source": [
    "ss_ids = [fn2id[fn] for fn in fns]\n",
    "ss_ids[0:3]"
   ]
  },
  {
   "cell_type": "code",
   "execution_count": null,
   "metadata": {},
   "outputs": [],
   "source": [
    "annos_ss = []\n",
    "for i,anno in idanno:\n",
    "    if i in ss_ids: annos_ss.append(anno)"
   ]
  },
  {
   "cell_type": "markdown",
   "metadata": {},
   "source": [
    "### putting it all together and exporting"
   ]
  },
  {
   "cell_type": "code",
   "execution_count": null,
   "metadata": {},
   "outputs": [],
   "source": [
    "annos_json_ss = {\n",
    "    'info':        annos_json['info'],\n",
    "    'licenses':    annos_json['licenses'],\n",
    "    'images':      images_ss,\n",
    "    'annotations': annos_ss,\n",
    "    'categories':  annos_json['categories']\n",
    "}"
   ]
  },
  {
   "cell_type": "code",
   "execution_count": null,
   "metadata": {},
   "outputs": [
    {
     "data": {
      "text/plain": [
       "Path('/home/rory/.fastai/data/coco_sample/train_sample/subset')"
      ]
     },
     "execution_count": null,
     "metadata": {},
     "output_type": "execute_result"
    }
   ],
   "source": [
    "img_dir"
   ]
  },
  {
   "cell_type": "code",
   "execution_count": null,
   "metadata": {},
   "outputs": [],
   "source": [
    "saved_file = img_dir/'annos.json'"
   ]
  },
  {
   "cell_type": "code",
   "execution_count": null,
   "metadata": {},
   "outputs": [],
   "source": [
    "with open(saved_file, 'w') as fn: json.dump(annos_json_ss, fn)"
   ]
  }
 ],
 "metadata": {
  "kernelspec": {
   "display_name": "Python 3",
   "language": "python",
   "name": "python3"
  }
 },
 "nbformat": 4,
 "nbformat_minor": 4
}
