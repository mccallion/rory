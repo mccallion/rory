{
 "cells": [
  {
   "cell_type": "markdown",
   "metadata": {},
   "source": [
    "# Tabular Modeling"
   ]
  },
  {
   "cell_type": "markdown",
   "metadata": {},
   "source": [
    "Tabular deep NN models and collab models are very similar. Actually, they're identical! The only difference is that tabular models have more variables and possibly continuous variables.\n",
    "- Collab filtering: (user,movie) → rating\n",
    "- Tabular deep models: (user,age,gender,geo,income,movie,release,date,budget,director,language,genre) → rating"
   ]
  },
  {
   "cell_type": "code",
   "execution_count": null,
   "metadata": {},
   "outputs": [],
   "source": [
    "from kaggle import api\n",
    "from pandas.api.types import is_string_dtype, is_numeric_dtype, is_categorical_dtype\n",
    "from fastai.tabular.all import *\n",
    "from sklearn.ensemble import RandomForestRegressor\n",
    "from sklearn.tree import DecisionTreeRegressor\n",
    "from dtreeviz.trees import *\n",
    "from IPython.display import Image, display_svg, SVG\n",
    "\n",
    "# pd.options.display.max_rows = 20\n",
    "# pd.options.display.max_columns = 8"
   ]
  },
  {
   "cell_type": "markdown",
   "metadata": {},
   "source": [
    "# The Kaggle dataset"
   ]
  },
  {
   "cell_type": "markdown",
   "metadata": {},
   "source": [
    "## Description"
   ]
  },
  {
   "cell_type": "markdown",
   "metadata": {},
   "source": [
    "*Source: https://www.kaggle.com/c/bluebook-for-bulldozers/data*\n",
    "\n",
    "The goal of the contest is to predict the sale price of a particular piece of heavy equiment at auction based on it's usage, equipment type, and configuaration.  The data is sourced from auction result postings and includes information on usage and equipment configurations.\n",
    "\n",
    "The evaluation metric for this competition is the RMSLE (root mean squared log error) between the actual and predicted auction prices.\n",
    "\n",
    "Sample submission files can be downloaded from the data page. Submission files should be formatted as follows:\n",
    "\n",
    "- Have a header: `SalesID,SalePrice`\n",
    "- Contain two columns\n",
    "  - `SalesID`: SalesID for the validation set in sorted order\n",
    "  - `SalePrice`: Your predicted price of the sale\n",
    "\n",
    "Example lines of the submission format:\n",
    "\n",
    "`SalesID,SalePrice\n",
    "1222837,36205\n",
    "3044012,74570\n",
    "1222841,31910.50\n",
    "...`"
   ]
  },
  {
   "cell_type": "markdown",
   "metadata": {},
   "source": [
    "## Data"
   ]
  },
  {
   "cell_type": "markdown",
   "metadata": {},
   "source": [
    "View and download the benchmark code from Github: https://github.com/benhamner/BluebookForBulldozers/tree/master/Benchmark\n",
    "\n",
    "For this competition, you are predicting the sale price of bulldozers sold at auctions.\n",
    "\n",
    "The data for this competition is split into three parts:\n",
    "\n",
    "- `Train.csv` is the training set, which contains data through the end of 2011.\n",
    "- `Valid.csv` is the validation set, which contains data from January 1, 2012 - April 30, 2012 You make predictions on this set throughout the majority of the competition. Your score on this set is used to create the public leaderboard.\n",
    "- `Test.csv` is the test set, which won't be released until the last week of the competition. It contains data from May 1, 2012 - November 2012. Your score on the test set determines your final rank for the competition.\n",
    "\n",
    "The key fields are in train.csv are:\n",
    "\n",
    "- `SalesID`: the uniue identifier of the sale\n",
    "- `MachineID`: the unique identifier of a machine.  A machine can be sold multiple times\n",
    "- `saleprice`: what the machine sold for at auction (only provided in train.csv)\n",
    "- `saledate`: the date of the sale\n",
    "\n",
    "There are several fields towards the end of the file on the different options a machine can have.  The descriptions all start with \"machine configuration\" in the data dictionary.  Some product types do not have a particular option, so all the records for that option variable will be null for that product type.  Also, some sources do not provide good option and/or hours data.\n",
    "\n",
    "The machine_appendix.csv file contains the correct year manufactured for a given machine along with the make, model, and product class details. There is one machine id for every machine in all the competition datasets (training, evaluation, etc.)."
   ]
  },
  {
   "cell_type": "markdown",
   "metadata": {},
   "source": [
    "## Downloading the data from Kaggle"
   ]
  },
  {
   "cell_type": "code",
   "execution_count": null,
   "metadata": {},
   "outputs": [],
   "source": [
    "creds = '{\"username\":\"rorymm\",\"key\":\"690e177de576a42fe21868994c1b8093\"}'"
   ]
  },
  {
   "cell_type": "code",
   "execution_count": null,
   "metadata": {},
   "outputs": [],
   "source": [
    "cred_path = Path('~/.kaggle/kaggle.json').expanduser()\n",
    "if not cred_path.exists():\n",
    "    cred_path.parent.mkdir(exist_ok=True)\n",
    "    cred_path.write(creds)\n",
    "    cred_path.chmod(0o600)"
   ]
  },
  {
   "cell_type": "code",
   "execution_count": null,
   "metadata": {},
   "outputs": [
    {
     "data": {
      "text/plain": [
       "Path('/home/rory/.fastai/archive/bluebook')"
      ]
     },
     "execution_count": null,
     "metadata": {},
     "output_type": "execute_result"
    }
   ],
   "source": [
    "path = URLs.path('bluebook')\n",
    "path"
   ]
  },
  {
   "cell_type": "code",
   "execution_count": null,
   "metadata": {},
   "outputs": [],
   "source": [
    "Path.BASE_PATH = path"
   ]
  },
  {
   "cell_type": "code",
   "execution_count": null,
   "metadata": {},
   "outputs": [],
   "source": [
    "if not path.exists():\n",
    "    path.mkdir()\n",
    "    api.competition_download_cli('bluebook-for-bulldozers', path=path)\n",
    "    file_extract(path/'bluebook-for-bulldozers.zip')"
   ]
  },
  {
   "cell_type": "markdown",
   "metadata": {},
   "source": [
    "The above cell didn't work for me. Instead I ran in terminal:\n",
    "\n",
    "`kaggle competitions download -c bluebook-for-bulldozers -p /home/rory/.fastai/archive/bluebook`\n",
    "\n",
    "Then:\n",
    "    \n",
    "`file_extract(path/'bluebook-for-bulldozers.zip')`"
   ]
  },
  {
   "cell_type": "code",
   "execution_count": null,
   "metadata": {},
   "outputs": [
    {
     "data": {
      "text/plain": [
       "[Path('Test.csv'),\n",
       " Path('median_benchmark.csv'),\n",
       " Path('ValidSolution.csv'),\n",
       " Path('Valid.csv'),\n",
       " Path('Machine_Appendix.csv'),\n",
       " Path('TrainAndValid.csv'),\n",
       " Path('random_forest_benchmark_test.csv')]"
      ]
     },
     "execution_count": null,
     "metadata": {},
     "output_type": "execute_result"
    }
   ],
   "source": [
    "list(path.ls(file_type='text'))"
   ]
  },
  {
   "cell_type": "markdown",
   "metadata": {},
   "source": [
    "Let's load the raw data into a df."
   ]
  },
  {
   "cell_type": "code",
   "execution_count": null,
   "metadata": {},
   "outputs": [],
   "source": [
    "df = pd.read_csv(path/'TrainAndValid.csv', low_memory=False)"
   ]
  },
  {
   "cell_type": "markdown",
   "metadata": {},
   "source": [
    "## Inspecting the data"
   ]
  },
  {
   "cell_type": "code",
   "execution_count": null,
   "metadata": {},
   "outputs": [
    {
     "data": {
      "text/html": [
       "<div>\n",
       "<style scoped>\n",
       "    .dataframe tbody tr th:only-of-type {\n",
       "        vertical-align: middle;\n",
       "    }\n",
       "\n",
       "    .dataframe tbody tr th {\n",
       "        vertical-align: top;\n",
       "    }\n",
       "\n",
       "    .dataframe thead th {\n",
       "        text-align: right;\n",
       "    }\n",
       "</style>\n",
       "<table border=\"1\" class=\"dataframe\">\n",
       "  <thead>\n",
       "    <tr style=\"text-align: right;\">\n",
       "      <th></th>\n",
       "      <th>SalesID</th>\n",
       "      <th>SalePrice</th>\n",
       "      <th>MachineID</th>\n",
       "      <th>ModelID</th>\n",
       "      <th>datasource</th>\n",
       "      <th>auctioneerID</th>\n",
       "      <th>YearMade</th>\n",
       "      <th>MachineHoursCurrentMeter</th>\n",
       "      <th>UsageBand</th>\n",
       "      <th>saledate</th>\n",
       "      <th>...</th>\n",
       "      <th>Undercarriage_Pad_Width</th>\n",
       "      <th>Stick_Length</th>\n",
       "      <th>Thumb</th>\n",
       "      <th>Pattern_Changer</th>\n",
       "      <th>Grouser_Type</th>\n",
       "      <th>Backhoe_Mounting</th>\n",
       "      <th>Blade_Type</th>\n",
       "      <th>Travel_Controls</th>\n",
       "      <th>Differential_Type</th>\n",
       "      <th>Steering_Controls</th>\n",
       "    </tr>\n",
       "  </thead>\n",
       "  <tbody>\n",
       "    <tr>\n",
       "      <th>0</th>\n",
       "      <td>1139246</td>\n",
       "      <td>66000.0</td>\n",
       "      <td>999089</td>\n",
       "      <td>3157</td>\n",
       "      <td>121</td>\n",
       "      <td>3.0</td>\n",
       "      <td>2004</td>\n",
       "      <td>68.0</td>\n",
       "      <td>Low</td>\n",
       "      <td>11/16/2006 0:00</td>\n",
       "      <td>...</td>\n",
       "      <td>NaN</td>\n",
       "      <td>NaN</td>\n",
       "      <td>NaN</td>\n",
       "      <td>NaN</td>\n",
       "      <td>NaN</td>\n",
       "      <td>NaN</td>\n",
       "      <td>NaN</td>\n",
       "      <td>NaN</td>\n",
       "      <td>Standard</td>\n",
       "      <td>Conventional</td>\n",
       "    </tr>\n",
       "    <tr>\n",
       "      <th>1</th>\n",
       "      <td>1139248</td>\n",
       "      <td>57000.0</td>\n",
       "      <td>117657</td>\n",
       "      <td>77</td>\n",
       "      <td>121</td>\n",
       "      <td>3.0</td>\n",
       "      <td>1996</td>\n",
       "      <td>4640.0</td>\n",
       "      <td>Low</td>\n",
       "      <td>3/26/2004 0:00</td>\n",
       "      <td>...</td>\n",
       "      <td>NaN</td>\n",
       "      <td>NaN</td>\n",
       "      <td>NaN</td>\n",
       "      <td>NaN</td>\n",
       "      <td>NaN</td>\n",
       "      <td>NaN</td>\n",
       "      <td>NaN</td>\n",
       "      <td>NaN</td>\n",
       "      <td>Standard</td>\n",
       "      <td>Conventional</td>\n",
       "    </tr>\n",
       "    <tr>\n",
       "      <th>2</th>\n",
       "      <td>1139249</td>\n",
       "      <td>10000.0</td>\n",
       "      <td>434808</td>\n",
       "      <td>7009</td>\n",
       "      <td>121</td>\n",
       "      <td>3.0</td>\n",
       "      <td>2001</td>\n",
       "      <td>2838.0</td>\n",
       "      <td>High</td>\n",
       "      <td>2/26/2004 0:00</td>\n",
       "      <td>...</td>\n",
       "      <td>NaN</td>\n",
       "      <td>NaN</td>\n",
       "      <td>NaN</td>\n",
       "      <td>NaN</td>\n",
       "      <td>NaN</td>\n",
       "      <td>NaN</td>\n",
       "      <td>NaN</td>\n",
       "      <td>NaN</td>\n",
       "      <td>NaN</td>\n",
       "      <td>NaN</td>\n",
       "    </tr>\n",
       "  </tbody>\n",
       "</table>\n",
       "<p>3 rows × 53 columns</p>\n",
       "</div>"
      ],
      "text/plain": [
       "   SalesID  SalePrice  MachineID  ModelID  datasource  auctioneerID  YearMade  \\\n",
       "0  1139246    66000.0     999089     3157         121           3.0      2004   \n",
       "1  1139248    57000.0     117657       77         121           3.0      1996   \n",
       "2  1139249    10000.0     434808     7009         121           3.0      2001   \n",
       "\n",
       "   MachineHoursCurrentMeter UsageBand         saledate  ...  \\\n",
       "0                      68.0       Low  11/16/2006 0:00  ...   \n",
       "1                    4640.0       Low   3/26/2004 0:00  ...   \n",
       "2                    2838.0      High   2/26/2004 0:00  ...   \n",
       "\n",
       "  Undercarriage_Pad_Width Stick_Length Thumb Pattern_Changer Grouser_Type  \\\n",
       "0                     NaN          NaN   NaN             NaN          NaN   \n",
       "1                     NaN          NaN   NaN             NaN          NaN   \n",
       "2                     NaN          NaN   NaN             NaN          NaN   \n",
       "\n",
       "  Backhoe_Mounting Blade_Type Travel_Controls Differential_Type  \\\n",
       "0              NaN        NaN             NaN          Standard   \n",
       "1              NaN        NaN             NaN          Standard   \n",
       "2              NaN        NaN             NaN               NaN   \n",
       "\n",
       "  Steering_Controls  \n",
       "0      Conventional  \n",
       "1      Conventional  \n",
       "2               NaN  \n",
       "\n",
       "[3 rows x 53 columns]"
      ]
     },
     "execution_count": null,
     "metadata": {},
     "output_type": "execute_result"
    }
   ],
   "source": [
    "df[0:3]"
   ]
  },
  {
   "cell_type": "code",
   "execution_count": null,
   "metadata": {},
   "outputs": [
    {
     "data": {
      "text/plain": [
       "['SalesID',\n",
       " 'SalePrice',\n",
       " 'MachineID',\n",
       " 'ModelID',\n",
       " 'datasource',\n",
       " 'auctioneerID',\n",
       " 'YearMade',\n",
       " 'MachineHoursCurrentMeter',\n",
       " 'UsageBand',\n",
       " 'saledate',\n",
       " 'fiModelDesc',\n",
       " 'fiBaseModel',\n",
       " 'fiSecondaryDesc',\n",
       " 'fiModelSeries',\n",
       " 'fiModelDescriptor',\n",
       " 'ProductSize',\n",
       " 'fiProductClassDesc',\n",
       " 'state',\n",
       " 'ProductGroup',\n",
       " 'ProductGroupDesc',\n",
       " 'Drive_System',\n",
       " 'Enclosure',\n",
       " 'Forks',\n",
       " 'Pad_Type',\n",
       " 'Ride_Control',\n",
       " 'Stick',\n",
       " 'Transmission',\n",
       " 'Turbocharged',\n",
       " 'Blade_Extension',\n",
       " 'Blade_Width',\n",
       " 'Enclosure_Type',\n",
       " 'Engine_Horsepower',\n",
       " 'Hydraulics',\n",
       " 'Pushblock',\n",
       " 'Ripper',\n",
       " 'Scarifier',\n",
       " 'Tip_Control',\n",
       " 'Tire_Size',\n",
       " 'Coupler',\n",
       " 'Coupler_System',\n",
       " 'Grouser_Tracks',\n",
       " 'Hydraulics_Flow',\n",
       " 'Track_Type',\n",
       " 'Undercarriage_Pad_Width',\n",
       " 'Stick_Length',\n",
       " 'Thumb',\n",
       " 'Pattern_Changer',\n",
       " 'Grouser_Type',\n",
       " 'Backhoe_Mounting',\n",
       " 'Blade_Type',\n",
       " 'Travel_Controls',\n",
       " 'Differential_Type',\n",
       " 'Steering_Controls']"
      ]
     },
     "execution_count": null,
     "metadata": {},
     "output_type": "execute_result"
    }
   ],
   "source": [
    "list(df.columns)"
   ]
  },
  {
   "cell_type": "markdown",
   "metadata": {},
   "source": [
    "## Handle ordinal columns"
   ]
  },
  {
   "cell_type": "markdown",
   "metadata": {},
   "source": [
    "Ordinal vars are discrete vars that have a specific order, such as \"Small, Medium, Large\"."
   ]
  },
  {
   "cell_type": "code",
   "execution_count": null,
   "metadata": {},
   "outputs": [
    {
     "data": {
      "text/plain": [
       "array([nan, 'Medium', 'Small', 'Large / Medium', 'Mini', 'Large',\n",
       "       'Compact'], dtype=object)"
      ]
     },
     "execution_count": null,
     "metadata": {},
     "output_type": "execute_result"
    }
   ],
   "source": [
    "df['ProductSize'].unique()"
   ]
  },
  {
   "cell_type": "markdown",
   "metadata": {},
   "source": [
    "We have to manually order these by manually stating the order in a tuple, telling the df that the productsize column is a category, and then setting the categories using the tuple and the ordered=True param. Here's what that looks like:"
   ]
  },
  {
   "cell_type": "code",
   "execution_count": null,
   "metadata": {},
   "outputs": [],
   "source": [
    "sizes = 'Large','Large / Medium','Medium','Small','Mini','Compact'"
   ]
  },
  {
   "cell_type": "code",
   "execution_count": null,
   "metadata": {},
   "outputs": [],
   "source": [
    "df['ProductSize'] = df['ProductSize'].astype('category')"
   ]
  },
  {
   "cell_type": "code",
   "execution_count": null,
   "metadata": {},
   "outputs": [],
   "source": [
    "df['ProductSize'].cat.set_categories(sizes, ordered=True, inplace=True)"
   ]
  },
  {
   "cell_type": "markdown",
   "metadata": {},
   "source": [
    "## Handle dep var given the metric"
   ]
  },
  {
   "cell_type": "markdown",
   "metadata": {},
   "source": [
    "Now that we've looked over all of the fields, it's time to think about the metric and the dep var.\n",
    "\n",
    "The most important column in the dataset is the dep var (the one we want to train on and predict). In this step, we define the dep_var and apply any transformations to it that we need to given the metric."
   ]
  },
  {
   "cell_type": "code",
   "execution_count": null,
   "metadata": {},
   "outputs": [],
   "source": [
    "dep_var = 'SalePrice'"
   ]
  },
  {
   "cell_type": "markdown",
   "metadata": {},
   "source": [
    "The competition says we're using RMSLE. (Picking the metric is a design process; however, this competition is telling us what to use, so we're skipping that design process which normally comes here). We're going to apply the log function to it now so we can use RMSE."
   ]
  },
  {
   "cell_type": "code",
   "execution_count": null,
   "metadata": {},
   "outputs": [],
   "source": [
    "df[dep_var] = np.log(df[dep_var])"
   ]
  },
  {
   "cell_type": "markdown",
   "metadata": {},
   "source": [
    "## Enrich date fields"
   ]
  },
  {
   "cell_type": "markdown",
   "metadata": {},
   "source": [
    "Now that we've looked over all the fields and handled the dep var, let's do some more data cleanup & enrichment. We can do some \"feature engineering\" to extract useful information out of this field. \n",
    "\n",
    "`add_datepart(df, 'date_col')`:\n",
    "- adds 12 new columns to the end of the df\n",
    "- removes date_col from the df"
   ]
  },
  {
   "cell_type": "code",
   "execution_count": null,
   "metadata": {},
   "outputs": [],
   "source": [
    "df = add_datepart(df, 'saledate')"
   ]
  },
  {
   "cell_type": "markdown",
   "metadata": {},
   "source": [
    "We had 53 columns before. Now we have 63:"
   ]
  },
  {
   "cell_type": "code",
   "execution_count": null,
   "metadata": {},
   "outputs": [
    {
     "data": {
      "text/plain": [
       "65"
      ]
     },
     "execution_count": null,
     "metadata": {},
     "output_type": "execute_result"
    }
   ],
   "source": [
    "len(df.columns)"
   ]
  },
  {
   "cell_type": "markdown",
   "metadata": {},
   "source": [
    "Let's take a look at what was added based on the saledate:"
   ]
  },
  {
   "cell_type": "code",
   "execution_count": null,
   "metadata": {},
   "outputs": [
    {
     "data": {
      "text/plain": [
       "['saleYear',\n",
       " 'saleMonth',\n",
       " 'saleDay',\n",
       " 'saleDayofweek',\n",
       " 'saleDayofyear',\n",
       " 'saleIs_month_end',\n",
       " 'saleIs_month_start',\n",
       " 'saleIs_quarter_end',\n",
       " 'saleIs_quarter_start',\n",
       " 'saleIs_year_end',\n",
       " 'saleIs_year_start',\n",
       " 'saleElapsed']"
      ]
     },
     "execution_count": null,
     "metadata": {},
     "output_type": "execute_result"
    }
   ],
   "source": [
    "list(df.columns)[(53-65):]"
   ]
  },
  {
   "cell_type": "markdown",
   "metadata": {},
   "source": [
    "## Handle strings and missing data"
   ]
  },
  {
   "cell_type": "markdown",
   "metadata": {},
   "source": [
    "We'll use fastai's class `TabularPandas`, which wraps a df and provides a few conveniences. To populate a TabularPandas object with data, we'll use two `TabularProcs`, `Categorify` and `FillMissing`. A TabularProc is like a regular Transform, except that:\n",
    "- It returns the exact sam eobject that's passed to it after modifying it *in-place*\n",
    "- It runs the transform once, when the data is first apssed in, rather than lazily as the data is accessed\n",
    "\n",
    "`Categorify`:\n",
    "- Replaces a column with a numeric categorical column\n",
    "\n",
    "`FillMissing`:\n",
    "- Replaces missing values with the median of the column\n",
    "- Creates a new boolean columnn that is set to True for any row where the value was missing\n",
    "\n",
    "These two transforms will be needed for nearly every dataset I will ever use."
   ]
  },
  {
   "cell_type": "code",
   "execution_count": null,
   "metadata": {},
   "outputs": [],
   "source": [
    "procs = [Categorify, FillMissing]"
   ]
  },
  {
   "cell_type": "markdown",
   "metadata": {},
   "source": [
    "### Train/Valid split"
   ]
  },
  {
   "cell_type": "markdown",
   "metadata": {},
   "source": [
    "We must be careful about how we construct our validation set. Because we're forecasting sales, we'll use the most recent data in the dataset as the validation set. We would NOT want to use random dates – we want to pick a point in time and predict the future from that point in time. To implement that, we'll use `np.where`.\n",
    "\n",
    "TabularPandas will also handle the train/valid split."
   ]
  },
  {
   "cell_type": "code",
   "execution_count": null,
   "metadata": {},
   "outputs": [],
   "source": [
    "cond = (df.saleYear<2011) | (df.saleMonth<10)\n",
    "train_idx = np.where(cond)[0]\n",
    "valid_idx = np.where(~cond)[0]\n",
    "\n",
    "splits = (list(train_idx), list(valid_idx))"
   ]
  },
  {
   "cell_type": "code",
   "execution_count": null,
   "metadata": {},
   "outputs": [
    {
     "data": {
      "text/plain": [
       "(404710, 7988)"
      ]
     },
     "execution_count": null,
     "metadata": {},
     "output_type": "execute_result"
    }
   ],
   "source": [
    "len(train_idx), len(valid_idx)"
   ]
  },
  {
   "cell_type": "markdown",
   "metadata": {},
   "source": [
    "## Cont/Cat vars"
   ]
  },
  {
   "cell_type": "markdown",
   "metadata": {},
   "source": [
    "Time to tell TabularPandas which vars are continuous and which are categorical. We'll do this with the helper function `cont_cat_split`."
   ]
  },
  {
   "cell_type": "code",
   "execution_count": null,
   "metadata": {},
   "outputs": [],
   "source": [
    "### Bug fixes 2021-01-26 ###\n",
    "\n",
    "## 1: cast saleWeek to int\n",
    "# fix source: https://www.gitmemory.com/issue/fastai/fastai/3156/760969854\n",
    "df.saleWeek = df.saleWeek.astype(int)\n",
    "\n",
    "## 2: handle Ordinal type\n",
    "# fix source: https://forums.fast.ai/t/problem-with-cont-cat-split-in-google-collab/84402/3\n",
    "def cont_cat_split(df, max_card=20, dep_var=None):\n",
    "    cont_names, cat_names = [], []\n",
    "    for label in df:\n",
    "        if label in L(dep_var): continue\n",
    "        \n",
    "        # mod to detect ProductSize type properly\n",
    "        if (df[label].dtype.name == 'category'):\n",
    "          cat_names.append(label)\n",
    "          continue\n",
    "\n",
    "        if (np.issubdtype(df[label].dtype, np.integer) and\n",
    "            df[label].unique().shape[0] > max_card or\n",
    "            np.issubdtype(df[label].dtype, np.floating)):\n",
    "            cont_names.append(label)\n",
    "        else: cat_names.append(label)\n",
    "    return cont_names, cat_names"
   ]
  },
  {
   "cell_type": "code",
   "execution_count": null,
   "metadata": {},
   "outputs": [
    {
     "data": {
      "text/plain": [
       "(13, 51)"
      ]
     },
     "execution_count": null,
     "metadata": {},
     "output_type": "execute_result"
    }
   ],
   "source": [
    "cont,cat = cont_cat_split(df, 1, dep_var=dep_var)\n",
    "len(cont), len(cat)"
   ]
  },
  {
   "cell_type": "code",
   "execution_count": null,
   "metadata": {},
   "outputs": [],
   "source": [
    "tp = TabularPandas(df, procs, cat, cont, y_names=dep_var, splits=splits)"
   ]
  },
  {
   "cell_type": "markdown",
   "metadata": {},
   "source": [
    "A `TabularPandas` `tp` object behaves a lot like a fastai `Datasets` object, incl `train` and `valid` attrs."
   ]
  },
  {
   "cell_type": "code",
   "execution_count": null,
   "metadata": {},
   "outputs": [
    {
     "data": {
      "text/plain": [
       "(404710, 7988)"
      ]
     },
     "execution_count": null,
     "metadata": {},
     "output_type": "execute_result"
    }
   ],
   "source": [
    "len(tp.train), len(tp.valid)"
   ]
  },
  {
   "cell_type": "markdown",
   "metadata": {},
   "source": [
    "`tp.show` is a good way to viz the data for inspection."
   ]
  },
  {
   "cell_type": "code",
   "execution_count": null,
   "metadata": {},
   "outputs": [
    {
     "data": {
      "text/html": [
       "<table border=\"1\" class=\"dataframe\">\n",
       "  <thead>\n",
       "    <tr style=\"text-align: right;\">\n",
       "      <th></th>\n",
       "      <th>UsageBand</th>\n",
       "      <th>fiModelDesc</th>\n",
       "      <th>fiBaseModel</th>\n",
       "      <th>fiSecondaryDesc</th>\n",
       "      <th>fiModelSeries</th>\n",
       "      <th>fiModelDescriptor</th>\n",
       "      <th>ProductSize</th>\n",
       "      <th>fiProductClassDesc</th>\n",
       "      <th>state</th>\n",
       "      <th>ProductGroup</th>\n",
       "      <th>ProductGroupDesc</th>\n",
       "      <th>Drive_System</th>\n",
       "      <th>Enclosure</th>\n",
       "      <th>Forks</th>\n",
       "      <th>Pad_Type</th>\n",
       "      <th>Ride_Control</th>\n",
       "      <th>Stick</th>\n",
       "      <th>Transmission</th>\n",
       "      <th>Turbocharged</th>\n",
       "      <th>Blade_Extension</th>\n",
       "      <th>Blade_Width</th>\n",
       "      <th>Enclosure_Type</th>\n",
       "      <th>Engine_Horsepower</th>\n",
       "      <th>Hydraulics</th>\n",
       "      <th>Pushblock</th>\n",
       "      <th>Ripper</th>\n",
       "      <th>Scarifier</th>\n",
       "      <th>Tip_Control</th>\n",
       "      <th>Tire_Size</th>\n",
       "      <th>Coupler</th>\n",
       "      <th>Coupler_System</th>\n",
       "      <th>Grouser_Tracks</th>\n",
       "      <th>Hydraulics_Flow</th>\n",
       "      <th>Track_Type</th>\n",
       "      <th>Undercarriage_Pad_Width</th>\n",
       "      <th>Stick_Length</th>\n",
       "      <th>Thumb</th>\n",
       "      <th>Pattern_Changer</th>\n",
       "      <th>Grouser_Type</th>\n",
       "      <th>Backhoe_Mounting</th>\n",
       "      <th>Blade_Type</th>\n",
       "      <th>Travel_Controls</th>\n",
       "      <th>Differential_Type</th>\n",
       "      <th>Steering_Controls</th>\n",
       "      <th>saleIs_month_end</th>\n",
       "      <th>saleIs_month_start</th>\n",
       "      <th>saleIs_quarter_end</th>\n",
       "      <th>saleIs_quarter_start</th>\n",
       "      <th>saleIs_year_end</th>\n",
       "      <th>saleIs_year_start</th>\n",
       "      <th>saleElapsed</th>\n",
       "      <th>auctioneerID_na</th>\n",
       "      <th>MachineHoursCurrentMeter_na</th>\n",
       "      <th>SalesID</th>\n",
       "      <th>MachineID</th>\n",
       "      <th>saleWeek</th>\n",
       "      <th>ModelID</th>\n",
       "      <th>datasource</th>\n",
       "      <th>auctioneerID</th>\n",
       "      <th>YearMade</th>\n",
       "      <th>MachineHoursCurrentMeter</th>\n",
       "      <th>saleYear</th>\n",
       "      <th>saleMonth</th>\n",
       "      <th>saleDay</th>\n",
       "      <th>saleDayofweek</th>\n",
       "      <th>saleDayofyear</th>\n",
       "      <th>SalePrice</th>\n",
       "    </tr>\n",
       "  </thead>\n",
       "  <tbody>\n",
       "    <tr>\n",
       "      <th>0</th>\n",
       "      <td>Low</td>\n",
       "      <td>521D</td>\n",
       "      <td>521</td>\n",
       "      <td>D</td>\n",
       "      <td>#na#</td>\n",
       "      <td>#na#</td>\n",
       "      <td>#na#</td>\n",
       "      <td>Wheel Loader - 110.0 to 120.0 Horsepower</td>\n",
       "      <td>Alabama</td>\n",
       "      <td>WL</td>\n",
       "      <td>Wheel Loader</td>\n",
       "      <td>#na#</td>\n",
       "      <td>EROPS w AC</td>\n",
       "      <td>None or Unspecified</td>\n",
       "      <td>#na#</td>\n",
       "      <td>None or Unspecified</td>\n",
       "      <td>#na#</td>\n",
       "      <td>#na#</td>\n",
       "      <td>#na#</td>\n",
       "      <td>#na#</td>\n",
       "      <td>#na#</td>\n",
       "      <td>#na#</td>\n",
       "      <td>#na#</td>\n",
       "      <td>2 Valve</td>\n",
       "      <td>#na#</td>\n",
       "      <td>#na#</td>\n",
       "      <td>#na#</td>\n",
       "      <td>#na#</td>\n",
       "      <td>None or Unspecified</td>\n",
       "      <td>None or Unspecified</td>\n",
       "      <td>#na#</td>\n",
       "      <td>#na#</td>\n",
       "      <td>#na#</td>\n",
       "      <td>#na#</td>\n",
       "      <td>#na#</td>\n",
       "      <td>#na#</td>\n",
       "      <td>#na#</td>\n",
       "      <td>#na#</td>\n",
       "      <td>#na#</td>\n",
       "      <td>#na#</td>\n",
       "      <td>#na#</td>\n",
       "      <td>#na#</td>\n",
       "      <td>Standard</td>\n",
       "      <td>Conventional</td>\n",
       "      <td>False</td>\n",
       "      <td>False</td>\n",
       "      <td>False</td>\n",
       "      <td>False</td>\n",
       "      <td>False</td>\n",
       "      <td>False</td>\n",
       "      <td>1163635200</td>\n",
       "      <td>False</td>\n",
       "      <td>False</td>\n",
       "      <td>1139246</td>\n",
       "      <td>999089</td>\n",
       "      <td>46</td>\n",
       "      <td>3157</td>\n",
       "      <td>121</td>\n",
       "      <td>3.0</td>\n",
       "      <td>2004</td>\n",
       "      <td>68.0</td>\n",
       "      <td>2006</td>\n",
       "      <td>11</td>\n",
       "      <td>16</td>\n",
       "      <td>3</td>\n",
       "      <td>320</td>\n",
       "      <td>11.097410</td>\n",
       "    </tr>\n",
       "    <tr>\n",
       "      <th>1</th>\n",
       "      <td>Low</td>\n",
       "      <td>950FII</td>\n",
       "      <td>950</td>\n",
       "      <td>F</td>\n",
       "      <td>II</td>\n",
       "      <td>#na#</td>\n",
       "      <td>Medium</td>\n",
       "      <td>Wheel Loader - 150.0 to 175.0 Horsepower</td>\n",
       "      <td>North Carolina</td>\n",
       "      <td>WL</td>\n",
       "      <td>Wheel Loader</td>\n",
       "      <td>#na#</td>\n",
       "      <td>EROPS w AC</td>\n",
       "      <td>None or Unspecified</td>\n",
       "      <td>#na#</td>\n",
       "      <td>None or Unspecified</td>\n",
       "      <td>#na#</td>\n",
       "      <td>#na#</td>\n",
       "      <td>#na#</td>\n",
       "      <td>#na#</td>\n",
       "      <td>#na#</td>\n",
       "      <td>#na#</td>\n",
       "      <td>#na#</td>\n",
       "      <td>2 Valve</td>\n",
       "      <td>#na#</td>\n",
       "      <td>#na#</td>\n",
       "      <td>#na#</td>\n",
       "      <td>#na#</td>\n",
       "      <td>23.5</td>\n",
       "      <td>None or Unspecified</td>\n",
       "      <td>#na#</td>\n",
       "      <td>#na#</td>\n",
       "      <td>#na#</td>\n",
       "      <td>#na#</td>\n",
       "      <td>#na#</td>\n",
       "      <td>#na#</td>\n",
       "      <td>#na#</td>\n",
       "      <td>#na#</td>\n",
       "      <td>#na#</td>\n",
       "      <td>#na#</td>\n",
       "      <td>#na#</td>\n",
       "      <td>#na#</td>\n",
       "      <td>Standard</td>\n",
       "      <td>Conventional</td>\n",
       "      <td>False</td>\n",
       "      <td>False</td>\n",
       "      <td>False</td>\n",
       "      <td>False</td>\n",
       "      <td>False</td>\n",
       "      <td>False</td>\n",
       "      <td>1080259200</td>\n",
       "      <td>False</td>\n",
       "      <td>False</td>\n",
       "      <td>1139248</td>\n",
       "      <td>117657</td>\n",
       "      <td>13</td>\n",
       "      <td>77</td>\n",
       "      <td>121</td>\n",
       "      <td>3.0</td>\n",
       "      <td>1996</td>\n",
       "      <td>4640.0</td>\n",
       "      <td>2004</td>\n",
       "      <td>3</td>\n",
       "      <td>26</td>\n",
       "      <td>4</td>\n",
       "      <td>86</td>\n",
       "      <td>10.950807</td>\n",
       "    </tr>\n",
       "    <tr>\n",
       "      <th>2</th>\n",
       "      <td>High</td>\n",
       "      <td>226</td>\n",
       "      <td>226</td>\n",
       "      <td>#na#</td>\n",
       "      <td>#na#</td>\n",
       "      <td>#na#</td>\n",
       "      <td>#na#</td>\n",
       "      <td>Skid Steer Loader - 1351.0 to 1601.0 Lb Operating Capacity</td>\n",
       "      <td>New York</td>\n",
       "      <td>SSL</td>\n",
       "      <td>Skid Steer Loaders</td>\n",
       "      <td>#na#</td>\n",
       "      <td>OROPS</td>\n",
       "      <td>None or Unspecified</td>\n",
       "      <td>#na#</td>\n",
       "      <td>#na#</td>\n",
       "      <td>#na#</td>\n",
       "      <td>#na#</td>\n",
       "      <td>#na#</td>\n",
       "      <td>#na#</td>\n",
       "      <td>#na#</td>\n",
       "      <td>#na#</td>\n",
       "      <td>#na#</td>\n",
       "      <td>Auxiliary</td>\n",
       "      <td>#na#</td>\n",
       "      <td>#na#</td>\n",
       "      <td>#na#</td>\n",
       "      <td>#na#</td>\n",
       "      <td>#na#</td>\n",
       "      <td>None or Unspecified</td>\n",
       "      <td>None or Unspecified</td>\n",
       "      <td>None or Unspecified</td>\n",
       "      <td>Standard</td>\n",
       "      <td>#na#</td>\n",
       "      <td>#na#</td>\n",
       "      <td>#na#</td>\n",
       "      <td>#na#</td>\n",
       "      <td>#na#</td>\n",
       "      <td>#na#</td>\n",
       "      <td>#na#</td>\n",
       "      <td>#na#</td>\n",
       "      <td>#na#</td>\n",
       "      <td>#na#</td>\n",
       "      <td>#na#</td>\n",
       "      <td>False</td>\n",
       "      <td>False</td>\n",
       "      <td>False</td>\n",
       "      <td>False</td>\n",
       "      <td>False</td>\n",
       "      <td>False</td>\n",
       "      <td>1077753600</td>\n",
       "      <td>False</td>\n",
       "      <td>False</td>\n",
       "      <td>1139249</td>\n",
       "      <td>434808</td>\n",
       "      <td>9</td>\n",
       "      <td>7009</td>\n",
       "      <td>121</td>\n",
       "      <td>3.0</td>\n",
       "      <td>2001</td>\n",
       "      <td>2838.0</td>\n",
       "      <td>2004</td>\n",
       "      <td>2</td>\n",
       "      <td>26</td>\n",
       "      <td>3</td>\n",
       "      <td>57</td>\n",
       "      <td>9.210340</td>\n",
       "    </tr>\n",
       "  </tbody>\n",
       "</table>"
      ],
      "text/plain": [
       "<IPython.core.display.HTML object>"
      ]
     },
     "metadata": {},
     "output_type": "display_data"
    }
   ],
   "source": [
    "tp.show(3)"
   ]
  },
  {
   "cell_type": "markdown",
   "metadata": {},
   "source": [
    "Compare the above to the \"real\" data, which is all numeric. It's accessible through `tp.items`:"
   ]
  },
  {
   "cell_type": "code",
   "execution_count": null,
   "metadata": {},
   "outputs": [
    {
     "data": {
      "text/html": [
       "<div>\n",
       "<style scoped>\n",
       "    .dataframe tbody tr th:only-of-type {\n",
       "        vertical-align: middle;\n",
       "    }\n",
       "\n",
       "    .dataframe tbody tr th {\n",
       "        vertical-align: top;\n",
       "    }\n",
       "\n",
       "    .dataframe thead th {\n",
       "        text-align: right;\n",
       "    }\n",
       "</style>\n",
       "<table border=\"1\" class=\"dataframe\">\n",
       "  <thead>\n",
       "    <tr style=\"text-align: right;\">\n",
       "      <th></th>\n",
       "      <th>SalesID</th>\n",
       "      <th>SalePrice</th>\n",
       "      <th>MachineID</th>\n",
       "      <th>saleWeek</th>\n",
       "      <th>ModelID</th>\n",
       "      <th>datasource</th>\n",
       "      <th>auctioneerID</th>\n",
       "      <th>YearMade</th>\n",
       "      <th>MachineHoursCurrentMeter</th>\n",
       "      <th>UsageBand</th>\n",
       "      <th>...</th>\n",
       "      <th>saleDayofyear</th>\n",
       "      <th>saleIs_month_end</th>\n",
       "      <th>saleIs_month_start</th>\n",
       "      <th>saleIs_quarter_end</th>\n",
       "      <th>saleIs_quarter_start</th>\n",
       "      <th>saleIs_year_end</th>\n",
       "      <th>saleIs_year_start</th>\n",
       "      <th>saleElapsed</th>\n",
       "      <th>auctioneerID_na</th>\n",
       "      <th>MachineHoursCurrentMeter_na</th>\n",
       "    </tr>\n",
       "  </thead>\n",
       "  <tbody>\n",
       "    <tr>\n",
       "      <th>0</th>\n",
       "      <td>1139246</td>\n",
       "      <td>11.097410</td>\n",
       "      <td>999089</td>\n",
       "      <td>46</td>\n",
       "      <td>3157</td>\n",
       "      <td>121</td>\n",
       "      <td>3.0</td>\n",
       "      <td>2004</td>\n",
       "      <td>68.0</td>\n",
       "      <td>2</td>\n",
       "      <td>...</td>\n",
       "      <td>320</td>\n",
       "      <td>1</td>\n",
       "      <td>1</td>\n",
       "      <td>1</td>\n",
       "      <td>1</td>\n",
       "      <td>1</td>\n",
       "      <td>1</td>\n",
       "      <td>2647</td>\n",
       "      <td>1</td>\n",
       "      <td>1</td>\n",
       "    </tr>\n",
       "    <tr>\n",
       "      <th>1</th>\n",
       "      <td>1139248</td>\n",
       "      <td>10.950807</td>\n",
       "      <td>117657</td>\n",
       "      <td>13</td>\n",
       "      <td>77</td>\n",
       "      <td>121</td>\n",
       "      <td>3.0</td>\n",
       "      <td>1996</td>\n",
       "      <td>4640.0</td>\n",
       "      <td>2</td>\n",
       "      <td>...</td>\n",
       "      <td>86</td>\n",
       "      <td>1</td>\n",
       "      <td>1</td>\n",
       "      <td>1</td>\n",
       "      <td>1</td>\n",
       "      <td>1</td>\n",
       "      <td>1</td>\n",
       "      <td>2148</td>\n",
       "      <td>1</td>\n",
       "      <td>1</td>\n",
       "    </tr>\n",
       "    <tr>\n",
       "      <th>2</th>\n",
       "      <td>1139249</td>\n",
       "      <td>9.210340</td>\n",
       "      <td>434808</td>\n",
       "      <td>9</td>\n",
       "      <td>7009</td>\n",
       "      <td>121</td>\n",
       "      <td>3.0</td>\n",
       "      <td>2001</td>\n",
       "      <td>2838.0</td>\n",
       "      <td>1</td>\n",
       "      <td>...</td>\n",
       "      <td>57</td>\n",
       "      <td>1</td>\n",
       "      <td>1</td>\n",
       "      <td>1</td>\n",
       "      <td>1</td>\n",
       "      <td>1</td>\n",
       "      <td>1</td>\n",
       "      <td>2131</td>\n",
       "      <td>1</td>\n",
       "      <td>1</td>\n",
       "    </tr>\n",
       "  </tbody>\n",
       "</table>\n",
       "<p>3 rows × 67 columns</p>\n",
       "</div>"
      ],
      "text/plain": [
       "   SalesID  SalePrice  MachineID  saleWeek  ModelID  datasource  auctioneerID  \\\n",
       "0  1139246  11.097410     999089        46     3157         121           3.0   \n",
       "1  1139248  10.950807     117657        13       77         121           3.0   \n",
       "2  1139249   9.210340     434808         9     7009         121           3.0   \n",
       "\n",
       "   YearMade  MachineHoursCurrentMeter  UsageBand  ...  saleDayofyear  \\\n",
       "0      2004                      68.0          2  ...            320   \n",
       "1      1996                    4640.0          2  ...             86   \n",
       "2      2001                    2838.0          1  ...             57   \n",
       "\n",
       "   saleIs_month_end  saleIs_month_start  saleIs_quarter_end  \\\n",
       "0                 1                   1                   1   \n",
       "1                 1                   1                   1   \n",
       "2                 1                   1                   1   \n",
       "\n",
       "   saleIs_quarter_start  saleIs_year_end  saleIs_year_start  saleElapsed  \\\n",
       "0                     1                1                  1         2647   \n",
       "1                     1                1                  1         2148   \n",
       "2                     1                1                  1         2131   \n",
       "\n",
       "   auctioneerID_na  MachineHoursCurrentMeter_na  \n",
       "0                1                            1  \n",
       "1                1                            1  \n",
       "2                1                            1  \n",
       "\n",
       "[3 rows x 67 columns]"
      ]
     },
     "execution_count": null,
     "metadata": {},
     "output_type": "execute_result"
    }
   ],
   "source": [
    "tp.items.head(3)"
   ]
  },
  {
   "cell_type": "markdown",
   "metadata": {},
   "source": [
    "To lookup a numeric value to find its 'vocab', we use tp.classes[\\'col_name\\']:"
   ]
  },
  {
   "cell_type": "code",
   "execution_count": null,
   "metadata": {},
   "outputs": [
    {
     "data": {
      "text/plain": [
       "['#na#', 'Large', 'Large / Medium', 'Medium', 'Small', 'Mini', 'Compact']"
      ]
     },
     "execution_count": null,
     "metadata": {},
     "output_type": "execute_result"
    }
   ],
   "source": [
    "tp.classes['ProductSize']"
   ]
  },
  {
   "cell_type": "code",
   "execution_count": null,
   "metadata": {},
   "outputs": [],
   "source": [
    "### LEFT OFF HERE ###\n",
    "# https://course.fast.ai/videos/?lesson=7\n",
    "# 50:29"
   ]
  },
  {
   "cell_type": "code",
   "execution_count": null,
   "metadata": {},
   "outputs": [],
   "source": []
  },
  {
   "cell_type": "markdown",
   "metadata": {},
   "source": [
    "# Decision Trees"
   ]
  },
  {
   "cell_type": "markdown",
   "metadata": {},
   "source": [
    "Here's the approach:\n",
    "1. Loop through each column in the dataset\n",
    "2. Loop through each possible value of the column\n",
    "3. Split the data into two groups based on each value\n",
    "4. Find the average sale price for each group\n",
    "5. After doing this for all cols and all vals, we choose the split with the best RMSE as our first binary decision\n",
    "\n",
    "Basically we've created a model that simply splits the entire dataset into two groups using one single column.\n",
    "\n",
    "6. The dataset is now split into two groups after the first decision. For each child group, repeat steps 1-5.\n",
    "7. Continue this process recursively until we've reached a stopping criterion, such as a minimum sample size per group."
   ]
  },
  {
   "cell_type": "code",
   "execution_count": null,
   "metadata": {},
   "outputs": [],
   "source": []
  },
  {
   "cell_type": "code",
   "execution_count": null,
   "metadata": {},
   "outputs": [],
   "source": []
  },
  {
   "cell_type": "code",
   "execution_count": null,
   "metadata": {},
   "outputs": [],
   "source": []
  },
  {
   "cell_type": "code",
   "execution_count": null,
   "metadata": {},
   "outputs": [],
   "source": []
  },
  {
   "cell_type": "code",
   "execution_count": null,
   "metadata": {},
   "outputs": [],
   "source": []
  },
  {
   "cell_type": "code",
   "execution_count": null,
   "metadata": {},
   "outputs": [],
   "source": []
  },
  {
   "cell_type": "code",
   "execution_count": null,
   "metadata": {},
   "outputs": [],
   "source": []
  },
  {
   "cell_type": "code",
   "execution_count": null,
   "metadata": {},
   "outputs": [],
   "source": []
  },
  {
   "cell_type": "code",
   "execution_count": null,
   "metadata": {},
   "outputs": [],
   "source": []
  },
  {
   "cell_type": "code",
   "execution_count": null,
   "metadata": {},
   "outputs": [],
   "source": []
  },
  {
   "cell_type": "code",
   "execution_count": null,
   "metadata": {},
   "outputs": [],
   "source": []
  },
  {
   "cell_type": "code",
   "execution_count": null,
   "metadata": {},
   "outputs": [],
   "source": []
  },
  {
   "cell_type": "code",
   "execution_count": null,
   "metadata": {},
   "outputs": [],
   "source": []
  },
  {
   "cell_type": "code",
   "execution_count": null,
   "metadata": {},
   "outputs": [],
   "source": []
  },
  {
   "cell_type": "code",
   "execution_count": null,
   "metadata": {},
   "outputs": [],
   "source": []
  },
  {
   "cell_type": "code",
   "execution_count": null,
   "metadata": {},
   "outputs": [],
   "source": []
  },
  {
   "cell_type": "code",
   "execution_count": null,
   "metadata": {},
   "outputs": [],
   "source": []
  },
  {
   "cell_type": "code",
   "execution_count": null,
   "metadata": {},
   "outputs": [],
   "source": []
  },
  {
   "cell_type": "code",
   "execution_count": null,
   "metadata": {},
   "outputs": [],
   "source": []
  },
  {
   "cell_type": "code",
   "execution_count": null,
   "metadata": {},
   "outputs": [],
   "source": []
  },
  {
   "cell_type": "code",
   "execution_count": null,
   "metadata": {},
   "outputs": [],
   "source": []
  },
  {
   "cell_type": "code",
   "execution_count": null,
   "metadata": {},
   "outputs": [],
   "source": []
  },
  {
   "cell_type": "code",
   "execution_count": null,
   "metadata": {},
   "outputs": [],
   "source": []
  },
  {
   "cell_type": "code",
   "execution_count": null,
   "metadata": {},
   "outputs": [],
   "source": []
  }
 ],
 "metadata": {
  "kernelspec": {
   "display_name": "Python 3",
   "language": "python",
   "name": "python3"
  }
 },
 "nbformat": 4,
 "nbformat_minor": 4
}
