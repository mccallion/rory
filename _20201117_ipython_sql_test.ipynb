{
 "cells": [
  {
   "cell_type": "markdown",
   "metadata": {},
   "source": [
    "<h1>Table of Contents<span class=\"tocSkip\"></span></h1>\n",
    "<div class=\"toc\"><ul class=\"toc-item\"><li><span><a href=\"#Installs\" data-toc-modified-id=\"Installs-1\"><span class=\"toc-item-num\">1&nbsp;&nbsp;</span>Installs</a></span></li><li><span><a href=\"#Pre-Req:-psycopg2\" data-toc-modified-id=\"Pre-Req:-psycopg2-2\"><span class=\"toc-item-num\">2&nbsp;&nbsp;</span>Pre-Req: psycopg2</a></span></li><li><span><a href=\"#iPython-SQL\" data-toc-modified-id=\"iPython-SQL-3\"><span class=\"toc-item-num\">3&nbsp;&nbsp;</span>iPython-SQL</a></span></li></ul></div>"
   ]
  },
  {
   "cell_type": "markdown",
   "metadata": {},
   "source": [
    "Following along with this blog: [Here's how to run SQL in jupyter notebooks](https://towardsdatascience.com/heres-how-to-run-sql-in-jupyter-notebooks-f26eb90f3259)"
   ]
  },
  {
   "cell_type": "markdown",
   "metadata": {},
   "source": [
    "## Installs"
   ]
  },
  {
   "cell_type": "code",
   "execution_count": null,
   "metadata": {},
   "outputs": [
    {
     "name": "stdout",
     "output_type": "stream",
     "text": [
      "Collecting psycopg2-binary\n",
      "  Downloading psycopg2_binary-2.8.6-cp37-cp37m-manylinux1_x86_64.whl (3.0 MB)\n",
      "\u001b[K     |████████████████████████████████| 3.0 MB 1.9 MB/s eta 0:00:01\n",
      "\u001b[?25hInstalling collected packages: psycopg2-binary\n",
      "Successfully installed psycopg2-binary-2.8.6\n"
     ]
    }
   ],
   "source": [
    "# !pip install psycopg2-binary"
   ]
  },
  {
   "cell_type": "code",
   "execution_count": null,
   "metadata": {},
   "outputs": [
    {
     "name": "stdout",
     "output_type": "stream",
     "text": [
      "Collecting ipython-sql\n",
      "  Downloading ipython_sql-0.4.0-py3-none-any.whl (19 kB)\n",
      "Collecting prettytable<1\n",
      "  Downloading prettytable-0.7.2.tar.bz2 (21 kB)\n",
      "Requirement already satisfied: ipython>=1.0 in /home/rory/.pyenv/versions/anaconda3-2020.02/lib/python3.7/site-packages (from ipython-sql) (7.18.1)\n",
      "Requirement already satisfied: ipython-genutils>=0.1.0 in /home/rory/.pyenv/versions/anaconda3-2020.02/lib/python3.7/site-packages (from ipython-sql) (0.2.0)\n",
      "Requirement already satisfied: sqlalchemy>=0.6.7 in /home/rory/.pyenv/versions/anaconda3-2020.02/lib/python3.7/site-packages (from ipython-sql) (1.3.19)\n",
      "Requirement already satisfied: six in /home/rory/.pyenv/versions/anaconda3-2020.02/lib/python3.7/site-packages (from ipython-sql) (1.15.0)\n",
      "Collecting sqlparse\n",
      "  Downloading sqlparse-0.4.1-py3-none-any.whl (42 kB)\n",
      "\u001b[K     |████████████████████████████████| 42 kB 1.5 MB/s eta 0:00:011\n",
      "\u001b[?25hRequirement already satisfied: prompt-toolkit!=3.0.0,!=3.0.1,<3.1.0,>=2.0.0 in /home/rory/.pyenv/versions/anaconda3-2020.02/lib/python3.7/site-packages (from ipython>=1.0->ipython-sql) (3.0.7)\n",
      "Requirement already satisfied: backcall in /home/rory/.pyenv/versions/anaconda3-2020.02/lib/python3.7/site-packages (from ipython>=1.0->ipython-sql) (0.2.0)\n",
      "Requirement already satisfied: pickleshare in /home/rory/.pyenv/versions/anaconda3-2020.02/lib/python3.7/site-packages (from ipython>=1.0->ipython-sql) (0.7.5)\n",
      "Requirement already satisfied: pygments in /home/rory/.pyenv/versions/anaconda3-2020.02/lib/python3.7/site-packages (from ipython>=1.0->ipython-sql) (2.7.0)\n",
      "Requirement already satisfied: setuptools>=18.5 in /home/rory/.pyenv/versions/anaconda3-2020.02/lib/python3.7/site-packages (from ipython>=1.0->ipython-sql) (49.6.0.post20200814)\n",
      "Requirement already satisfied: decorator in /home/rory/.pyenv/versions/anaconda3-2020.02/lib/python3.7/site-packages (from ipython>=1.0->ipython-sql) (4.4.2)\n",
      "Requirement already satisfied: traitlets>=4.2 in /home/rory/.pyenv/versions/anaconda3-2020.02/lib/python3.7/site-packages (from ipython>=1.0->ipython-sql) (4.3.3)\n",
      "Requirement already satisfied: pexpect>4.3; sys_platform != \"win32\" in /home/rory/.pyenv/versions/anaconda3-2020.02/lib/python3.7/site-packages (from ipython>=1.0->ipython-sql) (4.8.0)\n",
      "Requirement already satisfied: jedi>=0.10 in /home/rory/.pyenv/versions/anaconda3-2020.02/lib/python3.7/site-packages (from ipython>=1.0->ipython-sql) (0.17.1)\n",
      "Requirement already satisfied: wcwidth in /home/rory/.pyenv/versions/anaconda3-2020.02/lib/python3.7/site-packages (from prompt-toolkit!=3.0.0,!=3.0.1,<3.1.0,>=2.0.0->ipython>=1.0->ipython-sql) (0.2.5)\n",
      "Requirement already satisfied: ptyprocess>=0.5 in /home/rory/.pyenv/versions/anaconda3-2020.02/lib/python3.7/site-packages (from pexpect>4.3; sys_platform != \"win32\"->ipython>=1.0->ipython-sql) (0.6.0)\n",
      "Requirement already satisfied: parso<0.8.0,>=0.7.0 in /home/rory/.pyenv/versions/anaconda3-2020.02/lib/python3.7/site-packages (from jedi>=0.10->ipython>=1.0->ipython-sql) (0.7.0)\n",
      "Building wheels for collected packages: prettytable\n",
      "  Building wheel for prettytable (setup.py) ... \u001b[?25ldone\n",
      "\u001b[?25h  Created wheel for prettytable: filename=prettytable-0.7.2-py3-none-any.whl size=13700 sha256=ec4c53db55d0d16a69a001c0cc75977e7ec300cd6711d103579fef5cdc2a8785\n",
      "  Stored in directory: /home/rory/.cache/pip/wheels/8c/76/0b/eb9eb3da7e2335e3577e3f96a0ae9f74f206e26457bd1a2bc8\n",
      "Successfully built prettytable\n",
      "Installing collected packages: prettytable, sqlparse, ipython-sql\n",
      "Successfully installed ipython-sql-0.4.0 prettytable-0.7.2 sqlparse-0.4.1\n"
     ]
    }
   ],
   "source": [
    "# !pip install ipython-sql"
   ]
  },
  {
   "cell_type": "markdown",
   "metadata": {},
   "source": [
    "## Pre-Req: psycopg2"
   ]
  },
  {
   "cell_type": "markdown",
   "metadata": {},
   "source": [
    "The psycopg2 install guide is linked [here](https://www.psycopg.org/docs/install.html#install-from-source). Note that psycopg2-binary is only for exploration; lib developers are advised to follow the full install for psycopg2 and to use that instead as a dependency."
   ]
  },
  {
   "cell_type": "markdown",
   "metadata": {},
   "source": [
    "Basic usage (usage docs [here](https://www.psycopg.org/docs/usage.html)):"
   ]
  },
  {
   "cell_type": "code",
   "execution_count": null,
   "metadata": {},
   "outputs": [],
   "source": [
    "import psycopg\n",
    "\n",
    "# Connect to your postgres DB\n",
    "conn = psycopg.connect(\"dbname=test user=postgres\")\n",
    "\n",
    "# Open a cursor to perform database operations\n",
    "cur = conn.cursor()\n",
    "\n",
    "# Execute a query\n",
    "cur.execute(\"SELECT * FROM my_data\")\n",
    "\n",
    "# Retrieve query results\n",
    "records = cur.fetchall()"
   ]
  },
  {
   "cell_type": "markdown",
   "metadata": {},
   "source": [
    "Let's connect to [this public RNA database](https://rnacentral.org/help/public-database)!"
   ]
  },
  {
   "cell_type": "code",
   "execution_count": null,
   "metadata": {},
   "outputs": [],
   "source": [
    "def main():\n",
    "    conn_string = \"host='hh-pgsql-public.ebi.ac.uk' dbname='pfmegrnargs' user='reader' password='NWDMCE5xdipIjRrp'\"\n",
    "    conn = psycopg2.connect(conn_string)\n",
    "    cursor = conn.cursor(cursor_factory=psycopg2.extras.DictCursor)\n",
    "\n",
    "    # retrieve a list of RNAcentral databases\n",
    "    query = \"SELECT * FROM rnc_database\"\n",
    "\n",
    "    cursor.execute(query)\n",
    "    for row in cursor:\n",
    "        print(row)\n",
    "\n",
    "\n",
    "if __name__ == \"__main__\":\n",
    "    main()"
   ]
  },
  {
   "cell_type": "markdown",
   "metadata": {},
   "source": [
    "## iPython-SQL"
   ]
  },
  {
   "cell_type": "code",
   "execution_count": null,
   "metadata": {},
   "outputs": [],
   "source": []
  }
 ],
 "metadata": {
  "kernelspec": {
   "display_name": "Python 3",
   "language": "python",
   "name": "python3"
  }
 },
 "nbformat": 4,
 "nbformat_minor": 4
}
