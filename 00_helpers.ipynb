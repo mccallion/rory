{
 "cells": [
  {
   "cell_type": "markdown",
   "metadata": {},
   "source": [
    "<h1>Table of Contents<span class=\"tocSkip\"></span></h1>\n",
    "<div class=\"toc\"><ul class=\"toc-item\"><li><span><a href=\"#Helpers\" data-toc-modified-id=\"Helpers-1\"><span class=\"toc-item-num\">1&nbsp;&nbsp;</span>Helpers</a></span></li></ul></div>"
   ]
  },
  {
   "cell_type": "code",
   "execution_count": null,
   "metadata": {},
   "outputs": [
    {
     "name": "stdout",
     "output_type": "stream",
     "text": [
      "The autoreload extension is already loaded. To reload it, use:\n",
      "  %reload_ext autoreload\n"
     ]
    }
   ],
   "source": [
    "%load_ext autoreload\n",
    "%autoreload 2"
   ]
  },
  {
   "cell_type": "code",
   "execution_count": null,
   "metadata": {},
   "outputs": [
    {
     "name": "stdout",
     "output_type": "stream",
     "text": [
      "Cells will be exported to rory.core,\n",
      "unless a different module is specified after an export flag: `%nbdev_export special.module`\n"
     ]
    }
   ],
   "source": [
    "from nbdev import *\n",
    "from fastcore.test import *\n",
    "%nbdev_default_export core"
   ]
  },
  {
   "cell_type": "markdown",
   "metadata": {},
   "source": [
    "# Helpers\n",
    "\n",
    "> Human-readable print variations & helpers."
   ]
  },
  {
   "cell_type": "code",
   "execution_count": null,
   "metadata": {},
   "outputs": [],
   "source": [
    "#export\n",
    "def printnl(*x,nl=1):\n",
    "    \"\"\"Print x separated by nl newlines.\"\"\"\n",
    "    print(*x,sep='\\n'*nl)\n",
    "def printdict(d,n=3):\n",
    "    \"\"\"Print n=2 pairs from a dict.\"\"\"\n",
    "    l = list(d.items())[:n]\n",
    "    for k,v in l:\n",
    "        print(f\"{k} ({type(k).__name__}): {v} ({type(v).__name__})\")"
   ]
  },
  {
   "cell_type": "code",
   "execution_count": null,
   "metadata": {},
   "outputs": [],
   "source": [
    "def unzip(*posixpaths,dest):\n",
    "    \"\"\"Unzips files located at posixpaths to dest. Deps: zipfile, pathlib.\"\"\"\n",
    "    for path in posixpaths:\n",
    "        if path.suffix == '.zip':\n",
    "            print(f\"Unzipping: {path} ---> {dest}.\")\n",
    "            with ZipFile(path, 'r') as archive:\n",
    "                archive.extractall(dest)\n",
    "    print(\"unzip finished. Files in dest:\")\n",
    "    print(*dest.ls(), sep='\\n')"
   ]
  },
  {
   "cell_type": "code",
   "execution_count": null,
   "metadata": {},
   "outputs": [],
   "source": [
    "#export\n",
    "def test_eqs(*o):\n",
    "    \"\"\"recursive test_eq\"\"\"\n",
    "    l=[*o]\n",
    "    if len(l) == 1: raise TypeError(\"test_eqs recieved only 1 arg.\")\n",
    "    if len(l) == 2: return test_eq(l[0], l[1])\n",
    "    else:           return test_eqs(*l[1:])\n",
    "test_eqs(1,2-1,0+1)"
   ]
  },
  {
   "cell_type": "code",
   "execution_count": null,
   "metadata": {},
   "outputs": [],
   "source": [
    "def iff(a,b,c,ret=False):\n",
    "    if ret==False:\n",
    "        if a: b\n",
    "        else: c\n",
    "    if ret==True:\n",
    "        if a: return b\n",
    "        else: return c"
   ]
  },
  {
   "cell_type": "code",
   "execution_count": null,
   "metadata": {},
   "outputs": [],
   "source": [
    "# export\n",
    "def flatten(l):\n",
    "    def _recur(l,res):\n",
    "        for o in l:\n",
    "            if   isinstance(o,list): _recur(o,res)\n",
    "            elif isinstance(o,L)   : _recur(o,res)\n",
    "            else: res.append(o)\n",
    "        return res\n",
    "    return _recur(l, L())\n",
    "lol1 = [1,[2,[3]],L(4)]\n",
    "lol2 = L(1,L(2,L(3)),[4])\n",
    "test_eqs(flatten(lol1), flatten(lol2), [1,2,3,4])"
   ]
  },
  {
   "cell_type": "code",
   "execution_count": null,
   "metadata": {},
   "outputs": [],
   "source": [
    "class custom_module(Module):\n",
    "    \n",
    "    def __init__(self, body, head):\n",
    "        self.body, self.head = body, head\n",
    "        \n",
    "    def forward(self, x):\n",
    "        return self.head(self.body(x))"
   ]
  },
  {
   "cell_type": "code",
   "execution_count": null,
   "metadata": {},
   "outputs": [],
   "source": [
    "def equalize_value_counts(df, col):\n",
    "    min_n = min(df[col].value_counts())\n",
    "    vals = df[col].unique()\n",
    "    return pd.concat([df[df[col]==v].sample(n=min_n) for v in vals])"
   ]
  },
  {
   "cell_type": "code",
   "execution_count": null,
   "metadata": {},
   "outputs": [],
   "source": [
    "def select_from_where_in(cols, df, where_col, in_vals, eq=False):\n",
    "    df = df[cols]\n",
    "    df = pd.concat([df[df[where_col]==v] for v in in_vals])\n",
    "    if eq: df = equalize_row_counts(df, where_col)\n",
    "    return df"
   ]
  },
  {
   "cell_type": "code",
   "execution_count": null,
   "metadata": {},
   "outputs": [],
   "source": [
    "def get_cols(df, cols):\n",
    "    \"\"\"Expects: DataFrame df; str or list of strs cols. Returns: list or an lol.\"\"\"\n",
    "    def c2l(df, col): return L(ColReader(col)(df).to_list())\n",
    "    if isinstance(cols, str): return c2l(df, cols)\n",
    "    if len(cols)==1: return c2l(df, cols)\n",
    "    if len(cols)>=2:\n",
    "        r=L()\n",
    "        for c in cols: r.append(c2l(df,c))\n",
    "        return r"
   ]
  },
  {
   "cell_type": "code",
   "execution_count": null,
   "metadata": {},
   "outputs": [],
   "source": [
    "#hide\n",
    "# nbdev_build_lib\n",
    "# git add -A\n",
    "# git commit -m \"hello world\"\n",
    "# git push\n",
    "# pip install -e ."
   ]
  }
 ],
 "metadata": {
  "kernelspec": {
   "display_name": "Python 3",
   "language": "python",
   "name": "python3"
  }
 },
 "nbformat": 4,
 "nbformat_minor": 2
}
