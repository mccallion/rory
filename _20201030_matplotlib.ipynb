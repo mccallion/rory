{
 "cells": [
  {
   "cell_type": "markdown",
   "metadata": {},
   "source": [
    "<h1>Table of Contents<span class=\"tocSkip\"></span></h1>\n",
    "<div class=\"toc\"><ul class=\"toc-item\"><li><span><a href=\"#plt.subplots\" data-toc-modified-id=\"plt.subplots-1\"><span class=\"toc-item-num\">1&nbsp;&nbsp;</span>plt.subplots</a></span><ul class=\"toc-item\"><li><span><a href=\"#plt.subplots(nrows,ncols)\" data-toc-modified-id=\"plt.subplots(nrows,ncols)-1.1\"><span class=\"toc-item-num\">1.1&nbsp;&nbsp;</span><code>plt.subplots(nrows,ncols)</code></a></span></li><li><span><a href=\"#Style\" data-toc-modified-id=\"Style-1.2\"><span class=\"toc-item-num\">1.2&nbsp;&nbsp;</span>Style</a></span></li></ul></li><li><span><a href=\"#Types-of-charts\" data-toc-modified-id=\"Types-of-charts-2\"><span class=\"toc-item-num\">2&nbsp;&nbsp;</span>Types of charts</a></span><ul class=\"toc-item\"><li><span><a href=\"#ax.imshow\" data-toc-modified-id=\"ax.imshow-2.1\"><span class=\"toc-item-num\">2.1&nbsp;&nbsp;</span>ax.imshow</a></span></li><li><span><a href=\"#ax.bar\" data-toc-modified-id=\"ax.bar-2.2\"><span class=\"toc-item-num\">2.2&nbsp;&nbsp;</span>ax.bar</a></span></li></ul></li></ul></div>"
   ]
  },
  {
   "cell_type": "markdown",
   "metadata": {},
   "source": [
    "**Notes**\n",
    "- Guide on quick, practical chart making (doesn't go deep): [OO-API \"lifecycle\" tutorial](https://matplotlib.org/tutorials/introductory/lifecycle.html)"
   ]
  },
  {
   "cell_type": "markdown",
   "metadata": {},
   "source": [
    "# plt.subplots"
   ]
  },
  {
   "cell_type": "code",
   "execution_count": null,
   "metadata": {},
   "outputs": [],
   "source": [
    "import matplotlib.pyplot as plt\n",
    "import numpy as np"
   ]
  },
  {
   "cell_type": "markdown",
   "metadata": {},
   "source": [
    "## `plt.subplots(nrows,ncols)`"
   ]
  },
  {
   "cell_type": "markdown",
   "metadata": {},
   "source": [
    "Overview:\n",
    "- Returns a tuple\n",
    "    - `Figure, array(Axes)` if multiple axes are created (most common)\n",
    "    - `Figure, Axes` if only one axes is created\n",
    "- The number of axes created (also the shape of the array) = `nrows` × `ncols`\n",
    "- `Figure` holds objects and knows how to display them\n",
    "- `Axes` are the data and settings for a chart\n",
    "- `figsize`'s args annoyingly correspond to (cols,rows) – they are (h,w) in ~half-inches\n",
    "\n",
    "Mental model:\n",
    "- A `Figure` is a scientific figure, possibly with multiple charts\n",
    "- An `Axes` is a single chart of a figure"
   ]
  },
  {
   "cell_type": "code",
   "execution_count": null,
   "metadata": {},
   "outputs": [
    {
     "data": {
      "image/png": "[encoded data removed]",
      "text/plain": [
       "<Figure size 216x72 with 3 Axes>"
      ]
     },
     "metadata": {
      "needs_background": "light"
     },
     "output_type": "display_data"
    }
   ],
   "source": [
    "fig, ax = plt.subplots(1,3, figsize=(3,1))"
   ]
  },
  {
   "cell_type": "markdown",
   "metadata": {},
   "source": [
    "Calling axes reveals that it's an array of axes."
   ]
  },
  {
   "cell_type": "code",
   "execution_count": null,
   "metadata": {},
   "outputs": [
    {
     "data": {
      "text/plain": [
       "array([<AxesSubplot:>, <AxesSubplot:>, <AxesSubplot:>], dtype=object)"
      ]
     },
     "execution_count": null,
     "metadata": {},
     "output_type": "execute_result"
    }
   ],
   "source": [
    "ax"
   ]
  },
  {
   "cell_type": "markdown",
   "metadata": {},
   "source": [
    "Calling the figure displays it again."
   ]
  },
  {
   "cell_type": "code",
   "execution_count": null,
   "metadata": {},
   "outputs": [
    {
     "data": {
      "image/png": "[encoded data removed]",
      "text/plain": [
       "<Figure size 216x72 with 3 Axes>"
      ]
     },
     "execution_count": null,
     "metadata": {},
     "output_type": "execute_result"
    }
   ],
   "source": [
    "fig"
   ]
  },
  {
   "cell_type": "markdown",
   "metadata": {},
   "source": [
    "**Working with Axes**"
   ]
  },
  {
   "cell_type": "markdown",
   "metadata": {},
   "source": [
    "Each axes object is a separate chart. Let's `Axes.plot()` some random data."
   ]
  },
  {
   "cell_type": "code",
   "execution_count": null,
   "metadata": {},
   "outputs": [
    {
     "data": {
      "image/png": "[encoded data removed]",
      "text/plain": [
       "<Figure size 216x72 with 3 Axes>"
      ]
     },
     "execution_count": null,
     "metadata": {},
     "output_type": "execute_result"
    }
   ],
   "source": [
    "x = np.arange(10)\n",
    "y = np.random.randint(10,size=[10])\n",
    "\n",
    "ax[0].plot(x,y)\n",
    "fig"
   ]
  },
  {
   "cell_type": "markdown",
   "metadata": {},
   "source": [
    "Calling plot on the same axis will create new plots. Plotting the same data twice creates two plots."
   ]
  },
  {
   "cell_type": "code",
   "execution_count": null,
   "metadata": {},
   "outputs": [
    {
     "data": {
      "image/png": "[encoded data removed]",
      "text/plain": [
       "<Figure size 216x72 with 3 Axes>"
      ]
     },
     "execution_count": null,
     "metadata": {},
     "output_type": "execute_result"
    }
   ],
   "source": [
    "# 5 lists of rand ints → ax0; 5 lists of identical sequential ints → ax1\n",
    "for i in range(5):\n",
    "    ax[0].plot(x, np.random.randint(10,size=[10]))\n",
    "    ax[2].plot(x, x)\n",
    "fig"
   ]
  },
  {
   "cell_type": "markdown",
   "metadata": {},
   "source": [
    "Data is stored in `ax.lines` (a list) and is retrieved with `lines[idx].get_xdata()` and `lines[idx].get_ydata()`."
   ]
  },
  {
   "cell_type": "code",
   "execution_count": null,
   "metadata": {},
   "outputs": [
    {
     "name": "stdout",
     "output_type": "stream",
     "text": [
      "6\n",
      "0\n",
      "5\n"
     ]
    }
   ],
   "source": [
    "for i in ax: print(len(i.lines))"
   ]
  },
  {
   "cell_type": "code",
   "execution_count": null,
   "metadata": {},
   "outputs": [
    {
     "name": "stdout",
     "output_type": "stream",
     "text": [
      "[0 1 2 3 4 5 6 7 8 9] [7 5 2 5 2 0 7 5 8 0]\n",
      "[0 1 2 3 4 5 6 7 8 9] [1 6 2 7 7 8 4 0 3 2]\n",
      "[0 1 2 3 4 5 6 7 8 9] [5 4 7 4 4 6 8 6 6 2]\n",
      "[0 1 2 3 4 5 6 7 8 9] [8 7 5 1 3 3 8 0 2 5]\n",
      "[0 1 2 3 4 5 6 7 8 9] [0 8 4 2 7 2 6 5 5 6]\n",
      "[0 1 2 3 4 5 6 7 8 9] [0 3 0 3 5 7 8 5 6 9]\n"
     ]
    }
   ],
   "source": [
    "lines = ax[0].lines\n",
    "for i in lines: print(i.get_xdata(), i.get_ydata())"
   ]
  },
  {
   "cell_type": "markdown",
   "metadata": {},
   "source": [
    "We can clear one axes with `Axes.clear()`."
   ]
  },
  {
   "cell_type": "code",
   "execution_count": null,
   "metadata": {},
   "outputs": [
    {
     "data": {
      "image/png": "[encoded data removed]",
      "text/plain": [
       "<Figure size 216x72 with 3 Axes>"
      ]
     },
     "execution_count": null,
     "metadata": {},
     "output_type": "execute_result"
    }
   ],
   "source": [
    "ax[2].clear()\n",
    "fig"
   ]
  },
  {
   "cell_type": "markdown",
   "metadata": {},
   "source": [
    "The `Axes.figure` parameter points to its figure."
   ]
  },
  {
   "cell_type": "code",
   "execution_count": null,
   "metadata": {},
   "outputs": [
    {
     "data": {
      "image/png": "[encoded data removed]",
      "text/plain": [
       "<Figure size 216x72 with 3 Axes>"
      ]
     },
     "execution_count": null,
     "metadata": {},
     "output_type": "execute_result"
    }
   ],
   "source": [
    "ax[2].figure"
   ]
  },
  {
   "cell_type": "markdown",
   "metadata": {},
   "source": [
    "## Style"
   ]
  },
  {
   "cell_type": "markdown",
   "metadata": {},
   "source": [
    "Once an object is created, it's style cannot easily be changed. To change a figure's style, set the style as seen below and create a new fig.\n",
    "\n",
    "View all of the styles here: [style sheet reference](https://matplotlib.org/3.2.1/gallery/style_sheets/style_sheets_reference.html). Some good ones: ggplot, seaborn-colorblind, dark_background."
   ]
  },
  {
   "cell_type": "code",
   "execution_count": null,
   "metadata": {},
   "outputs": [
    {
     "data": {
      "image/png": "[encoded data removed]",
      "text/plain": [
       "<Figure size 216x72 with 3 Axes>"
      ]
     },
     "metadata": {},
     "output_type": "display_data"
    }
   ],
   "source": [
    "plt.style.use('dark_background') # others: \n",
    "dark_fig, dark_ax = plt.subplots(1,3, figsize=(3,1))\n",
    "for ax in dark_ax: ax.plot( np.arange(10), np.random.randint(10,size=[10]) )"
   ]
  },
  {
   "cell_type": "code",
   "execution_count": null,
   "metadata": {},
   "outputs": [],
   "source": [
    "from fastai.vision.all import *\n",
    "show_image??"
   ]
  },
  {
   "cell_type": "markdown",
   "metadata": {},
   "source": [
    "# Types of charts"
   ]
  },
  {
   "cell_type": "code",
   "execution_count": null,
   "metadata": {},
   "outputs": [],
   "source": [
    "plt.style.use('default') # others: "
   ]
  },
  {
   "cell_type": "code",
   "execution_count": null,
   "metadata": {},
   "outputs": [],
   "source": [
    "fs=np.array([1,1])\n",
    "x  = np.arange(10)\n",
    "y1 = np.random.rand(10)\n",
    "y2 = np.random.rand(10)\n",
    "grid = np.random.rand(10, 10)"
   ]
  },
  {
   "cell_type": "markdown",
   "metadata": {},
   "source": [
    "## ax.imshow"
   ]
  },
  {
   "cell_type": "code",
   "execution_count": null,
   "metadata": {},
   "outputs": [
    {
     "data": {
      "image/png": "[encoded data removed]",
      "text/plain": [
       "<Figure size 100x100 with 1 Axes>"
      ]
     },
     "metadata": {},
     "output_type": "display_data"
    }
   ],
   "source": [
    "_,ax = plt.subplots(figsize=fs)\n",
    "ax.imshow(grid)\n",
    "ax.axis('off');"
   ]
  },
  {
   "cell_type": "markdown",
   "metadata": {},
   "source": [
    "## ax.bar"
   ]
  },
  {
   "cell_type": "code",
   "execution_count": null,
   "metadata": {},
   "outputs": [
    {
     "data": {
      "image/png": "[encoded data removed]",
      "text/plain": [
       "<Figure size 100x100 with 1 Axes>"
      ]
     },
     "metadata": {},
     "output_type": "display_data"
    }
   ],
   "source": [
    "_,ax = plt.subplots(figsize=fs)\n",
    "ax.bar(x,y1);"
   ]
  },
  {
   "cell_type": "code",
   "execution_count": null,
   "metadata": {},
   "outputs": [
    {
     "data": {
      "image/png": "[encoded data removed]",
      "text/plain": [
       "<Figure size 400x200 with 1 Axes>"
      ]
     },
     "metadata": {},
     "output_type": "display_data"
    }
   ],
   "source": [
    "w = .3\n",
    "fig,ax = plt.subplots(figsize=[4,2])\n",
    "ax.bar(x - w/2,y1,w,label='left')\n",
    "ax.bar(x + w/2,y2,w,label='right')\n",
    "\n",
    "ax.set_title('grouped bars')\n",
    "ax.set_ylabel('score')\n",
    "ax.set_xticks(x)\n",
    "ax.set_xticklabels('a b c d e f g h i j'.split())\n",
    "ax.legend(loc='upper right');"
   ]
  }
 ],
 "metadata": {
  "kernelspec": {
   "display_name": "Python 3",
   "language": "python",
   "name": "python3"
  }
 },
 "nbformat": 4,
 "nbformat_minor": 4
}
