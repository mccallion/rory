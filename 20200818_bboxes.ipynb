{
 "cells": [
  {
   "cell_type": "code",
   "execution_count": null,
   "metadata": {},
   "outputs": [
    {
     "name": "stdout",
     "output_type": "stream",
     "text": [
      "The autoreload extension is already loaded. To reload it, use:\n",
      "  %reload_ext autoreload\n",
      "Cells will be exported to rory.bboxes,\n",
      "unless a different module is specified after an export flag: `%nbdev_export special.module`\n"
     ]
    }
   ],
   "source": [
    "%load_ext autoreload\n",
    "%autoreload 2\n",
    "\n",
    "from nbdev import *\n",
    "from fastcore.test import *\n",
    "from rory import * # printnl, printdict\n",
    "%nbdev_default_export bboxes"
   ]
  },
  {
   "cell_type": "code",
   "execution_count": null,
   "metadata": {},
   "outputs": [],
   "source": [
    "from fastai2.vision.all import *"
   ]
  },
  {
   "cell_type": "markdown",
   "metadata": {},
   "source": [
    "# Bounding boxes from scratch\n",
    "> Working my way up from single object classification to multi object segmentation with fastai2."
   ]
  },
  {
   "cell_type": "code",
   "execution_count": null,
   "metadata": {},
   "outputs": [
    {
     "data": {
      "text/plain": [
       "(#9) [Path('/home/rory/repos/coco2020/data/image_info_test2017.zip'),Path('/home/rory/repos/coco2020/data/train2017.zip'),Path('/home/rory/repos/coco2020/data/test2017'),Path('/home/rory/repos/coco2020/data/val2017'),Path('/home/rory/repos/coco2020/data/train2017'),Path('/home/rory/repos/coco2020/data/annotations_trainval2017.zip'),Path('/home/rory/repos/coco2020/data/annotations'),Path('/home/rory/repos/coco2020/data/test2017.zip'),Path('/home/rory/repos/coco2020/data/val2017.zip')]"
      ]
     },
     "execution_count": null,
     "metadata": {},
     "output_type": "execute_result"
    }
   ],
   "source": [
    "datafolder = Path('/home/rory/repos/coco2020/data')\n",
    "zipfiles = zipsfolder.ls(); zipfiles"
   ]
  },
  {
   "cell_type": "markdown",
   "metadata": {},
   "source": [
    "Import deps for unzip()."
   ]
  },
  {
   "cell_type": "code",
   "execution_count": null,
   "metadata": {},
   "outputs": [],
   "source": [
    "from zipfile import *\n",
    "from pathlib import *"
   ]
  },
  {
   "cell_type": "code",
   "execution_count": null,
   "metadata": {},
   "outputs": [],
   "source": [
    "def unzip(*posixpaths,dest):\n",
    "    \"\"\"Unzips files located at posixpaths to dest. Deps: zipfile, pathlib.\"\"\"\n",
    "    for path in posixpaths:\n",
    "        if path.suffix == '.zip':\n",
    "            print(f\"Unzipping: {path} ---> {dest}.\")\n",
    "            with ZipFile(path, 'r') as archive:\n",
    "                archive.extractall(dest)\n",
    "    print(\"Finished. Files in dest:\")\n",
    "    printnl(*dest.ls(), 1)"
   ]
  },
  {
   "cell_type": "markdown",
   "metadata": {},
   "source": [
    "Uncomment the cell below if this is the first time running."
   ]
  },
  {
   "cell_type": "code",
   "execution_count": null,
   "metadata": {},
   "outputs": [
    {
     "name": "stdout",
     "output_type": "stream",
     "text": [
      "Unzipping: /home/rory/repos/coco2020/data/image_info_test2017.zip ---> /home/rory/repos/coco2020/data.\n",
      "Unzipping: /home/rory/repos/coco2020/data/train2017.zip ---> /home/rory/repos/coco2020/data.\n",
      "Unzipping: /home/rory/repos/coco2020/data/annotations_trainval2017.zip ---> /home/rory/repos/coco2020/data.\n",
      "Unzipping: /home/rory/repos/coco2020/data/test2017.zip ---> /home/rory/repos/coco2020/data.\n",
      "Unzipping: /home/rory/repos/coco2020/data/val2017.zip ---> /home/rory/repos/coco2020/data.\n",
      "unzip finished. Files in dest:\n",
      "/home/rory/repos/coco2020/data/image_info_test2017.zip\n",
      "/home/rory/repos/coco2020/data/train2017.zip\n",
      "/home/rory/repos/coco2020/data/test2017\n",
      "/home/rory/repos/coco2020/data/val2017\n",
      "/home/rory/repos/coco2020/data/train2017\n",
      "/home/rory/repos/coco2020/data/annotations_trainval2017.zip\n",
      "/home/rory/repos/coco2020/data/annotations\n",
      "/home/rory/repos/coco2020/data/test2017.zip\n",
      "/home/rory/repos/coco2020/data/val2017.zip\n"
     ]
    }
   ],
   "source": [
    "# unzip(*zipfiles, dest=datafolder)"
   ]
  },
  {
   "cell_type": "markdown",
   "metadata": {},
   "source": [
    "Fastai's helper function for getting COCO formatted labels out of their weird json structure."
   ]
  },
  {
   "cell_type": "code",
   "execution_count": null,
   "metadata": {},
   "outputs": [],
   "source": [
    "imgs_t, lbl_bbox_t = get_annotations(datafolder/'annotations/instances_train2017.json')\n",
    "imgs_v, lbl_bbox_v = get_annotations(datafolder/'annotations/instances_val2017.json')"
   ]
  },
  {
   "cell_type": "code",
   "execution_count": null,
   "metadata": {},
   "outputs": [],
   "source": [
    "imgs_t = list(map(lambda x: Path(datafolder/'train2017'/x),imgs_t))\n",
    "imgs_v = list(map(lambda x: Path(datafolder/'train2017'/x),imgs_v))"
   ]
  },
  {
   "cell_type": "markdown",
   "metadata": {},
   "source": [
    "I'll use pandas to create the src dataset. I want the fields (file, labels, bboxes, is_val)."
   ]
  },
  {
   "cell_type": "code",
   "execution_count": null,
   "metadata": {},
   "outputs": [],
   "source": [
    "import pandas as pd"
   ]
  },
  {
   "cell_type": "markdown",
   "metadata": {},
   "source": [
    "I'll create a list for each field then zip 'em up."
   ]
  },
  {
   "cell_type": "code",
   "execution_count": null,
   "metadata": {},
   "outputs": [],
   "source": [
    "imgs = imgs_t + imgs_v\n",
    "bboxes = [i[0] for i in lbl_bbox_t] + [i[0] for i in lbl_bbox_v]\n",
    "labels = [i[1] for i in lbl_bbox_t] + [i[1] for i in lbl_bbox_v]\n",
    "is_val = [False]*len(imgs_t) + [True]*len(imgs_v)"
   ]
  },
  {
   "cell_type": "code",
   "execution_count": null,
   "metadata": {},
   "outputs": [
    {
     "ename": "NameError",
     "evalue": "name 'test_eqs' is not defined",
     "output_type": "error",
     "traceback": [
      "\u001b[0;31m---------------------------------------------------------------------------\u001b[0m",
      "\u001b[0;31mNameError\u001b[0m                                 Traceback (most recent call last)",
      "\u001b[0;32m<ipython-input-102-de8c4c6de50a>\u001b[0m in \u001b[0;36m<module>\u001b[0;34m\u001b[0m\n\u001b[0;32m----> 1\u001b[0;31m \u001b[0mtest_eqs\u001b[0m\u001b[0;34m(\u001b[0m\u001b[0;36m1\u001b[0m\u001b[0;34m,\u001b[0m\u001b[0;36m1\u001b[0m\u001b[0;34m)\u001b[0m\u001b[0;34m\u001b[0m\u001b[0;34m\u001b[0m\u001b[0m\n\u001b[0m",
      "\u001b[0;31mNameError\u001b[0m: name 'test_eqs' is not defined"
     ]
    }
   ],
   "source": [
    "test_eqs(1,1)"
   ]
  },
  {
   "cell_type": "code",
   "execution_count": null,
   "metadata": {},
   "outputs": [
    {
     "ename": "NameError",
     "evalue": "name 'test_eqs' is not defined",
     "output_type": "error",
     "traceback": [
      "\u001b[0;31m---------------------------------------------------------------------------\u001b[0m",
      "\u001b[0;31mNameError\u001b[0m                                 Traceback (most recent call last)",
      "\u001b[0;32m<ipython-input-98-f23c22ff0fcf>\u001b[0m in \u001b[0;36m<module>\u001b[0;34m\u001b[0m\n\u001b[0;32m----> 1\u001b[0;31m \u001b[0mtest_eqs\u001b[0m\u001b[0;34m(\u001b[0m\u001b[0mlen\u001b[0m\u001b[0;34m(\u001b[0m\u001b[0mis_val\u001b[0m\u001b[0;34m)\u001b[0m\u001b[0;34m,\u001b[0m \u001b[0mlen\u001b[0m\u001b[0;34m(\u001b[0m\u001b[0mimgs_t\u001b[0m\u001b[0;34m)\u001b[0m\u001b[0;34m+\u001b[0m\u001b[0mlen\u001b[0m\u001b[0;34m(\u001b[0m\u001b[0mimgs_v\u001b[0m\u001b[0;34m)\u001b[0m\u001b[0;34m)\u001b[0m\u001b[0;34m\u001b[0m\u001b[0;34m\u001b[0m\u001b[0m\n\u001b[0m",
      "\u001b[0;31mNameError\u001b[0m: name 'test_eqs' is not defined"
     ]
    }
   ],
   "source": [
    "test_eqs(len(is_val), len(imgs_t)+len(imgs_v))"
   ]
  },
  {
   "cell_type": "code",
   "execution_count": null,
   "metadata": {},
   "outputs": [
    {
     "data": {
      "text/plain": [
       "117266"
      ]
     },
     "execution_count": null,
     "metadata": {},
     "output_type": "execute_result"
    }
   ],
   "source": [
    "[i[1] for i in lbl_bbox_t]"
   ]
  },
  {
   "cell_type": "code",
   "execution_count": null,
   "metadata": {},
   "outputs": [
    {
     "data": {
      "text/plain": [
       "([[359.17, 146.17, 471.62, 359.74],\n",
       "  [339.88, 22.16, 493.76, 322.89000000000004],\n",
       "  [471.64, 172.82, 507.56, 220.92],\n",
       "  [486.01, 183.31, 516.64, 218.29]],\n",
       " ['motorcycle', 'person', 'person', 'bicycle'])"
      ]
     },
     "execution_count": null,
     "metadata": {},
     "output_type": "execute_result"
    }
   ],
   "source": [
    "lbl_bbox_t[0]"
   ]
  },
  {
   "cell_type": "code",
   "execution_count": null,
   "metadata": {},
   "outputs": [],
   "source": []
  }
 ],
 "metadata": {
  "kernelspec": {
   "display_name": "Python 3",
   "language": "python",
   "name": "python3"
  }
 },
 "nbformat": 4,
 "nbformat_minor": 4
}
