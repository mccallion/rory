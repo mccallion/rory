{
 "cells": [
  {
   "cell_type": "markdown",
   "metadata": {},
   "source": [
    "<h1>Table of Contents<span class=\"tocSkip\"></span></h1>\n",
    "<div class=\"toc\"><ul class=\"toc-item\"></ul></div>"
   ]
  },
  {
   "cell_type": "code",
   "execution_count": null,
   "metadata": {},
   "outputs": [],
   "source": [
    "import torch"
   ]
  },
  {
   "cell_type": "code",
   "execution_count": null,
   "metadata": {},
   "outputs": [
    {
     "data": {
      "text/plain": [
       "(tensor([0.0592, 0.2433, 0.1692, 0.3796, 0.9870, 0.3745, 0.0535, 0.6845, 0.5333,\n",
       "         0.8284]),\n",
       " tensor([6, 4, 6, 5, 6, 4, 5, 6, 4, 6]),\n",
       " tensor([4, 5, 6]),\n",
       " tensor([2, 0, 2, 1, 2, 0, 1, 2, 0, 2]))"
      ]
     },
     "execution_count": null,
     "metadata": {},
     "output_type": "execute_result"
    }
   ],
   "source": [
    "pred_val = torch.rand(10)\n",
    "pred_cls = torch.randint(3,7,(10,))\n",
    "u_pred_cls, pred_cls_by_uidx = torch.unique(pred_cls, return_inverse=True)\n",
    "\n",
    "pred_val, pred_cls, u_pred_cls, pred_cls_by_uidx"
   ]
  },
  {
   "cell_type": "markdown",
   "metadata": {},
   "source": [
    "I want the result to be a list of lists:\n",
    "- each list contains the indexes for the appearance of a specific class in preds"
   ]
  },
  {
   "cell_type": "code",
   "execution_count": null,
   "metadata": {},
   "outputs": [
    {
     "data": {
      "text/plain": [
       "[[tensor(0), tensor(0), tensor(0)],\n",
       " [tensor(1), tensor(1), tensor(1)],\n",
       " [tensor(2), tensor(2)],\n",
       " [tensor(3), tensor(3)]]"
      ]
     },
     "execution_count": null,
     "metadata": {},
     "output_type": "execute_result"
    }
   ],
   "source": [
    "[[p[0] for p,i in zip(nums,nums_by_uidx) if c==u] for u in u_pred_cls]"
   ]
  }
 ],
 "metadata": {
  "kernelspec": {
   "display_name": "Python 3",
   "language": "python",
   "name": "python3"
  }
 },
 "nbformat": 4,
 "nbformat_minor": 4
}
