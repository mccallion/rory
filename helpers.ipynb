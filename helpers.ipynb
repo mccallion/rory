{
 "cells": [
  {
   "cell_type": "markdown",
   "metadata": {},
   "source": [
    "<h1>Table of Contents<span class=\"tocSkip\"></span></h1>\n",
    "<div class=\"toc\"><ul class=\"toc-item\"><li><span><a href=\"#Helpers\" data-toc-modified-id=\"Helpers-1\"><span class=\"toc-item-num\">1&nbsp;&nbsp;</span>Helpers</a></span></li></ul></div>"
   ]
  },
  {
   "cell_type": "code",
   "execution_count": null,
   "metadata": {},
   "outputs": [],
   "source": [
    "%load_ext autoreload\n",
    "%autoreload 2"
   ]
  },
  {
   "cell_type": "code",
   "execution_count": null,
   "metadata": {},
   "outputs": [
    {
     "name": "stdout",
     "output_type": "stream",
     "text": [
      "Cells will be exported to rory.helpers,\n",
      "unless a different module is specified after an export flag: `%nbdev_export special.module`\n"
     ]
    }
   ],
   "source": [
    "from nbdev import *\n",
    "from fastcore.test import *\n",
    "from fastcore.foundation import L\n",
    "%nbdev_default_export helpers"
   ]
  },
  {
   "cell_type": "markdown",
   "metadata": {},
   "source": [
    "# Helpers\n",
    "\n",
    "> Small functions I've used in multiple nbs."
   ]
  },
  {
   "cell_type": "code",
   "execution_count": null,
   "metadata": {},
   "outputs": [],
   "source": [
    "#export\n",
    "def flatten_list(l):\n",
    "    def _recur(l,res):\n",
    "        for o in l:\n",
    "            if   isinstance(o,list): _recur(o,res)\n",
    "            elif isinstance(o,L)   : _recur(o,res)\n",
    "            else: res.append(o)\n",
    "        return res\n",
    "    return type(l)(_recur(l, []))"
   ]
  },
  {
   "cell_type": "code",
   "execution_count": null,
   "metadata": {},
   "outputs": [],
   "source": [
    "test_eq(flatten_list([[]]) , [])\n",
    "test_eq(flatten_list([1,[2,[3]],L(4)]) , [1,2,3,4])\n",
    "test_eq(flatten_list(L(1,L(2,L(3)),[4])) , [1,2,3,4])"
   ]
  },
  {
   "cell_type": "code",
   "execution_count": null,
   "metadata": {},
   "outputs": [],
   "source": [
    "#export\n",
    "def flatten_one(lol):\n",
    "    res = []\n",
    "    for l in lol:\n",
    "        for i in l: res.append(i)\n",
    "    return type(lol)(res)"
   ]
  },
  {
   "cell_type": "code",
   "execution_count": null,
   "metadata": {},
   "outputs": [],
   "source": [
    "#export\n",
    "def unsqueeze_list(l):\n",
    "    return type(l)(L(l).map(lambda o:[o]))"
   ]
  },
  {
   "cell_type": "code",
   "execution_count": null,
   "metadata": {},
   "outputs": [],
   "source": [
    "#export\n",
    "def map_list(l, f):\n",
    "    return type(l)(L(l).map(f))"
   ]
  },
  {
   "cell_type": "code",
   "execution_count": null,
   "metadata": {},
   "outputs": [],
   "source": [
    "test_eq(map_list(L(1,2,3), lambda x: x+1) , [2,3,4])"
   ]
  },
  {
   "cell_type": "code",
   "execution_count": null,
   "metadata": {},
   "outputs": [],
   "source": [
    "#export\n",
    "def random_seed(s, use_cuda):\n",
    "    \"\"\"Also, remember to use num_workers=0 when creating the DataBunch.\n",
    "       Usage: random_seed(42,True)\"\"\"\n",
    "    np.random.seed(s)\n",
    "    torch.manual_seed(s)\n",
    "    random.seed(s)\n",
    "    if use_cuda:\n",
    "        torch.cuda.manual_seed(s)\n",
    "        torch.cuda.manual_seed_all(s)\n",
    "        torch.backends.cudnn.deterministic = True\n",
    "        torch.backends.cudnn.benchmark = False"
   ]
  },
  {
   "cell_type": "code",
   "execution_count": null,
   "metadata": {},
   "outputs": [],
   "source": [
    "#export\n",
    "def t2l(t, device='cpu'):\n",
    "    return t.to(device).numpy().tolist()"
   ]
  },
  {
   "cell_type": "code",
   "execution_count": null,
   "metadata": {},
   "outputs": [],
   "source": [
    "class custom_module(Module):\n",
    "    \n",
    "    def __init__(self, body, head):\n",
    "        self.body, self.head = body, head\n",
    "        \n",
    "    def forward(self, x):\n",
    "        return self.head(self.body(x))"
   ]
  },
  {
   "cell_type": "code",
   "execution_count": null,
   "metadata": {},
   "outputs": [],
   "source": [
    "def unzip(*posixpaths,dest):\n",
    "    \"\"\"Unzips files located at posixpaths to dest. Deps: zipfile, pathlib.\"\"\"\n",
    "    for path in posixpaths:\n",
    "        if path.suffix == '.zip':\n",
    "            print(f\"Unzipping: {path} ---> {dest}.\")\n",
    "            with ZipFile(path, 'r') as archive:\n",
    "                archive.extractall(dest)\n",
    "    print(\"unzip finished. Files in dest:\")\n",
    "    print(*dest.ls(), sep='\\n')"
   ]
  },
  {
   "cell_type": "code",
   "execution_count": null,
   "metadata": {},
   "outputs": [],
   "source": [
    "#hide\n",
    "# nbdev_build_lib\n",
    "# git add -A\n",
    "# git commit -m \"hello world\"\n",
    "# git push\n",
    "# pip install -e ."
   ]
  }
 ],
 "metadata": {
  "kernelspec": {
   "display_name": "Python 3",
   "language": "python",
   "name": "python3"
  }
 },
 "nbformat": 4,
 "nbformat_minor": 2
}
