{
 "cells": [
  {
   "cell_type": "markdown",
   "metadata": {},
   "source": [
    "<h1>Table of Contents<span class=\"tocSkip\"></span></h1>\n",
    "<div class=\"toc\"><ul class=\"toc-item\"><li><span><a href=\"#Quick-OOP-tutorial-with-Jeremy\" data-toc-modified-id=\"Quick-OOP-tutorial-with-Jeremy-1\"><span class=\"toc-item-num\">1&nbsp;&nbsp;</span>Quick OOP tutorial with Jeremy</a></span></li></ul></div>"
   ]
  },
  {
   "cell_type": "markdown",
   "metadata": {},
   "source": [
    "# Quick OOP tutorial with Jeremy"
   ]
  },
  {
   "cell_type": "markdown",
   "metadata": {},
   "source": [
    "The key idea in OOP is the **class**.\n",
    "\n",
    "Classes I've already used:\n",
    "- DataLoaders\n",
    "- Learner\n",
    "- str\n",
    "- int\n",
    "- torch.Tensor\n",
    "- ...\n",
    "\n",
    "A class:\n",
    "- has data attached to it\n",
    "- has functionality attached to it"
   ]
  },
  {
   "cell_type": "markdown",
   "metadata": {},
   "source": [
    "Example class `Ex`:\n",
    "- Data attached: `a`\n",
    "- Functionality attached: `say()`"
   ]
  },
  {
   "cell_type": "code",
   "execution_count": null,
   "metadata": {},
   "outputs": [],
   "source": [
    "class Ex:\n",
    "    def __init__(self, a): self.a = a\n",
    "    def say(self, x): return f'Hello {self.a}, {x}.'"
   ]
  },
  {
   "cell_type": "markdown",
   "metadata": {},
   "source": [
    "Note on `__init__`:\n",
    "- It's a special method\n",
    "- Use it to set up any state which needs to be done upon object creation\n",
    "- Any parameters included when the user constructs an instance of the class will be passed to the init method as parameters."
   ]
  },
  {
   "cell_type": "markdown",
   "metadata": {},
   "source": [
    "Example instance of class `Ex`: `ex1`\n",
    "- the data 'Shmoopy' is stored in `a`"
   ]
  },
  {
   "cell_type": "code",
   "execution_count": null,
   "metadata": {},
   "outputs": [
    {
     "data": {
      "text/plain": [
       "'Hello Shmoopy, doop doop doop.'"
      ]
     },
     "execution_count": null,
     "metadata": {},
     "output_type": "execute_result"
    }
   ],
   "source": [
    "ex1 = Ex('Shmoopy')\n",
    "ex1.say('doop doop doop')"
   ]
  },
  {
   "cell_type": "markdown",
   "metadata": {},
   "source": [
    "**Inheretance** is how we leverage pre-existing classes to make new classes that have all the same data and functionality, plus whatever new data and functionality I specify."
   ]
  },
  {
   "cell_type": "markdown",
   "metadata": {},
   "source": [
    "Example class that inherits from the fastai class `Module`. `Module` is the class used to define the functions that will serve as layers of a neural network, so here's a class that defines the dot product in a way we can use for building into nn's.\n",
    "- torch docs for Module: https://pytorch.org/docs/stable/generated/torch.nn.Module.html\n",
    "- fastai docs for Module: https://docs.fast.ai/torch_core#Module"
   ]
  },
  {
   "cell_type": "markdown",
   "metadata": {},
   "source": [
    "Jeremy says: \"Forward is the most important torch method name.\" Instances of Modules are callable, and when called they run their `forward` method. So, since calling an instance of DotProduct will call DotProduct.forward(), we will codify the definition of dot product in its forward method."
   ]
  },
  {
   "cell_type": "code",
   "execution_count": null,
   "metadata": {},
   "outputs": [],
   "source": [
    "from fastai.torch_core import Module\n",
    "\n",
    "class DotProduct(Module):\n",
    "    def __init__(self, n_users, n_movies, n_factors):\n",
    "        self.user_factors  = Embedding(n_users,  n_factors) # user_factors is an Embedding\n",
    "        self.movie_factors = Embedding(n_movies, n_factors) # movie_factors is an Embedding\n",
    "        \n",
    "    def forward(self, x):\n",
    "        # to grab the factors of an embedding, we call it like a function.\n",
    "        # x is movie_ids and user_ids as two columns.\n",
    "        users  = self.user_factors( x[:,0]) # pass in list of user ids\n",
    "        movies = self.movie_factors(x[:,1]) # pass in list of movie ids\n",
    "        return (users * movies).sum(dim=1)"
   ]
  },
  {
   "cell_type": "code",
   "execution_count": null,
   "metadata": {},
   "outputs": [],
   "source": []
  }
 ],
 "metadata": {
  "kernelspec": {
   "display_name": "Python 3",
   "language": "python",
   "name": "python3"
  }
 },
 "nbformat": 4,
 "nbformat_minor": 4
}
