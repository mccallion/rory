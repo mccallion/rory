{
 "cells": [
  {
   "cell_type": "markdown",
   "metadata": {},
   "source": [
    "<h1>Table of Contents<span class=\"tocSkip\"></span></h1>\n",
    "<div class=\"toc\"><ul class=\"toc-item\"></ul></div>"
   ]
  },
  {
   "cell_type": "code",
   "execution_count": null,
   "metadata": {},
   "outputs": [],
   "source": [
    "from fastai.vision import *\n",
    "from PIL import Image, ImageDraw, ImageFont\n",
    "\n",
    "class crappifier(object):\n",
    "    def __init__(self, path_lr, path_hr):\n",
    "        self.path_lr = path_lr\n",
    "        self.path_hr = path_hr              \n",
    "        \n",
    "    def __call__(self, fn, i):       \n",
    "        dest = self.path_lr/fn.relative_to(self.path_hr)    \n",
    "        dest.parent.mkdir(parents=True, exist_ok=True)\n",
    "        img = PIL.Image.open(fn)\n",
    "        targ_sz = resize_to(img, 96, use_min=True)\n",
    "        img = img.resize(targ_sz, resample=PIL.Image.BILINEAR).convert('RGB')\n",
    "        w,h = img.size\n",
    "        q = random.randint(10,70)\n",
    "        ImageDraw.Draw(img).text((random.randint(0,w//2),random.randint(0,h//2)), str(q), fill=(255,255,255))\n",
    "        img.save(dest, quality=q)"
   ]
  }
 ],
 "metadata": {
  "kernelspec": {
   "display_name": "Python 3",
   "language": "python",
   "name": "python3"
  }
 },
 "nbformat": 4,
 "nbformat_minor": 4
}
