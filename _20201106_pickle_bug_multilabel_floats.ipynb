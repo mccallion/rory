{
 "cells": [
  {
   "cell_type": "markdown",
   "metadata": {},
   "source": [
    "<h1>Table of Contents<span class=\"tocSkip\"></span></h1>\n",
    "<div class=\"toc\"><ul class=\"toc-item\"></ul></div>"
   ]
  },
  {
   "cell_type": "markdown",
   "metadata": {},
   "source": [
    "Everything:"
   ]
  },
  {
   "cell_type": "code",
   "execution_count": null,
   "metadata": {},
   "outputs": [],
   "source": [
    "from fastai.vision.all import *\n",
    "\n",
    "# paths\n",
    "path = Path('/home/rory/data/coco2017')\n",
    "train_im_dir, valid_im_dir = 'train2017', 'val2017'\n",
    "train_json = 'annotations/instances_train2017.json'\n",
    "valid_json = 'annotations/instances_val2017.json'\n",
    "\n",
    "# get items & annos\n",
    "def get_annos(path, anno_file, im_folder):\n",
    "    xs, ys = get_annotations(path/anno_file)\n",
    "    return L(xs).map(lambda x: path/im_folder/x), ys\n",
    "train_paths, train_annos = get_annos(path, train_json, train_im_dir)\n",
    "valid_paths, valid_annos = get_annos(path, valid_json, valid_im_dir)\n",
    "paths  = train_paths + valid_paths\n",
    "annos  = train_annos + valid_annos\n",
    "bboxes = [a[0] for a in annos]\n",
    "lbls   = [a[1] for a in annos]\n",
    "\n",
    "# create df and pkl\n",
    "df = pd.DataFrame({\n",
    "    \"path\": paths,\n",
    "    \"lbl\":  lbls,\n",
    "    \"bbox\": bboxes,\n",
    "    \"is_valid\": [0]*len(train_files) + [1]*len(valid_files),\n",
    "    \"n_items\": L(len(l) for l in lbls)\n",
    "    })\n",
    "df.to_pickle(path/'20201027_coco_df.pkl')\n",
    "\n",
    "df.head(1)"
   ]
  },
  {
   "cell_type": "markdown",
   "metadata": {},
   "source": [
    "Subset:"
   ]
  },
  {
   "cell_type": "code",
   "execution_count": null,
   "metadata": {},
   "outputs": [],
   "source": [
    "from fastai.vision.all import *\n",
    "    \n",
    "    \n",
    "# paths\n",
    "path = Path('/home/rory/data/coco2017')\n",
    "train_im_dir, valid_im_dir = 'train2017', 'val2017'\n",
    "train_json = 'annotations/instances_train2017.json'\n",
    "valid_json = 'annotations/instances_val2017.json'\n",
    "\n",
    "# get items & annos\n",
    "def get_annos(path, anno_file, im_folder):\n",
    "    xs, ys = get_annotations(path/anno_file)\n",
    "    return L(xs).map(lambda x: path/im_folder/x), ys\n",
    "train_files, train_annos = get_annos(path, train_json, train_im_dir)\n",
    "valid_files, valid_annos = get_annos(path, valid_json, valid_im_dir)\n",
    "annos = train_annos + valid_annos\n",
    "bboxes = L(L(b) for b,l in annos)\n",
    "lbls   = L(L(l) for b,l in annos)\n",
    "\n",
    "# get label subset\n",
    "def flatten(l):\n",
    "    def _recur(l,res):\n",
    "        for o in l:\n",
    "            if   isinstance(o,list): _recur(o,res)\n",
    "            elif isinstance(o,L)   : _recur(o,res)\n",
    "            else: res.append(o)\n",
    "        return res\n",
    "    return _recur(l, L())\n",
    "lbls_flat = flatten(lbls)\n",
    "def get_count(lbl): return len(lbls_flat.filter(lambda x: x==lbl))\n",
    "lbls_sorted = sorted(lbls_flat.unique(), key=get_count, reverse=True)\n",
    "lbl_cts = [(l, get_count(l)) for l in lbls_sorted]\n",
    "lbl_ss = [l for l,c in lbl_cts if 5000<c<30000]\n",
    "lbl_ss.remove('traffic light')\n",
    "lbl_ss.remove('motorcycle')\n",
    "lbl_ss.remove('bus')\n",
    "\n",
    "# get subset items & annos\n",
    "ss_idxs   = [[o in lbl_ss for o in l] for l in lbls]\n",
    "ss_lbls   = [list(o[i]) for o,i in zip(lbls,ss_idxs)]\n",
    "ss_bboxes = [list(o[i]) for o,i in zip(bboxes,ss_idxs)]\n",
    "ss_obj    = [len(l) for l in ss_lbls]\n",
    "\n",
    "# create df\n",
    "df = pd.DataFrame({\n",
    "    \"path\"  : train_files + valid_files,\n",
    "    \"lbl\"   : ss_lbls,\n",
    "    \"bbox\"  : ss_bboxes,\n",
    "    \"n_obj\" : ss_obj\n",
    "    })\n",
    "\n",
    "# remove rows w/ 4+ objects per im\n",
    "# reduce value counts to a max of 2*min_vc\n",
    "too_many = 8\n",
    "rng = list(range(too_many))\n",
    "cts = list(df['n_obj'].value_counts())[:too_many]\n",
    "minv = min(cts)\n",
    "zipd = list(zip(*[rng,cts]))\n",
    "zipd[0] = (0, minv) # limit ims w/zero objs\n",
    "df = pd.concat([df[df['n_obj']==i].sample(n=min(s,minv*2)) for i,s in zipd])\n",
    "\n",
    "# create pkl\n",
    "df.to_pickle(path/'20201029_coco_ss_df.pkl')"
   ]
  },
  {
   "cell_type": "markdown",
   "metadata": {},
   "source": [
    "Create dls:"
   ]
  },
  {
   "cell_type": "code",
   "execution_count": null,
   "metadata": {},
   "outputs": [],
   "source": [
    "from fastai.vision.all import *\n",
    "\n",
    "\n",
    "### Params ###\n",
    "im_size    = 224\n",
    "batch_size = 64\n",
    "path       = Path('/home/rory/data/coco2017')\n",
    "valid_pct  = .10\n",
    "\n",
    "\n",
    "### Items ###\n",
    "df = pd.read_pickle(path/'20201029_coco_ss_df.pkl')\n",
    "# get items\n",
    "def get_cols(df,cols): return [df[c].to_list() for c in cols]\n",
    "paths, bboxes, lbls  = get_cols(df, ['path', 'bbox', 'lbl'])\n",
    "p2b = {p:b for p,b in zip(paths,bboxes)}\n",
    "p2l = {p:l for p,l in zip(paths,lbls)}\n",
    "def get_bbox(p): return p2b[p]\n",
    "def get_lbl(p):  return p2l[p]\n",
    "\n",
    "\n",
    "### DataBlock & DataLoaders ###\n",
    "db = DataBlock(\n",
    "    blocks=[ImageBlock, BBoxBlock, BBoxLblBlock],\n",
    "    get_y=[get_bbox, get_lbl],\n",
    "    splitter=RandomSplitter(valid_pct),\n",
    "    item_tfms=Resize(im_size, method='squish'),\n",
    "    batch_tfms=Normalize.from_stats(*imagenet_stats),\n",
    "    n_inp=1)\n",
    "dls = db.dataloaders(paths)"
   ]
  },
  {
   "cell_type": "code",
   "execution_count": null,
   "metadata": {},
   "outputs": [],
   "source": [
    "### Inspection (IMPORTANT) ###\n",
    "print(\"Size of train data:\",len(dls.train.items))\n",
    "print(\"Size of valid data:\",len(dls.valid.items))\n",
    "for i,t in enumerate(dls.one_batch()):\n",
    "    print(f\"batch[{i}]:\",'\\t',t.dtype,'\\t',t.shape)"
   ]
  }
 ],
 "metadata": {
  "kernelspec": {
   "display_name": "Python 3",
   "language": "python",
   "name": "python3"
  }
 },
 "nbformat": 4,
 "nbformat_minor": 4
}
