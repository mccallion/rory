{
 "cells": [
  {
   "cell_type": "markdown",
   "metadata": {},
   "source": [
    "<h1>Table of Contents<span class=\"tocSkip\"></span></h1>\n",
    "<div class=\"toc\"><ul class=\"toc-item\"><li><span><a href=\"#Notes-on-Python's-Class\" data-toc-modified-id=\"Notes-on-Python's-Class-1\"><span class=\"toc-item-num\">1&nbsp;&nbsp;</span>Notes on Python's Class</a></span><ul class=\"toc-item\"><li><span><a href=\"#Python's-class-system-implements-flexible-types\" data-toc-modified-id=\"Python's-class-system-implements-flexible-types-1.1\"><span class=\"toc-item-num\">1.1&nbsp;&nbsp;</span>Python's <code>class</code> system implements flexible <code>types</code></a></span></li></ul></li></ul></div>"
   ]
  },
  {
   "cell_type": "markdown",
   "metadata": {},
   "source": [
    "# Notes on Python's Class"
   ]
  },
  {
   "cell_type": "markdown",
   "metadata": {},
   "source": [
    "## Python's `class` system implements flexible `types`\n",
    "- A class is like a powerful user-defined type.\n",
    "- Once a class has been defined, an instance of that type of class can be initialized.\n",
    "- That's all classes do: specify what an instance of that type of class is initialized with.\n",
    "- All the action takes place in an instance of a class.\n",
    "- An instance is a namespace that holds k,v pairs.\n",
    "- An instance's namespace can evolve over time."
   ]
  },
  {
   "cell_type": "code",
   "execution_count": null,
   "metadata": {},
   "outputs": [],
   "source": [
    "class Rt(tuple): pass"
   ]
  },
  {
   "cell_type": "code",
   "execution_count": null,
   "metadata": {},
   "outputs": [
    {
     "data": {
      "text/plain": [
       "(__main__.Rt, type)"
      ]
     },
     "execution_count": null,
     "metadata": {},
     "output_type": "execute_result"
    }
   ],
   "source": [
    "rt1 = Rt\n",
    "rt1, type(rt1)"
   ]
  },
  {
   "cell_type": "code",
   "execution_count": null,
   "metadata": {},
   "outputs": [
    {
     "data": {
      "text/plain": [
       "((), __main__.Rt)"
      ]
     },
     "execution_count": null,
     "metadata": {},
     "output_type": "execute_result"
    }
   ],
   "source": [
    "rt1 = Rt()\n",
    "rt1, type(rt1)"
   ]
  },
  {
   "cell_type": "code",
   "execution_count": null,
   "metadata": {},
   "outputs": [
    {
     "data": {
      "text/plain": [
       "((1, 2), __main__.Rt)"
      ]
     },
     "execution_count": null,
     "metadata": {},
     "output_type": "execute_result"
    }
   ],
   "source": [
    "rt1 = Rt((1,2))\n",
    "rt1, type(rt1)"
   ]
  },
  {
   "cell_type": "code",
   "execution_count": null,
   "metadata": {},
   "outputs": [
    {
     "data": {
      "text/plain": [
       "(1, 2)"
      ]
     },
     "execution_count": null,
     "metadata": {},
     "output_type": "execute_result"
    }
   ],
   "source": [
    "rt1[0], rt1[1]"
   ]
  },
  {
   "cell_type": "code",
   "execution_count": null,
   "metadata": {},
   "outputs": [],
   "source": []
  }
 ],
 "metadata": {
  "kernelspec": {
   "display_name": "Python 3",
   "language": "python",
   "name": "python3"
  }
 },
 "nbformat": 4,
 "nbformat_minor": 4
}
