{
 "cells": [
  {
   "cell_type": "markdown",
   "metadata": {},
   "source": [
    "<h1>Table of Contents<span class=\"tocSkip\"></span></h1>\n",
    "<div class=\"toc\"><ul class=\"toc-item\"></ul></div>"
   ]
  },
  {
   "cell_type": "code",
   "execution_count": null,
   "metadata": {},
   "outputs": [],
   "source": [
    "# youtube video mAP implementation\n",
    "import torch\n",
    "from collections import Counter\n",
    "\n",
    "def mean_avg_precision(pred_bbs, gt_bbs, n_cls, iou_thresh=.5):\n",
    "    \"\"\"Source: https://www.youtube.com/watch?v=FppOzcDvaDI\"\"\"\n",
    "    # pred_bbs[0]: [im_idx, pred_lbl, conf, *pred_bb]\n",
    "    # gt_bbs[0]:   [im_idx, gt_lbl,   *pred_bb]\n",
    "    avg_precisions = []\n",
    "    eps = 1e-6 # for numerical stability\n",
    "    \n",
    "    for c in range(n_cls):\n",
    "        # store pred_bbs and gt_bbs for current class\n",
    "        preds = []\n",
    "        gts = []\n",
    "        \n",
    "        # grab preds and gts for current class\n",
    "        for pred_bb in pred_bbs:\n",
    "            if pred_bb[1] == c: preds.append(pred_bb)\n",
    "        for gt_bb in gt_bbs:\n",
    "            if gt_bb[1] == c: gts.append(gt_bb)\n",
    "                \n",
    "        # sort preds by conf desc\n",
    "        preds.sort(key=lambda x: x[2], reverse=True)\n",
    "        \n",
    "        # make dict of im_idx:zeros(n_objs)\n",
    "        # im0 has 1 bb and im1 has 3 bbs\n",
    "        # amount_bbs = {0:1, 1:3}\n",
    "        # amount_bbs = {0:tensor([0]), 1:tensor([0,0,0])}\n",
    "        amount_bbs = Counter([gt[0] for gt in gts])\n",
    "        for key,val in amount_bbs.items():\n",
    "            amount_bbs[key] = torch.zeros(val)\n",
    "        \n",
    "        # init tp and fp\n",
    "        tp = torch.zeros((len(preds)))\n",
    "        fp = torch.zeros((len(preds)))\n",
    "        total_true_bbs = len(gts)\n",
    "        \n",
    "        for pred_idx, pred in enumerate(preds):\n",
    "            gt_im = [bb for bb in gts if bb[0] == pred[0]]\n",
    "            n_gts = len(gt_im)\n",
    "            best_iou = 0       \n",
    "            \n",
    "            for idx, gt in enumerate(gt_im):\n",
    "                iou = get_iou(tensor(pred[3:]), tensor(gt[3:]))\n",
    "                if iou > best_iou: best_iou,best_gt_idx = iou,idx\n",
    "            \n",
    "            # update idx of gtbb to indicate it's been used\n",
    "            if best_iou > iou_thresh:\n",
    "                if amount_bbs[pred[0]][best_gt_idx]==0:\n",
    "                    tp[pred_idx] = 1\n",
    "                    amount_bbs[pred[0]][best_gt_idx] = 1\n",
    "                else: fp[pred_idx] = 1\n",
    "            else: fp[pred_idx] = 1\n",
    "        \n",
    "        # [1,1,0,1,0] → [1,2,2,3,3]\n",
    "        tp_csum = torch.cumsum(tp, dim=0)\n",
    "        fp_csum = torch.cumsum(fp, dim=0)\n",
    "        recalls = tp_csum / (total_true_bbs + eps)\n",
    "        precisions = torch.divide(tp_csum, (tp_csum + fp_csum + eps))\n",
    "        precisions = torch.cat((torch.tensor([1]), precisions))\n",
    "        recalls = torch.cat((torch.tensor([0]), recalls))\n",
    "        avg_precision.append(torch.trapz(precisions, recalls))\n",
    "        \n",
    "    return sum(avg_precisions)/ len(avg_precisions)"
   ]
  },
  {
   "cell_type": "code",
   "execution_count": null,
   "metadata": {},
   "outputs": [],
   "source": []
  },
  {
   "cell_type": "code",
   "execution_count": null,
   "metadata": {},
   "outputs": [],
   "source": []
  },
  {
   "cell_type": "code",
   "execution_count": null,
   "metadata": {},
   "outputs": [],
   "source": []
  },
  {
   "cell_type": "code",
   "execution_count": null,
   "metadata": {},
   "outputs": [],
   "source": []
  },
  {
   "cell_type": "code",
   "execution_count": null,
   "metadata": {},
   "outputs": [],
   "source": []
  },
  {
   "cell_type": "code",
   "execution_count": null,
   "metadata": {},
   "outputs": [],
   "source": []
  },
  {
   "cell_type": "code",
   "execution_count": null,
   "metadata": {},
   "outputs": [],
   "source": []
  },
  {
   "cell_type": "code",
   "execution_count": null,
   "metadata": {},
   "outputs": [],
   "source": []
  },
  {
   "cell_type": "code",
   "execution_count": null,
   "metadata": {},
   "outputs": [],
   "source": []
  },
  {
   "cell_type": "code",
   "execution_count": null,
   "metadata": {},
   "outputs": [],
   "source": []
  },
  {
   "cell_type": "code",
   "execution_count": null,
   "metadata": {},
   "outputs": [],
   "source": []
  },
  {
   "cell_type": "code",
   "execution_count": null,
   "metadata": {},
   "outputs": [],
   "source": []
  },
  {
   "cell_type": "code",
   "execution_count": null,
   "metadata": {},
   "outputs": [],
   "source": []
  },
  {
   "cell_type": "code",
   "execution_count": null,
   "metadata": {},
   "outputs": [],
   "source": []
  },
  {
   "cell_type": "code",
   "execution_count": null,
   "metadata": {},
   "outputs": [],
   "source": []
  },
  {
   "cell_type": "code",
   "execution_count": null,
   "metadata": {},
   "outputs": [],
   "source": []
  },
  {
   "cell_type": "code",
   "execution_count": null,
   "metadata": {},
   "outputs": [],
   "source": []
  },
  {
   "cell_type": "code",
   "execution_count": null,
   "metadata": {},
   "outputs": [],
   "source": []
  }
 ],
 "metadata": {
  "kernelspec": {
   "display_name": "Python 3",
   "language": "python",
   "name": "python3"
  }
 },
 "nbformat": 4,
 "nbformat_minor": 4
}
