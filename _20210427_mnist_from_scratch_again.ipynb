{
 "cells": [
  {
   "cell_type": "markdown",
   "metadata": {},
   "source": [
    "# Getting back into fastai with fastbook"
   ]
  },
  {
   "cell_type": "markdown",
   "metadata": {},
   "source": [
    "Started nb on 27 April 2021. The goal of this nb is to ease back in to python and fastai, and to use these muscles so that I don't forget them."
   ]
  },
  {
   "cell_type": "markdown",
   "metadata": {},
   "source": [
    "The task of fastbook chapter 4 is to build a binary classifier for image data without using the fastai convenience functions (except towards the end)."
   ]
  },
  {
   "cell_type": "markdown",
   "metadata": {},
   "source": [
    "# Explore data"
   ]
  },
  {
   "cell_type": "code",
   "execution_count": null,
   "metadata": {},
   "outputs": [],
   "source": [
    "from fastai.vision.all import *"
   ]
  },
  {
   "cell_type": "code",
   "execution_count": null,
   "metadata": {},
   "outputs": [],
   "source": [
    "set_seed(42)"
   ]
  },
  {
   "cell_type": "markdown",
   "metadata": {},
   "source": [
    "Explore file structure and a random image from the three's dataset."
   ]
  },
  {
   "cell_type": "code",
   "execution_count": null,
   "metadata": {},
   "outputs": [
    {
     "data": {
      "text/plain": [
       "(#3) [Path('valid'),Path('labels.csv'),Path('train')]"
      ]
     },
     "execution_count": null,
     "metadata": {},
     "output_type": "execute_result"
    }
   ],
   "source": [
    "path = untar_data(URLs.MNIST_SAMPLE)\n",
    "Path.BASE_PATH = path # set the BASE_PATH to the data path for readability\n",
    "path.ls()"
   ]
  },
  {
   "cell_type": "code",
   "execution_count": null,
   "metadata": {},
   "outputs": [
    {
     "data": {
      "text/plain": [
       "(#2) [Path('train/7'),Path('train/3')]"
      ]
     },
     "execution_count": null,
     "metadata": {},
     "output_type": "execute_result"
    }
   ],
   "source": [
    "(path/'train').ls()"
   ]
  },
  {
   "cell_type": "code",
   "execution_count": null,
   "metadata": {},
   "outputs": [
    {
     "data": {
      "text/plain": [
       "(#6131) [Path('train/3/10.png'),Path('train/3/10000.png'),Path('train/3/10011.png'),Path('train/3/10031.png'),Path('train/3/10034.png'),Path('train/3/10042.png'),Path('train/3/10052.png'),Path('train/3/1007.png'),Path('train/3/10074.png'),Path('train/3/10091.png')...]"
      ]
     },
     "execution_count": null,
     "metadata": {},
     "output_type": "execute_result"
    }
   ],
   "source": [
    "threes = (path/'train'/'3').ls().sorted()\n",
    "sevens = (path/'train'/'7').ls().sorted()\n",
    "threes"
   ]
  },
  {
   "cell_type": "code",
   "execution_count": null,
   "metadata": {},
   "outputs": [
    {
     "data": {
      "image/png": "[encoded data removed]",
      "text/plain": [
       "<PIL.PngImagePlugin.PngImageFile image mode=L size=28x28 at 0x7FE6E0630B50>"
      ]
     },
     "execution_count": null,
     "metadata": {},
     "output_type": "execute_result"
    }
   ],
   "source": [
    "im3_path = threes[1]\n",
    "im3 = Image.open(im3_path)\n",
    "im3"
   ]
  },
  {
   "cell_type": "code",
   "execution_count": null,
   "metadata": {},
   "outputs": [
    {
     "data": {
      "text/plain": [
       "tensor([[  0,   0,   0,   0,   0,   0,   0,   0,   0,   0],\n",
       "        [  0,   0,   0,   0,   0,   0,   0,   0,   0,   0],\n",
       "        [  0,   0,   0,   0,   0,   0,   0,   0,   0,   0],\n",
       "        [  0,   0,   0,   0,   0,   0,   0,   0,   0,   0],\n",
       "        [  0,   0,   0,   0,   0,   0,   0,   0,   0,   0],\n",
       "        [  0,   0,   0,   0,   0,   0,   0,   0,   0,  29],\n",
       "        [  0,   0,   0,   0,   0,   0,   0,  48, 166, 224],\n",
       "        [  0,   0,   0,   0,   0,  93, 244, 249, 253, 187],\n",
       "        [  0,   0,   0,   0,   0, 107, 253, 253, 230,  48],\n",
       "        [  0,   0,   0,   0,   0,   3,  20,  20,  15,   0]], dtype=torch.uint8)"
      ]
     },
     "execution_count": null,
     "metadata": {},
     "output_type": "execute_result"
    }
   ],
   "source": [
    "tensor(im3)[:10,:10]"
   ]
  },
  {
   "cell_type": "code",
   "execution_count": null,
   "metadata": {},
   "outputs": [
    {
     "data": {
      "text/html": [
       "<style  type=\"text/css\" >\n",
       "#T_de39f0a0_a947_11eb_89e0_3bf101066d97row0_col0,#T_de39f0a0_a947_11eb_89e0_3bf101066d97row0_col1,#T_de39f0a0_a947_11eb_89e0_3bf101066d97row0_col2,#T_de39f0a0_a947_11eb_89e0_3bf101066d97row0_col3,#T_de39f0a0_a947_11eb_89e0_3bf101066d97row0_col4,#T_de39f0a0_a947_11eb_89e0_3bf101066d97row0_col5,#T_de39f0a0_a947_11eb_89e0_3bf101066d97row0_col6,#T_de39f0a0_a947_11eb_89e0_3bf101066d97row0_col7,#T_de39f0a0_a947_11eb_89e0_3bf101066d97row0_col8,#T_de39f0a0_a947_11eb_89e0_3bf101066d97row0_col9,#T_de39f0a0_a947_11eb_89e0_3bf101066d97row0_col10,#T_de39f0a0_a947_11eb_89e0_3bf101066d97row0_col11,#T_de39f0a0_a947_11eb_89e0_3bf101066d97row0_col12,#T_de39f0a0_a947_11eb_89e0_3bf101066d97row0_col13,#T_de39f0a0_a947_11eb_89e0_3bf101066d97row0_col14,#T_de39f0a0_a947_11eb_89e0_3bf101066d97row0_col15,#T_de39f0a0_a947_11eb_89e0_3bf101066d97row0_col16,#T_de39f0a0_a947_11eb_89e0_3bf101066d97row0_col17,#T_de39f0a0_a947_11eb_89e0_3bf101066d97row0_col18,#T_de39f0a0_a947_11eb_89e0_3bf101066d97row0_col19,#T_de39f0a0_a947_11eb_89e0_3bf101066d97row1_col0,#T_de39f0a0_a947_11eb_89e0_3bf101066d97row1_col1,#T_de39f0a0_a947_11eb_89e0_3bf101066d97row1_col2,#T_de39f0a0_a947_11eb_89e0_3bf101066d97row1_col3,#T_de39f0a0_a947_11eb_89e0_3bf101066d97row1_col4,#T_de39f0a0_a947_11eb_89e0_3bf101066d97row1_col5,#T_de39f0a0_a947_11eb_89e0_3bf101066d97row1_col6,#T_de39f0a0_a947_11eb_89e0_3bf101066d97row1_col7,#T_de39f0a0_a947_11eb_89e0_3bf101066d97row1_col8,#T_de39f0a0_a947_11eb_89e0_3bf101066d97row1_col9,#T_de39f0a0_a947_11eb_89e0_3bf101066d97row1_col10,#T_de39f0a0_a947_11eb_89e0_3bf101066d97row1_col11,#T_de39f0a0_a947_11eb_89e0_3bf101066d97row1_col12,#T_de39f0a0_a947_11eb_89e0_3bf101066d97row1_col13,#T_de39f0a0_a947_11eb_89e0_3bf101066d97row1_col14,#T_de39f0a0_a947_11eb_89e0_3bf101066d97row1_col15,#T_de39f0a0_a947_11eb_89e0_3bf101066d97row1_col16,#T_de39f0a0_a947_11eb_89e0_3bf101066d97row1_col17,#T_de39f0a0_a947_11eb_89e0_3bf101066d97row1_col18,#T_de39f0a0_a947_11eb_89e0_3bf101066d97row1_col19,#T_de39f0a0_a947_11eb_89e0_3bf101066d97row2_col0,#T_de39f0a0_a947_11eb_89e0_3bf101066d97row2_col1,#T_de39f0a0_a947_11eb_89e0_3bf101066d97row2_col2,#T_de39f0a0_a947_11eb_89e0_3bf101066d97row2_col3,#T_de39f0a0_a947_11eb_89e0_3bf101066d97row2_col4,#T_de39f0a0_a947_11eb_89e0_3bf101066d97row2_col5,#T_de39f0a0_a947_11eb_89e0_3bf101066d97row2_col6,#T_de39f0a0_a947_11eb_89e0_3bf101066d97row2_col7,#T_de39f0a0_a947_11eb_89e0_3bf101066d97row2_col8,#T_de39f0a0_a947_11eb_89e0_3bf101066d97row2_col9,#T_de39f0a0_a947_11eb_89e0_3bf101066d97row2_col10,#T_de39f0a0_a947_11eb_89e0_3bf101066d97row2_col11,#T_de39f0a0_a947_11eb_89e0_3bf101066d97row2_col12,#T_de39f0a0_a947_11eb_89e0_3bf101066d97row2_col13,#T_de39f0a0_a947_11eb_89e0_3bf101066d97row2_col14,#T_de39f0a0_a947_11eb_89e0_3bf101066d97row2_col15,#T_de39f0a0_a947_11eb_89e0_3bf101066d97row2_col16,#T_de39f0a0_a947_11eb_89e0_3bf101066d97row2_col17,#T_de39f0a0_a947_11eb_89e0_3bf101066d97row2_col18,#T_de39f0a0_a947_11eb_89e0_3bf101066d97row2_col19,#T_de39f0a0_a947_11eb_89e0_3bf101066d97row3_col0,#T_de39f0a0_a947_11eb_89e0_3bf101066d97row3_col1,#T_de39f0a0_a947_11eb_89e0_3bf101066d97row3_col2,#T_de39f0a0_a947_11eb_89e0_3bf101066d97row3_col3,#T_de39f0a0_a947_11eb_89e0_3bf101066d97row3_col4,#T_de39f0a0_a947_11eb_89e0_3bf101066d97row3_col5,#T_de39f0a0_a947_11eb_89e0_3bf101066d97row3_col6,#T_de39f0a0_a947_11eb_89e0_3bf101066d97row3_col7,#T_de39f0a0_a947_11eb_89e0_3bf101066d97row3_col8,#T_de39f0a0_a947_11eb_89e0_3bf101066d97row3_col9,#T_de39f0a0_a947_11eb_89e0_3bf101066d97row3_col10,#T_de39f0a0_a947_11eb_89e0_3bf101066d97row3_col11,#T_de39f0a0_a947_11eb_89e0_3bf101066d97row3_col12,#T_de39f0a0_a947_11eb_89e0_3bf101066d97row3_col13,#T_de39f0a0_a947_11eb_89e0_3bf101066d97row3_col14,#T_de39f0a0_a947_11eb_89e0_3bf101066d97row3_col15,#T_de39f0a0_a947_11eb_89e0_3bf101066d97row3_col16,#T_de39f0a0_a947_11eb_89e0_3bf101066d97row3_col17,#T_de39f0a0_a947_11eb_89e0_3bf101066d97row3_col18,#T_de39f0a0_a947_11eb_89e0_3bf101066d97row3_col19,#T_de39f0a0_a947_11eb_89e0_3bf101066d97row4_col0,#T_de39f0a0_a947_11eb_89e0_3bf101066d97row4_col1,#T_de39f0a0_a947_11eb_89e0_3bf101066d97row4_col2,#T_de39f0a0_a947_11eb_89e0_3bf101066d97row4_col3,#T_de39f0a0_a947_11eb_89e0_3bf101066d97row4_col4,#T_de39f0a0_a947_11eb_89e0_3bf101066d97row4_col5,#T_de39f0a0_a947_11eb_89e0_3bf101066d97row4_col6,#T_de39f0a0_a947_11eb_89e0_3bf101066d97row4_col7,#T_de39f0a0_a947_11eb_89e0_3bf101066d97row4_col8,#T_de39f0a0_a947_11eb_89e0_3bf101066d97row4_col9,#T_de39f0a0_a947_11eb_89e0_3bf101066d97row4_col10,#T_de39f0a0_a947_11eb_89e0_3bf101066d97row4_col11,#T_de39f0a0_a947_11eb_89e0_3bf101066d97row4_col12,#T_de39f0a0_a947_11eb_89e0_3bf101066d97row4_col13,#T_de39f0a0_a947_11eb_89e0_3bf101066d97row4_col14,#T_de39f0a0_a947_11eb_89e0_3bf101066d97row4_col15,#T_de39f0a0_a947_11eb_89e0_3bf101066d97row4_col16,#T_de39f0a0_a947_11eb_89e0_3bf101066d97row4_col17,#T_de39f0a0_a947_11eb_89e0_3bf101066d97row4_col18,#T_de39f0a0_a947_11eb_89e0_3bf101066d97row4_col19,#T_de39f0a0_a947_11eb_89e0_3bf101066d97row5_col0,#T_de39f0a0_a947_11eb_89e0_3bf101066d97row5_col1,#T_de39f0a0_a947_11eb_89e0_3bf101066d97row5_col2,#T_de39f0a0_a947_11eb_89e0_3bf101066d97row5_col3,#T_de39f0a0_a947_11eb_89e0_3bf101066d97row5_col4,#T_de39f0a0_a947_11eb_89e0_3bf101066d97row5_col5,#T_de39f0a0_a947_11eb_89e0_3bf101066d97row5_col6,#T_de39f0a0_a947_11eb_89e0_3bf101066d97row5_col7,#T_de39f0a0_a947_11eb_89e0_3bf101066d97row5_col8,#T_de39f0a0_a947_11eb_89e0_3bf101066d97row5_col19,#T_de39f0a0_a947_11eb_89e0_3bf101066d97row6_col0,#T_de39f0a0_a947_11eb_89e0_3bf101066d97row6_col1,#T_de39f0a0_a947_11eb_89e0_3bf101066d97row6_col2,#T_de39f0a0_a947_11eb_89e0_3bf101066d97row6_col3,#T_de39f0a0_a947_11eb_89e0_3bf101066d97row6_col4,#T_de39f0a0_a947_11eb_89e0_3bf101066d97row6_col5,#T_de39f0a0_a947_11eb_89e0_3bf101066d97row6_col6,#T_de39f0a0_a947_11eb_89e0_3bf101066d97row6_col19,#T_de39f0a0_a947_11eb_89e0_3bf101066d97row7_col0,#T_de39f0a0_a947_11eb_89e0_3bf101066d97row7_col1,#T_de39f0a0_a947_11eb_89e0_3bf101066d97row7_col2,#T_de39f0a0_a947_11eb_89e0_3bf101066d97row7_col3,#T_de39f0a0_a947_11eb_89e0_3bf101066d97row7_col4,#T_de39f0a0_a947_11eb_89e0_3bf101066d97row7_col19,#T_de39f0a0_a947_11eb_89e0_3bf101066d97row8_col0,#T_de39f0a0_a947_11eb_89e0_3bf101066d97row8_col1,#T_de39f0a0_a947_11eb_89e0_3bf101066d97row8_col2,#T_de39f0a0_a947_11eb_89e0_3bf101066d97row8_col3,#T_de39f0a0_a947_11eb_89e0_3bf101066d97row8_col4,#T_de39f0a0_a947_11eb_89e0_3bf101066d97row8_col10,#T_de39f0a0_a947_11eb_89e0_3bf101066d97row8_col11,#T_de39f0a0_a947_11eb_89e0_3bf101066d97row8_col12,#T_de39f0a0_a947_11eb_89e0_3bf101066d97row8_col13,#T_de39f0a0_a947_11eb_89e0_3bf101066d97row8_col14,#T_de39f0a0_a947_11eb_89e0_3bf101066d97row8_col19,#T_de39f0a0_a947_11eb_89e0_3bf101066d97row9_col0,#T_de39f0a0_a947_11eb_89e0_3bf101066d97row9_col1,#T_de39f0a0_a947_11eb_89e0_3bf101066d97row9_col2,#T_de39f0a0_a947_11eb_89e0_3bf101066d97row9_col3,#T_de39f0a0_a947_11eb_89e0_3bf101066d97row9_col4,#T_de39f0a0_a947_11eb_89e0_3bf101066d97row9_col9,#T_de39f0a0_a947_11eb_89e0_3bf101066d97row9_col10,#T_de39f0a0_a947_11eb_89e0_3bf101066d97row9_col11,#T_de39f0a0_a947_11eb_89e0_3bf101066d97row9_col12,#T_de39f0a0_a947_11eb_89e0_3bf101066d97row9_col13,#T_de39f0a0_a947_11eb_89e0_3bf101066d97row9_col19,#T_de39f0a0_a947_11eb_89e0_3bf101066d97row10_col0,#T_de39f0a0_a947_11eb_89e0_3bf101066d97row10_col1,#T_de39f0a0_a947_11eb_89e0_3bf101066d97row10_col2,#T_de39f0a0_a947_11eb_89e0_3bf101066d97row10_col3,#T_de39f0a0_a947_11eb_89e0_3bf101066d97row10_col4,#T_de39f0a0_a947_11eb_89e0_3bf101066d97row10_col5,#T_de39f0a0_a947_11eb_89e0_3bf101066d97row10_col6,#T_de39f0a0_a947_11eb_89e0_3bf101066d97row10_col7,#T_de39f0a0_a947_11eb_89e0_3bf101066d97row10_col8,#T_de39f0a0_a947_11eb_89e0_3bf101066d97row10_col9,#T_de39f0a0_a947_11eb_89e0_3bf101066d97row10_col10,#T_de39f0a0_a947_11eb_89e0_3bf101066d97row10_col11,#T_de39f0a0_a947_11eb_89e0_3bf101066d97row10_col12,#T_de39f0a0_a947_11eb_89e0_3bf101066d97row10_col13,#T_de39f0a0_a947_11eb_89e0_3bf101066d97row10_col18,#T_de39f0a0_a947_11eb_89e0_3bf101066d97row10_col19,#T_de39f0a0_a947_11eb_89e0_3bf101066d97row11_col0,#T_de39f0a0_a947_11eb_89e0_3bf101066d97row11_col1,#T_de39f0a0_a947_11eb_89e0_3bf101066d97row11_col2,#T_de39f0a0_a947_11eb_89e0_3bf101066d97row11_col3,#T_de39f0a0_a947_11eb_89e0_3bf101066d97row11_col4,#T_de39f0a0_a947_11eb_89e0_3bf101066d97row11_col5,#T_de39f0a0_a947_11eb_89e0_3bf101066d97row11_col6,#T_de39f0a0_a947_11eb_89e0_3bf101066d97row11_col7,#T_de39f0a0_a947_11eb_89e0_3bf101066d97row11_col8,#T_de39f0a0_a947_11eb_89e0_3bf101066d97row11_col9,#T_de39f0a0_a947_11eb_89e0_3bf101066d97row11_col10,#T_de39f0a0_a947_11eb_89e0_3bf101066d97row11_col17,#T_de39f0a0_a947_11eb_89e0_3bf101066d97row11_col18,#T_de39f0a0_a947_11eb_89e0_3bf101066d97row11_col19,#T_de39f0a0_a947_11eb_89e0_3bf101066d97row12_col0,#T_de39f0a0_a947_11eb_89e0_3bf101066d97row12_col1,#T_de39f0a0_a947_11eb_89e0_3bf101066d97row12_col2,#T_de39f0a0_a947_11eb_89e0_3bf101066d97row12_col3,#T_de39f0a0_a947_11eb_89e0_3bf101066d97row12_col4,#T_de39f0a0_a947_11eb_89e0_3bf101066d97row12_col5,#T_de39f0a0_a947_11eb_89e0_3bf101066d97row12_col6,#T_de39f0a0_a947_11eb_89e0_3bf101066d97row12_col7,#T_de39f0a0_a947_11eb_89e0_3bf101066d97row12_col8,#T_de39f0a0_a947_11eb_89e0_3bf101066d97row12_col17,#T_de39f0a0_a947_11eb_89e0_3bf101066d97row12_col18,#T_de39f0a0_a947_11eb_89e0_3bf101066d97row12_col19,#T_de39f0a0_a947_11eb_89e0_3bf101066d97row13_col0,#T_de39f0a0_a947_11eb_89e0_3bf101066d97row13_col1,#T_de39f0a0_a947_11eb_89e0_3bf101066d97row13_col2,#T_de39f0a0_a947_11eb_89e0_3bf101066d97row13_col3,#T_de39f0a0_a947_11eb_89e0_3bf101066d97row13_col4,#T_de39f0a0_a947_11eb_89e0_3bf101066d97row13_col5,#T_de39f0a0_a947_11eb_89e0_3bf101066d97row13_col6,#T_de39f0a0_a947_11eb_89e0_3bf101066d97row13_col7,#T_de39f0a0_a947_11eb_89e0_3bf101066d97row13_col8,#T_de39f0a0_a947_11eb_89e0_3bf101066d97row14_col0,#T_de39f0a0_a947_11eb_89e0_3bf101066d97row14_col1,#T_de39f0a0_a947_11eb_89e0_3bf101066d97row14_col2,#T_de39f0a0_a947_11eb_89e0_3bf101066d97row14_col3,#T_de39f0a0_a947_11eb_89e0_3bf101066d97row14_col4,#T_de39f0a0_a947_11eb_89e0_3bf101066d97row14_col5,#T_de39f0a0_a947_11eb_89e0_3bf101066d97row14_col6,#T_de39f0a0_a947_11eb_89e0_3bf101066d97row14_col7,#T_de39f0a0_a947_11eb_89e0_3bf101066d97row14_col8,#T_de39f0a0_a947_11eb_89e0_3bf101066d97row14_col9,#T_de39f0a0_a947_11eb_89e0_3bf101066d97row14_col10,#T_de39f0a0_a947_11eb_89e0_3bf101066d97row15_col0,#T_de39f0a0_a947_11eb_89e0_3bf101066d97row15_col1,#T_de39f0a0_a947_11eb_89e0_3bf101066d97row15_col2,#T_de39f0a0_a947_11eb_89e0_3bf101066d97row15_col3,#T_de39f0a0_a947_11eb_89e0_3bf101066d97row15_col4,#T_de39f0a0_a947_11eb_89e0_3bf101066d97row15_col5,#T_de39f0a0_a947_11eb_89e0_3bf101066d97row15_col6,#T_de39f0a0_a947_11eb_89e0_3bf101066d97row15_col7,#T_de39f0a0_a947_11eb_89e0_3bf101066d97row15_col8,#T_de39f0a0_a947_11eb_89e0_3bf101066d97row15_col9,#T_de39f0a0_a947_11eb_89e0_3bf101066d97row15_col10,#T_de39f0a0_a947_11eb_89e0_3bf101066d97row15_col11,#T_de39f0a0_a947_11eb_89e0_3bf101066d97row15_col12,#T_de39f0a0_a947_11eb_89e0_3bf101066d97row15_col13,#T_de39f0a0_a947_11eb_89e0_3bf101066d97row16_col0,#T_de39f0a0_a947_11eb_89e0_3bf101066d97row16_col1,#T_de39f0a0_a947_11eb_89e0_3bf101066d97row16_col2,#T_de39f0a0_a947_11eb_89e0_3bf101066d97row16_col3,#T_de39f0a0_a947_11eb_89e0_3bf101066d97row16_col4,#T_de39f0a0_a947_11eb_89e0_3bf101066d97row16_col5,#T_de39f0a0_a947_11eb_89e0_3bf101066d97row16_col6,#T_de39f0a0_a947_11eb_89e0_3bf101066d97row16_col7,#T_de39f0a0_a947_11eb_89e0_3bf101066d97row16_col8,#T_de39f0a0_a947_11eb_89e0_3bf101066d97row16_col9,#T_de39f0a0_a947_11eb_89e0_3bf101066d97row16_col10,#T_de39f0a0_a947_11eb_89e0_3bf101066d97row16_col11,#T_de39f0a0_a947_11eb_89e0_3bf101066d97row16_col12,#T_de39f0a0_a947_11eb_89e0_3bf101066d97row16_col13,#T_de39f0a0_a947_11eb_89e0_3bf101066d97row16_col14,#T_de39f0a0_a947_11eb_89e0_3bf101066d97row16_col15,#T_de39f0a0_a947_11eb_89e0_3bf101066d97row16_col16,#T_de39f0a0_a947_11eb_89e0_3bf101066d97row17_col0,#T_de39f0a0_a947_11eb_89e0_3bf101066d97row17_col1,#T_de39f0a0_a947_11eb_89e0_3bf101066d97row17_col2,#T_de39f0a0_a947_11eb_89e0_3bf101066d97row17_col3,#T_de39f0a0_a947_11eb_89e0_3bf101066d97row17_col4,#T_de39f0a0_a947_11eb_89e0_3bf101066d97row17_col5,#T_de39f0a0_a947_11eb_89e0_3bf101066d97row17_col6,#T_de39f0a0_a947_11eb_89e0_3bf101066d97row17_col7,#T_de39f0a0_a947_11eb_89e0_3bf101066d97row17_col8,#T_de39f0a0_a947_11eb_89e0_3bf101066d97row17_col9,#T_de39f0a0_a947_11eb_89e0_3bf101066d97row17_col10,#T_de39f0a0_a947_11eb_89e0_3bf101066d97row17_col11,#T_de39f0a0_a947_11eb_89e0_3bf101066d97row17_col12,#T_de39f0a0_a947_11eb_89e0_3bf101066d97row17_col13,#T_de39f0a0_a947_11eb_89e0_3bf101066d97row17_col14,#T_de39f0a0_a947_11eb_89e0_3bf101066d97row17_col15,#T_de39f0a0_a947_11eb_89e0_3bf101066d97row17_col16,#T_de39f0a0_a947_11eb_89e0_3bf101066d97row18_col0,#T_de39f0a0_a947_11eb_89e0_3bf101066d97row18_col1,#T_de39f0a0_a947_11eb_89e0_3bf101066d97row18_col2,#T_de39f0a0_a947_11eb_89e0_3bf101066d97row18_col3,#T_de39f0a0_a947_11eb_89e0_3bf101066d97row18_col4,#T_de39f0a0_a947_11eb_89e0_3bf101066d97row18_col5,#T_de39f0a0_a947_11eb_89e0_3bf101066d97row18_col6,#T_de39f0a0_a947_11eb_89e0_3bf101066d97row18_col7,#T_de39f0a0_a947_11eb_89e0_3bf101066d97row18_col8,#T_de39f0a0_a947_11eb_89e0_3bf101066d97row18_col9,#T_de39f0a0_a947_11eb_89e0_3bf101066d97row18_col10,#T_de39f0a0_a947_11eb_89e0_3bf101066d97row18_col11,#T_de39f0a0_a947_11eb_89e0_3bf101066d97row18_col12,#T_de39f0a0_a947_11eb_89e0_3bf101066d97row18_col13,#T_de39f0a0_a947_11eb_89e0_3bf101066d97row18_col14,#T_de39f0a0_a947_11eb_89e0_3bf101066d97row18_col15,#T_de39f0a0_a947_11eb_89e0_3bf101066d97row19_col0,#T_de39f0a0_a947_11eb_89e0_3bf101066d97row19_col1,#T_de39f0a0_a947_11eb_89e0_3bf101066d97row19_col2,#T_de39f0a0_a947_11eb_89e0_3bf101066d97row19_col3,#T_de39f0a0_a947_11eb_89e0_3bf101066d97row19_col4,#T_de39f0a0_a947_11eb_89e0_3bf101066d97row19_col5,#T_de39f0a0_a947_11eb_89e0_3bf101066d97row19_col6,#T_de39f0a0_a947_11eb_89e0_3bf101066d97row19_col7,#T_de39f0a0_a947_11eb_89e0_3bf101066d97row19_col8,#T_de39f0a0_a947_11eb_89e0_3bf101066d97row19_col9,#T_de39f0a0_a947_11eb_89e0_3bf101066d97row19_col10,#T_de39f0a0_a947_11eb_89e0_3bf101066d97row19_col11,#T_de39f0a0_a947_11eb_89e0_3bf101066d97row19_col12,#T_de39f0a0_a947_11eb_89e0_3bf101066d97row19_col13,#T_de39f0a0_a947_11eb_89e0_3bf101066d97row19_col14{\n",
       "            font-size:  6pt;\n",
       "            background-color:  #ffffff;\n",
       "            color:  #000000;\n",
       "        }#T_de39f0a0_a947_11eb_89e0_3bf101066d97row5_col9{\n",
       "            font-size:  6pt;\n",
       "            background-color:  #efefef;\n",
       "            color:  #000000;\n",
       "        }#T_de39f0a0_a947_11eb_89e0_3bf101066d97row5_col10,#T_de39f0a0_a947_11eb_89e0_3bf101066d97row5_col17{\n",
       "            font-size:  6pt;\n",
       "            background-color:  #7c7c7c;\n",
       "            color:  #000000;\n",
       "        }#T_de39f0a0_a947_11eb_89e0_3bf101066d97row5_col11{\n",
       "            font-size:  6pt;\n",
       "            background-color:  #4a4a4a;\n",
       "            color:  #f1f1f1;\n",
       "        }#T_de39f0a0_a947_11eb_89e0_3bf101066d97row5_col12,#T_de39f0a0_a947_11eb_89e0_3bf101066d97row5_col13,#T_de39f0a0_a947_11eb_89e0_3bf101066d97row5_col14,#T_de39f0a0_a947_11eb_89e0_3bf101066d97row6_col9,#T_de39f0a0_a947_11eb_89e0_3bf101066d97row6_col10,#T_de39f0a0_a947_11eb_89e0_3bf101066d97row6_col11,#T_de39f0a0_a947_11eb_89e0_3bf101066d97row6_col15,#T_de39f0a0_a947_11eb_89e0_3bf101066d97row6_col16,#T_de39f0a0_a947_11eb_89e0_3bf101066d97row6_col17,#T_de39f0a0_a947_11eb_89e0_3bf101066d97row7_col8,#T_de39f0a0_a947_11eb_89e0_3bf101066d97row7_col16,#T_de39f0a0_a947_11eb_89e0_3bf101066d97row7_col17,#T_de39f0a0_a947_11eb_89e0_3bf101066d97row8_col5,#T_de39f0a0_a947_11eb_89e0_3bf101066d97row8_col6,#T_de39f0a0_a947_11eb_89e0_3bf101066d97row8_col7,#T_de39f0a0_a947_11eb_89e0_3bf101066d97row8_col16,#T_de39f0a0_a947_11eb_89e0_3bf101066d97row8_col17,#T_de39f0a0_a947_11eb_89e0_3bf101066d97row9_col16,#T_de39f0a0_a947_11eb_89e0_3bf101066d97row10_col15,#T_de39f0a0_a947_11eb_89e0_3bf101066d97row13_col15,#T_de39f0a0_a947_11eb_89e0_3bf101066d97row14_col15,#T_de39f0a0_a947_11eb_89e0_3bf101066d97row14_col16,#T_de39f0a0_a947_11eb_89e0_3bf101066d97row14_col17,#T_de39f0a0_a947_11eb_89e0_3bf101066d97row14_col18,#T_de39f0a0_a947_11eb_89e0_3bf101066d97row15_col17,#T_de39f0a0_a947_11eb_89e0_3bf101066d97row15_col18,#T_de39f0a0_a947_11eb_89e0_3bf101066d97row15_col19,#T_de39f0a0_a947_11eb_89e0_3bf101066d97row16_col18,#T_de39f0a0_a947_11eb_89e0_3bf101066d97row16_col19,#T_de39f0a0_a947_11eb_89e0_3bf101066d97row17_col18,#T_de39f0a0_a947_11eb_89e0_3bf101066d97row17_col19,#T_de39f0a0_a947_11eb_89e0_3bf101066d97row18_col18,#T_de39f0a0_a947_11eb_89e0_3bf101066d97row18_col19,#T_de39f0a0_a947_11eb_89e0_3bf101066d97row19_col17,#T_de39f0a0_a947_11eb_89e0_3bf101066d97row19_col18{\n",
       "            font-size:  6pt;\n",
       "            background-color:  #000000;\n",
       "            color:  #f1f1f1;\n",
       "        }#T_de39f0a0_a947_11eb_89e0_3bf101066d97row5_col15{\n",
       "            font-size:  6pt;\n",
       "            background-color:  #606060;\n",
       "            color:  #f1f1f1;\n",
       "        }#T_de39f0a0_a947_11eb_89e0_3bf101066d97row5_col16{\n",
       "            font-size:  6pt;\n",
       "            background-color:  #4d4d4d;\n",
       "            color:  #f1f1f1;\n",
       "        }#T_de39f0a0_a947_11eb_89e0_3bf101066d97row5_col18{\n",
       "            font-size:  6pt;\n",
       "            background-color:  #bbbbbb;\n",
       "            color:  #000000;\n",
       "        }#T_de39f0a0_a947_11eb_89e0_3bf101066d97row6_col7{\n",
       "            font-size:  6pt;\n",
       "            background-color:  #e4e4e4;\n",
       "            color:  #000000;\n",
       "        }#T_de39f0a0_a947_11eb_89e0_3bf101066d97row6_col8,#T_de39f0a0_a947_11eb_89e0_3bf101066d97row12_col10{\n",
       "            font-size:  6pt;\n",
       "            background-color:  #6b6b6b;\n",
       "            color:  #000000;\n",
       "        }#T_de39f0a0_a947_11eb_89e0_3bf101066d97row6_col12,#T_de39f0a0_a947_11eb_89e0_3bf101066d97row6_col18,#T_de39f0a0_a947_11eb_89e0_3bf101066d97row7_col18{\n",
       "            font-size:  6pt;\n",
       "            background-color:  #171717;\n",
       "            color:  #f1f1f1;\n",
       "        }#T_de39f0a0_a947_11eb_89e0_3bf101066d97row6_col13,#T_de39f0a0_a947_11eb_89e0_3bf101066d97row7_col15{\n",
       "            font-size:  6pt;\n",
       "            background-color:  #4b4b4b;\n",
       "            color:  #f1f1f1;\n",
       "        }#T_de39f0a0_a947_11eb_89e0_3bf101066d97row6_col14,#T_de39f0a0_a947_11eb_89e0_3bf101066d97row11_col14,#T_de39f0a0_a947_11eb_89e0_3bf101066d97row12_col12,#T_de39f0a0_a947_11eb_89e0_3bf101066d97row12_col14,#T_de39f0a0_a947_11eb_89e0_3bf101066d97row13_col12,#T_de39f0a0_a947_11eb_89e0_3bf101066d97row13_col14{\n",
       "            font-size:  6pt;\n",
       "            background-color:  #010101;\n",
       "            color:  #f1f1f1;\n",
       "        }#T_de39f0a0_a947_11eb_89e0_3bf101066d97row7_col5{\n",
       "            font-size:  6pt;\n",
       "            background-color:  #272727;\n",
       "            color:  #f1f1f1;\n",
       "        }#T_de39f0a0_a947_11eb_89e0_3bf101066d97row7_col6{\n",
       "            font-size:  6pt;\n",
       "            background-color:  #0a0a0a;\n",
       "            color:  #f1f1f1;\n",
       "        }#T_de39f0a0_a947_11eb_89e0_3bf101066d97row7_col7,#T_de39f0a0_a947_11eb_89e0_3bf101066d97row18_col17{\n",
       "            font-size:  6pt;\n",
       "            background-color:  #050505;\n",
       "            color:  #f1f1f1;\n",
       "        }#T_de39f0a0_a947_11eb_89e0_3bf101066d97row7_col9{\n",
       "            font-size:  6pt;\n",
       "            background-color:  #333333;\n",
       "            color:  #f1f1f1;\n",
       "        }#T_de39f0a0_a947_11eb_89e0_3bf101066d97row7_col10{\n",
       "            font-size:  6pt;\n",
       "            background-color:  #e6e6e6;\n",
       "            color:  #000000;\n",
       "        }#T_de39f0a0_a947_11eb_89e0_3bf101066d97row7_col11,#T_de39f0a0_a947_11eb_89e0_3bf101066d97row7_col14{\n",
       "            font-size:  6pt;\n",
       "            background-color:  #fafafa;\n",
       "            color:  #000000;\n",
       "        }#T_de39f0a0_a947_11eb_89e0_3bf101066d97row7_col12,#T_de39f0a0_a947_11eb_89e0_3bf101066d97row15_col14{\n",
       "            font-size:  6pt;\n",
       "            background-color:  #fbfbfb;\n",
       "            color:  #000000;\n",
       "        }#T_de39f0a0_a947_11eb_89e0_3bf101066d97row7_col13{\n",
       "            font-size:  6pt;\n",
       "            background-color:  #fdfdfd;\n",
       "            color:  #000000;\n",
       "        }#T_de39f0a0_a947_11eb_89e0_3bf101066d97row8_col8{\n",
       "            font-size:  6pt;\n",
       "            background-color:  #1b1b1b;\n",
       "            color:  #f1f1f1;\n",
       "        }#T_de39f0a0_a947_11eb_89e0_3bf101066d97row8_col9{\n",
       "            font-size:  6pt;\n",
       "            background-color:  #e0e0e0;\n",
       "            color:  #000000;\n",
       "        }#T_de39f0a0_a947_11eb_89e0_3bf101066d97row8_col15{\n",
       "            font-size:  6pt;\n",
       "            background-color:  #4e4e4e;\n",
       "            color:  #f1f1f1;\n",
       "        }#T_de39f0a0_a947_11eb_89e0_3bf101066d97row8_col18{\n",
       "            font-size:  6pt;\n",
       "            background-color:  #767676;\n",
       "            color:  #000000;\n",
       "        }#T_de39f0a0_a947_11eb_89e0_3bf101066d97row9_col5{\n",
       "            font-size:  6pt;\n",
       "            background-color:  #fcfcfc;\n",
       "            color:  #000000;\n",
       "        }#T_de39f0a0_a947_11eb_89e0_3bf101066d97row9_col6,#T_de39f0a0_a947_11eb_89e0_3bf101066d97row9_col7{\n",
       "            font-size:  6pt;\n",
       "            background-color:  #f6f6f6;\n",
       "            color:  #000000;\n",
       "        }#T_de39f0a0_a947_11eb_89e0_3bf101066d97row9_col8,#T_de39f0a0_a947_11eb_89e0_3bf101066d97row11_col11{\n",
       "            font-size:  6pt;\n",
       "            background-color:  #f8f8f8;\n",
       "            color:  #000000;\n",
       "        }#T_de39f0a0_a947_11eb_89e0_3bf101066d97row9_col14,#T_de39f0a0_a947_11eb_89e0_3bf101066d97row14_col11{\n",
       "            font-size:  6pt;\n",
       "            background-color:  #e8e8e8;\n",
       "            color:  #000000;\n",
       "        }#T_de39f0a0_a947_11eb_89e0_3bf101066d97row9_col15{\n",
       "            font-size:  6pt;\n",
       "            background-color:  #222222;\n",
       "            color:  #f1f1f1;\n",
       "        }#T_de39f0a0_a947_11eb_89e0_3bf101066d97row9_col17,#T_de39f0a0_a947_11eb_89e0_3bf101066d97row10_col16{\n",
       "            font-size:  6pt;\n",
       "            background-color:  #090909;\n",
       "            color:  #f1f1f1;\n",
       "        }#T_de39f0a0_a947_11eb_89e0_3bf101066d97row9_col18{\n",
       "            font-size:  6pt;\n",
       "            background-color:  #d0d0d0;\n",
       "            color:  #000000;\n",
       "        }#T_de39f0a0_a947_11eb_89e0_3bf101066d97row10_col14,#T_de39f0a0_a947_11eb_89e0_3bf101066d97row11_col15,#T_de39f0a0_a947_11eb_89e0_3bf101066d97row13_col10{\n",
       "            font-size:  6pt;\n",
       "            background-color:  #060606;\n",
       "            color:  #f1f1f1;\n",
       "        }#T_de39f0a0_a947_11eb_89e0_3bf101066d97row10_col17{\n",
       "            font-size:  6pt;\n",
       "            background-color:  #979797;\n",
       "            color:  #000000;\n",
       "        }#T_de39f0a0_a947_11eb_89e0_3bf101066d97row11_col12{\n",
       "            font-size:  6pt;\n",
       "            background-color:  #b6b6b6;\n",
       "            color:  #000000;\n",
       "        }#T_de39f0a0_a947_11eb_89e0_3bf101066d97row11_col13{\n",
       "            font-size:  6pt;\n",
       "            background-color:  #252525;\n",
       "            color:  #f1f1f1;\n",
       "        }#T_de39f0a0_a947_11eb_89e0_3bf101066d97row11_col16{\n",
       "            font-size:  6pt;\n",
       "            background-color:  #999999;\n",
       "            color:  #000000;\n",
       "        }#T_de39f0a0_a947_11eb_89e0_3bf101066d97row12_col9{\n",
       "            font-size:  6pt;\n",
       "            background-color:  #f9f9f9;\n",
       "            color:  #000000;\n",
       "        }#T_de39f0a0_a947_11eb_89e0_3bf101066d97row12_col11{\n",
       "            font-size:  6pt;\n",
       "            background-color:  #101010;\n",
       "            color:  #f1f1f1;\n",
       "        }#T_de39f0a0_a947_11eb_89e0_3bf101066d97row12_col13,#T_de39f0a0_a947_11eb_89e0_3bf101066d97row13_col13{\n",
       "            font-size:  6pt;\n",
       "            background-color:  #020202;\n",
       "            color:  #f1f1f1;\n",
       "        }#T_de39f0a0_a947_11eb_89e0_3bf101066d97row12_col15,#T_de39f0a0_a947_11eb_89e0_3bf101066d97row14_col19{\n",
       "            font-size:  6pt;\n",
       "            background-color:  #545454;\n",
       "            color:  #f1f1f1;\n",
       "        }#T_de39f0a0_a947_11eb_89e0_3bf101066d97row12_col16{\n",
       "            font-size:  6pt;\n",
       "            background-color:  #f1f1f1;\n",
       "            color:  #000000;\n",
       "        }#T_de39f0a0_a947_11eb_89e0_3bf101066d97row13_col9{\n",
       "            font-size:  6pt;\n",
       "            background-color:  #f7f7f7;\n",
       "            color:  #000000;\n",
       "        }#T_de39f0a0_a947_11eb_89e0_3bf101066d97row13_col11{\n",
       "            font-size:  6pt;\n",
       "            background-color:  #030303;\n",
       "            color:  #f1f1f1;\n",
       "        }#T_de39f0a0_a947_11eb_89e0_3bf101066d97row13_col16{\n",
       "            font-size:  6pt;\n",
       "            background-color:  #181818;\n",
       "            color:  #f1f1f1;\n",
       "        }#T_de39f0a0_a947_11eb_89e0_3bf101066d97row13_col17{\n",
       "            font-size:  6pt;\n",
       "            background-color:  #303030;\n",
       "            color:  #f1f1f1;\n",
       "        }#T_de39f0a0_a947_11eb_89e0_3bf101066d97row13_col18{\n",
       "            font-size:  6pt;\n",
       "            background-color:  #a9a9a9;\n",
       "            color:  #000000;\n",
       "        }#T_de39f0a0_a947_11eb_89e0_3bf101066d97row13_col19{\n",
       "            font-size:  6pt;\n",
       "            background-color:  #fefefe;\n",
       "            color:  #000000;\n",
       "        }#T_de39f0a0_a947_11eb_89e0_3bf101066d97row14_col12,#T_de39f0a0_a947_11eb_89e0_3bf101066d97row14_col13{\n",
       "            font-size:  6pt;\n",
       "            background-color:  #bababa;\n",
       "            color:  #000000;\n",
       "        }#T_de39f0a0_a947_11eb_89e0_3bf101066d97row14_col14{\n",
       "            font-size:  6pt;\n",
       "            background-color:  #393939;\n",
       "            color:  #f1f1f1;\n",
       "        }#T_de39f0a0_a947_11eb_89e0_3bf101066d97row15_col15{\n",
       "            font-size:  6pt;\n",
       "            background-color:  #e2e2e2;\n",
       "            color:  #000000;\n",
       "        }#T_de39f0a0_a947_11eb_89e0_3bf101066d97row15_col16{\n",
       "            font-size:  6pt;\n",
       "            background-color:  #9f9f9f;\n",
       "            color:  #000000;\n",
       "        }#T_de39f0a0_a947_11eb_89e0_3bf101066d97row16_col17{\n",
       "            font-size:  6pt;\n",
       "            background-color:  #585858;\n",
       "            color:  #f1f1f1;\n",
       "        }#T_de39f0a0_a947_11eb_89e0_3bf101066d97row17_col17{\n",
       "            font-size:  6pt;\n",
       "            background-color:  #5a5a5a;\n",
       "            color:  #f1f1f1;\n",
       "        }#T_de39f0a0_a947_11eb_89e0_3bf101066d97row18_col16{\n",
       "            font-size:  6pt;\n",
       "            background-color:  #c5c5c5;\n",
       "            color:  #000000;\n",
       "        }#T_de39f0a0_a947_11eb_89e0_3bf101066d97row19_col15{\n",
       "            font-size:  6pt;\n",
       "            background-color:  #dcdcdc;\n",
       "            color:  #000000;\n",
       "        }#T_de39f0a0_a947_11eb_89e0_3bf101066d97row19_col16{\n",
       "            font-size:  6pt;\n",
       "            background-color:  #2f2f2f;\n",
       "            color:  #f1f1f1;\n",
       "        }#T_de39f0a0_a947_11eb_89e0_3bf101066d97row19_col19{\n",
       "            font-size:  6pt;\n",
       "            background-color:  #636363;\n",
       "            color:  #f1f1f1;\n",
       "        }</style><table id=\"T_de39f0a0_a947_11eb_89e0_3bf101066d97\" ><thead>    <tr>        <th class=\"blank level0\" ></th>        <th class=\"col_heading level0 col0\" >0</th>        <th class=\"col_heading level0 col1\" >1</th>        <th class=\"col_heading level0 col2\" >2</th>        <th class=\"col_heading level0 col3\" >3</th>        <th class=\"col_heading level0 col4\" >4</th>        <th class=\"col_heading level0 col5\" >5</th>        <th class=\"col_heading level0 col6\" >6</th>        <th class=\"col_heading level0 col7\" >7</th>        <th class=\"col_heading level0 col8\" >8</th>        <th class=\"col_heading level0 col9\" >9</th>        <th class=\"col_heading level0 col10\" >10</th>        <th class=\"col_heading level0 col11\" >11</th>        <th class=\"col_heading level0 col12\" >12</th>        <th class=\"col_heading level0 col13\" >13</th>        <th class=\"col_heading level0 col14\" >14</th>        <th class=\"col_heading level0 col15\" >15</th>        <th class=\"col_heading level0 col16\" >16</th>        <th class=\"col_heading level0 col17\" >17</th>        <th class=\"col_heading level0 col18\" >18</th>        <th class=\"col_heading level0 col19\" >19</th>    </tr></thead><tbody>\n",
       "                <tr>\n",
       "                        <th id=\"T_de39f0a0_a947_11eb_89e0_3bf101066d97level0_row0\" class=\"row_heading level0 row0\" >0</th>\n",
       "                        <td id=\"T_de39f0a0_a947_11eb_89e0_3bf101066d97row0_col0\" class=\"data row0 col0\" >0</td>\n",
       "                        <td id=\"T_de39f0a0_a947_11eb_89e0_3bf101066d97row0_col1\" class=\"data row0 col1\" >0</td>\n",
       "                        <td id=\"T_de39f0a0_a947_11eb_89e0_3bf101066d97row0_col2\" class=\"data row0 col2\" >0</td>\n",
       "                        <td id=\"T_de39f0a0_a947_11eb_89e0_3bf101066d97row0_col3\" class=\"data row0 col3\" >0</td>\n",
       "                        <td id=\"T_de39f0a0_a947_11eb_89e0_3bf101066d97row0_col4\" class=\"data row0 col4\" >0</td>\n",
       "                        <td id=\"T_de39f0a0_a947_11eb_89e0_3bf101066d97row0_col5\" class=\"data row0 col5\" >0</td>\n",
       "                        <td id=\"T_de39f0a0_a947_11eb_89e0_3bf101066d97row0_col6\" class=\"data row0 col6\" >0</td>\n",
       "                        <td id=\"T_de39f0a0_a947_11eb_89e0_3bf101066d97row0_col7\" class=\"data row0 col7\" >0</td>\n",
       "                        <td id=\"T_de39f0a0_a947_11eb_89e0_3bf101066d97row0_col8\" class=\"data row0 col8\" >0</td>\n",
       "                        <td id=\"T_de39f0a0_a947_11eb_89e0_3bf101066d97row0_col9\" class=\"data row0 col9\" >0</td>\n",
       "                        <td id=\"T_de39f0a0_a947_11eb_89e0_3bf101066d97row0_col10\" class=\"data row0 col10\" >0</td>\n",
       "                        <td id=\"T_de39f0a0_a947_11eb_89e0_3bf101066d97row0_col11\" class=\"data row0 col11\" >0</td>\n",
       "                        <td id=\"T_de39f0a0_a947_11eb_89e0_3bf101066d97row0_col12\" class=\"data row0 col12\" >0</td>\n",
       "                        <td id=\"T_de39f0a0_a947_11eb_89e0_3bf101066d97row0_col13\" class=\"data row0 col13\" >0</td>\n",
       "                        <td id=\"T_de39f0a0_a947_11eb_89e0_3bf101066d97row0_col14\" class=\"data row0 col14\" >0</td>\n",
       "                        <td id=\"T_de39f0a0_a947_11eb_89e0_3bf101066d97row0_col15\" class=\"data row0 col15\" >0</td>\n",
       "                        <td id=\"T_de39f0a0_a947_11eb_89e0_3bf101066d97row0_col16\" class=\"data row0 col16\" >0</td>\n",
       "                        <td id=\"T_de39f0a0_a947_11eb_89e0_3bf101066d97row0_col17\" class=\"data row0 col17\" >0</td>\n",
       "                        <td id=\"T_de39f0a0_a947_11eb_89e0_3bf101066d97row0_col18\" class=\"data row0 col18\" >0</td>\n",
       "                        <td id=\"T_de39f0a0_a947_11eb_89e0_3bf101066d97row0_col19\" class=\"data row0 col19\" >0</td>\n",
       "            </tr>\n",
       "            <tr>\n",
       "                        <th id=\"T_de39f0a0_a947_11eb_89e0_3bf101066d97level0_row1\" class=\"row_heading level0 row1\" >1</th>\n",
       "                        <td id=\"T_de39f0a0_a947_11eb_89e0_3bf101066d97row1_col0\" class=\"data row1 col0\" >0</td>\n",
       "                        <td id=\"T_de39f0a0_a947_11eb_89e0_3bf101066d97row1_col1\" class=\"data row1 col1\" >0</td>\n",
       "                        <td id=\"T_de39f0a0_a947_11eb_89e0_3bf101066d97row1_col2\" class=\"data row1 col2\" >0</td>\n",
       "                        <td id=\"T_de39f0a0_a947_11eb_89e0_3bf101066d97row1_col3\" class=\"data row1 col3\" >0</td>\n",
       "                        <td id=\"T_de39f0a0_a947_11eb_89e0_3bf101066d97row1_col4\" class=\"data row1 col4\" >0</td>\n",
       "                        <td id=\"T_de39f0a0_a947_11eb_89e0_3bf101066d97row1_col5\" class=\"data row1 col5\" >0</td>\n",
       "                        <td id=\"T_de39f0a0_a947_11eb_89e0_3bf101066d97row1_col6\" class=\"data row1 col6\" >0</td>\n",
       "                        <td id=\"T_de39f0a0_a947_11eb_89e0_3bf101066d97row1_col7\" class=\"data row1 col7\" >0</td>\n",
       "                        <td id=\"T_de39f0a0_a947_11eb_89e0_3bf101066d97row1_col8\" class=\"data row1 col8\" >0</td>\n",
       "                        <td id=\"T_de39f0a0_a947_11eb_89e0_3bf101066d97row1_col9\" class=\"data row1 col9\" >0</td>\n",
       "                        <td id=\"T_de39f0a0_a947_11eb_89e0_3bf101066d97row1_col10\" class=\"data row1 col10\" >0</td>\n",
       "                        <td id=\"T_de39f0a0_a947_11eb_89e0_3bf101066d97row1_col11\" class=\"data row1 col11\" >0</td>\n",
       "                        <td id=\"T_de39f0a0_a947_11eb_89e0_3bf101066d97row1_col12\" class=\"data row1 col12\" >0</td>\n",
       "                        <td id=\"T_de39f0a0_a947_11eb_89e0_3bf101066d97row1_col13\" class=\"data row1 col13\" >0</td>\n",
       "                        <td id=\"T_de39f0a0_a947_11eb_89e0_3bf101066d97row1_col14\" class=\"data row1 col14\" >0</td>\n",
       "                        <td id=\"T_de39f0a0_a947_11eb_89e0_3bf101066d97row1_col15\" class=\"data row1 col15\" >0</td>\n",
       "                        <td id=\"T_de39f0a0_a947_11eb_89e0_3bf101066d97row1_col16\" class=\"data row1 col16\" >0</td>\n",
       "                        <td id=\"T_de39f0a0_a947_11eb_89e0_3bf101066d97row1_col17\" class=\"data row1 col17\" >0</td>\n",
       "                        <td id=\"T_de39f0a0_a947_11eb_89e0_3bf101066d97row1_col18\" class=\"data row1 col18\" >0</td>\n",
       "                        <td id=\"T_de39f0a0_a947_11eb_89e0_3bf101066d97row1_col19\" class=\"data row1 col19\" >0</td>\n",
       "            </tr>\n",
       "            <tr>\n",
       "                        <th id=\"T_de39f0a0_a947_11eb_89e0_3bf101066d97level0_row2\" class=\"row_heading level0 row2\" >2</th>\n",
       "                        <td id=\"T_de39f0a0_a947_11eb_89e0_3bf101066d97row2_col0\" class=\"data row2 col0\" >0</td>\n",
       "                        <td id=\"T_de39f0a0_a947_11eb_89e0_3bf101066d97row2_col1\" class=\"data row2 col1\" >0</td>\n",
       "                        <td id=\"T_de39f0a0_a947_11eb_89e0_3bf101066d97row2_col2\" class=\"data row2 col2\" >0</td>\n",
       "                        <td id=\"T_de39f0a0_a947_11eb_89e0_3bf101066d97row2_col3\" class=\"data row2 col3\" >0</td>\n",
       "                        <td id=\"T_de39f0a0_a947_11eb_89e0_3bf101066d97row2_col4\" class=\"data row2 col4\" >0</td>\n",
       "                        <td id=\"T_de39f0a0_a947_11eb_89e0_3bf101066d97row2_col5\" class=\"data row2 col5\" >0</td>\n",
       "                        <td id=\"T_de39f0a0_a947_11eb_89e0_3bf101066d97row2_col6\" class=\"data row2 col6\" >0</td>\n",
       "                        <td id=\"T_de39f0a0_a947_11eb_89e0_3bf101066d97row2_col7\" class=\"data row2 col7\" >0</td>\n",
       "                        <td id=\"T_de39f0a0_a947_11eb_89e0_3bf101066d97row2_col8\" class=\"data row2 col8\" >0</td>\n",
       "                        <td id=\"T_de39f0a0_a947_11eb_89e0_3bf101066d97row2_col9\" class=\"data row2 col9\" >0</td>\n",
       "                        <td id=\"T_de39f0a0_a947_11eb_89e0_3bf101066d97row2_col10\" class=\"data row2 col10\" >0</td>\n",
       "                        <td id=\"T_de39f0a0_a947_11eb_89e0_3bf101066d97row2_col11\" class=\"data row2 col11\" >0</td>\n",
       "                        <td id=\"T_de39f0a0_a947_11eb_89e0_3bf101066d97row2_col12\" class=\"data row2 col12\" >0</td>\n",
       "                        <td id=\"T_de39f0a0_a947_11eb_89e0_3bf101066d97row2_col13\" class=\"data row2 col13\" >0</td>\n",
       "                        <td id=\"T_de39f0a0_a947_11eb_89e0_3bf101066d97row2_col14\" class=\"data row2 col14\" >0</td>\n",
       "                        <td id=\"T_de39f0a0_a947_11eb_89e0_3bf101066d97row2_col15\" class=\"data row2 col15\" >0</td>\n",
       "                        <td id=\"T_de39f0a0_a947_11eb_89e0_3bf101066d97row2_col16\" class=\"data row2 col16\" >0</td>\n",
       "                        <td id=\"T_de39f0a0_a947_11eb_89e0_3bf101066d97row2_col17\" class=\"data row2 col17\" >0</td>\n",
       "                        <td id=\"T_de39f0a0_a947_11eb_89e0_3bf101066d97row2_col18\" class=\"data row2 col18\" >0</td>\n",
       "                        <td id=\"T_de39f0a0_a947_11eb_89e0_3bf101066d97row2_col19\" class=\"data row2 col19\" >0</td>\n",
       "            </tr>\n",
       "            <tr>\n",
       "                        <th id=\"T_de39f0a0_a947_11eb_89e0_3bf101066d97level0_row3\" class=\"row_heading level0 row3\" >3</th>\n",
       "                        <td id=\"T_de39f0a0_a947_11eb_89e0_3bf101066d97row3_col0\" class=\"data row3 col0\" >0</td>\n",
       "                        <td id=\"T_de39f0a0_a947_11eb_89e0_3bf101066d97row3_col1\" class=\"data row3 col1\" >0</td>\n",
       "                        <td id=\"T_de39f0a0_a947_11eb_89e0_3bf101066d97row3_col2\" class=\"data row3 col2\" >0</td>\n",
       "                        <td id=\"T_de39f0a0_a947_11eb_89e0_3bf101066d97row3_col3\" class=\"data row3 col3\" >0</td>\n",
       "                        <td id=\"T_de39f0a0_a947_11eb_89e0_3bf101066d97row3_col4\" class=\"data row3 col4\" >0</td>\n",
       "                        <td id=\"T_de39f0a0_a947_11eb_89e0_3bf101066d97row3_col5\" class=\"data row3 col5\" >0</td>\n",
       "                        <td id=\"T_de39f0a0_a947_11eb_89e0_3bf101066d97row3_col6\" class=\"data row3 col6\" >0</td>\n",
       "                        <td id=\"T_de39f0a0_a947_11eb_89e0_3bf101066d97row3_col7\" class=\"data row3 col7\" >0</td>\n",
       "                        <td id=\"T_de39f0a0_a947_11eb_89e0_3bf101066d97row3_col8\" class=\"data row3 col8\" >0</td>\n",
       "                        <td id=\"T_de39f0a0_a947_11eb_89e0_3bf101066d97row3_col9\" class=\"data row3 col9\" >0</td>\n",
       "                        <td id=\"T_de39f0a0_a947_11eb_89e0_3bf101066d97row3_col10\" class=\"data row3 col10\" >0</td>\n",
       "                        <td id=\"T_de39f0a0_a947_11eb_89e0_3bf101066d97row3_col11\" class=\"data row3 col11\" >0</td>\n",
       "                        <td id=\"T_de39f0a0_a947_11eb_89e0_3bf101066d97row3_col12\" class=\"data row3 col12\" >0</td>\n",
       "                        <td id=\"T_de39f0a0_a947_11eb_89e0_3bf101066d97row3_col13\" class=\"data row3 col13\" >0</td>\n",
       "                        <td id=\"T_de39f0a0_a947_11eb_89e0_3bf101066d97row3_col14\" class=\"data row3 col14\" >0</td>\n",
       "                        <td id=\"T_de39f0a0_a947_11eb_89e0_3bf101066d97row3_col15\" class=\"data row3 col15\" >0</td>\n",
       "                        <td id=\"T_de39f0a0_a947_11eb_89e0_3bf101066d97row3_col16\" class=\"data row3 col16\" >0</td>\n",
       "                        <td id=\"T_de39f0a0_a947_11eb_89e0_3bf101066d97row3_col17\" class=\"data row3 col17\" >0</td>\n",
       "                        <td id=\"T_de39f0a0_a947_11eb_89e0_3bf101066d97row3_col18\" class=\"data row3 col18\" >0</td>\n",
       "                        <td id=\"T_de39f0a0_a947_11eb_89e0_3bf101066d97row3_col19\" class=\"data row3 col19\" >0</td>\n",
       "            </tr>\n",
       "            <tr>\n",
       "                        <th id=\"T_de39f0a0_a947_11eb_89e0_3bf101066d97level0_row4\" class=\"row_heading level0 row4\" >4</th>\n",
       "                        <td id=\"T_de39f0a0_a947_11eb_89e0_3bf101066d97row4_col0\" class=\"data row4 col0\" >0</td>\n",
       "                        <td id=\"T_de39f0a0_a947_11eb_89e0_3bf101066d97row4_col1\" class=\"data row4 col1\" >0</td>\n",
       "                        <td id=\"T_de39f0a0_a947_11eb_89e0_3bf101066d97row4_col2\" class=\"data row4 col2\" >0</td>\n",
       "                        <td id=\"T_de39f0a0_a947_11eb_89e0_3bf101066d97row4_col3\" class=\"data row4 col3\" >0</td>\n",
       "                        <td id=\"T_de39f0a0_a947_11eb_89e0_3bf101066d97row4_col4\" class=\"data row4 col4\" >0</td>\n",
       "                        <td id=\"T_de39f0a0_a947_11eb_89e0_3bf101066d97row4_col5\" class=\"data row4 col5\" >0</td>\n",
       "                        <td id=\"T_de39f0a0_a947_11eb_89e0_3bf101066d97row4_col6\" class=\"data row4 col6\" >0</td>\n",
       "                        <td id=\"T_de39f0a0_a947_11eb_89e0_3bf101066d97row4_col7\" class=\"data row4 col7\" >0</td>\n",
       "                        <td id=\"T_de39f0a0_a947_11eb_89e0_3bf101066d97row4_col8\" class=\"data row4 col8\" >0</td>\n",
       "                        <td id=\"T_de39f0a0_a947_11eb_89e0_3bf101066d97row4_col9\" class=\"data row4 col9\" >0</td>\n",
       "                        <td id=\"T_de39f0a0_a947_11eb_89e0_3bf101066d97row4_col10\" class=\"data row4 col10\" >0</td>\n",
       "                        <td id=\"T_de39f0a0_a947_11eb_89e0_3bf101066d97row4_col11\" class=\"data row4 col11\" >0</td>\n",
       "                        <td id=\"T_de39f0a0_a947_11eb_89e0_3bf101066d97row4_col12\" class=\"data row4 col12\" >0</td>\n",
       "                        <td id=\"T_de39f0a0_a947_11eb_89e0_3bf101066d97row4_col13\" class=\"data row4 col13\" >0</td>\n",
       "                        <td id=\"T_de39f0a0_a947_11eb_89e0_3bf101066d97row4_col14\" class=\"data row4 col14\" >0</td>\n",
       "                        <td id=\"T_de39f0a0_a947_11eb_89e0_3bf101066d97row4_col15\" class=\"data row4 col15\" >0</td>\n",
       "                        <td id=\"T_de39f0a0_a947_11eb_89e0_3bf101066d97row4_col16\" class=\"data row4 col16\" >0</td>\n",
       "                        <td id=\"T_de39f0a0_a947_11eb_89e0_3bf101066d97row4_col17\" class=\"data row4 col17\" >0</td>\n",
       "                        <td id=\"T_de39f0a0_a947_11eb_89e0_3bf101066d97row4_col18\" class=\"data row4 col18\" >0</td>\n",
       "                        <td id=\"T_de39f0a0_a947_11eb_89e0_3bf101066d97row4_col19\" class=\"data row4 col19\" >0</td>\n",
       "            </tr>\n",
       "            <tr>\n",
       "                        <th id=\"T_de39f0a0_a947_11eb_89e0_3bf101066d97level0_row5\" class=\"row_heading level0 row5\" >5</th>\n",
       "                        <td id=\"T_de39f0a0_a947_11eb_89e0_3bf101066d97row5_col0\" class=\"data row5 col0\" >0</td>\n",
       "                        <td id=\"T_de39f0a0_a947_11eb_89e0_3bf101066d97row5_col1\" class=\"data row5 col1\" >0</td>\n",
       "                        <td id=\"T_de39f0a0_a947_11eb_89e0_3bf101066d97row5_col2\" class=\"data row5 col2\" >0</td>\n",
       "                        <td id=\"T_de39f0a0_a947_11eb_89e0_3bf101066d97row5_col3\" class=\"data row5 col3\" >0</td>\n",
       "                        <td id=\"T_de39f0a0_a947_11eb_89e0_3bf101066d97row5_col4\" class=\"data row5 col4\" >0</td>\n",
       "                        <td id=\"T_de39f0a0_a947_11eb_89e0_3bf101066d97row5_col5\" class=\"data row5 col5\" >0</td>\n",
       "                        <td id=\"T_de39f0a0_a947_11eb_89e0_3bf101066d97row5_col6\" class=\"data row5 col6\" >0</td>\n",
       "                        <td id=\"T_de39f0a0_a947_11eb_89e0_3bf101066d97row5_col7\" class=\"data row5 col7\" >0</td>\n",
       "                        <td id=\"T_de39f0a0_a947_11eb_89e0_3bf101066d97row5_col8\" class=\"data row5 col8\" >0</td>\n",
       "                        <td id=\"T_de39f0a0_a947_11eb_89e0_3bf101066d97row5_col9\" class=\"data row5 col9\" >29</td>\n",
       "                        <td id=\"T_de39f0a0_a947_11eb_89e0_3bf101066d97row5_col10\" class=\"data row5 col10\" >150</td>\n",
       "                        <td id=\"T_de39f0a0_a947_11eb_89e0_3bf101066d97row5_col11\" class=\"data row5 col11\" >195</td>\n",
       "                        <td id=\"T_de39f0a0_a947_11eb_89e0_3bf101066d97row5_col12\" class=\"data row5 col12\" >254</td>\n",
       "                        <td id=\"T_de39f0a0_a947_11eb_89e0_3bf101066d97row5_col13\" class=\"data row5 col13\" >255</td>\n",
       "                        <td id=\"T_de39f0a0_a947_11eb_89e0_3bf101066d97row5_col14\" class=\"data row5 col14\" >254</td>\n",
       "                        <td id=\"T_de39f0a0_a947_11eb_89e0_3bf101066d97row5_col15\" class=\"data row5 col15\" >176</td>\n",
       "                        <td id=\"T_de39f0a0_a947_11eb_89e0_3bf101066d97row5_col16\" class=\"data row5 col16\" >193</td>\n",
       "                        <td id=\"T_de39f0a0_a947_11eb_89e0_3bf101066d97row5_col17\" class=\"data row5 col17\" >150</td>\n",
       "                        <td id=\"T_de39f0a0_a947_11eb_89e0_3bf101066d97row5_col18\" class=\"data row5 col18\" >96</td>\n",
       "                        <td id=\"T_de39f0a0_a947_11eb_89e0_3bf101066d97row5_col19\" class=\"data row5 col19\" >0</td>\n",
       "            </tr>\n",
       "            <tr>\n",
       "                        <th id=\"T_de39f0a0_a947_11eb_89e0_3bf101066d97level0_row6\" class=\"row_heading level0 row6\" >6</th>\n",
       "                        <td id=\"T_de39f0a0_a947_11eb_89e0_3bf101066d97row6_col0\" class=\"data row6 col0\" >0</td>\n",
       "                        <td id=\"T_de39f0a0_a947_11eb_89e0_3bf101066d97row6_col1\" class=\"data row6 col1\" >0</td>\n",
       "                        <td id=\"T_de39f0a0_a947_11eb_89e0_3bf101066d97row6_col2\" class=\"data row6 col2\" >0</td>\n",
       "                        <td id=\"T_de39f0a0_a947_11eb_89e0_3bf101066d97row6_col3\" class=\"data row6 col3\" >0</td>\n",
       "                        <td id=\"T_de39f0a0_a947_11eb_89e0_3bf101066d97row6_col4\" class=\"data row6 col4\" >0</td>\n",
       "                        <td id=\"T_de39f0a0_a947_11eb_89e0_3bf101066d97row6_col5\" class=\"data row6 col5\" >0</td>\n",
       "                        <td id=\"T_de39f0a0_a947_11eb_89e0_3bf101066d97row6_col6\" class=\"data row6 col6\" >0</td>\n",
       "                        <td id=\"T_de39f0a0_a947_11eb_89e0_3bf101066d97row6_col7\" class=\"data row6 col7\" >48</td>\n",
       "                        <td id=\"T_de39f0a0_a947_11eb_89e0_3bf101066d97row6_col8\" class=\"data row6 col8\" >166</td>\n",
       "                        <td id=\"T_de39f0a0_a947_11eb_89e0_3bf101066d97row6_col9\" class=\"data row6 col9\" >224</td>\n",
       "                        <td id=\"T_de39f0a0_a947_11eb_89e0_3bf101066d97row6_col10\" class=\"data row6 col10\" >253</td>\n",
       "                        <td id=\"T_de39f0a0_a947_11eb_89e0_3bf101066d97row6_col11\" class=\"data row6 col11\" >253</td>\n",
       "                        <td id=\"T_de39f0a0_a947_11eb_89e0_3bf101066d97row6_col12\" class=\"data row6 col12\" >234</td>\n",
       "                        <td id=\"T_de39f0a0_a947_11eb_89e0_3bf101066d97row6_col13\" class=\"data row6 col13\" >196</td>\n",
       "                        <td id=\"T_de39f0a0_a947_11eb_89e0_3bf101066d97row6_col14\" class=\"data row6 col14\" >253</td>\n",
       "                        <td id=\"T_de39f0a0_a947_11eb_89e0_3bf101066d97row6_col15\" class=\"data row6 col15\" >253</td>\n",
       "                        <td id=\"T_de39f0a0_a947_11eb_89e0_3bf101066d97row6_col16\" class=\"data row6 col16\" >253</td>\n",
       "                        <td id=\"T_de39f0a0_a947_11eb_89e0_3bf101066d97row6_col17\" class=\"data row6 col17\" >253</td>\n",
       "                        <td id=\"T_de39f0a0_a947_11eb_89e0_3bf101066d97row6_col18\" class=\"data row6 col18\" >233</td>\n",
       "                        <td id=\"T_de39f0a0_a947_11eb_89e0_3bf101066d97row6_col19\" class=\"data row6 col19\" >0</td>\n",
       "            </tr>\n",
       "            <tr>\n",
       "                        <th id=\"T_de39f0a0_a947_11eb_89e0_3bf101066d97level0_row7\" class=\"row_heading level0 row7\" >7</th>\n",
       "                        <td id=\"T_de39f0a0_a947_11eb_89e0_3bf101066d97row7_col0\" class=\"data row7 col0\" >0</td>\n",
       "                        <td id=\"T_de39f0a0_a947_11eb_89e0_3bf101066d97row7_col1\" class=\"data row7 col1\" >0</td>\n",
       "                        <td id=\"T_de39f0a0_a947_11eb_89e0_3bf101066d97row7_col2\" class=\"data row7 col2\" >0</td>\n",
       "                        <td id=\"T_de39f0a0_a947_11eb_89e0_3bf101066d97row7_col3\" class=\"data row7 col3\" >0</td>\n",
       "                        <td id=\"T_de39f0a0_a947_11eb_89e0_3bf101066d97row7_col4\" class=\"data row7 col4\" >0</td>\n",
       "                        <td id=\"T_de39f0a0_a947_11eb_89e0_3bf101066d97row7_col5\" class=\"data row7 col5\" >93</td>\n",
       "                        <td id=\"T_de39f0a0_a947_11eb_89e0_3bf101066d97row7_col6\" class=\"data row7 col6\" >244</td>\n",
       "                        <td id=\"T_de39f0a0_a947_11eb_89e0_3bf101066d97row7_col7\" class=\"data row7 col7\" >249</td>\n",
       "                        <td id=\"T_de39f0a0_a947_11eb_89e0_3bf101066d97row7_col8\" class=\"data row7 col8\" >253</td>\n",
       "                        <td id=\"T_de39f0a0_a947_11eb_89e0_3bf101066d97row7_col9\" class=\"data row7 col9\" >187</td>\n",
       "                        <td id=\"T_de39f0a0_a947_11eb_89e0_3bf101066d97row7_col10\" class=\"data row7 col10\" >46</td>\n",
       "                        <td id=\"T_de39f0a0_a947_11eb_89e0_3bf101066d97row7_col11\" class=\"data row7 col11\" >10</td>\n",
       "                        <td id=\"T_de39f0a0_a947_11eb_89e0_3bf101066d97row7_col12\" class=\"data row7 col12\" >8</td>\n",
       "                        <td id=\"T_de39f0a0_a947_11eb_89e0_3bf101066d97row7_col13\" class=\"data row7 col13\" >4</td>\n",
       "                        <td id=\"T_de39f0a0_a947_11eb_89e0_3bf101066d97row7_col14\" class=\"data row7 col14\" >10</td>\n",
       "                        <td id=\"T_de39f0a0_a947_11eb_89e0_3bf101066d97row7_col15\" class=\"data row7 col15\" >194</td>\n",
       "                        <td id=\"T_de39f0a0_a947_11eb_89e0_3bf101066d97row7_col16\" class=\"data row7 col16\" >253</td>\n",
       "                        <td id=\"T_de39f0a0_a947_11eb_89e0_3bf101066d97row7_col17\" class=\"data row7 col17\" >253</td>\n",
       "                        <td id=\"T_de39f0a0_a947_11eb_89e0_3bf101066d97row7_col18\" class=\"data row7 col18\" >233</td>\n",
       "                        <td id=\"T_de39f0a0_a947_11eb_89e0_3bf101066d97row7_col19\" class=\"data row7 col19\" >0</td>\n",
       "            </tr>\n",
       "            <tr>\n",
       "                        <th id=\"T_de39f0a0_a947_11eb_89e0_3bf101066d97level0_row8\" class=\"row_heading level0 row8\" >8</th>\n",
       "                        <td id=\"T_de39f0a0_a947_11eb_89e0_3bf101066d97row8_col0\" class=\"data row8 col0\" >0</td>\n",
       "                        <td id=\"T_de39f0a0_a947_11eb_89e0_3bf101066d97row8_col1\" class=\"data row8 col1\" >0</td>\n",
       "                        <td id=\"T_de39f0a0_a947_11eb_89e0_3bf101066d97row8_col2\" class=\"data row8 col2\" >0</td>\n",
       "                        <td id=\"T_de39f0a0_a947_11eb_89e0_3bf101066d97row8_col3\" class=\"data row8 col3\" >0</td>\n",
       "                        <td id=\"T_de39f0a0_a947_11eb_89e0_3bf101066d97row8_col4\" class=\"data row8 col4\" >0</td>\n",
       "                        <td id=\"T_de39f0a0_a947_11eb_89e0_3bf101066d97row8_col5\" class=\"data row8 col5\" >107</td>\n",
       "                        <td id=\"T_de39f0a0_a947_11eb_89e0_3bf101066d97row8_col6\" class=\"data row8 col6\" >253</td>\n",
       "                        <td id=\"T_de39f0a0_a947_11eb_89e0_3bf101066d97row8_col7\" class=\"data row8 col7\" >253</td>\n",
       "                        <td id=\"T_de39f0a0_a947_11eb_89e0_3bf101066d97row8_col8\" class=\"data row8 col8\" >230</td>\n",
       "                        <td id=\"T_de39f0a0_a947_11eb_89e0_3bf101066d97row8_col9\" class=\"data row8 col9\" >48</td>\n",
       "                        <td id=\"T_de39f0a0_a947_11eb_89e0_3bf101066d97row8_col10\" class=\"data row8 col10\" >0</td>\n",
       "                        <td id=\"T_de39f0a0_a947_11eb_89e0_3bf101066d97row8_col11\" class=\"data row8 col11\" >0</td>\n",
       "                        <td id=\"T_de39f0a0_a947_11eb_89e0_3bf101066d97row8_col12\" class=\"data row8 col12\" >0</td>\n",
       "                        <td id=\"T_de39f0a0_a947_11eb_89e0_3bf101066d97row8_col13\" class=\"data row8 col13\" >0</td>\n",
       "                        <td id=\"T_de39f0a0_a947_11eb_89e0_3bf101066d97row8_col14\" class=\"data row8 col14\" >0</td>\n",
       "                        <td id=\"T_de39f0a0_a947_11eb_89e0_3bf101066d97row8_col15\" class=\"data row8 col15\" >192</td>\n",
       "                        <td id=\"T_de39f0a0_a947_11eb_89e0_3bf101066d97row8_col16\" class=\"data row8 col16\" >253</td>\n",
       "                        <td id=\"T_de39f0a0_a947_11eb_89e0_3bf101066d97row8_col17\" class=\"data row8 col17\" >253</td>\n",
       "                        <td id=\"T_de39f0a0_a947_11eb_89e0_3bf101066d97row8_col18\" class=\"data row8 col18\" >156</td>\n",
       "                        <td id=\"T_de39f0a0_a947_11eb_89e0_3bf101066d97row8_col19\" class=\"data row8 col19\" >0</td>\n",
       "            </tr>\n",
       "            <tr>\n",
       "                        <th id=\"T_de39f0a0_a947_11eb_89e0_3bf101066d97level0_row9\" class=\"row_heading level0 row9\" >9</th>\n",
       "                        <td id=\"T_de39f0a0_a947_11eb_89e0_3bf101066d97row9_col0\" class=\"data row9 col0\" >0</td>\n",
       "                        <td id=\"T_de39f0a0_a947_11eb_89e0_3bf101066d97row9_col1\" class=\"data row9 col1\" >0</td>\n",
       "                        <td id=\"T_de39f0a0_a947_11eb_89e0_3bf101066d97row9_col2\" class=\"data row9 col2\" >0</td>\n",
       "                        <td id=\"T_de39f0a0_a947_11eb_89e0_3bf101066d97row9_col3\" class=\"data row9 col3\" >0</td>\n",
       "                        <td id=\"T_de39f0a0_a947_11eb_89e0_3bf101066d97row9_col4\" class=\"data row9 col4\" >0</td>\n",
       "                        <td id=\"T_de39f0a0_a947_11eb_89e0_3bf101066d97row9_col5\" class=\"data row9 col5\" >3</td>\n",
       "                        <td id=\"T_de39f0a0_a947_11eb_89e0_3bf101066d97row9_col6\" class=\"data row9 col6\" >20</td>\n",
       "                        <td id=\"T_de39f0a0_a947_11eb_89e0_3bf101066d97row9_col7\" class=\"data row9 col7\" >20</td>\n",
       "                        <td id=\"T_de39f0a0_a947_11eb_89e0_3bf101066d97row9_col8\" class=\"data row9 col8\" >15</td>\n",
       "                        <td id=\"T_de39f0a0_a947_11eb_89e0_3bf101066d97row9_col9\" class=\"data row9 col9\" >0</td>\n",
       "                        <td id=\"T_de39f0a0_a947_11eb_89e0_3bf101066d97row9_col10\" class=\"data row9 col10\" >0</td>\n",
       "                        <td id=\"T_de39f0a0_a947_11eb_89e0_3bf101066d97row9_col11\" class=\"data row9 col11\" >0</td>\n",
       "                        <td id=\"T_de39f0a0_a947_11eb_89e0_3bf101066d97row9_col12\" class=\"data row9 col12\" >0</td>\n",
       "                        <td id=\"T_de39f0a0_a947_11eb_89e0_3bf101066d97row9_col13\" class=\"data row9 col13\" >0</td>\n",
       "                        <td id=\"T_de39f0a0_a947_11eb_89e0_3bf101066d97row9_col14\" class=\"data row9 col14\" >43</td>\n",
       "                        <td id=\"T_de39f0a0_a947_11eb_89e0_3bf101066d97row9_col15\" class=\"data row9 col15\" >224</td>\n",
       "                        <td id=\"T_de39f0a0_a947_11eb_89e0_3bf101066d97row9_col16\" class=\"data row9 col16\" >253</td>\n",
       "                        <td id=\"T_de39f0a0_a947_11eb_89e0_3bf101066d97row9_col17\" class=\"data row9 col17\" >245</td>\n",
       "                        <td id=\"T_de39f0a0_a947_11eb_89e0_3bf101066d97row9_col18\" class=\"data row9 col18\" >74</td>\n",
       "                        <td id=\"T_de39f0a0_a947_11eb_89e0_3bf101066d97row9_col19\" class=\"data row9 col19\" >0</td>\n",
       "            </tr>\n",
       "            <tr>\n",
       "                        <th id=\"T_de39f0a0_a947_11eb_89e0_3bf101066d97level0_row10\" class=\"row_heading level0 row10\" >10</th>\n",
       "                        <td id=\"T_de39f0a0_a947_11eb_89e0_3bf101066d97row10_col0\" class=\"data row10 col0\" >0</td>\n",
       "                        <td id=\"T_de39f0a0_a947_11eb_89e0_3bf101066d97row10_col1\" class=\"data row10 col1\" >0</td>\n",
       "                        <td id=\"T_de39f0a0_a947_11eb_89e0_3bf101066d97row10_col2\" class=\"data row10 col2\" >0</td>\n",
       "                        <td id=\"T_de39f0a0_a947_11eb_89e0_3bf101066d97row10_col3\" class=\"data row10 col3\" >0</td>\n",
       "                        <td id=\"T_de39f0a0_a947_11eb_89e0_3bf101066d97row10_col4\" class=\"data row10 col4\" >0</td>\n",
       "                        <td id=\"T_de39f0a0_a947_11eb_89e0_3bf101066d97row10_col5\" class=\"data row10 col5\" >0</td>\n",
       "                        <td id=\"T_de39f0a0_a947_11eb_89e0_3bf101066d97row10_col6\" class=\"data row10 col6\" >0</td>\n",
       "                        <td id=\"T_de39f0a0_a947_11eb_89e0_3bf101066d97row10_col7\" class=\"data row10 col7\" >0</td>\n",
       "                        <td id=\"T_de39f0a0_a947_11eb_89e0_3bf101066d97row10_col8\" class=\"data row10 col8\" >0</td>\n",
       "                        <td id=\"T_de39f0a0_a947_11eb_89e0_3bf101066d97row10_col9\" class=\"data row10 col9\" >0</td>\n",
       "                        <td id=\"T_de39f0a0_a947_11eb_89e0_3bf101066d97row10_col10\" class=\"data row10 col10\" >0</td>\n",
       "                        <td id=\"T_de39f0a0_a947_11eb_89e0_3bf101066d97row10_col11\" class=\"data row10 col11\" >0</td>\n",
       "                        <td id=\"T_de39f0a0_a947_11eb_89e0_3bf101066d97row10_col12\" class=\"data row10 col12\" >0</td>\n",
       "                        <td id=\"T_de39f0a0_a947_11eb_89e0_3bf101066d97row10_col13\" class=\"data row10 col13\" >0</td>\n",
       "                        <td id=\"T_de39f0a0_a947_11eb_89e0_3bf101066d97row10_col14\" class=\"data row10 col14\" >249</td>\n",
       "                        <td id=\"T_de39f0a0_a947_11eb_89e0_3bf101066d97row10_col15\" class=\"data row10 col15\" >253</td>\n",
       "                        <td id=\"T_de39f0a0_a947_11eb_89e0_3bf101066d97row10_col16\" class=\"data row10 col16\" >245</td>\n",
       "                        <td id=\"T_de39f0a0_a947_11eb_89e0_3bf101066d97row10_col17\" class=\"data row10 col17\" >126</td>\n",
       "                        <td id=\"T_de39f0a0_a947_11eb_89e0_3bf101066d97row10_col18\" class=\"data row10 col18\" >0</td>\n",
       "                        <td id=\"T_de39f0a0_a947_11eb_89e0_3bf101066d97row10_col19\" class=\"data row10 col19\" >0</td>\n",
       "            </tr>\n",
       "            <tr>\n",
       "                        <th id=\"T_de39f0a0_a947_11eb_89e0_3bf101066d97level0_row11\" class=\"row_heading level0 row11\" >11</th>\n",
       "                        <td id=\"T_de39f0a0_a947_11eb_89e0_3bf101066d97row11_col0\" class=\"data row11 col0\" >0</td>\n",
       "                        <td id=\"T_de39f0a0_a947_11eb_89e0_3bf101066d97row11_col1\" class=\"data row11 col1\" >0</td>\n",
       "                        <td id=\"T_de39f0a0_a947_11eb_89e0_3bf101066d97row11_col2\" class=\"data row11 col2\" >0</td>\n",
       "                        <td id=\"T_de39f0a0_a947_11eb_89e0_3bf101066d97row11_col3\" class=\"data row11 col3\" >0</td>\n",
       "                        <td id=\"T_de39f0a0_a947_11eb_89e0_3bf101066d97row11_col4\" class=\"data row11 col4\" >0</td>\n",
       "                        <td id=\"T_de39f0a0_a947_11eb_89e0_3bf101066d97row11_col5\" class=\"data row11 col5\" >0</td>\n",
       "                        <td id=\"T_de39f0a0_a947_11eb_89e0_3bf101066d97row11_col6\" class=\"data row11 col6\" >0</td>\n",
       "                        <td id=\"T_de39f0a0_a947_11eb_89e0_3bf101066d97row11_col7\" class=\"data row11 col7\" >0</td>\n",
       "                        <td id=\"T_de39f0a0_a947_11eb_89e0_3bf101066d97row11_col8\" class=\"data row11 col8\" >0</td>\n",
       "                        <td id=\"T_de39f0a0_a947_11eb_89e0_3bf101066d97row11_col9\" class=\"data row11 col9\" >0</td>\n",
       "                        <td id=\"T_de39f0a0_a947_11eb_89e0_3bf101066d97row11_col10\" class=\"data row11 col10\" >0</td>\n",
       "                        <td id=\"T_de39f0a0_a947_11eb_89e0_3bf101066d97row11_col11\" class=\"data row11 col11\" >14</td>\n",
       "                        <td id=\"T_de39f0a0_a947_11eb_89e0_3bf101066d97row11_col12\" class=\"data row11 col12\" >101</td>\n",
       "                        <td id=\"T_de39f0a0_a947_11eb_89e0_3bf101066d97row11_col13\" class=\"data row11 col13\" >223</td>\n",
       "                        <td id=\"T_de39f0a0_a947_11eb_89e0_3bf101066d97row11_col14\" class=\"data row11 col14\" >253</td>\n",
       "                        <td id=\"T_de39f0a0_a947_11eb_89e0_3bf101066d97row11_col15\" class=\"data row11 col15\" >248</td>\n",
       "                        <td id=\"T_de39f0a0_a947_11eb_89e0_3bf101066d97row11_col16\" class=\"data row11 col16\" >124</td>\n",
       "                        <td id=\"T_de39f0a0_a947_11eb_89e0_3bf101066d97row11_col17\" class=\"data row11 col17\" >0</td>\n",
       "                        <td id=\"T_de39f0a0_a947_11eb_89e0_3bf101066d97row11_col18\" class=\"data row11 col18\" >0</td>\n",
       "                        <td id=\"T_de39f0a0_a947_11eb_89e0_3bf101066d97row11_col19\" class=\"data row11 col19\" >0</td>\n",
       "            </tr>\n",
       "            <tr>\n",
       "                        <th id=\"T_de39f0a0_a947_11eb_89e0_3bf101066d97level0_row12\" class=\"row_heading level0 row12\" >12</th>\n",
       "                        <td id=\"T_de39f0a0_a947_11eb_89e0_3bf101066d97row12_col0\" class=\"data row12 col0\" >0</td>\n",
       "                        <td id=\"T_de39f0a0_a947_11eb_89e0_3bf101066d97row12_col1\" class=\"data row12 col1\" >0</td>\n",
       "                        <td id=\"T_de39f0a0_a947_11eb_89e0_3bf101066d97row12_col2\" class=\"data row12 col2\" >0</td>\n",
       "                        <td id=\"T_de39f0a0_a947_11eb_89e0_3bf101066d97row12_col3\" class=\"data row12 col3\" >0</td>\n",
       "                        <td id=\"T_de39f0a0_a947_11eb_89e0_3bf101066d97row12_col4\" class=\"data row12 col4\" >0</td>\n",
       "                        <td id=\"T_de39f0a0_a947_11eb_89e0_3bf101066d97row12_col5\" class=\"data row12 col5\" >0</td>\n",
       "                        <td id=\"T_de39f0a0_a947_11eb_89e0_3bf101066d97row12_col6\" class=\"data row12 col6\" >0</td>\n",
       "                        <td id=\"T_de39f0a0_a947_11eb_89e0_3bf101066d97row12_col7\" class=\"data row12 col7\" >0</td>\n",
       "                        <td id=\"T_de39f0a0_a947_11eb_89e0_3bf101066d97row12_col8\" class=\"data row12 col8\" >0</td>\n",
       "                        <td id=\"T_de39f0a0_a947_11eb_89e0_3bf101066d97row12_col9\" class=\"data row12 col9\" >11</td>\n",
       "                        <td id=\"T_de39f0a0_a947_11eb_89e0_3bf101066d97row12_col10\" class=\"data row12 col10\" >166</td>\n",
       "                        <td id=\"T_de39f0a0_a947_11eb_89e0_3bf101066d97row12_col11\" class=\"data row12 col11\" >239</td>\n",
       "                        <td id=\"T_de39f0a0_a947_11eb_89e0_3bf101066d97row12_col12\" class=\"data row12 col12\" >253</td>\n",
       "                        <td id=\"T_de39f0a0_a947_11eb_89e0_3bf101066d97row12_col13\" class=\"data row12 col13\" >253</td>\n",
       "                        <td id=\"T_de39f0a0_a947_11eb_89e0_3bf101066d97row12_col14\" class=\"data row12 col14\" >253</td>\n",
       "                        <td id=\"T_de39f0a0_a947_11eb_89e0_3bf101066d97row12_col15\" class=\"data row12 col15\" >187</td>\n",
       "                        <td id=\"T_de39f0a0_a947_11eb_89e0_3bf101066d97row12_col16\" class=\"data row12 col16\" >30</td>\n",
       "                        <td id=\"T_de39f0a0_a947_11eb_89e0_3bf101066d97row12_col17\" class=\"data row12 col17\" >0</td>\n",
       "                        <td id=\"T_de39f0a0_a947_11eb_89e0_3bf101066d97row12_col18\" class=\"data row12 col18\" >0</td>\n",
       "                        <td id=\"T_de39f0a0_a947_11eb_89e0_3bf101066d97row12_col19\" class=\"data row12 col19\" >0</td>\n",
       "            </tr>\n",
       "            <tr>\n",
       "                        <th id=\"T_de39f0a0_a947_11eb_89e0_3bf101066d97level0_row13\" class=\"row_heading level0 row13\" >13</th>\n",
       "                        <td id=\"T_de39f0a0_a947_11eb_89e0_3bf101066d97row13_col0\" class=\"data row13 col0\" >0</td>\n",
       "                        <td id=\"T_de39f0a0_a947_11eb_89e0_3bf101066d97row13_col1\" class=\"data row13 col1\" >0</td>\n",
       "                        <td id=\"T_de39f0a0_a947_11eb_89e0_3bf101066d97row13_col2\" class=\"data row13 col2\" >0</td>\n",
       "                        <td id=\"T_de39f0a0_a947_11eb_89e0_3bf101066d97row13_col3\" class=\"data row13 col3\" >0</td>\n",
       "                        <td id=\"T_de39f0a0_a947_11eb_89e0_3bf101066d97row13_col4\" class=\"data row13 col4\" >0</td>\n",
       "                        <td id=\"T_de39f0a0_a947_11eb_89e0_3bf101066d97row13_col5\" class=\"data row13 col5\" >0</td>\n",
       "                        <td id=\"T_de39f0a0_a947_11eb_89e0_3bf101066d97row13_col6\" class=\"data row13 col6\" >0</td>\n",
       "                        <td id=\"T_de39f0a0_a947_11eb_89e0_3bf101066d97row13_col7\" class=\"data row13 col7\" >0</td>\n",
       "                        <td id=\"T_de39f0a0_a947_11eb_89e0_3bf101066d97row13_col8\" class=\"data row13 col8\" >0</td>\n",
       "                        <td id=\"T_de39f0a0_a947_11eb_89e0_3bf101066d97row13_col9\" class=\"data row13 col9\" >16</td>\n",
       "                        <td id=\"T_de39f0a0_a947_11eb_89e0_3bf101066d97row13_col10\" class=\"data row13 col10\" >248</td>\n",
       "                        <td id=\"T_de39f0a0_a947_11eb_89e0_3bf101066d97row13_col11\" class=\"data row13 col11\" >250</td>\n",
       "                        <td id=\"T_de39f0a0_a947_11eb_89e0_3bf101066d97row13_col12\" class=\"data row13 col12\" >253</td>\n",
       "                        <td id=\"T_de39f0a0_a947_11eb_89e0_3bf101066d97row13_col13\" class=\"data row13 col13\" >253</td>\n",
       "                        <td id=\"T_de39f0a0_a947_11eb_89e0_3bf101066d97row13_col14\" class=\"data row13 col14\" >253</td>\n",
       "                        <td id=\"T_de39f0a0_a947_11eb_89e0_3bf101066d97row13_col15\" class=\"data row13 col15\" >253</td>\n",
       "                        <td id=\"T_de39f0a0_a947_11eb_89e0_3bf101066d97row13_col16\" class=\"data row13 col16\" >232</td>\n",
       "                        <td id=\"T_de39f0a0_a947_11eb_89e0_3bf101066d97row13_col17\" class=\"data row13 col17\" >213</td>\n",
       "                        <td id=\"T_de39f0a0_a947_11eb_89e0_3bf101066d97row13_col18\" class=\"data row13 col18\" >111</td>\n",
       "                        <td id=\"T_de39f0a0_a947_11eb_89e0_3bf101066d97row13_col19\" class=\"data row13 col19\" >2</td>\n",
       "            </tr>\n",
       "            <tr>\n",
       "                        <th id=\"T_de39f0a0_a947_11eb_89e0_3bf101066d97level0_row14\" class=\"row_heading level0 row14\" >14</th>\n",
       "                        <td id=\"T_de39f0a0_a947_11eb_89e0_3bf101066d97row14_col0\" class=\"data row14 col0\" >0</td>\n",
       "                        <td id=\"T_de39f0a0_a947_11eb_89e0_3bf101066d97row14_col1\" class=\"data row14 col1\" >0</td>\n",
       "                        <td id=\"T_de39f0a0_a947_11eb_89e0_3bf101066d97row14_col2\" class=\"data row14 col2\" >0</td>\n",
       "                        <td id=\"T_de39f0a0_a947_11eb_89e0_3bf101066d97row14_col3\" class=\"data row14 col3\" >0</td>\n",
       "                        <td id=\"T_de39f0a0_a947_11eb_89e0_3bf101066d97row14_col4\" class=\"data row14 col4\" >0</td>\n",
       "                        <td id=\"T_de39f0a0_a947_11eb_89e0_3bf101066d97row14_col5\" class=\"data row14 col5\" >0</td>\n",
       "                        <td id=\"T_de39f0a0_a947_11eb_89e0_3bf101066d97row14_col6\" class=\"data row14 col6\" >0</td>\n",
       "                        <td id=\"T_de39f0a0_a947_11eb_89e0_3bf101066d97row14_col7\" class=\"data row14 col7\" >0</td>\n",
       "                        <td id=\"T_de39f0a0_a947_11eb_89e0_3bf101066d97row14_col8\" class=\"data row14 col8\" >0</td>\n",
       "                        <td id=\"T_de39f0a0_a947_11eb_89e0_3bf101066d97row14_col9\" class=\"data row14 col9\" >0</td>\n",
       "                        <td id=\"T_de39f0a0_a947_11eb_89e0_3bf101066d97row14_col10\" class=\"data row14 col10\" >0</td>\n",
       "                        <td id=\"T_de39f0a0_a947_11eb_89e0_3bf101066d97row14_col11\" class=\"data row14 col11\" >43</td>\n",
       "                        <td id=\"T_de39f0a0_a947_11eb_89e0_3bf101066d97row14_col12\" class=\"data row14 col12\" >98</td>\n",
       "                        <td id=\"T_de39f0a0_a947_11eb_89e0_3bf101066d97row14_col13\" class=\"data row14 col13\" >98</td>\n",
       "                        <td id=\"T_de39f0a0_a947_11eb_89e0_3bf101066d97row14_col14\" class=\"data row14 col14\" >208</td>\n",
       "                        <td id=\"T_de39f0a0_a947_11eb_89e0_3bf101066d97row14_col15\" class=\"data row14 col15\" >253</td>\n",
       "                        <td id=\"T_de39f0a0_a947_11eb_89e0_3bf101066d97row14_col16\" class=\"data row14 col16\" >253</td>\n",
       "                        <td id=\"T_de39f0a0_a947_11eb_89e0_3bf101066d97row14_col17\" class=\"data row14 col17\" >253</td>\n",
       "                        <td id=\"T_de39f0a0_a947_11eb_89e0_3bf101066d97row14_col18\" class=\"data row14 col18\" >253</td>\n",
       "                        <td id=\"T_de39f0a0_a947_11eb_89e0_3bf101066d97row14_col19\" class=\"data row14 col19\" >187</td>\n",
       "            </tr>\n",
       "            <tr>\n",
       "                        <th id=\"T_de39f0a0_a947_11eb_89e0_3bf101066d97level0_row15\" class=\"row_heading level0 row15\" >15</th>\n",
       "                        <td id=\"T_de39f0a0_a947_11eb_89e0_3bf101066d97row15_col0\" class=\"data row15 col0\" >0</td>\n",
       "                        <td id=\"T_de39f0a0_a947_11eb_89e0_3bf101066d97row15_col1\" class=\"data row15 col1\" >0</td>\n",
       "                        <td id=\"T_de39f0a0_a947_11eb_89e0_3bf101066d97row15_col2\" class=\"data row15 col2\" >0</td>\n",
       "                        <td id=\"T_de39f0a0_a947_11eb_89e0_3bf101066d97row15_col3\" class=\"data row15 col3\" >0</td>\n",
       "                        <td id=\"T_de39f0a0_a947_11eb_89e0_3bf101066d97row15_col4\" class=\"data row15 col4\" >0</td>\n",
       "                        <td id=\"T_de39f0a0_a947_11eb_89e0_3bf101066d97row15_col5\" class=\"data row15 col5\" >0</td>\n",
       "                        <td id=\"T_de39f0a0_a947_11eb_89e0_3bf101066d97row15_col6\" class=\"data row15 col6\" >0</td>\n",
       "                        <td id=\"T_de39f0a0_a947_11eb_89e0_3bf101066d97row15_col7\" class=\"data row15 col7\" >0</td>\n",
       "                        <td id=\"T_de39f0a0_a947_11eb_89e0_3bf101066d97row15_col8\" class=\"data row15 col8\" >0</td>\n",
       "                        <td id=\"T_de39f0a0_a947_11eb_89e0_3bf101066d97row15_col9\" class=\"data row15 col9\" >0</td>\n",
       "                        <td id=\"T_de39f0a0_a947_11eb_89e0_3bf101066d97row15_col10\" class=\"data row15 col10\" >0</td>\n",
       "                        <td id=\"T_de39f0a0_a947_11eb_89e0_3bf101066d97row15_col11\" class=\"data row15 col11\" >0</td>\n",
       "                        <td id=\"T_de39f0a0_a947_11eb_89e0_3bf101066d97row15_col12\" class=\"data row15 col12\" >0</td>\n",
       "                        <td id=\"T_de39f0a0_a947_11eb_89e0_3bf101066d97row15_col13\" class=\"data row15 col13\" >0</td>\n",
       "                        <td id=\"T_de39f0a0_a947_11eb_89e0_3bf101066d97row15_col14\" class=\"data row15 col14\" >9</td>\n",
       "                        <td id=\"T_de39f0a0_a947_11eb_89e0_3bf101066d97row15_col15\" class=\"data row15 col15\" >51</td>\n",
       "                        <td id=\"T_de39f0a0_a947_11eb_89e0_3bf101066d97row15_col16\" class=\"data row15 col16\" >119</td>\n",
       "                        <td id=\"T_de39f0a0_a947_11eb_89e0_3bf101066d97row15_col17\" class=\"data row15 col17\" >253</td>\n",
       "                        <td id=\"T_de39f0a0_a947_11eb_89e0_3bf101066d97row15_col18\" class=\"data row15 col18\" >253</td>\n",
       "                        <td id=\"T_de39f0a0_a947_11eb_89e0_3bf101066d97row15_col19\" class=\"data row15 col19\" >253</td>\n",
       "            </tr>\n",
       "            <tr>\n",
       "                        <th id=\"T_de39f0a0_a947_11eb_89e0_3bf101066d97level0_row16\" class=\"row_heading level0 row16\" >16</th>\n",
       "                        <td id=\"T_de39f0a0_a947_11eb_89e0_3bf101066d97row16_col0\" class=\"data row16 col0\" >0</td>\n",
       "                        <td id=\"T_de39f0a0_a947_11eb_89e0_3bf101066d97row16_col1\" class=\"data row16 col1\" >0</td>\n",
       "                        <td id=\"T_de39f0a0_a947_11eb_89e0_3bf101066d97row16_col2\" class=\"data row16 col2\" >0</td>\n",
       "                        <td id=\"T_de39f0a0_a947_11eb_89e0_3bf101066d97row16_col3\" class=\"data row16 col3\" >0</td>\n",
       "                        <td id=\"T_de39f0a0_a947_11eb_89e0_3bf101066d97row16_col4\" class=\"data row16 col4\" >0</td>\n",
       "                        <td id=\"T_de39f0a0_a947_11eb_89e0_3bf101066d97row16_col5\" class=\"data row16 col5\" >0</td>\n",
       "                        <td id=\"T_de39f0a0_a947_11eb_89e0_3bf101066d97row16_col6\" class=\"data row16 col6\" >0</td>\n",
       "                        <td id=\"T_de39f0a0_a947_11eb_89e0_3bf101066d97row16_col7\" class=\"data row16 col7\" >0</td>\n",
       "                        <td id=\"T_de39f0a0_a947_11eb_89e0_3bf101066d97row16_col8\" class=\"data row16 col8\" >0</td>\n",
       "                        <td id=\"T_de39f0a0_a947_11eb_89e0_3bf101066d97row16_col9\" class=\"data row16 col9\" >0</td>\n",
       "                        <td id=\"T_de39f0a0_a947_11eb_89e0_3bf101066d97row16_col10\" class=\"data row16 col10\" >0</td>\n",
       "                        <td id=\"T_de39f0a0_a947_11eb_89e0_3bf101066d97row16_col11\" class=\"data row16 col11\" >0</td>\n",
       "                        <td id=\"T_de39f0a0_a947_11eb_89e0_3bf101066d97row16_col12\" class=\"data row16 col12\" >0</td>\n",
       "                        <td id=\"T_de39f0a0_a947_11eb_89e0_3bf101066d97row16_col13\" class=\"data row16 col13\" >0</td>\n",
       "                        <td id=\"T_de39f0a0_a947_11eb_89e0_3bf101066d97row16_col14\" class=\"data row16 col14\" >0</td>\n",
       "                        <td id=\"T_de39f0a0_a947_11eb_89e0_3bf101066d97row16_col15\" class=\"data row16 col15\" >0</td>\n",
       "                        <td id=\"T_de39f0a0_a947_11eb_89e0_3bf101066d97row16_col16\" class=\"data row16 col16\" >1</td>\n",
       "                        <td id=\"T_de39f0a0_a947_11eb_89e0_3bf101066d97row16_col17\" class=\"data row16 col17\" >183</td>\n",
       "                        <td id=\"T_de39f0a0_a947_11eb_89e0_3bf101066d97row16_col18\" class=\"data row16 col18\" >253</td>\n",
       "                        <td id=\"T_de39f0a0_a947_11eb_89e0_3bf101066d97row16_col19\" class=\"data row16 col19\" >253</td>\n",
       "            </tr>\n",
       "            <tr>\n",
       "                        <th id=\"T_de39f0a0_a947_11eb_89e0_3bf101066d97level0_row17\" class=\"row_heading level0 row17\" >17</th>\n",
       "                        <td id=\"T_de39f0a0_a947_11eb_89e0_3bf101066d97row17_col0\" class=\"data row17 col0\" >0</td>\n",
       "                        <td id=\"T_de39f0a0_a947_11eb_89e0_3bf101066d97row17_col1\" class=\"data row17 col1\" >0</td>\n",
       "                        <td id=\"T_de39f0a0_a947_11eb_89e0_3bf101066d97row17_col2\" class=\"data row17 col2\" >0</td>\n",
       "                        <td id=\"T_de39f0a0_a947_11eb_89e0_3bf101066d97row17_col3\" class=\"data row17 col3\" >0</td>\n",
       "                        <td id=\"T_de39f0a0_a947_11eb_89e0_3bf101066d97row17_col4\" class=\"data row17 col4\" >0</td>\n",
       "                        <td id=\"T_de39f0a0_a947_11eb_89e0_3bf101066d97row17_col5\" class=\"data row17 col5\" >0</td>\n",
       "                        <td id=\"T_de39f0a0_a947_11eb_89e0_3bf101066d97row17_col6\" class=\"data row17 col6\" >0</td>\n",
       "                        <td id=\"T_de39f0a0_a947_11eb_89e0_3bf101066d97row17_col7\" class=\"data row17 col7\" >0</td>\n",
       "                        <td id=\"T_de39f0a0_a947_11eb_89e0_3bf101066d97row17_col8\" class=\"data row17 col8\" >0</td>\n",
       "                        <td id=\"T_de39f0a0_a947_11eb_89e0_3bf101066d97row17_col9\" class=\"data row17 col9\" >0</td>\n",
       "                        <td id=\"T_de39f0a0_a947_11eb_89e0_3bf101066d97row17_col10\" class=\"data row17 col10\" >0</td>\n",
       "                        <td id=\"T_de39f0a0_a947_11eb_89e0_3bf101066d97row17_col11\" class=\"data row17 col11\" >0</td>\n",
       "                        <td id=\"T_de39f0a0_a947_11eb_89e0_3bf101066d97row17_col12\" class=\"data row17 col12\" >0</td>\n",
       "                        <td id=\"T_de39f0a0_a947_11eb_89e0_3bf101066d97row17_col13\" class=\"data row17 col13\" >0</td>\n",
       "                        <td id=\"T_de39f0a0_a947_11eb_89e0_3bf101066d97row17_col14\" class=\"data row17 col14\" >0</td>\n",
       "                        <td id=\"T_de39f0a0_a947_11eb_89e0_3bf101066d97row17_col15\" class=\"data row17 col15\" >0</td>\n",
       "                        <td id=\"T_de39f0a0_a947_11eb_89e0_3bf101066d97row17_col16\" class=\"data row17 col16\" >0</td>\n",
       "                        <td id=\"T_de39f0a0_a947_11eb_89e0_3bf101066d97row17_col17\" class=\"data row17 col17\" >182</td>\n",
       "                        <td id=\"T_de39f0a0_a947_11eb_89e0_3bf101066d97row17_col18\" class=\"data row17 col18\" >253</td>\n",
       "                        <td id=\"T_de39f0a0_a947_11eb_89e0_3bf101066d97row17_col19\" class=\"data row17 col19\" >253</td>\n",
       "            </tr>\n",
       "            <tr>\n",
       "                        <th id=\"T_de39f0a0_a947_11eb_89e0_3bf101066d97level0_row18\" class=\"row_heading level0 row18\" >18</th>\n",
       "                        <td id=\"T_de39f0a0_a947_11eb_89e0_3bf101066d97row18_col0\" class=\"data row18 col0\" >0</td>\n",
       "                        <td id=\"T_de39f0a0_a947_11eb_89e0_3bf101066d97row18_col1\" class=\"data row18 col1\" >0</td>\n",
       "                        <td id=\"T_de39f0a0_a947_11eb_89e0_3bf101066d97row18_col2\" class=\"data row18 col2\" >0</td>\n",
       "                        <td id=\"T_de39f0a0_a947_11eb_89e0_3bf101066d97row18_col3\" class=\"data row18 col3\" >0</td>\n",
       "                        <td id=\"T_de39f0a0_a947_11eb_89e0_3bf101066d97row18_col4\" class=\"data row18 col4\" >0</td>\n",
       "                        <td id=\"T_de39f0a0_a947_11eb_89e0_3bf101066d97row18_col5\" class=\"data row18 col5\" >0</td>\n",
       "                        <td id=\"T_de39f0a0_a947_11eb_89e0_3bf101066d97row18_col6\" class=\"data row18 col6\" >0</td>\n",
       "                        <td id=\"T_de39f0a0_a947_11eb_89e0_3bf101066d97row18_col7\" class=\"data row18 col7\" >0</td>\n",
       "                        <td id=\"T_de39f0a0_a947_11eb_89e0_3bf101066d97row18_col8\" class=\"data row18 col8\" >0</td>\n",
       "                        <td id=\"T_de39f0a0_a947_11eb_89e0_3bf101066d97row18_col9\" class=\"data row18 col9\" >0</td>\n",
       "                        <td id=\"T_de39f0a0_a947_11eb_89e0_3bf101066d97row18_col10\" class=\"data row18 col10\" >0</td>\n",
       "                        <td id=\"T_de39f0a0_a947_11eb_89e0_3bf101066d97row18_col11\" class=\"data row18 col11\" >0</td>\n",
       "                        <td id=\"T_de39f0a0_a947_11eb_89e0_3bf101066d97row18_col12\" class=\"data row18 col12\" >0</td>\n",
       "                        <td id=\"T_de39f0a0_a947_11eb_89e0_3bf101066d97row18_col13\" class=\"data row18 col13\" >0</td>\n",
       "                        <td id=\"T_de39f0a0_a947_11eb_89e0_3bf101066d97row18_col14\" class=\"data row18 col14\" >0</td>\n",
       "                        <td id=\"T_de39f0a0_a947_11eb_89e0_3bf101066d97row18_col15\" class=\"data row18 col15\" >0</td>\n",
       "                        <td id=\"T_de39f0a0_a947_11eb_89e0_3bf101066d97row18_col16\" class=\"data row18 col16\" >85</td>\n",
       "                        <td id=\"T_de39f0a0_a947_11eb_89e0_3bf101066d97row18_col17\" class=\"data row18 col17\" >249</td>\n",
       "                        <td id=\"T_de39f0a0_a947_11eb_89e0_3bf101066d97row18_col18\" class=\"data row18 col18\" >253</td>\n",
       "                        <td id=\"T_de39f0a0_a947_11eb_89e0_3bf101066d97row18_col19\" class=\"data row18 col19\" >253</td>\n",
       "            </tr>\n",
       "            <tr>\n",
       "                        <th id=\"T_de39f0a0_a947_11eb_89e0_3bf101066d97level0_row19\" class=\"row_heading level0 row19\" >19</th>\n",
       "                        <td id=\"T_de39f0a0_a947_11eb_89e0_3bf101066d97row19_col0\" class=\"data row19 col0\" >0</td>\n",
       "                        <td id=\"T_de39f0a0_a947_11eb_89e0_3bf101066d97row19_col1\" class=\"data row19 col1\" >0</td>\n",
       "                        <td id=\"T_de39f0a0_a947_11eb_89e0_3bf101066d97row19_col2\" class=\"data row19 col2\" >0</td>\n",
       "                        <td id=\"T_de39f0a0_a947_11eb_89e0_3bf101066d97row19_col3\" class=\"data row19 col3\" >0</td>\n",
       "                        <td id=\"T_de39f0a0_a947_11eb_89e0_3bf101066d97row19_col4\" class=\"data row19 col4\" >0</td>\n",
       "                        <td id=\"T_de39f0a0_a947_11eb_89e0_3bf101066d97row19_col5\" class=\"data row19 col5\" >0</td>\n",
       "                        <td id=\"T_de39f0a0_a947_11eb_89e0_3bf101066d97row19_col6\" class=\"data row19 col6\" >0</td>\n",
       "                        <td id=\"T_de39f0a0_a947_11eb_89e0_3bf101066d97row19_col7\" class=\"data row19 col7\" >0</td>\n",
       "                        <td id=\"T_de39f0a0_a947_11eb_89e0_3bf101066d97row19_col8\" class=\"data row19 col8\" >0</td>\n",
       "                        <td id=\"T_de39f0a0_a947_11eb_89e0_3bf101066d97row19_col9\" class=\"data row19 col9\" >0</td>\n",
       "                        <td id=\"T_de39f0a0_a947_11eb_89e0_3bf101066d97row19_col10\" class=\"data row19 col10\" >0</td>\n",
       "                        <td id=\"T_de39f0a0_a947_11eb_89e0_3bf101066d97row19_col11\" class=\"data row19 col11\" >0</td>\n",
       "                        <td id=\"T_de39f0a0_a947_11eb_89e0_3bf101066d97row19_col12\" class=\"data row19 col12\" >0</td>\n",
       "                        <td id=\"T_de39f0a0_a947_11eb_89e0_3bf101066d97row19_col13\" class=\"data row19 col13\" >0</td>\n",
       "                        <td id=\"T_de39f0a0_a947_11eb_89e0_3bf101066d97row19_col14\" class=\"data row19 col14\" >0</td>\n",
       "                        <td id=\"T_de39f0a0_a947_11eb_89e0_3bf101066d97row19_col15\" class=\"data row19 col15\" >60</td>\n",
       "                        <td id=\"T_de39f0a0_a947_11eb_89e0_3bf101066d97row19_col16\" class=\"data row19 col16\" >214</td>\n",
       "                        <td id=\"T_de39f0a0_a947_11eb_89e0_3bf101066d97row19_col17\" class=\"data row19 col17\" >253</td>\n",
       "                        <td id=\"T_de39f0a0_a947_11eb_89e0_3bf101066d97row19_col18\" class=\"data row19 col18\" >253</td>\n",
       "                        <td id=\"T_de39f0a0_a947_11eb_89e0_3bf101066d97row19_col19\" class=\"data row19 col19\" >173</td>\n",
       "            </tr>\n",
       "    </tbody></table>"
      ],
      "text/plain": [
       "<pandas.io.formats.style.Styler at 0x7fe6e043de50>"
      ]
     },
     "execution_count": null,
     "metadata": {},
     "output_type": "execute_result"
    }
   ],
   "source": [
    "im3t = tensor(im3)\n",
    "df = pd.DataFrame(im3t[:20,:20])\n",
    "df.style.set_properties(**{'font-size':'6pt'}).background_gradient('Greys')"
   ]
  },
  {
   "cell_type": "markdown",
   "metadata": {},
   "source": [
    "# Datasets and DataLoader"
   ]
  },
  {
   "cell_type": "markdown",
   "metadata": {},
   "source": [
    "Stack all of the images for each category into a tensor of (#ims, img_w, img_h)."
   ]
  },
  {
   "cell_type": "code",
   "execution_count": null,
   "metadata": {},
   "outputs": [
    {
     "data": {
      "text/plain": [
       "(6131, 6265)"
      ]
     },
     "execution_count": null,
     "metadata": {},
     "output_type": "execute_result"
    }
   ],
   "source": [
    "seven_tensors = [tensor(Image.open(o)) for o in sevens]\n",
    "three_tensors = [tensor(Image.open(o)) for o in threes]\n",
    "len(three_tensors), len(seven_tensors)"
   ]
  },
  {
   "cell_type": "code",
   "execution_count": null,
   "metadata": {},
   "outputs": [
    {
     "data": {
      "text/plain": [
       "torch.Size([6131, 28, 28])"
      ]
     },
     "execution_count": null,
     "metadata": {},
     "output_type": "execute_result"
    }
   ],
   "source": [
    "three_train = torch.stack(three_tensors).float()/255\n",
    "seven_train = torch.stack(seven_tensors).float()/255\n",
    "three_train.shape"
   ]
  },
  {
   "cell_type": "markdown",
   "metadata": {},
   "source": [
    "Create validation sets."
   ]
  },
  {
   "cell_type": "code",
   "execution_count": null,
   "metadata": {},
   "outputs": [],
   "source": [
    "three_valid = torch.stack([tensor(Image.open(o)) for o in threes]).float()/255\n",
    "seven_valid = torch.stack([tensor(Image.open(o)) for o in sevens]).float()/255"
   ]
  },
  {
   "cell_type": "markdown",
   "metadata": {},
   "source": [
    "### Broadcasting review..."
   ]
  },
  {
   "cell_type": "markdown",
   "metadata": {},
   "source": [
    "Element-wise operations: elements in memory are matched up."
   ]
  },
  {
   "cell_type": "code",
   "execution_count": null,
   "metadata": {},
   "outputs": [
    {
     "data": {
      "text/plain": [
       "tensor([2, 3, 4])"
      ]
     },
     "execution_count": null,
     "metadata": {},
     "output_type": "execute_result"
    }
   ],
   "source": [
    "tensor([1,2,3]) + tensor([1,1,1])"
   ]
  },
  {
   "cell_type": "markdown",
   "metadata": {},
   "source": [
    "Broadcasting: since there aren't enough elements on the left to match up with the tensor on the right, the tensor is copied as many times as necessary, then they're matched up and computed. When broadcasting, the copies are NOT stored in memory, so the computation is lightning-fast."
   ]
  },
  {
   "cell_type": "code",
   "execution_count": null,
   "metadata": {},
   "outputs": [
    {
     "data": {
      "text/plain": [
       "tensor([[0, 1],\n",
       "        [2, 3],\n",
       "        [4, 5]])"
      ]
     },
     "execution_count": null,
     "metadata": {},
     "output_type": "execute_result"
    }
   ],
   "source": [
    "tensor([[1,2],[3,4],[5,6]]) - tensor([1,1])"
   ]
  },
  {
   "cell_type": "markdown",
   "metadata": {},
   "source": [
    "### ... Back to building the datasets."
   ]
  },
  {
   "cell_type": "markdown",
   "metadata": {},
   "source": [
    "Recap of what we've done so far:\n",
    "- Created four rank 3 tensors: `three_train`, `seven_train`, `three_valid`, and `seven_valid`.\n",
    "- Each of those tensors is a stack of rank 2 tensors (black and white images of 28x28 pixels).\n",
    "\n",
    "What we need to do to build a ds:\n",
    "- We need a training ds and a validation ds.\n",
    "- Each ds is a list of tensor tuples (x_i, y_i), s.t. each x_i is an img and each y_i is its label.\n",
    "- The labels will be a 0 or a 1 b/c this is a binary classifier. We'll assign 0 to sevens and 1 to threes."
   ]
  },
  {
   "cell_type": "markdown",
   "metadata": {},
   "source": [
    "The images in the dataset will be rearranged as one single row of 28*28=784 pixels."
   ]
  },
  {
   "cell_type": "code",
   "execution_count": null,
   "metadata": {},
   "outputs": [
    {
     "data": {
      "text/plain": [
       "torch.Size([12396, 784])"
      ]
     },
     "execution_count": null,
     "metadata": {},
     "output_type": "execute_result"
    }
   ],
   "source": [
    "train_x = torch.cat([three_train, seven_train]).view(-1, 28*28)\n",
    "train_x.shape"
   ]
  },
  {
   "cell_type": "markdown",
   "metadata": {},
   "source": [
    "*12,396 rows and 784 columns*"
   ]
  },
  {
   "cell_type": "code",
   "execution_count": null,
   "metadata": {},
   "outputs": [
    {
     "data": {
      "text/plain": [
       "torch.Size([12396, 1])"
      ]
     },
     "execution_count": null,
     "metadata": {},
     "output_type": "execute_result"
    }
   ],
   "source": [
    "train_y = tensor([1]*len(three_train) + [0]*len(seven_train)).unsqueeze(1)\n",
    "train_y.shape"
   ]
  },
  {
   "cell_type": "markdown",
   "metadata": {},
   "source": [
    "*12,396 rows and 1 column*"
   ]
  },
  {
   "cell_type": "markdown",
   "metadata": {},
   "source": [
    "Create pytorch dataset for training data."
   ]
  },
  {
   "cell_type": "markdown",
   "metadata": {},
   "source": [
    "Datasets are defined as:\n",
    "- being indexable w/[idx]\n",
    "- returns a tuple of (x,y)\n",
    "\n",
    "Said together, indexing into a dataset returns an (x,y) tuple."
   ]
  },
  {
   "cell_type": "code",
   "execution_count": null,
   "metadata": {},
   "outputs": [
    {
     "data": {
      "text/plain": [
       "(torch.Size([784]), tensor([1]))"
      ]
     },
     "execution_count": null,
     "metadata": {},
     "output_type": "execute_result"
    }
   ],
   "source": [
    "ds = list(zip(train_x, train_y))\n",
    "x,y = ds[0]\n",
    "x.shape, y"
   ]
  },
  {
   "cell_type": "markdown",
   "metadata": {},
   "source": [
    "Now to do the same thing for the valid_ds."
   ]
  },
  {
   "cell_type": "code",
   "execution_count": null,
   "metadata": {},
   "outputs": [],
   "source": [
    "valid_x = torch.cat([three_valid, seven_valid]).view(-1, 28*28)\n",
    "valid_y = tensor([1]*len(three_valid) + [0]*len(seven_valid)).unsqueeze(1)\n",
    "valid_ds = list(zip(valid_x, valid_y))"
   ]
  },
  {
   "cell_type": "markdown",
   "metadata": {},
   "source": [
    "### dl"
   ]
  },
  {
   "cell_type": "markdown",
   "metadata": {},
   "source": [
    "A DataLoader is a more complex class than a dataset with more to its definition. What we'll focus on right now is that a DataLoader is an iterable object that knows how to give data to a learner object for training with minibatches."
   ]
  },
  {
   "cell_type": "markdown",
   "metadata": {},
   "source": [
    "Turning the ds into a dl is simple."
   ]
  },
  {
   "cell_type": "code",
   "execution_count": null,
   "metadata": {},
   "outputs": [
    {
     "data": {
      "text/plain": [
       "(torch.Size([256, 784]), torch.Size([256, 1]))"
      ]
     },
     "execution_count": null,
     "metadata": {},
     "output_type": "execute_result"
    }
   ],
   "source": [
    "dl = DataLoader(ds, batch_size=256)\n",
    "\n",
    "xb, yb = first(dl)\n",
    "xb.shape, yb.shape"
   ]
  },
  {
   "cell_type": "code",
   "execution_count": null,
   "metadata": {},
   "outputs": [],
   "source": [
    "valid_dl = DataLoader(valid_ds, batch_size=256)"
   ]
  },
  {
   "cell_type": "markdown",
   "metadata": {},
   "source": [
    "# Arch"
   ]
  },
  {
   "cell_type": "markdown",
   "metadata": {},
   "source": [
    "The model is going to have a single layer. It will be the linear function weights*pixels + bias, with pixels being the image tensors.\n",
    "\n",
    "We'll create a function to initialize the \"weights\" and \"bias\" params."
   ]
  },
  {
   "cell_type": "code",
   "execution_count": null,
   "metadata": {},
   "outputs": [],
   "source": [
    "def init_params(size, var=1.0): return (torch.randn(size)*var).requires_grad_()"
   ]
  },
  {
   "cell_type": "code",
   "execution_count": null,
   "metadata": {},
   "outputs": [],
   "source": [
    "weights = init_params((28*28, 1))\n",
    "bias = init_params(1)"
   ]
  },
  {
   "cell_type": "markdown",
   "metadata": {},
   "source": [
    "Let's get a prediction from the untrained model."
   ]
  },
  {
   "cell_type": "code",
   "execution_count": null,
   "metadata": {},
   "outputs": [
    {
     "data": {
      "text/plain": [
       "tensor([1.1245], grad_fn=<AddBackward0>)"
      ]
     },
     "execution_count": null,
     "metadata": {},
     "output_type": "execute_result"
    }
   ],
   "source": [
    "(train_x[0] * weights.T).sum() + bias"
   ]
  },
  {
   "cell_type": "markdown",
   "metadata": {},
   "source": [
    "Calc all the preds."
   ]
  },
  {
   "cell_type": "code",
   "execution_count": null,
   "metadata": {},
   "outputs": [
    {
     "data": {
      "text/plain": [
       "tensor([[ 1.1245],\n",
       "        [-0.6244],\n",
       "        [-1.7694],\n",
       "        ...,\n",
       "        [-5.7155],\n",
       "        [ 6.7712],\n",
       "        [ 1.7582]], grad_fn=<AddBackward0>)"
      ]
     },
     "execution_count": null,
     "metadata": {},
     "output_type": "execute_result"
    }
   ],
   "source": [
    "def linear1(xb): return xb@weights + bias\n",
    "preds = linear1(train_x)\n",
    "preds"
   ]
  },
  {
   "cell_type": "markdown",
   "metadata": {},
   "source": [
    "How did we do?"
   ]
  },
  {
   "cell_type": "code",
   "execution_count": null,
   "metadata": {},
   "outputs": [
    {
     "data": {
      "text/plain": [
       "tensor([[ True],\n",
       "        [False],\n",
       "        [False],\n",
       "        ...,\n",
       "        [ True],\n",
       "        [False],\n",
       "        [False]])"
      ]
     },
     "execution_count": null,
     "metadata": {},
     "output_type": "execute_result"
    }
   ],
   "source": [
    "corrects = (preds>0.0).float() == train_y\n",
    "corrects"
   ]
  },
  {
   "cell_type": "code",
   "execution_count": null,
   "metadata": {},
   "outputs": [
    {
     "data": {
      "text/plain": [
       "0.48297837376594543"
      ]
     },
     "execution_count": null,
     "metadata": {},
     "output_type": "execute_result"
    }
   ],
   "source": [
    "corrects.float().mean().item()"
   ]
  },
  {
   "cell_type": "markdown",
   "metadata": {},
   "source": [
    "As expected – random weights = random guess... coin toss! Perfect."
   ]
  },
  {
   "cell_type": "markdown",
   "metadata": {},
   "source": [
    "# Loss"
   ]
  },
  {
   "cell_type": "markdown",
   "metadata": {},
   "source": [
    "Now, to make a loss function. This candidate function will return the correctness-adjusted confidence:"
   ]
  },
  {
   "cell_type": "code",
   "execution_count": null,
   "metadata": {},
   "outputs": [],
   "source": [
    "def conf_weighted_acc(preds, targs): return torch.where(targs==1, 1-preds, preds).mean()"
   ]
  },
  {
   "cell_type": "markdown",
   "metadata": {},
   "source": [
    "It will only work on numbers between 0 and 1. We'll transform the model outputs with sigmoid."
   ]
  },
  {
   "cell_type": "code",
   "execution_count": null,
   "metadata": {},
   "outputs": [],
   "source": [
    "def sigmoid(x): return 1/(1+torch.exp(-x))"
   ]
  },
  {
   "cell_type": "markdown",
   "metadata": {},
   "source": [
    "Together:"
   ]
  },
  {
   "cell_type": "code",
   "execution_count": null,
   "metadata": {},
   "outputs": [],
   "source": [
    "def loss_fxn(preds, targs): return conf_weighted_acc(preds.sigmoid(), targs)"
   ]
  },
  {
   "cell_type": "markdown",
   "metadata": {},
   "source": [
    "# Learner?"
   ]
  },
  {
   "cell_type": "markdown",
   "metadata": {},
   "source": [
    "Re-init params."
   ]
  },
  {
   "cell_type": "code",
   "execution_count": null,
   "metadata": {},
   "outputs": [],
   "source": [
    "weights = init_params((28*28, 1))\n",
    "bias = init_params(1)"
   ]
  },
  {
   "cell_type": "code",
   "execution_count": null,
   "metadata": {},
   "outputs": [],
   "source": [
    "def calc_grad(xb, yb, model):\n",
    "    preds = model(xb)\n",
    "    loss = loss_fxn(preds, yb)\n",
    "    loss.backward()"
   ]
  },
  {
   "cell_type": "code",
   "execution_count": null,
   "metadata": {},
   "outputs": [],
   "source": [
    "def train_epoch(dl, model, lr, params):\n",
    "    for xb,yb in dl: # for each bundle of ims and labels\n",
    "        calc_grad(xb, yb, model) # calc the grad given by the pred of the model\n",
    "        for p in params: # for each param (our params are the weights and bias)\n",
    "            p.data -= p.grad*lr # adjust the param\n",
    "            p.grad.zero_() # then reset its grad to zero so we can do it again"
   ]
  },
  {
   "cell_type": "code",
   "execution_count": null,
   "metadata": {},
   "outputs": [],
   "source": [
    "def batch_acc(preds, yb):\n",
    "    probs = preds.sigmoid()\n",
    "    corr = (probs>0.5) == yb\n",
    "    return corr.float().mean()"
   ]
  },
  {
   "cell_type": "markdown",
   "metadata": {},
   "source": [
    "Test batch_acc:"
   ]
  },
  {
   "cell_type": "code",
   "execution_count": null,
   "metadata": {},
   "outputs": [
    {
     "data": {
      "text/plain": [
       "tensor(0.4062)"
      ]
     },
     "execution_count": null,
     "metadata": {},
     "output_type": "execute_result"
    }
   ],
   "source": [
    "weights = init_params((28*28, 1))\n",
    "bias = init_params(1)\n",
    "\n",
    "xb, yb = first(dl)\n",
    "preds = linear1(xb)\n",
    "batch_acc(preds, yb)"
   ]
  },
  {
   "cell_type": "code",
   "execution_count": null,
   "metadata": {},
   "outputs": [],
   "source": [
    "def epoch_acc(model):\n",
    "    accs = [batch_acc(model(xb), yb) for xb,yb in valid_dl]\n",
    "    return round(torch.stack(accs).mean().item(), 4)"
   ]
  },
  {
   "cell_type": "markdown",
   "metadata": {},
   "source": [
    "epoch_acc on the untrained model will give us our starting accuracy."
   ]
  },
  {
   "cell_type": "code",
   "execution_count": null,
   "metadata": {},
   "outputs": [
    {
     "data": {
      "text/plain": [
       "0.5468"
      ]
     },
     "execution_count": null,
     "metadata": {},
     "output_type": "execute_result"
    }
   ],
   "source": [
    "epoch_acc(linear1)"
   ]
  },
  {
   "cell_type": "markdown",
   "metadata": {},
   "source": [
    "Let's run an iteration!"
   ]
  },
  {
   "cell_type": "code",
   "execution_count": null,
   "metadata": {},
   "outputs": [
    {
     "data": {
      "text/plain": [
       "0.6894"
      ]
     },
     "execution_count": null,
     "metadata": {},
     "output_type": "execute_result"
    }
   ],
   "source": [
    "lr = 1.\n",
    "params = weights, bias\n",
    "train_epoch(dl, linear1, lr, params)\n",
    "epoch_acc(linear1)"
   ]
  },
  {
   "cell_type": "markdown",
   "metadata": {},
   "source": [
    "It worked! Let's do 20 more!"
   ]
  },
  {
   "cell_type": "code",
   "execution_count": null,
   "metadata": {},
   "outputs": [
    {
     "name": "stdout",
     "output_type": "stream",
     "text": [
      "0.8432 0.9056 0.9302 0.942 0.9511 0.9546 0.9578 0.9606 0.9631 0.9648 0.9664 0.9677 0.9692 0.9699 0.9709 0.9717 0.9726 0.9735 0.9744 0.9757 "
     ]
    }
   ],
   "source": [
    "for i in range(20):\n",
    "    train_epoch(dl, linear1, lr, params)\n",
    "    print(epoch_acc(linear1), end=' ')"
   ]
  },
  {
   "cell_type": "markdown",
   "metadata": {},
   "source": [
    "# Adding in functionality from pytorch and fastai"
   ]
  },
  {
   "cell_type": "code",
   "execution_count": null,
   "metadata": {},
   "outputs": [],
   "source": [
    "model = nn.Linear(28*28, 1)"
   ]
  },
  {
   "cell_type": "code",
   "execution_count": null,
   "metadata": {},
   "outputs": [],
   "source": [
    "class BasicOptim:\n",
    "    def __init__(self, params, lr): self.params, self.lr = list(params), lr\n",
    "    \n",
    "    def move_a_step(self, *args, **kwargs):\n",
    "        for p in self.params: p.data -= p.grad.data * self.lr\n",
    "    \n",
    "    def clear_grad(self, *args, **kwargs):\n",
    "        for p in self.params: p.grad = None"
   ]
  },
  {
   "cell_type": "code",
   "execution_count": null,
   "metadata": {},
   "outputs": [],
   "source": [
    "opt = BasicOptim(model.parameters(), lr)"
   ]
  },
  {
   "cell_type": "code",
   "execution_count": null,
   "metadata": {},
   "outputs": [],
   "source": [
    "def train_epoch(dl, model):\n",
    "    for xb,yb in dl:\n",
    "        calc_grad(xb, yb, model)\n",
    "        opt.move_a_step()\n",
    "        opt.clear_grad()"
   ]
  },
  {
   "cell_type": "code",
   "execution_count": null,
   "metadata": {},
   "outputs": [],
   "source": [
    "def train_model(dl, model, epochs):\n",
    "    for i in range(epochs):\n",
    "        train_epoch(dl, model)\n",
    "        print(f\"{i}: {epoch_acc(model)}\")"
   ]
  },
  {
   "cell_type": "markdown",
   "metadata": {},
   "source": [
    "Let's recreate the model and the opt and run it!"
   ]
  },
  {
   "cell_type": "code",
   "execution_count": null,
   "metadata": {},
   "outputs": [
    {
     "name": "stdout",
     "output_type": "stream",
     "text": [
      "0: 0.4888\n",
      "1: 0.7659\n",
      "2: 0.85\n",
      "3: 0.9063\n",
      "4: 0.9319\n",
      "5: 0.9462\n",
      "6: 0.9538\n",
      "7: 0.9592\n",
      "8: 0.9647\n",
      "9: 0.9684\n",
      "10: 0.9711\n",
      "11: 0.9729\n",
      "12: 0.9742\n",
      "13: 0.9752\n",
      "14: 0.9762\n",
      "15: 0.9768\n",
      "16: 0.9778\n",
      "17: 0.9782\n",
      "18: 0.9792\n",
      "19: 0.9798\n"
     ]
    }
   ],
   "source": [
    "model = nn.Linear(28*28, 1)\n",
    "opt = BasicOptim(model.parameters(), lr)\n",
    "train_model(dl, model, 20)"
   ]
  },
  {
   "cell_type": "markdown",
   "metadata": {},
   "source": [
    "Now let's train using fastai's build in optimizer SGD."
   ]
  },
  {
   "cell_type": "code",
   "execution_count": null,
   "metadata": {},
   "outputs": [
    {
     "data": {
      "text/plain": [
       "'Outputs an error!'"
      ]
     },
     "execution_count": null,
     "metadata": {},
     "output_type": "execute_result"
    }
   ],
   "source": [
    "mod = nn.Linear(28*28, 1)\n",
    "opt = SGD(mod.parameters(), lr)\n",
    "# train_model(dl, mod, 20)\n",
    "\"\"\"Outputs an error!\"\"\""
   ]
  },
  {
   "cell_type": "markdown",
   "metadata": {},
   "source": [
    "Oops! We have to rename the method calls in train_model to match the fastai methods."
   ]
  },
  {
   "cell_type": "code",
   "execution_count": null,
   "metadata": {},
   "outputs": [],
   "source": [
    "def train_epoch(dl, model):\n",
    "    for xb,yb in dl:\n",
    "        calc_grad(xb, yb, model)\n",
    "        opt.step()\n",
    "        opt.zero_grad()"
   ]
  },
  {
   "cell_type": "code",
   "execution_count": null,
   "metadata": {},
   "outputs": [
    {
     "name": "stdout",
     "output_type": "stream",
     "text": [
      "0: 0.4888\n",
      "1: 0.944\n",
      "2: 0.7274\n",
      "3: 0.876\n",
      "4: 0.9171\n",
      "5: 0.9381\n",
      "6: 0.9489\n",
      "7: 0.9555\n",
      "8: 0.9615\n",
      "9: 0.9661\n",
      "10: 0.9695\n",
      "11: 0.9715\n",
      "12: 0.9734\n",
      "13: 0.9743\n",
      "14: 0.9754\n",
      "15: 0.9764\n",
      "16: 0.9773\n",
      "17: 0.9782\n",
      "18: 0.9783\n",
      "19: 0.9793\n"
     ]
    }
   ],
   "source": [
    "mod = nn.Linear(28*28, 1)\n",
    "opt = SGD(mod.parameters(), lr)\n",
    "train_model(dl, mod, 20)"
   ]
  },
  {
   "cell_type": "markdown",
   "metadata": {},
   "source": [
    "# Building a simple nn"
   ]
  },
  {
   "cell_type": "markdown",
   "metadata": {},
   "source": [
    "To go from our simple linear model to a nn, we need to add a non-linear component to our model.\n",
    "\n",
    "Here's what we'll do:\n",
    "- Use a linear layer that inputs 28*28 pix and outputs 30 numbers.\n",
    "- For each of those 30 numbers, set the ones less than or equal to 0 to 0.\n",
    "- Use a final linear layer that inputs 30 numbers and outputs 1.\n",
    "\n",
    "Some notes:\n",
    "- Why 30? Well, why not? lol\n",
    "- The middle step is the ReLU function\n",
    "- Note that the input to each step is the output of the layer above it."
   ]
  },
  {
   "cell_type": "code",
   "execution_count": null,
   "metadata": {},
   "outputs": [],
   "source": [
    "mod = nn.Sequential(\n",
    "  nn.Linear(28*28, 30),\n",
    "  nn.ReLU(),\n",
    "  nn.Linear(30, 1))"
   ]
  },
  {
   "cell_type": "code",
   "execution_count": null,
   "metadata": {},
   "outputs": [],
   "source": [
    "dls = DataLoaders(dl, valid_dl)"
   ]
  },
  {
   "cell_type": "code",
   "execution_count": null,
   "metadata": {},
   "outputs": [],
   "source": [
    "learner = Learner(dls, mod, opt_func=SGD, loss_func=loss_fxn, metrics=batch_acc)"
   ]
  },
  {
   "cell_type": "code",
   "execution_count": null,
   "metadata": {},
   "outputs": [
    {
     "data": {
      "text/html": [
       "<table border=\"1\" class=\"dataframe\">\n",
       "  <thead>\n",
       "    <tr style=\"text-align: left;\">\n",
       "      <th>epoch</th>\n",
       "      <th>train_loss</th>\n",
       "      <th>valid_loss</th>\n",
       "      <th>batch_acc</th>\n",
       "      <th>time</th>\n",
       "    </tr>\n",
       "  </thead>\n",
       "  <tbody>\n",
       "    <tr>\n",
       "      <td>0</td>\n",
       "      <td>0.189695</td>\n",
       "      <td>0.489009</td>\n",
       "      <td>0.505405</td>\n",
       "      <td>00:00</td>\n",
       "    </tr>\n",
       "    <tr>\n",
       "      <td>1</td>\n",
       "      <td>0.091960</td>\n",
       "      <td>0.262529</td>\n",
       "      <td>0.741772</td>\n",
       "      <td>00:00</td>\n",
       "    </tr>\n",
       "    <tr>\n",
       "      <td>2</td>\n",
       "      <td>0.045190</td>\n",
       "      <td>0.119872</td>\n",
       "      <td>0.885286</td>\n",
       "      <td>00:00</td>\n",
       "    </tr>\n",
       "    <tr>\n",
       "      <td>3</td>\n",
       "      <td>0.027697</td>\n",
       "      <td>0.084465</td>\n",
       "      <td>0.919410</td>\n",
       "      <td>00:00</td>\n",
       "    </tr>\n",
       "    <tr>\n",
       "      <td>4</td>\n",
       "      <td>0.019914</td>\n",
       "      <td>0.067529</td>\n",
       "      <td>0.935544</td>\n",
       "      <td>00:00</td>\n",
       "    </tr>\n",
       "    <tr>\n",
       "      <td>5</td>\n",
       "      <td>0.016098</td>\n",
       "      <td>0.057639</td>\n",
       "      <td>0.944982</td>\n",
       "      <td>00:00</td>\n",
       "    </tr>\n",
       "    <tr>\n",
       "      <td>6</td>\n",
       "      <td>0.014057</td>\n",
       "      <td>0.051363</td>\n",
       "      <td>0.950871</td>\n",
       "      <td>00:00</td>\n",
       "    </tr>\n",
       "    <tr>\n",
       "      <td>7</td>\n",
       "      <td>0.012778</td>\n",
       "      <td>0.046887</td>\n",
       "      <td>0.954905</td>\n",
       "      <td>00:00</td>\n",
       "    </tr>\n",
       "    <tr>\n",
       "      <td>8</td>\n",
       "      <td>0.011832</td>\n",
       "      <td>0.043525</td>\n",
       "      <td>0.958535</td>\n",
       "      <td>00:00</td>\n",
       "    </tr>\n",
       "    <tr>\n",
       "      <td>9</td>\n",
       "      <td>0.011044</td>\n",
       "      <td>0.040772</td>\n",
       "      <td>0.961520</td>\n",
       "      <td>00:00</td>\n",
       "    </tr>\n",
       "    <tr>\n",
       "      <td>10</td>\n",
       "      <td>0.010386</td>\n",
       "      <td>0.038288</td>\n",
       "      <td>0.963295</td>\n",
       "      <td>00:00</td>\n",
       "    </tr>\n",
       "    <tr>\n",
       "      <td>11</td>\n",
       "      <td>0.009900</td>\n",
       "      <td>0.036016</td>\n",
       "      <td>0.966118</td>\n",
       "      <td>00:00</td>\n",
       "    </tr>\n",
       "    <tr>\n",
       "      <td>12</td>\n",
       "      <td>0.009590</td>\n",
       "      <td>0.033928</td>\n",
       "      <td>0.968377</td>\n",
       "      <td>00:00</td>\n",
       "    </tr>\n",
       "    <tr>\n",
       "      <td>13</td>\n",
       "      <td>0.009384</td>\n",
       "      <td>0.032090</td>\n",
       "      <td>0.970071</td>\n",
       "      <td>00:00</td>\n",
       "    </tr>\n",
       "    <tr>\n",
       "      <td>14</td>\n",
       "      <td>0.009218</td>\n",
       "      <td>0.030599</td>\n",
       "      <td>0.971039</td>\n",
       "      <td>00:00</td>\n",
       "    </tr>\n",
       "    <tr>\n",
       "      <td>15</td>\n",
       "      <td>0.009061</td>\n",
       "      <td>0.029367</td>\n",
       "      <td>0.972491</td>\n",
       "      <td>00:00</td>\n",
       "    </tr>\n",
       "    <tr>\n",
       "      <td>16</td>\n",
       "      <td>0.008898</td>\n",
       "      <td>0.028299</td>\n",
       "      <td>0.973943</td>\n",
       "      <td>00:00</td>\n",
       "    </tr>\n",
       "    <tr>\n",
       "      <td>17</td>\n",
       "      <td>0.008723</td>\n",
       "      <td>0.027357</td>\n",
       "      <td>0.974750</td>\n",
       "      <td>00:00</td>\n",
       "    </tr>\n",
       "    <tr>\n",
       "      <td>18</td>\n",
       "      <td>0.008536</td>\n",
       "      <td>0.026544</td>\n",
       "      <td>0.975476</td>\n",
       "      <td>00:00</td>\n",
       "    </tr>\n",
       "    <tr>\n",
       "      <td>19</td>\n",
       "      <td>0.008341</td>\n",
       "      <td>0.025857</td>\n",
       "      <td>0.975960</td>\n",
       "      <td>00:00</td>\n",
       "    </tr>\n",
       "    <tr>\n",
       "      <td>20</td>\n",
       "      <td>0.008148</td>\n",
       "      <td>0.025272</td>\n",
       "      <td>0.976444</td>\n",
       "      <td>00:00</td>\n",
       "    </tr>\n",
       "    <tr>\n",
       "      <td>21</td>\n",
       "      <td>0.007963</td>\n",
       "      <td>0.024765</td>\n",
       "      <td>0.976847</td>\n",
       "      <td>00:00</td>\n",
       "    </tr>\n",
       "    <tr>\n",
       "      <td>22</td>\n",
       "      <td>0.007787</td>\n",
       "      <td>0.024318</td>\n",
       "      <td>0.976767</td>\n",
       "      <td>00:00</td>\n",
       "    </tr>\n",
       "    <tr>\n",
       "      <td>23</td>\n",
       "      <td>0.007620</td>\n",
       "      <td>0.023918</td>\n",
       "      <td>0.976847</td>\n",
       "      <td>00:00</td>\n",
       "    </tr>\n",
       "    <tr>\n",
       "      <td>24</td>\n",
       "      <td>0.007460</td>\n",
       "      <td>0.023559</td>\n",
       "      <td>0.976928</td>\n",
       "      <td>00:00</td>\n",
       "    </tr>\n",
       "    <tr>\n",
       "      <td>25</td>\n",
       "      <td>0.007310</td>\n",
       "      <td>0.023226</td>\n",
       "      <td>0.977089</td>\n",
       "      <td>00:00</td>\n",
       "    </tr>\n",
       "    <tr>\n",
       "      <td>26</td>\n",
       "      <td>0.007172</td>\n",
       "      <td>0.022916</td>\n",
       "      <td>0.977412</td>\n",
       "      <td>00:00</td>\n",
       "    </tr>\n",
       "    <tr>\n",
       "      <td>27</td>\n",
       "      <td>0.007044</td>\n",
       "      <td>0.022622</td>\n",
       "      <td>0.977573</td>\n",
       "      <td>00:00</td>\n",
       "    </tr>\n",
       "    <tr>\n",
       "      <td>28</td>\n",
       "      <td>0.006925</td>\n",
       "      <td>0.022342</td>\n",
       "      <td>0.977815</td>\n",
       "      <td>00:00</td>\n",
       "    </tr>\n",
       "    <tr>\n",
       "      <td>29</td>\n",
       "      <td>0.006813</td>\n",
       "      <td>0.022075</td>\n",
       "      <td>0.978057</td>\n",
       "      <td>00:00</td>\n",
       "    </tr>\n",
       "    <tr>\n",
       "      <td>30</td>\n",
       "      <td>0.006708</td>\n",
       "      <td>0.021816</td>\n",
       "      <td>0.978380</td>\n",
       "      <td>00:00</td>\n",
       "    </tr>\n",
       "    <tr>\n",
       "      <td>31</td>\n",
       "      <td>0.006610</td>\n",
       "      <td>0.021564</td>\n",
       "      <td>0.978783</td>\n",
       "      <td>00:00</td>\n",
       "    </tr>\n",
       "    <tr>\n",
       "      <td>32</td>\n",
       "      <td>0.006519</td>\n",
       "      <td>0.021315</td>\n",
       "      <td>0.979187</td>\n",
       "      <td>00:00</td>\n",
       "    </tr>\n",
       "    <tr>\n",
       "      <td>33</td>\n",
       "      <td>0.006437</td>\n",
       "      <td>0.021076</td>\n",
       "      <td>0.979429</td>\n",
       "      <td>00:00</td>\n",
       "    </tr>\n",
       "    <tr>\n",
       "      <td>34</td>\n",
       "      <td>0.006366</td>\n",
       "      <td>0.020844</td>\n",
       "      <td>0.979510</td>\n",
       "      <td>00:00</td>\n",
       "    </tr>\n",
       "    <tr>\n",
       "      <td>35</td>\n",
       "      <td>0.006306</td>\n",
       "      <td>0.020621</td>\n",
       "      <td>0.979671</td>\n",
       "      <td>00:00</td>\n",
       "    </tr>\n",
       "    <tr>\n",
       "      <td>36</td>\n",
       "      <td>0.006254</td>\n",
       "      <td>0.020408</td>\n",
       "      <td>0.979913</td>\n",
       "      <td>00:00</td>\n",
       "    </tr>\n",
       "    <tr>\n",
       "      <td>37</td>\n",
       "      <td>0.006209</td>\n",
       "      <td>0.020204</td>\n",
       "      <td>0.980074</td>\n",
       "      <td>00:00</td>\n",
       "    </tr>\n",
       "    <tr>\n",
       "      <td>38</td>\n",
       "      <td>0.006169</td>\n",
       "      <td>0.020010</td>\n",
       "      <td>0.980316</td>\n",
       "      <td>00:00</td>\n",
       "    </tr>\n",
       "    <tr>\n",
       "      <td>39</td>\n",
       "      <td>0.006132</td>\n",
       "      <td>0.019822</td>\n",
       "      <td>0.980478</td>\n",
       "      <td>00:00</td>\n",
       "    </tr>\n",
       "  </tbody>\n",
       "</table>"
      ],
      "text/plain": [
       "<IPython.core.display.HTML object>"
      ]
     },
     "metadata": {},
     "output_type": "display_data"
    }
   ],
   "source": [
    "learner.fit(40, lr=lr)"
   ]
  },
  {
   "cell_type": "code",
   "execution_count": null,
   "metadata": {},
   "outputs": [
    {
     "data": {
      "image/png": "[encoded data removed]",
      "text/plain": [
       "<Figure size 432x288 with 1 Axes>"
      ]
     },
     "metadata": {
      "needs_background": "light"
     },
     "output_type": "display_data"
    }
   ],
   "source": [
    "plt.plot(L(learner.recorder.values).itemgot(2));"
   ]
  },
  {
   "cell_type": "code",
   "execution_count": null,
   "metadata": {},
   "outputs": [
    {
     "data": {
      "text/plain": [
       "0.9804775714874268"
      ]
     },
     "execution_count": null,
     "metadata": {},
     "output_type": "execute_result"
    }
   ],
   "source": [
    "learner.recorder.values[-1][2]"
   ]
  },
  {
   "cell_type": "markdown",
   "metadata": {},
   "source": [
    "# Where we're going"
   ]
  },
  {
   "cell_type": "code",
   "execution_count": null,
   "metadata": {},
   "outputs": [
    {
     "data": {
      "text/html": [
       "<table border=\"1\" class=\"dataframe\">\n",
       "  <thead>\n",
       "    <tr style=\"text-align: left;\">\n",
       "      <th>epoch</th>\n",
       "      <th>train_loss</th>\n",
       "      <th>valid_loss</th>\n",
       "      <th>accuracy</th>\n",
       "      <th>time</th>\n",
       "    </tr>\n",
       "  </thead>\n",
       "  <tbody>\n",
       "    <tr>\n",
       "      <td>0</td>\n",
       "      <td>0.094167</td>\n",
       "      <td>0.011750</td>\n",
       "      <td>0.996565</td>\n",
       "      <td>00:05</td>\n",
       "    </tr>\n",
       "  </tbody>\n",
       "</table>"
      ],
      "text/plain": [
       "<IPython.core.display.HTML object>"
      ]
     },
     "metadata": {},
     "output_type": "display_data"
    }
   ],
   "source": [
    "dls = ImageDataLoaders.from_folder(path)\n",
    "learn = cnn_learner(dls, resnet18, pretrained=False, loss_func=F.cross_entropy,\n",
    "                    metrics=accuracy)\n",
    "learn.fit_one_cycle(1, 0.1)"
   ]
  },
  {
   "cell_type": "markdown",
   "metadata": {},
   "source": [
    "Finished 29 Apr 2021."
   ]
  }
 ],
 "metadata": {
  "kernelspec": {
   "display_name": "Python 3",
   "language": "python",
   "name": "python3"
  }
 },
 "nbformat": 4,
 "nbformat_minor": 4
}
