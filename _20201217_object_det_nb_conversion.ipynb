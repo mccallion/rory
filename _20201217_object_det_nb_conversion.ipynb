{
 "cells": [
  {
   "cell_type": "markdown",
   "metadata": {},
   "source": [
    "<h1>Table of Contents<span class=\"tocSkip\"></span></h1>\n",
    "<div class=\"toc\"><ul class=\"toc-item\"></ul></div>"
   ]
  },
  {
   "cell_type": "code",
   "execution_count": null,
   "metadata": {},
   "outputs": [],
   "source": [
    "from fastai.vision.all import *\n",
    "\n",
    "from pathlib import Path\n",
    "import json\n",
    "from PIL import ImageDraw, ImageFont\n",
    "from matplotlib import patches, patheffects\n",
    "from ipywidgets import FloatProgress\n",
    "from IPython.display import display\n",
    "import time"
   ]
  },
  {
   "cell_type": "code",
   "execution_count": null,
   "metadata": {},
   "outputs": [],
   "source": [
    "def random_seed(s, use_cuda):\n",
    "    #Also, remember to use num_workers=0 when creating the DataBunch\n",
    "    np.random.seed(s)\n",
    "    torch.manual_seed(s)\n",
    "    random.seed(s)\n",
    "    if use_cuda:\n",
    "        torch.cuda.manual_seed(s)\n",
    "        torch.cuda.manual_seed_all(s)\n",
    "        torch.backends.cudnn.deterministic = True\n",
    "        torch.backends.cudnn.benchmark = False      \n",
    "random_seed(42,True)"
   ]
  },
  {
   "cell_type": "code",
   "execution_count": null,
   "metadata": {},
   "outputs": [],
   "source": [
    "def dict2list(d):\n",
    "    return [(k,v) for k,v in list(d.items())]"
   ]
  },
  {
   "cell_type": "code",
   "execution_count": null,
   "metadata": {},
   "outputs": [],
   "source": [
    "path = untar_data(URLs.PASCAL_2007)\n",
    "annos_path = path/'train.json'\n",
    "ims_path = path/'train'"
   ]
  },
  {
   "cell_type": "code",
   "execution_count": null,
   "metadata": {},
   "outputs": [],
   "source": [
    "trn_json = json.load(annos_path.open())                        # {'images':[img data], ...\n",
    "cats = {o['id']:o['name'] for o in trn_json['categories']}     # {1: 'aeroplane', ...\n",
    "imgs_fn = {o['id']:o['file_name'] for o in trn_json['images']} # {12:'000012.jpg', 17: ...\n",
    "imgs_id = [o['id'] for o in trn_json['images']]                # [12, 17, 23, ..."
   ]
  },
  {
   "cell_type": "code",
   "execution_count": null,
   "metadata": {},
   "outputs": [],
   "source": [
    "trn_anno = collections.defaultdict(lambda:[])                  # {12: [(bb,clsid)], ...\n",
    "for annot in trn_json['annotations']:\n",
    "    if annot['ignore'] == 0:\n",
    "        bb = annot['bbox']\n",
    "        #Transforms bb which is left,top, width, height into top, left, bottom, right.\n",
    "        bb = [bb[1],bb[0],bb[1] + bb[3], bb[0]+bb[2]]\n",
    "        trn_anno[annot[('image_id')]].append((bb, annot['category_id']))"
   ]
  },
  {
   "cell_type": "code",
   "execution_count": null,
   "metadata": {},
   "outputs": [],
   "source": [
    "f_model       = resnet34\n",
    "size=im_sz    = 224\n",
    "batch_size=bs = 32"
   ]
  },
  {
   "cell_type": "code",
   "execution_count": null,
   "metadata": {},
   "outputs": [
    {
     "data": {
      "text/plain": [
       "array([array([6]), array([14, 12]), array([ 1,  1, 14, 14, 14])],\n",
       "      dtype=object)"
      ]
     },
     "execution_count": null,
     "metadata": {},
     "output_type": "execute_result"
    }
   ],
   "source": [
    "annot_cats = [[cats[int(ann[1])] for ann in trn_anno[i]] for i in imgs_id]\n",
    "id2cats = list(cats.values())\n",
    "cats2id = {c:i for i,c in enumerate(id2cats)}\n",
    "model_cats = np.array([np.array([cats2id[c] for c in ac]) for ac in annot_cats],\n",
    "                      dtype=object)\n",
    "model_cats[0:3] # obj classes per im; encoded from [0,19]"
   ]
  },
  {
   "cell_type": "code",
   "execution_count": null,
   "metadata": {},
   "outputs": [
    {
     "data": {
      "text/plain": [
       "['96 155 270 351',\n",
       " '61 184 199 279 77 89 336 403',\n",
       " '229 8 500 245 219 229 500 334 0 1 369 117 1 2 462 243 0 224 486 334']"
      ]
     },
     "execution_count": null,
     "metadata": {},
     "output_type": "execute_result"
    }
   ],
   "source": [
    "model_bbs  = [np.concatenate([ann[0] for ann in trn_anno[i]]) for i in imgs_id]\n",
    "model_bbsc = [' '.join([str(p) for p in o]) for o in model_bbs]\n",
    "model_bbsc[0:3] # bb coords per im"
   ]
  },
  {
   "cell_type": "markdown",
   "metadata": {},
   "source": [
    "**dls**"
   ]
  },
  {
   "cell_type": "code",
   "execution_count": null,
   "metadata": {},
   "outputs": [
    {
     "data": {
      "text/plain": [
       "([96, 155, 270, 351], [6])"
      ]
     },
     "execution_count": null,
     "metadata": {},
     "output_type": "execute_result"
    }
   ],
   "source": [
    "fnames = [imgs_fn[k] for k in imgs_fn]\n",
    "labels = list(zip(model_bbs, model_cats))\n",
    "labels = [(list(bb),list(cls)) for bb,cls in labels]\n",
    "\n",
    "fn2label = {k:v for k,v in zip(fnames,labels)}\n",
    "fn2label[fnames[0]]"
   ]
  },
  {
   "cell_type": "code",
   "execution_count": null,
   "metadata": {},
   "outputs": [],
   "source": [
    "def get_path(f): return ims_path/f\n",
    "def get_bb(f):   return fn2label[f][0]\n",
    "def get_cls(f):  return fn2label[f][1]"
   ]
  },
  {
   "cell_type": "code",
   "execution_count": null,
   "metadata": {},
   "outputs": [
    {
     "data": {
      "text/plain": [
       "(Path('/home/rory/.fastai/data/pascal_2007/train/000012.jpg'),\n",
       " [96, 155, 270, 351],\n",
       " [6])"
      ]
     },
     "execution_count": null,
     "metadata": {},
     "output_type": "execute_result"
    }
   ],
   "source": [
    "fnidx=0\n",
    "get_path(fnames[fnidx]),  get_bb(fnames[fnidx]),  get_cls(fnames[fnidx])"
   ]
  },
  {
   "cell_type": "code",
   "execution_count": null,
   "metadata": {},
   "outputs": [],
   "source": [
    "dss = Datasets(fnames, [[get_path, PILImage.create, ToTensor(), Resize(im_sz, method='squish')],\n",
    "                        [get_bb, TensorBBox.create],\n",
    "                        [get_cls, MultiCategorize(add_na=False)]],\n",
    "               n_inp=1)"
   ]
  },
  {
   "cell_type": "code",
   "execution_count": null,
   "metadata": {},
   "outputs": [
    {
     "data": {
      "text/plain": [
       "[[torch.Size([3, 224, 224]), torch.Size([1, 4]), torch.Size([1])],\n",
       " [torch.Size([3, 224, 224]), torch.Size([2, 4]), torch.Size([2])],\n",
       " [torch.Size([3, 224, 224]), torch.Size([5, 4]), torch.Size([5])],\n",
       " [torch.Size([3, 224, 224]), torch.Size([1, 4]), torch.Size([1])],\n",
       " [torch.Size([3, 224, 224]), torch.Size([4, 4]), torch.Size([4])]]"
      ]
     },
     "execution_count": null,
     "metadata": {},
     "output_type": "execute_result"
    }
   ],
   "source": [
    "[[r.shape for r in s] for s in dss[0:5]]"
   ]
  },
  {
   "cell_type": "code",
   "execution_count": null,
   "metadata": {},
   "outputs": [],
   "source": [
    "aug_tfms = setup_aug_tfms([IntToFloatTensor(),Rotate(),Brightness(),Contrast(),Flip()])\n",
    "\n",
    "tfmdl = TfmdDL(dss, bs=bs, after_item=[BBoxLabeler(), PointScaler()],\n",
    "               before_batch=bb_pad, after_batch=aug_tfms)\n",
    "\n",
    "b=next(iter(tfmdl))"
   ]
  },
  {
   "cell_type": "code",
   "execution_count": null,
   "metadata": {},
   "outputs": [
    {
     "data": {
      "text/plain": [
       "torch.Size([32, 3, 224, 224])"
      ]
     },
     "execution_count": null,
     "metadata": {},
     "output_type": "execute_result"
    }
   ],
   "source": [
    "b[0].shape"
   ]
  },
  {
   "cell_type": "code",
   "execution_count": null,
   "metadata": {},
   "outputs": [
    {
     "data": {
      "text/plain": [
       "torch.Size([32, 6, 4])"
      ]
     },
     "execution_count": null,
     "metadata": {},
     "output_type": "execute_result"
    }
   ],
   "source": [
    "b[1].shape"
   ]
  },
  {
   "cell_type": "code",
   "execution_count": null,
   "metadata": {},
   "outputs": [
    {
     "data": {
      "text/plain": [
       "torch.Size([32, 6])"
      ]
     },
     "execution_count": null,
     "metadata": {},
     "output_type": "execute_result"
    }
   ],
   "source": [
    "b[2].shape"
   ]
  }
 ],
 "metadata": {
  "kernelspec": {
   "display_name": "Python 3",
   "language": "python",
   "name": "python3"
  }
 },
 "nbformat": 4,
 "nbformat_minor": 4
}
