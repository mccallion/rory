{
 "cells": [
  {
   "cell_type": "markdown",
   "metadata": {},
   "source": [
    "<h1>Table of Contents<span class=\"tocSkip\"></span></h1>\n",
    "<div class=\"toc\"><ul class=\"toc-item\"><li><span><a href=\"#Data\" data-toc-modified-id=\"Data-1\"><span class=\"toc-item-num\">1&nbsp;&nbsp;</span>Data</a></span><ul class=\"toc-item\"><li><span><a href=\"#v1-style\" data-toc-modified-id=\"v1-style-1.1\"><span class=\"toc-item-num\">1.1&nbsp;&nbsp;</span>v1 style</a></span></li><li><span><a href=\"#v2-style\" data-toc-modified-id=\"v2-style-1.2\"><span class=\"toc-item-num\">1.2&nbsp;&nbsp;</span>v2 style</a></span></li></ul></li><li><span><a href=\"#Arch\" data-toc-modified-id=\"Arch-2\"><span class=\"toc-item-num\">2&nbsp;&nbsp;</span>Arch</a></span><ul class=\"toc-item\"><li><span><a href=\"#Anchors\" data-toc-modified-id=\"Anchors-2.1\"><span class=\"toc-item-num\">2.1&nbsp;&nbsp;</span>Anchors</a></span></li><li><span><a href=\"#Layers\" data-toc-modified-id=\"Layers-2.2\"><span class=\"toc-item-num\">2.2&nbsp;&nbsp;</span>Layers</a></span></li><li><span><a href=\"#Loss-Functions\" data-toc-modified-id=\"Loss-Functions-2.3\"><span class=\"toc-item-num\">2.3&nbsp;&nbsp;</span>Loss Functions</a></span></li></ul></li><li><span><a href=\"#Train\" data-toc-modified-id=\"Train-3\"><span class=\"toc-item-num\">3&nbsp;&nbsp;</span>Train</a></span></li><li><span><a href=\"#Stepping-through-a-batch\" data-toc-modified-id=\"Stepping-through-a-batch-4\"><span class=\"toc-item-num\">4&nbsp;&nbsp;</span>Stepping through a batch</a></span></li></ul></div>"
   ]
  },
  {
   "cell_type": "code",
   "execution_count": null,
   "metadata": {},
   "outputs": [],
   "source": [
    "from fastai.vision.all import *\n",
    "\n",
    "from pathlib import Path\n",
    "import json\n",
    "from PIL import ImageDraw, ImageFont\n",
    "from matplotlib import patches, patheffects\n",
    "from ipywidgets import FloatProgress\n",
    "from IPython.display import display\n",
    "import time"
   ]
  },
  {
   "cell_type": "code",
   "execution_count": null,
   "metadata": {},
   "outputs": [],
   "source": [
    "### RM Utils ###\n",
    "\n",
    "def random_seed(s, use_cuda):\n",
    "    #Also, remember to use num_workers=0 when creating the DataBunch\n",
    "    np.random.seed(s)\n",
    "    torch.manual_seed(s)\n",
    "    random.seed(s)\n",
    "    if use_cuda:\n",
    "        torch.cuda.manual_seed(s)\n",
    "        torch.cuda.manual_seed_all(s)\n",
    "        torch.backends.cudnn.deterministic = True\n",
    "        torch.backends.cudnn.benchmark = False      \n",
    "random_seed(42,True)\n",
    "\n",
    "def dict2list(d):\n",
    "    return [(k,v) for k,v in list(d.items())]"
   ]
  },
  {
   "cell_type": "markdown",
   "metadata": {},
   "source": [
    "# Data"
   ]
  },
  {
   "cell_type": "markdown",
   "metadata": {},
   "source": [
    "## v1 style"
   ]
  },
  {
   "cell_type": "code",
   "execution_count": null,
   "metadata": {},
   "outputs": [],
   "source": [
    "path = untar_data(URLs.PASCAL_2007)\n",
    "annos_path = path/'train.json'\n",
    "ims_path = path/'train'"
   ]
  },
  {
   "cell_type": "code",
   "execution_count": null,
   "metadata": {},
   "outputs": [],
   "source": [
    "trn_json = json.load(annos_path.open())                        # {'images':[img data], ...\n",
    "cats = {o['id']:o['name'] for o in trn_json['categories']}     # {1: 'aeroplane', ...\n",
    "imgs_fn = {o['id']:o['file_name'] for o in trn_json['images']} # {12:'000012.jpg', 17: ...\n",
    "imgs_id = [o['id'] for o in trn_json['images']]                # [12, 17, 23, ..."
   ]
  },
  {
   "cell_type": "code",
   "execution_count": null,
   "metadata": {},
   "outputs": [],
   "source": [
    "trn_anno = collections.defaultdict(lambda:[])                  # {12: [(bb,clsid)], ...\n",
    "for annot in trn_json['annotations']:\n",
    "    if annot['ignore'] == 0:\n",
    "        bb = annot['bbox']\n",
    "        #Transforms bb which is left,top, width, height into top, left, bottom, right.\n",
    "        bb = [bb[1],bb[0],bb[1] + bb[3], bb[0]+bb[2]]\n",
    "        trn_anno[annot[('image_id')]].append((bb, annot['category_id']))"
   ]
  },
  {
   "cell_type": "code",
   "execution_count": null,
   "metadata": {},
   "outputs": [],
   "source": [
    "f_model       = resnet34\n",
    "size=im_sz    = 224\n",
    "batch_size=bs = 64"
   ]
  },
  {
   "cell_type": "code",
   "execution_count": null,
   "metadata": {},
   "outputs": [
    {
     "data": {
      "text/plain": [
       "array([array([6]), array([14, 12]), array([ 1,  1, 14, 14, 14])],\n",
       "      dtype=object)"
      ]
     },
     "execution_count": null,
     "metadata": {},
     "output_type": "execute_result"
    }
   ],
   "source": [
    "annot_cats = [[cats[int(ann[1])] for ann in trn_anno[i]] for i in imgs_id]\n",
    "id2cats = list(cats.values())\n",
    "cats2id = {c:i for i,c in enumerate(id2cats)}\n",
    "model_cats = np.array([np.array([cats2id[c] for c in ac]) for ac in annot_cats],\n",
    "                      dtype=object)\n",
    "model_cats[0:3] # obj classes per im; encoded from [0,19]"
   ]
  },
  {
   "cell_type": "code",
   "execution_count": null,
   "metadata": {},
   "outputs": [
    {
     "data": {
      "text/plain": [
       "['96 155 270 351',\n",
       " '61 184 199 279 77 89 336 403',\n",
       " '229 8 500 245 219 229 500 334 0 1 369 117 1 2 462 243 0 224 486 334']"
      ]
     },
     "execution_count": null,
     "metadata": {},
     "output_type": "execute_result"
    }
   ],
   "source": [
    "model_bbs  = [np.concatenate([ann[0] for ann in trn_anno[i]]) for i in imgs_id]\n",
    "model_bbsc = [' '.join([str(p) for p in o]) for o in model_bbs]\n",
    "model_bbsc[0:3] # bb coords per im"
   ]
  },
  {
   "cell_type": "markdown",
   "metadata": {},
   "source": [
    "**dls**"
   ]
  },
  {
   "cell_type": "code",
   "execution_count": null,
   "metadata": {},
   "outputs": [
    {
     "data": {
      "text/plain": [
       "([96, 155, 270, 351], [6])"
      ]
     },
     "execution_count": null,
     "metadata": {},
     "output_type": "execute_result"
    }
   ],
   "source": [
    "fns    = [imgs_fn[k] for k in imgs_fn]\n",
    "labels = [(list(b),list(c)) for b,c in zip(model_bbs,model_cats)]\n",
    "\n",
    "fn2label = {k:v for k,v in zip(fns,labels)}\n",
    "fn2label[fns[0]]"
   ]
  },
  {
   "cell_type": "code",
   "execution_count": null,
   "metadata": {},
   "outputs": [
    {
     "data": {
      "text/plain": [
       "(Path('/home/rory/.fastai/data/pascal_2007/train/000012.jpg'),\n",
       " [96, 155, 270, 351],\n",
       " [6])"
      ]
     },
     "execution_count": null,
     "metadata": {},
     "output_type": "execute_result"
    }
   ],
   "source": [
    "def get_path(f): return ims_path/f\n",
    "def get_bb(f):   return fn2label[f][0]\n",
    "def get_cls(f):  return fn2label[f][1]\n",
    "\n",
    "i=0; get_path(fns[i]), get_bb(fns[i]), get_cls(fns[i])"
   ]
  },
  {
   "cell_type": "code",
   "execution_count": null,
   "metadata": {},
   "outputs": [
    {
     "data": {
      "text/plain": [
       "(tensor([[[0.4096, 0.4096, 0.4058,  ..., 0.2923, 0.2923, 0.2961],\n",
       "          [0.4507, 0.4133, 0.4283,  ..., 0.2961, 0.3000, 0.3000],\n",
       "          [0.4544, 0.4208, 0.3795,  ..., 0.3038, 0.3076, 0.3076],\n",
       "          ...,\n",
       "          [0.5585, 0.5660, 0.5697,  ..., 0.6180, 0.6143, 0.6106],\n",
       "          [0.5771, 0.5734, 0.5697,  ..., 0.6367, 0.6292, 0.6255],\n",
       "          [0.5697, 0.5734, 0.5697,  ..., 0.6553, 0.6479, 0.6367]],\n",
       " \n",
       "         [[0.3304, 0.3304, 0.4358,  ..., 0.4656, 0.4693, 0.4730],\n",
       "          [0.3266, 0.4021, 0.5437,  ..., 0.4730, 0.4768, 0.4768],\n",
       "          [0.3456, 0.5251, 0.6069,  ..., 0.4768, 0.4842, 0.4842],\n",
       "          ...,\n",
       "          [0.5846, 0.5920, 0.5957,  ..., 0.6255, 0.6255, 0.6255],\n",
       "          [0.5957, 0.5920, 0.5920,  ..., 0.6404, 0.6441, 0.6404],\n",
       "          [0.5846, 0.5920, 0.5883,  ..., 0.6591, 0.6591, 0.6516]],\n",
       " \n",
       "         [[0.1913, 0.4171, 0.7913,  ..., 0.7837, 0.7799, 0.7760],\n",
       "          [0.2885, 0.5808, 0.8811,  ..., 0.7875, 0.7837, 0.7760],\n",
       "          [0.4842, 0.7837, 0.9174,  ..., 0.7913, 0.7875, 0.7837],\n",
       "          ...,\n",
       "          [0.6218, 0.6292, 0.6329,  ..., 0.6292, 0.6329, 0.6292],\n",
       "          [0.6292, 0.6292, 0.6292,  ..., 0.6479, 0.6479, 0.6479],\n",
       "          [0.6180, 0.6255, 0.6255,  ..., 0.6666, 0.6666, 0.6628]]],\n",
       "        device='cuda:0'),\n",
       " tensor([[-0.4120,  1.0000, -0.3280,  1.0000],\n",
       "         [ 0.0000,  0.0000,  0.0000,  0.0000],\n",
       "         [ 0.0000,  0.0000,  0.0000,  0.0000],\n",
       "         [ 0.0000,  0.0000,  0.0000,  0.0000],\n",
       "         [ 0.0000,  0.0000,  0.0000,  0.0000],\n",
       "         [ 0.0000,  0.0000,  0.0000,  0.0000],\n",
       "         [ 0.0000,  0.0000,  0.0000,  0.0000],\n",
       "         [ 0.0000,  0.0000,  0.0000,  0.0000],\n",
       "         [ 0.0000,  0.0000,  0.0000,  0.0000],\n",
       "         [ 0.0000,  0.0000,  0.0000,  0.0000],\n",
       "         [ 0.0000,  0.0000,  0.0000,  0.0000]], device='cuda:0'),\n",
       " tensor([6, 0, 0, 0, 0, 0, 0, 0, 0, 0, 0], device='cuda:0'))"
      ]
     },
     "execution_count": null,
     "metadata": {},
     "output_type": "execute_result"
    }
   ],
   "source": [
    "fn_tfms  = [get_path, PILImage.create]\n",
    "bb_tfms  = [get_bb, TensorBBox.create]\n",
    "cls_tfms = [get_cls, MultiCategorize(add_na=False)]\n",
    "dss = Datasets(fns, [fn_tfms, bb_tfms, cls_tfms], splits=RandomSplitter()(fns), n_inp=1)\n",
    "\n",
    "item_tfms = [BBoxLabeler(), PointScaler(), Resize(size,'squish'), ToTensor()]\n",
    "aug_tfms  = setup_aug_tfms([IntToFloatTensor(), Rotate(), Brightness(), Contrast(), Flip()])\n",
    "dls = dss.dataloaders(bs=bs, after_item=item_tfms, before_batch=bb_pad, after_batch=aug_tfms)\n",
    "\n",
    "b=next(iter(dls.train)); b[0][0], b[1][0], b[2][0]"
   ]
  },
  {
   "cell_type": "code",
   "execution_count": null,
   "metadata": {},
   "outputs": [
    {
     "data": {
      "text/plain": [
       "31"
      ]
     },
     "execution_count": null,
     "metadata": {},
     "output_type": "execute_result"
    }
   ],
   "source": [
    "len(dls.train)"
   ]
  },
  {
   "cell_type": "code",
   "execution_count": null,
   "metadata": {},
   "outputs": [],
   "source": [
    "dls.vocab = L(id2cats)\n",
    "dls.ncls = len(dls.vocab)"
   ]
  },
  {
   "cell_type": "markdown",
   "metadata": {},
   "source": [
    "## v2 style"
   ]
  },
  {
   "cell_type": "code",
   "execution_count": null,
   "metadata": {},
   "outputs": [],
   "source": [
    "### Imports & Paths ###\n",
    "from fastai.vision.all import *\n",
    "import pandas as pd\n",
    "\n",
    "def random_seed(s, use_cuda):\n",
    "    #Also, remember to use num_workers=0 when creating the DataBunch\n",
    "    np.random.seed(s)\n",
    "    torch.manual_seed(s)\n",
    "    random.seed(s)\n",
    "    if use_cuda:\n",
    "        torch.cuda.manual_seed(s)\n",
    "        torch.cuda.manual_seed_all(s)\n",
    "        torch.backends.cudnn.deterministic = True\n",
    "        torch.backends.cudnn.benchmark = False      \n",
    "random_seed(42,True)\n",
    "\n",
    "\n",
    "### Params ###\n",
    "im_sz   = 224\n",
    "bs      = 64\n",
    "val_pct = .2\n",
    "sub_pct = 1\n",
    "path = untar_data(URLs.PASCAL_2007)\n",
    "annos_path = path/'train.json'\n",
    "ims_path = path/'train'\n",
    "\n",
    "\n",
    "### Items ###\n",
    "fns, annos = get_annotations(annos_path)\n",
    "fn2anno = {f:a for f,a in zip(fns,annos)}\n",
    "def get_im(f):   return ims_path/f\n",
    "def get_bbox(f): return fn2anno[f][0]\n",
    "def get_lbl(f):  return fn2anno[f][1]\n",
    "def get_both(f): return (get_bbox(f), get_lbl(f))\n",
    "\n",
    "\n",
    "### DataLoaders ###\n",
    "itfms = Resize(im_sz, method='squish')\n",
    "btfms = setup_aug_tfms([Rotate(), Brightness(), Contrast(), Flip(),\n",
    "                       Normalize.from_stats(*imagenet_stats)])\n",
    "db = DataBlock(\n",
    "    blocks=[ImageBlock, BBoxBlock, BBoxLblBlock(add_na=False)],\n",
    "    get_x=get_im,\n",
    "    get_y=[get_bbox, get_lbl],\n",
    "    splitter=RandomSplitter(val_pct),\n",
    "    item_tfms=itfms,\n",
    "    batch_tfms=btfms,\n",
    "    n_inp=1)\n",
    "dls = db.dataloaders(fns, bs=bs)\n",
    "# subset = L(fns).shuffle()[0:int(len(fns)*sub_pct)]\n",
    "# dls = db.dataloaders(subset, bs=bs)\n",
    "dls.v = dls.vocab\n",
    "dls.ncls = len(dls.vocab)"
   ]
  },
  {
   "cell_type": "markdown",
   "metadata": {},
   "source": [
    "# Arch"
   ]
  },
  {
   "cell_type": "markdown",
   "metadata": {},
   "source": [
    "## Anchors"
   ]
  },
  {
   "cell_type": "code",
   "execution_count": null,
   "metadata": {},
   "outputs": [],
   "source": [
    "### Anchors ###\n",
    "from numpy import array as arr, concatenate as cat, tile, repeat, stack, linspace\n",
    "\n",
    "divs = [4,2,1]\n",
    "zooms = [0.75, 1., 1.3]\n",
    "aspects = [(1.,1.), (1.,0.5), (0.5,1.)]\n",
    "perms = [(zm*x,zm*y) for zm in zooms for (x,y) in aspects]\n",
    "spacing = [1/(o*2) for o in divs]\n",
    "k = len(perms) # k == number of permutations per box\n",
    "\n",
    "xs   = cat([  tile(linspace(s,1-s,d),d) for s,d in zip(spacing,divs)])\n",
    "ys   = cat([repeat(linspace(s,1-s,d),d) for s,d in zip(spacing,divs)])\n",
    "ctrs = repeat(stack([xs,ys], axis=1), k, axis=0)\n",
    "anc_sizes = cat([arr([[w/d,h/d] for i in range(d*d) for w,h in perms]) for d in divs])\n",
    "grid_sizes = tensor(cat([arr([1/d for i in range(d*d) for p in perms]) for d in divs]),\n",
    "                    requires_grad=False).unsqueeze(1)\n",
    "anchors = tensor(cat([ctrs, anc_sizes], axis=1), requires_grad=False).float()\n",
    "\n",
    "def hw2corners(ctr, hw): return torch.cat([ctr-hw/2,ctr+hw/2], dim=1)\n",
    "anchor_cnr = hw2corners(anchors[:,:2], anchors[:,2:])"
   ]
  },
  {
   "cell_type": "markdown",
   "metadata": {},
   "source": [
    "## Layers"
   ]
  },
  {
   "cell_type": "code",
   "execution_count": null,
   "metadata": {},
   "outputs": [],
   "source": [
    "### Architecture ###\n",
    "class StdConv(nn.Module):\n",
    "    def __init__(self, n_in, n_out, stride=2, dp=0.1):\n",
    "        super().__init__()\n",
    "        self.conv = nn.Conv2d(n_in,n_out,3,stride=stride,padding=1)\n",
    "        self.bn = nn.BatchNorm2d(n_out)\n",
    "        self.dropout = nn.Dropout(dp)\n",
    "        \n",
    "    def forward(self,x):\n",
    "        return self.dropout(self.bn(F.relu(self.conv(x))))\n",
    "    \n",
    "def flatten_conv(x,k):\n",
    "    bs,nf,gx,gy = x.size()\n",
    "    x = x.permute(0,2,3,1).contiguous()\n",
    "    return x.view(bs,-1,nf//k)\n",
    "\n",
    "class OutConv(nn.Module):\n",
    "    def __init__(self, k, n_in, bias):\n",
    "        super().__init__()\n",
    "        self.k = k\n",
    "        self.bbs  = nn.Conv2d(n_in,            4*k, 3, padding=1)\n",
    "        self.lbls = nn.Conv2d(n_in, (dls.ncls+1)*k, 3, padding=1)\n",
    "        self.lbls.bias.data.zero_().add_(bias)\n",
    "        \n",
    "    def forward(self,x):\n",
    "        return [flatten_conv(self.bbs(x),  self.k),\n",
    "                flatten_conv(self.lbls(x), self.k)]\n",
    "    \n",
    "class SSD_MultiHead(nn.Module):\n",
    "    def __init__(self, k, bias=-4., drop=0.4):\n",
    "        super().__init__()\n",
    "        self.drop = nn.Dropout(drop)\n",
    "        self.sconv1 = StdConv(512,256, dp=drop)\n",
    "        self.sconv2 = StdConv(256,256, dp=drop)\n",
    "        self.sconv3 = StdConv(256,256, dp=drop)\n",
    "        self.out1 = OutConv(k, 256, bias)\n",
    "        self.out2 = OutConv(k, 256, bias)\n",
    "        self.out3 = OutConv(k, 256, bias)\n",
    "\n",
    "    def forward(self, x):\n",
    "        x = self.drop(F.relu(x))\n",
    "        x = self.sconv1(x)\n",
    "        bbs1,lbls1 = self.out1(x)\n",
    "        x = self.sconv2(x)\n",
    "        bbs2,lbls2 = self.out2(x)\n",
    "        x = self.sconv3(x)\n",
    "        bbs3,lbls3 = self.out3(x)\n",
    "        return [torch.cat([ bbs1, bbs2, bbs3], dim=1),\n",
    "                torch.cat([lbls1,lbls2,lbls3], dim=1)]\n",
    "    \n",
    "class CustMod(Module):\n",
    "    def __init__(self, body, head):\n",
    "        self.body, self.head = body, head\n",
    "        \n",
    "    def forward(self, x):\n",
    "        return self.head(self.body(x))"
   ]
  },
  {
   "cell_type": "markdown",
   "metadata": {},
   "source": [
    "## Loss Functions"
   ]
  },
  {
   "cell_type": "code",
   "execution_count": null,
   "metadata": {},
   "outputs": [],
   "source": [
    "### FocalLoss ###\n",
    "def one_hot_embedding(labels, num_classes):\n",
    "    return torch.eye(num_classes)[labels.data].to(device)\n",
    "\n",
    "class BCE_Loss(nn.Module):\n",
    "    def __init__(self, num_classes, device):\n",
    "        super().__init__()\n",
    "        self.num_classes, self.device = num_classes, device\n",
    "    \n",
    "    def forward(self, preds, targets):\n",
    "        t = one_hot_embedding(targets, self.num_classes+1)\n",
    "        t = tensor(t[:,:-1].contiguous())\n",
    "        x = preds[:,:-1]\n",
    "        w = self.get_weight(x,t).detach()\n",
    "        return F.binary_cross_entropy_with_logits(x,t,w,reduction='sum') / self.num_classes\n",
    "    \n",
    "    def get_weight(self,x,t):\n",
    "        return None\n",
    "\n",
    "class FocalLoss(BCE_Loss):\n",
    "    def get_weight(self,x,t):\n",
    "        alpha,gamma = 0.25,2.\n",
    "        p = x.sigmoid()\n",
    "        pt = p*t + (1-p)*(1-t)\n",
    "        w = alpha*t + (1-alpha)*(1-t)\n",
    "        return w * (1-pt).pow(gamma)\n",
    "\n",
    "    \n",
    "### IoU ###\n",
    "def intersection(box_a,box_b):\n",
    "    min_xy = torch.max(box_a[:,None,:2],box_b[None,:,:2])\n",
    "    max_xy = torch.min(box_a[:,None,2:],box_b[None,:,2:])\n",
    "    inter = torch.clamp(max_xy-min_xy,min=0)\n",
    "    return inter[:,:,0] * inter[:,:,1]\n",
    "def get_size(box):\n",
    "    return (box[:,2]-box[:,0]) * (box[:,3] - box[:,1])\n",
    "def jaccard(box_a,box_b):\n",
    "    inter = intersection(box_a,box_b)\n",
    "    union = get_size(box_a).unsqueeze(1) + get_size(box_b).unsqueeze(0) - inter\n",
    "    return inter/union\n",
    "\n",
    "\n",
    "### ssd_loss ###\n",
    "def get_y(bbox,clas):\n",
    "    bbox = bbox.view(-1,4)\n",
    "    bb_keep = ((bbox[:,2] - bbox[:,0])>0.).nonzero()[:,0]\n",
    "    return bbox[bb_keep], clas[bb_keep]\n",
    "    \n",
    "def actn_to_bb(actn, anchors):\n",
    "    actn_bbs = torch.tanh(actn)\n",
    "    actn_ctrs = (actn_bbs.cuda()[:,:2] * grid_sizes.cuda()/2) + anchors.cuda()[:,:2]\n",
    "    actn_hw = (1 + actn_bbs.cuda()[:,2:]/2) * anchors.cuda()[:,2:]\n",
    "    return hw2corners(actn_ctrs,actn_hw)\n",
    "\n",
    "def map_to_ground_truth(overlaps, print_it=False):\n",
    "    prior_overlap, prior_idx = overlaps.max(1)\n",
    "    if print_it: print(prior_overlap)\n",
    "    gt_overlap, gt_idx = overlaps.max(0)\n",
    "    gt_overlap[prior_idx] = 1.99\n",
    "    for i,o in enumerate(prior_idx): gt_idx[o] = i\n",
    "    return gt_overlap,gt_idx\n",
    "\n",
    "def ssd_1_loss(b_bb, b_c, bbox, clas, print_it=False, use_ab=True):\n",
    "    bbox,clas = get_y(bbox,clas)\n",
    "    a_ic = actn_to_bb(b_bb, anchors)\n",
    "    overlaps = jaccard(bbox.data, (anchor_cnr.cuda() if use_ab else a_ic).data)\n",
    "    gt_overlap,gt_idx = map_to_ground_truth(overlaps)\n",
    "    gt_clas = clas[gt_idx]\n",
    "    pos = gt_overlap > 0.4\n",
    "    pos_idx = torch.nonzero(pos)[:,0]\n",
    "    gt_clas[~pos] = dls.ncls\n",
    "    gt_bbox = bbox[gt_idx]\n",
    "    loc_loss = ((a_ic[pos_idx] - gt_bbox[pos_idx]).abs()).mean()\n",
    "    clas_loss  = loss_f(b_c, gt_clas)\n",
    "    return loc_loss, clas_loss\n",
    "\n",
    "def ssd_loss(acts, bbs, lbls, print_it=False):\n",
    "    bb_sum, lbl_sum = 0., 0.\n",
    "    for abb, albl, bb, lbl in zip(*acts, bbs, lbls):\n",
    "        bb_loss, lbl_loss = ssd_1_loss(abb, albl, bb, lbl, print_it)\n",
    "        bb_sum += bb_loss\n",
    "        lbl_sum += lbl_loss\n",
    "    met.bb.append(bb_sum)\n",
    "    met.lbl.append(lbl_sum)\n",
    "    return bb_sum + lbl_sum"
   ]
  },
  {
   "cell_type": "code",
   "execution_count": null,
   "metadata": {},
   "outputs": [],
   "source": [
    "class ShowLosses(Metric):\n",
    "    \n",
    "    def __init__(self): self.bb,self.lbl = [],[]\n",
    "        \n",
    "    def reset(self):    self.bb,self.lbl = [],[] \n",
    "        \n",
    "    def accumulate(self, learn): pass\n",
    "    \n",
    "    @property\n",
    "    def value(self):\n",
    "        bb_loss  = round((sum(self.bb )/len(self.bb )).item(), 2)\n",
    "        lbl_loss = round((sum(self.lbl)/len(self.lbl)).item(), 2)\n",
    "        return bb_loss, lbl_loss\n",
    "    \n",
    "    @property\n",
    "    def name(self): return \"MAE, Focal\""
   ]
  },
  {
   "cell_type": "markdown",
   "metadata": {},
   "source": [
    "# Train"
   ]
  },
  {
   "cell_type": "code",
   "execution_count": null,
   "metadata": {},
   "outputs": [],
   "source": [
    "device='cuda'\n",
    "body = create_body(resnet34, pretrained=True)\n",
    "head = SSD_MultiHead(k, -4.)\n",
    "mod = CustMod(body, head)\n",
    "loss_f = FocalLoss(dls.ncls, device)\n",
    "met = ShowLosses()"
   ]
  },
  {
   "cell_type": "code",
   "execution_count": null,
   "metadata": {},
   "outputs": [],
   "source": [
    "learner = Learner(dls, mod, loss_func=ssd_loss, metrics=met)\n",
    "learner.freeze()\n",
    "# learner.lr_find()"
   ]
  },
  {
   "cell_type": "code",
   "execution_count": null,
   "metadata": {},
   "outputs": [
    {
     "data": {
      "text/html": [
       "<table border=\"1\" class=\"dataframe\">\n",
       "  <thead>\n",
       "    <tr style=\"text-align: left;\">\n",
       "      <th>epoch</th>\n",
       "      <th>train_loss</th>\n",
       "      <th>valid_loss</th>\n",
       "      <th>MAE, Focal</th>\n",
       "      <th>time</th>\n",
       "    </tr>\n",
       "  </thead>\n",
       "  <tbody>\n",
       "    <tr>\n",
       "      <td>0</td>\n",
       "      <td>38.176125</td>\n",
       "      <td>40.924175</td>\n",
       "      <td>(25.8, 15.05)</td>\n",
       "      <td>00:13</td>\n",
       "    </tr>\n",
       "    <tr>\n",
       "      <td>1</td>\n",
       "      <td>33.642242</td>\n",
       "      <td>29.388613</td>\n",
       "      <td>(19.53, 9.78)</td>\n",
       "      <td>00:15</td>\n",
       "    </tr>\n",
       "    <tr>\n",
       "      <td>2</td>\n",
       "      <td>31.306536</td>\n",
       "      <td>30.799395</td>\n",
       "      <td>(20.8, 9.94)</td>\n",
       "      <td>00:12</td>\n",
       "    </tr>\n",
       "    <tr>\n",
       "      <td>3</td>\n",
       "      <td>29.876642</td>\n",
       "      <td>32.802368</td>\n",
       "      <td>(23.43, 9.25)</td>\n",
       "      <td>00:12</td>\n",
       "    </tr>\n",
       "    <tr>\n",
       "      <td>4</td>\n",
       "      <td>28.831141</td>\n",
       "      <td>26.362925</td>\n",
       "      <td>(18.94, 7.34)</td>\n",
       "      <td>00:12</td>\n",
       "    </tr>\n",
       "    <tr>\n",
       "      <td>5</td>\n",
       "      <td>28.000237</td>\n",
       "      <td>26.951889</td>\n",
       "      <td>(18.67, 8.2)</td>\n",
       "      <td>00:12</td>\n",
       "    </tr>\n",
       "    <tr>\n",
       "      <td>6</td>\n",
       "      <td>27.271841</td>\n",
       "      <td>25.895023</td>\n",
       "      <td>(18.65, 7.15)</td>\n",
       "      <td>00:12</td>\n",
       "    </tr>\n",
       "    <tr>\n",
       "      <td>7</td>\n",
       "      <td>26.539713</td>\n",
       "      <td>25.380730</td>\n",
       "      <td>(18.31, 6.99)</td>\n",
       "      <td>00:12</td>\n",
       "    </tr>\n",
       "  </tbody>\n",
       "</table>"
      ],
      "text/plain": [
       "<IPython.core.display.HTML object>"
      ]
     },
     "metadata": {},
     "output_type": "display_data"
    }
   ],
   "source": [
    "# learner.fit_one_cycle(8, lr=1e-3)"
   ]
  },
  {
   "cell_type": "code",
   "execution_count": null,
   "metadata": {},
   "outputs": [],
   "source": [
    "# learner.export('models/20201218_object_det_nb_conversion.pkl')"
   ]
  },
  {
   "cell_type": "markdown",
   "metadata": {},
   "source": [
    "# Stepping through a batch"
   ]
  },
  {
   "cell_type": "code",
   "execution_count": null,
   "metadata": {},
   "outputs": [],
   "source": [
    "batch = next(iter(dls.train))\n",
    "acts = mod(batch[0])\n",
    "bbs, lbls = batch[1], batch[2]"
   ]
  },
  {
   "cell_type": "code",
   "execution_count": null,
   "metadata": {},
   "outputs": [
    {
     "data": {
      "text/plain": [
       "[torch.Size([32, 189, 4]), torch.Size([32, 189, 21])]"
      ]
     },
     "execution_count": null,
     "metadata": {},
     "output_type": "execute_result"
    }
   ],
   "source": [
    "[t.shape for t in acts]"
   ]
  },
  {
   "cell_type": "code",
   "execution_count": null,
   "metadata": {},
   "outputs": [
    {
     "name": "stdout",
     "output_type": "stream",
     "text": [
      "tensor([[-6.8240e-01,  8.8219e-01, -1.4185e-01, -2.3007e-01],\n",
      "        [-1.2655e-02,  7.6450e-01,  2.7903e-02, -3.8718e-01],\n",
      "        [-6.4121e-01, -6.9655e-01,  1.8215e-01,  5.4302e-01],\n",
      "        [-2.7926e-01,  5.9302e-01, -2.2809e-01, -7.0039e-02],\n",
      "        [-7.4155e-02,  2.4040e-03,  2.0239e-01, -4.7266e-01],\n",
      "        [-5.0507e-01,  9.6168e-02, -3.3744e-01,  2.5188e-01],\n",
      "        [-5.0722e-01, -9.5825e-02, -2.9593e-02, -2.9554e-01],\n",
      "        [ 2.0470e-01, -4.5720e-02, -2.0977e-01, -9.9086e-01],\n",
      "        [-3.9952e-01,  6.7212e-02,  6.4349e-01, -9.3568e-01],\n",
      "        [-4.9669e-01,  5.9573e-01, -1.0969e+00,  2.8203e-02],\n",
      "        [ 1.7540e-01, -2.7322e-01,  3.8311e-01, -1.6349e-01],\n",
      "        [-1.7120e+00, -3.8405e-01, -3.5705e-01,  3.7406e-01],\n",
      "        [ 1.7404e-01, -7.5092e-02, -1.0668e+00, -3.0026e-01],\n",
      "        [ 4.7586e-01,  4.8957e-01, -5.1402e-02, -1.1554e+00],\n",
      "        [-1.1033e+00,  1.8234e+00, -1.1935e-01, -1.2620e-02],\n",
      "        [-5.5104e-01, -1.1290e+00, -1.7175e+00, -9.7550e-01],\n",
      "        [-2.1973e-02, -2.7117e-01, -8.1543e-01, -2.0529e-01],\n",
      "        [ 3.9147e-01, -2.4805e-01,  7.1799e-01, -8.1784e-01],\n",
      "        [-3.7884e-01,  7.6821e-01,  4.6609e-01,  3.3181e-01],\n",
      "        [ 3.2846e-01, -2.3922e-01, -5.2666e-01,  1.7296e-01],\n",
      "        [-1.6730e+00,  4.2800e-01,  5.0530e-01, -2.0310e-01],\n",
      "        [-1.4151e-01, -2.9966e-02, -9.1046e-01,  2.7926e-01],\n",
      "        [ 1.0811e-01,  3.4633e-01,  2.6771e-01, -6.4605e-01],\n",
      "        [-5.6656e-01,  1.2537e+00, -2.1549e-02, -2.9157e-01],\n",
      "        [ 2.2497e-01, -5.8932e-01, -1.1930e+00, -9.7738e-01],\n",
      "        [-1.1341e-01, -2.9053e-01,  8.0477e-01, -2.1057e-01],\n",
      "        [ 7.4304e-01, -1.3277e+00,  8.6276e-03, -1.4854e+00],\n",
      "        [ 2.4837e-01, -1.6904e-01,  7.2647e-01, -2.6042e-01],\n",
      "        [ 1.5949e-01, -7.6218e-01,  6.7686e-01,  1.0256e+00],\n",
      "        [-3.9937e-01, -4.7937e-01,  2.3541e-01, -1.5916e-01],\n",
      "        [-1.3329e-01, -4.8208e-01, -5.9792e-01, -6.9312e-01],\n",
      "        [-4.0782e-01,  7.3337e-01, -2.7203e-01,  2.5606e-01],\n",
      "        [-4.8765e-01,  6.0583e-01,  5.2202e-01,  1.0619e+00],\n",
      "        [ 4.0526e-01,  6.2358e-01,  5.4274e-01, -2.2253e-01],\n",
      "        [ 6.0708e-02, -8.6620e-01, -2.5777e-02, -3.3225e-01],\n",
      "        [ 1.4549e-02, -2.4462e-01, -4.0949e-01, -1.4138e-02],\n",
      "        [-6.5578e-01,  1.1509e+00,  5.9014e-01, -8.2242e-01],\n",
      "        [ 6.2694e-01, -3.3058e-01, -1.2168e-01, -2.1507e-02],\n",
      "        [ 3.3409e-01, -5.6527e-01,  3.8772e-01, -2.5293e-01],\n",
      "        [-5.5462e-01,  2.3833e-01, -4.7633e-02, -3.4057e-01],\n",
      "        [-2.2347e-01,  2.4914e-01, -1.7868e-01, -1.6533e-01],\n",
      "        [-5.3130e-01,  5.6956e-01, -5.5081e-01,  7.0214e-01],\n",
      "        [-3.1368e-01, -8.8935e-01, -6.1151e-01, -3.7756e-02],\n",
      "        [-3.0657e-01,  9.9018e-02,  1.0703e-01, -8.0795e-01],\n",
      "        [ 2.0954e-01,  6.7263e-01,  1.1321e+00,  2.4481e-01],\n",
      "        [-5.9616e-01, -3.1709e-02, -3.9385e-02, -3.9179e-01],\n",
      "        [-1.2192e+00,  8.2949e-01,  3.3294e-01, -6.2013e-01],\n",
      "        [-1.8358e+00, -2.3336e+00, -1.2629e+00, -1.9718e-01],\n",
      "        [-7.4612e-01,  1.5647e-01,  7.3944e-01, -7.4239e-01],\n",
      "        [ 1.1833e+00,  2.6066e-01, -1.9105e-01,  4.1381e-01],\n",
      "        [-2.1047e-01,  7.9390e-01,  2.5033e-01,  7.7018e-01],\n",
      "        [ 8.3636e-01,  6.4577e-01, -8.0091e-01,  7.4229e-01],\n",
      "        [ 5.1522e-02, -2.5787e-01,  1.0818e+00, -1.5510e-01],\n",
      "        [-1.1107e+00,  5.4935e-01,  1.4073e+00,  4.0055e-01],\n",
      "        [-1.2435e+00, -3.5846e-01,  4.8711e-01,  1.7999e-01],\n",
      "        [-4.5478e-01, -2.0344e-01,  1.2125e+00,  3.1926e-01],\n",
      "        [-1.2634e+00, -2.3632e-01, -2.5192e-01, -4.6833e-01],\n",
      "        [ 5.5887e-02,  6.7218e-01, -6.5185e-01,  6.1178e-01],\n",
      "        [ 5.5312e-01, -2.5550e-01, -5.1201e-01,  1.4009e+00],\n",
      "        [ 8.8368e-01, -2.7695e-01,  1.5672e+00, -5.2033e-01],\n",
      "        [-2.0704e-01,  1.0483e+00,  1.9707e-01, -7.3499e-01],\n",
      "        [ 7.2350e-01, -1.2181e+00,  2.2621e-01, -6.7373e-02],\n",
      "        [ 2.8408e-01, -1.0334e-02, -7.3800e-02,  5.0481e-01],\n",
      "        [-5.2071e-01,  1.2455e+00,  3.4223e-01,  7.4713e-01],\n",
      "        [ 9.9525e-01,  8.7859e-01,  1.1303e+00,  3.7459e-02],\n",
      "        [ 8.7998e-01, -6.1175e-02,  2.4943e-01,  1.1676e+00],\n",
      "        [ 6.0222e-01,  2.1647e-01,  3.1623e-01,  8.2063e-02],\n",
      "        [ 2.5365e-01,  2.0451e-01, -5.9587e-01,  2.0521e-01],\n",
      "        [-1.4869e-02, -5.9502e-01, -2.0818e-01,  7.5950e-01],\n",
      "        [-1.2279e-01, -1.2782e+00,  5.0137e-02,  8.0520e-01],\n",
      "        [ 3.0055e-01,  8.6632e-01,  8.1565e-01, -3.0149e-01],\n",
      "        [-2.4410e-01,  2.7827e-01,  9.3730e-02,  2.0782e-01],\n",
      "        [-9.3556e-01, -6.4502e-01,  1.4400e+00,  1.9788e-01],\n",
      "        [ 3.1068e-01,  8.4291e-02, -1.0321e-01,  4.3485e-01],\n",
      "        [-3.2672e-01,  7.2431e-01, -1.6283e-01, -1.4110e-01],\n",
      "        [-9.8884e-01, -9.5913e-01,  5.0679e-01, -2.1220e-01],\n",
      "        [ 1.7624e-01,  5.3221e-01,  3.5956e-01,  4.9130e-01],\n",
      "        [-2.8452e-01,  6.9476e-01, -1.5036e+00,  1.2313e+00],\n",
      "        [-1.1503e+00,  2.8033e-01, -4.8392e-01, -1.0794e+00],\n",
      "        [-4.6066e-01,  2.3963e-01,  8.8636e-01,  7.8899e-01],\n",
      "        [-4.2382e-01, -1.6269e-01, -3.2585e-02,  1.1333e-01],\n",
      "        [ 2.9393e-01, -9.8020e-01, -6.9327e-02, -6.2738e-01],\n",
      "        [ 4.8477e-02,  4.1981e-01, -3.1241e-01, -3.7678e-01],\n",
      "        [-2.8504e-01, -3.7048e-01,  1.3426e-02, -1.2311e+00],\n",
      "        [-7.9136e-01, -2.1188e-01, -1.4604e+00, -2.2276e-01],\n",
      "        [-2.1005e-01,  1.2236e+00,  1.0892e+00,  1.6286e+00],\n",
      "        [ 4.3529e-02, -1.1768e+00,  2.2478e-02,  5.6050e-01],\n",
      "        [ 7.6360e-01, -1.7264e-01, -9.0714e-01,  1.7016e+00],\n",
      "        [-1.6588e-01,  7.7591e-01,  9.2474e-01, -6.7062e-02],\n",
      "        [-6.4447e-01,  1.7552e+00, -3.0560e-01, -9.3045e-01],\n",
      "        [-7.4252e-01,  1.0804e+00,  5.6621e-01,  1.2060e+00],\n",
      "        [ 8.2928e-01,  1.8465e+00, -1.1895e+00, -1.4202e-01],\n",
      "        [ 3.7857e-01, -6.7961e-02,  2.5694e-01, -1.8065e+00],\n",
      "        [ 6.0800e-01,  8.5502e-02,  4.1205e-01,  4.6973e-01],\n",
      "        [-8.3402e-01,  1.8714e-01,  2.6320e-01, -3.9460e-01],\n",
      "        [ 6.0172e-01, -9.1155e-01,  1.1528e+00, -7.4096e-01],\n",
      "        [ 1.8773e-01,  1.0637e+00, -1.2486e+00, -1.9765e-01],\n",
      "        [-1.0953e+00, -1.2636e+00,  1.5223e-01,  1.9286e-01],\n",
      "        [-2.7803e-01,  1.4608e+00,  5.3570e-01, -6.5681e-01],\n",
      "        [-1.4561e+00,  4.8273e-01, -1.2394e-03, -8.3382e-01],\n",
      "        [ 1.0535e+00,  4.7173e-01,  1.1674e+00,  9.7363e-01],\n",
      "        [ 1.1071e+00, -8.0495e-01,  6.2701e-01,  2.5505e-01],\n",
      "        [ 4.1897e-01,  1.5330e-01, -3.0452e-01, -3.2091e-01],\n",
      "        [-7.6848e-02,  4.9525e-01, -1.3583e+00, -7.2283e-01],\n",
      "        [ 1.2326e+00, -6.1721e-01, -3.2966e-01, -5.9123e-02],\n",
      "        [-1.0871e+00,  4.9210e-01,  1.3770e+00,  1.1831e-01],\n",
      "        [-5.6130e-01,  1.2259e-01,  1.8245e-01, -5.0903e-01],\n",
      "        [-1.2874e+00, -2.4097e-01, -1.6928e-01, -5.8279e-01],\n",
      "        [ 1.4855e+00, -8.3169e-01,  1.6362e-01,  3.5557e-01],\n",
      "        [-2.7485e-02,  1.4978e-01, -7.5534e-01, -1.1120e+00],\n",
      "        [-3.8949e-01, -6.5518e-01,  6.5633e-02, -5.2396e-01],\n",
      "        [-1.4564e-01,  7.6254e-01, -3.0493e-02, -7.0754e-01],\n",
      "        [-1.5352e-01,  2.2857e-01, -7.2704e-01,  8.4376e-02],\n",
      "        [ 4.1999e-01,  8.3157e-02,  2.5779e-02, -4.5669e-01],\n",
      "        [-2.0747e-01, -2.1632e-01,  2.8938e-01,  3.3594e-01],\n",
      "        [ 3.0560e-01, -4.2692e-02, -4.0446e-01,  1.9663e-01],\n",
      "        [-8.0787e-01,  1.8164e-01, -3.7924e-01,  7.0694e-02],\n",
      "        [ 1.6747e-02, -2.5860e-01, -5.5874e-01, -4.1332e-01],\n",
      "        [-1.0777e-01, -3.3907e-01, -1.9906e-01,  1.5504e-01],\n",
      "        [ 9.5316e-01,  7.8603e-02,  5.2631e-01, -8.9654e-01],\n",
      "        [-3.1543e-01, -1.5301e-01,  5.2781e-01, -4.2817e-01],\n",
      "        [-5.6670e-01,  9.9408e-01,  6.4557e-01, -5.7036e-01],\n",
      "        [ 1.7329e+00, -4.1325e-02, -1.0534e-01,  4.6079e-02],\n",
      "        [-1.2630e+00,  7.7027e-01,  6.3694e-01,  1.7463e-01],\n",
      "        [ 6.2779e-01,  4.7732e-01, -9.6251e-01,  3.8986e-01],\n",
      "        [-1.8229e-01,  8.4219e-01, -3.2672e-01,  4.1151e-01],\n",
      "        [-3.9332e-02,  2.3508e-03,  8.8202e-02,  1.7616e+00],\n",
      "        [ 2.8090e-01, -4.4843e-01, -1.7954e+00,  7.8025e-01],\n",
      "        [-1.1853e-01,  4.3127e-01, -2.5868e-01,  1.9633e-01],\n",
      "        [-1.3564e-01,  1.5612e+00, -6.6805e-01,  1.2123e-01],\n",
      "        [-2.4460e-01,  1.0842e+00,  4.2079e-01, -7.2116e-01],\n",
      "        [-5.8276e-01,  2.0082e-01, -3.8657e-02,  2.2396e-01],\n",
      "        [ 4.8578e-01, -1.0282e-01,  4.1876e-02,  1.9499e-01],\n",
      "        [-5.7419e-01,  8.0733e-02, -9.5215e-01,  1.9802e-02],\n",
      "        [-5.7925e-01, -1.0495e-01, -3.0862e-01,  2.9989e-01],\n",
      "        [ 5.1452e-02, -5.5816e-01,  3.0907e-03,  1.8195e-01],\n",
      "        [ 5.0428e-01, -6.4070e-02, -2.6608e-01, -6.4924e-02],\n",
      "        [-4.3164e-01,  7.5609e-01,  1.5470e-01,  2.9157e-01],\n",
      "        [-5.5534e-01,  6.9164e-01, -5.7806e-01, -8.2650e-01],\n",
      "        [-4.4521e-01, -4.3837e-01, -4.3372e-01, -1.0208e+00],\n",
      "        [ 9.9882e-01, -1.7608e-01, -1.0734e-01, -3.4405e-01],\n",
      "        [-1.6238e-01,  6.2180e-01,  1.3468e-01,  2.5911e-02],\n",
      "        [-7.2490e-02, -2.7907e-01, -3.9552e-01,  2.4926e-01],\n",
      "        [-1.3437e-01, -2.3022e-01, -3.3006e-01, -5.2628e-02],\n",
      "        [ 1.4129e-01,  8.4726e-01,  2.4709e-01,  6.7096e-01],\n",
      "        [-6.1584e-01, -9.2798e-02, -5.5228e-01,  1.1518e+00],\n",
      "        [-5.9041e-02,  6.7113e-01,  3.1139e-02,  1.9771e-01],\n",
      "        [ 2.1143e-01,  7.7088e-02, -8.2820e-01, -5.4897e-01],\n",
      "        [ 2.9873e-02, -3.6272e-01, -9.3317e-01,  8.1046e-01],\n",
      "        [-7.9461e-01,  8.7969e-01,  4.3892e-02,  5.0641e-01],\n",
      "        [ 1.0623e+00, -5.1488e-01,  8.5545e-02,  4.0283e-01],\n",
      "        [ 7.2438e-02,  7.4416e-01, -8.5772e-01,  5.8187e-01],\n",
      "        [ 5.8718e-01,  2.9288e-02, -2.0686e-01, -6.0743e-01],\n",
      "        [ 1.2657e-01, -4.4697e-01, -6.2008e-01, -2.8012e-01],\n",
      "        [-2.8426e-01,  2.1371e-01, -5.0424e-01,  1.1628e+00],\n",
      "        [ 4.5459e-01, -1.0918e-01,  8.1572e-01, -5.2806e-01],\n",
      "        [ 5.5394e-01,  3.0819e-01, -6.8604e-01,  7.1825e-01],\n",
      "        [-1.3917e-01, -1.4263e+00,  9.5995e-01, -3.9318e-01],\n",
      "        [ 1.5299e-01,  2.0347e-01, -4.6678e-01,  3.2965e-01],\n",
      "        [-5.0158e-01,  5.8851e-02, -3.3289e-01,  2.4341e-02],\n",
      "        [-1.5051e-01, -4.2140e-01, -3.6788e-01,  7.5778e-01],\n",
      "        [-3.7838e-01, -1.1064e-01, -7.5486e-01, -4.0629e-01],\n",
      "        [ 1.4192e-02, -3.4579e-01, -1.1727e+00,  5.1117e-01],\n",
      "        [ 2.2434e-01,  1.6122e+00,  1.0630e+00,  1.3163e-01],\n",
      "        [-3.5854e-01, -6.4607e-01,  1.2460e-01,  2.5009e-02],\n",
      "        [ 6.4460e-01, -9.1602e-01,  3.3568e-01,  6.0964e-01],\n",
      "        [-2.4750e-02, -1.4502e-01, -5.7999e-01,  1.9236e-01],\n",
      "        [ 5.6333e-01,  1.2582e+00,  2.9514e-03,  8.6802e-01],\n",
      "        [ 8.3793e-01,  1.4027e-02,  3.3901e-01, -3.7582e-01],\n",
      "        [ 6.4879e-01, -4.1478e-01,  7.6617e-01,  3.1998e-01],\n",
      "        [ 7.4889e-01, -3.3430e-01, -2.8584e-01,  3.8700e-01],\n",
      "        [-8.8383e-01, -6.9383e-01, -2.1607e-01,  4.1824e-01],\n",
      "        [ 4.2691e-01,  4.3480e-01,  6.4284e-02, -1.0668e-01],\n",
      "        [-4.8991e-01, -3.8180e-02, -1.3338e+00, -3.6472e-01],\n",
      "        [-9.9914e-01,  9.0407e-01,  4.8573e-01, -2.0318e-01],\n",
      "        [-3.0571e-01, -5.8034e-01, -4.9096e-01,  3.0239e-01],\n",
      "        [ 3.8440e-01,  2.6619e-01,  1.2479e+00,  5.5080e-01],\n",
      "        [-1.5233e-01, -4.7403e-01,  2.7572e-01,  4.6851e-01],\n",
      "        [-3.8449e-01,  1.9316e-01,  3.3801e-01, -1.5437e+00],\n",
      "        [ 1.0074e-01,  5.7828e-01, -7.5474e-01,  8.0619e-01],\n",
      "        [-2.3780e-01, -2.3122e-01,  3.5484e-01,  2.7371e-01],\n",
      "        [ 1.3946e-01,  1.2742e-01, -3.3925e-01,  6.5437e-01],\n",
      "        [ 2.2379e-01,  1.3536e-01, -2.2486e-01,  2.4969e-01],\n",
      "        [-2.9580e-01,  1.3074e-01, -5.8126e-02,  2.5047e-02],\n",
      "        [ 3.5939e-01,  1.4984e-01,  3.4575e-02,  3.4847e-01],\n",
      "        [ 1.4576e-01, -5.8141e-01,  6.1088e-02, -3.2475e-02],\n",
      "        [ 3.7416e-01,  2.1302e-01,  4.3596e-01,  2.7916e-01],\n",
      "        [-2.9096e-01, -6.8744e-02,  6.2579e-02, -8.1533e-02],\n",
      "        [ 7.2810e-02, -6.5685e-02, -2.8322e-01,  2.6343e-01]], device='cuda:0',\n",
      "       grad_fn=<SelectBackward>) tensor([[-4.4305, -4.3935, -4.0066,  ..., -3.6657, -4.9808, -3.9289],\n",
      "        [-4.3553, -3.4804, -4.7725,  ..., -3.6388, -4.3466, -3.7852],\n",
      "        [-3.8794, -3.7882, -4.1542,  ..., -4.0843, -4.1638, -4.2711],\n",
      "        ...,\n",
      "        [-4.5779, -4.1282, -4.1187,  ..., -4.1721, -3.8570, -3.4390],\n",
      "        [-4.1151, -3.8044, -3.6206,  ..., -4.1509, -3.6571, -3.6811],\n",
      "        [-3.7397, -4.2148, -4.1094,  ..., -4.3465, -3.9891, -3.4504]],\n",
      "       device='cuda:0', grad_fn=<SelectBackward>) tensor([[-0.2599,  0.3726,  1.0200,  1.0052],\n",
      "        [-0.1095, -1.0200,  0.9973, -0.1232],\n",
      "        [ 1.0200,  0.9796,  1.0200,  0.9796],\n",
      "        [ 0.9812, -0.9396,  0.9868, -0.6629],\n",
      "        [ 0.1630,  0.9796,  1.0200,  0.9969],\n",
      "        [-0.8189,  0.9976,  0.1273,  1.0167],\n",
      "        [ 0.9803, -0.9843,  1.0200,  0.9796],\n",
      "        [ 0.0000,  0.0000,  0.0000,  0.0000],\n",
      "        [ 0.0000,  0.0000,  0.0000,  0.0000],\n",
      "        [ 0.0000,  0.0000,  0.0000,  0.0000]], device='cuda:0') tensor([14, 14,  4,  4,  4,  4, 10,  0,  0,  0], device='cuda:0')\n"
     ]
    }
   ],
   "source": [
    "for abb, albl, bb, lbl in zip(*acts, bbs, lbls):\n",
    "    print(abb, albl, bb, lbl)\n",
    "    break"
   ]
  },
  {
   "cell_type": "code",
   "execution_count": null,
   "metadata": {},
   "outputs": [
    {
     "data": {
      "text/plain": [
       "<AxesSubplot:>"
      ]
     },
     "execution_count": null,
     "metadata": {},
     "output_type": "execute_result"
    },
    {
     "data": {
      "image/png": "[encoded data removed]",
      "text/plain": [
       "<Figure size 360x360 with 1 Axes>"
      ]
     },
     "metadata": {
      "needs_background": "light"
     },
     "output_type": "display_data"
    }
   ],
   "source": [
    "show_image(batch[0][0])"
   ]
  }
 ],
 "metadata": {
  "kernelspec": {
   "display_name": "Python 3",
   "language": "python",
   "name": "python3"
  }
 },
 "nbformat": 4,
 "nbformat_minor": 4
}
