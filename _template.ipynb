{
 "cells": [
  {
   "cell_type": "code",
   "execution_count": null,
   "metadata": {},
   "outputs": [],
   "source": [
    "%load_ext autoreload\n",
    "%autoreload 2"
   ]
  },
  {
   "cell_type": "code",
   "execution_count": null,
   "metadata": {},
   "outputs": [
    {
     "name": "stdout",
     "output_type": "stream",
     "text": [
      "Cells will be exported to rory.template,\n",
      "unless a different module is specified after an export flag: `%nbdev_export special.module`\n"
     ]
    }
   ],
   "source": [
    "from nbdev import *\n",
    "from fastcore.test import *\n",
    "%nbdev_default_export template"
   ]
  },
  {
   "cell_type": "markdown",
   "metadata": {},
   "source": [
    "# Template\n",
    "> nbdev template"
   ]
  },
  {
   "cell_type": "code",
   "execution_count": null,
   "metadata": {},
   "outputs": [],
   "source": [
    "#export\n",
    "def fxn(x): return x"
   ]
  },
  {
   "cell_type": "code",
   "execution_count": null,
   "metadata": {},
   "outputs": [
    {
     "name": "stdout",
     "output_type": "stream",
     "text": [
      "BUILDING LIB...\n",
      "Traceback (most recent call last):\n",
      "  File \"/home/rory/.pyenv/versions/anaconda3-2020.02/bin/nbdev_build_lib\", line 33, in <module>\n",
      "    sys.exit(load_entry_point('nbdev', 'console_scripts', 'nbdev_build_lib')())\n",
      "  File \"/home/rory/.pyenv/versions/anaconda3-2020.02/bin/nbdev_build_lib\", line 25, in importlib_load_entry_point\n",
      "    return next(matches).load()\n",
      "  File \"/home/rory/.pyenv/versions/anaconda3-2020.02/lib/python3.7/site-packages/importlib_metadata/__init__.py\", line 105, in load\n",
      "    module = import_module(match.group('module'))\n",
      "  File \"/home/rory/.pyenv/versions/anaconda3-2020.02/lib/python3.7/importlib/__init__.py\", line 127, in import_module\n",
      "    return _bootstrap._gcd_import(name[level:], package, level)\n",
      "  File \"<frozen importlib._bootstrap>\", line 1006, in _gcd_import\n",
      "  File \"<frozen importlib._bootstrap>\", line 983, in _find_and_load\n",
      "  File \"<frozen importlib._bootstrap>\", line 953, in _find_and_load_unlocked\n",
      "  File \"<frozen importlib._bootstrap>\", line 219, in _call_with_frames_removed\n",
      "  File \"<frozen importlib._bootstrap>\", line 1006, in _gcd_import\n",
      "  File \"<frozen importlib._bootstrap>\", line 983, in _find_and_load\n",
      "  File \"<frozen importlib._bootstrap>\", line 967, in _find_and_load_unlocked\n",
      "  File \"<frozen importlib._bootstrap>\", line 677, in _load_unlocked\n",
      "  File \"<frozen importlib._bootstrap_external>\", line 728, in exec_module\n",
      "  File \"<frozen importlib._bootstrap>\", line 219, in _call_with_frames_removed\n",
      "  File \"/home/rory/nbdev/nbdev/__init__.py\", line 3, in <module>\n",
      "    from fastcore.utils import IN_IPYTHON\n",
      "  File \"/home/rory/repos/fastcore/fastcore/utils.py\", line 782, in <module>\n",
      "    IN_IPYTHON,IN_JUPYTER,IN_COLAB,IN_NOTEBOOK = in_ipython(),in_jupyter(),in_colab(),in_notebook()\n",
      "  File \"/home/rory/repos/fastcore/fastcore/utils.py\", line 774, in in_jupyter\n",
      "    return get_ipython().__class__.__name__ == 'ZMQInteractiveShell'\n",
      "NameError: name 'get_ipython' is not defined\n",
      "\n",
      "BUILDING DOCS...\n",
      "Traceback (most recent call last):\n",
      "  File \"/home/rory/.pyenv/versions/anaconda3-2020.02/bin/nbdev_build_docs\", line 33, in <module>\n",
      "    sys.exit(load_entry_point('nbdev', 'console_scripts', 'nbdev_build_docs')())\n",
      "  File \"/home/rory/.pyenv/versions/anaconda3-2020.02/bin/nbdev_build_docs\", line 25, in importlib_load_entry_point\n",
      "    return next(matches).load()\n",
      "  File \"/home/rory/.pyenv/versions/anaconda3-2020.02/lib/python3.7/site-packages/importlib_metadata/__init__.py\", line 105, in load\n",
      "    module = import_module(match.group('module'))\n",
      "  File \"/home/rory/.pyenv/versions/anaconda3-2020.02/lib/python3.7/importlib/__init__.py\", line 127, in import_module\n",
      "    return _bootstrap._gcd_import(name[level:], package, level)\n",
      "  File \"<frozen importlib._bootstrap>\", line 1006, in _gcd_import\n",
      "  File \"<frozen importlib._bootstrap>\", line 983, in _find_and_load\n",
      "  File \"<frozen importlib._bootstrap>\", line 953, in _find_and_load_unlocked\n",
      "  File \"<frozen importlib._bootstrap>\", line 219, in _call_with_frames_removed\n",
      "  File \"<frozen importlib._bootstrap>\", line 1006, in _gcd_import\n",
      "  File \"<frozen importlib._bootstrap>\", line 983, in _find_and_load\n",
      "  File \"<frozen importlib._bootstrap>\", line 967, in _find_and_load_unlocked\n",
      "  File \"<frozen importlib._bootstrap>\", line 677, in _load_unlocked\n",
      "  File \"<frozen importlib._bootstrap_external>\", line 728, in exec_module\n",
      "  File \"<frozen importlib._bootstrap>\", line 219, in _call_with_frames_removed\n",
      "  File \"/home/rory/nbdev/nbdev/__init__.py\", line 3, in <module>\n",
      "    from fastcore.utils import IN_IPYTHON\n",
      "  File \"/home/rory/repos/fastcore/fastcore/utils.py\", line 782, in <module>\n",
      "    IN_IPYTHON,IN_JUPYTER,IN_COLAB,IN_NOTEBOOK = in_ipython(),in_jupyter(),in_colab(),in_notebook()\n",
      "  File \"/home/rory/repos/fastcore/fastcore/utils.py\", line 774, in in_jupyter\n",
      "    return get_ipython().__class__.__name__ == 'ZMQInteractiveShell'\n",
      "NameError: name 'get_ipython' is not defined\n",
      "\n",
      "INSTALLING LIB LOCALLY...\n",
      "Obtaining file:///home/rory/repos/rory\n",
      "Requirement already satisfied: fastcore in /home/rory/repos/fastcore (from rory==0.0.1) (0.1.35)\n",
      "Requirement already satisfied: pip in /home/rory/.pyenv/versions/anaconda3-2020.02/lib/python3.7/site-packages (from fastcore->rory==0.0.1) (20.1.1)\n",
      "Requirement already satisfied: packaging in /home/rory/.pyenv/versions/anaconda3-2020.02/lib/python3.7/site-packages (from fastcore->rory==0.0.1) (20.4)\n",
      "Requirement already satisfied: numpy in /home/rory/.pyenv/versions/anaconda3-2020.02/lib/python3.7/site-packages (from fastcore->rory==0.0.1) (1.18.5)\n",
      "Requirement already satisfied: dataclasses in /home/rory/.pyenv/versions/anaconda3-2020.02/lib/python3.7/site-packages (from fastcore->rory==0.0.1) (0.6)\n",
      "Requirement already satisfied: six in /home/rory/.pyenv/versions/anaconda3-2020.02/lib/python3.7/site-packages (from packaging->fastcore->rory==0.0.1) (1.15.0)\n",
      "Requirement already satisfied: pyparsing>=2.0.2 in /home/rory/.pyenv/versions/anaconda3-2020.02/lib/python3.7/site-packages (from packaging->fastcore->rory==0.0.1) (2.4.7)\n",
      "Installing collected packages: rory\n",
      "  Attempting uninstall: rory\n",
      "    Found existing installation: rory 0.0.1\n",
      "    Uninstalling rory-0.0.1:\n",
      "      Successfully uninstalled rory-0.0.1\n",
      "  Running setup.py develop for rory\n",
      "Successfully installed rory\n",
      "\n",
      "DONE\n"
     ]
    }
   ],
   "source": [
    "#hide\n",
    "print(\"BUILDING LIB...\")\n",
    "!nbdev_build_lib\n",
    "print (\"\\nBUILDING DOCS...\")\n",
    "!nbdev_build_docs\n",
    "print (\"\\nINSTALLING LIB LOCALLY...\")\n",
    "!pip install -e .\n",
    "print (\"\\nDONE\")"
   ]
  },
  {
   "cell_type": "code",
   "execution_count": null,
   "metadata": {},
   "outputs": [],
   "source": []
  }
 ],
 "metadata": {
  "kernelspec": {
   "display_name": "Python 3",
   "language": "python",
   "name": "python3"
  }
 },
 "nbformat": 4,
 "nbformat_minor": 4
}
